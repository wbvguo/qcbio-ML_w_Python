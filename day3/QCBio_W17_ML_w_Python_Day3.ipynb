{
 "cells": [
  {
   "cell_type": "markdown",
   "id": "7e4de2d6",
   "metadata": {},
   "source": [
    "<p><img src=\"../slides/qcb-logo.png\" width=\"215\" height=\"100\" align=\"right\"></p>\n",
    "\n",
    "# QCBio workshop: Machine Learning With Python -- Day3\n",
    "\n",
    "Wenbin Guo\n",
    "\n",
    "### Collaboratory workshop, 10/13/2022\n",
    "\n",
    "The github repository can be accessed from this [link](https://github.com/wbvguo/qcbio-ML_w_Python.git)   \n",
    "\n",
    "for more information about the registration information, please go to this [website](https://qcb.ucla.edu/collaboratory/workshops/w17-machine-learning-with-python/)\n",
    "\n",
    "### Credits\n",
    "Thanks Dr. Seyoon Ko and previous Collaboratory fellow Dr. Thiago S Mosqueiro and Dr. Renaud Dessalles for some supporting materials\n",
    "\n",
    "### Goals of this notebook tutorial\n",
    "- try different supervised learning algorithms for a regression problem\n",
    "- try some unsupervised learning methods for dimension reduction and clustering\n",
    "- regularize the model to reduce the effect of overfitting\n",
    "\n",
    "\n",
    "\n",
    "\n",
    "### Table of Contents\n",
    "[1. Preparation](#preparation)    \n",
    "[2. Regression](#regression)    \n",
    "&nbsp; &nbsp; [2.1 Linear regression](#linear_regression)    \n",
    "&nbsp; &nbsp; [2.2 Polynomial regression](#poly_regression)  \n",
    "&nbsp; &nbsp; [2.3 Support vector regression](#support_vec_regression)   \n",
    "[3. Model regularization (penalized regression)](#model_regularization)   \n",
    "&nbsp; &nbsp; [3.1 Underfitting](#underfitting)   \n",
    "&nbsp; &nbsp; [3.2 Overfitting](#overfitting)  \n",
    "&nbsp; &nbsp; [3.3 Good fit](#good_fit)   \n",
    "&nbsp; &nbsp; [3.4 regularization by adding penalties](#regularization)   \n",
    "[4. Dimension reduction (PCA)](#pca)    \n",
    "[5. Clustering (K-means)](#kmeans)   "
   ]
  },
  {
   "cell_type": "markdown",
   "id": "834ed3ac",
   "metadata": {},
   "source": [
    "<a id='preparation'></a>\n",
    "# 1. Preparation"
   ]
  },
  {
   "cell_type": "code",
   "execution_count": 1,
   "id": "16db43ab",
   "metadata": {},
   "outputs": [
    {
     "data": {
      "text/html": [
       "\n",
       "    <script>\n",
       "    function code_toggle() {\n",
       "        if ($('div.cell.code_cell.rendered.selected div.input').css('display')!='none'){\n",
       "            $('div.cell.code_cell.rendered.selected div.input').hide();\n",
       "        } else {\n",
       "            $('div.cell.code_cell.rendered.selected div.input').show();\n",
       "        }\n",
       "    }\n",
       "    </script>\n",
       "\n",
       "\n",
       "<form action=\"javascript:code_toggle()\"><input type=\"submit\" id=\"toggleButton\" value=\"Show Sloution\"></form>\n"
      ],
      "text/plain": [
       "<IPython.core.display.HTML object>"
      ]
     },
     "metadata": {},
     "output_type": "display_data"
    }
   ],
   "source": [
    "import sklearn\n",
    "import numpy as np\n",
    "import matplotlib.pyplot as plt\n",
    "from toggle_cell import toggle_code as hide_solution # for teaching"
   ]
  },
  {
   "cell_type": "markdown",
   "id": "1864f38f",
   "metadata": {},
   "source": [
    "<a id='regression'></a>\n",
    "# 2. Regression"
   ]
  },
  {
   "cell_type": "markdown",
   "id": "2064c007",
   "metadata": {},
   "source": [
    "### prepare data"
   ]
  },
  {
   "cell_type": "code",
   "execution_count": 2,
   "id": "67275ca9",
   "metadata": {},
   "outputs": [
    {
     "name": "stdout",
     "output_type": "stream",
     "text": [
      "Min of X:  0.008299514379308537\n",
      "Max of X:  9.669300071654517\n",
      "Average of the error component:  -0.0030822739405572696\n"
     ]
    },
    {
     "data": {
      "image/png": "[encoded data removed]",
      "text/plain": [
       "<Figure size 432x288 with 1 Axes>"
      ]
     },
     "metadata": {
      "needs_background": "light"
     },
     "output_type": "display_data"
    }
   ],
   "source": [
    "numSamples = 100     # Defining the number of samples\n",
    "\n",
    "linearCoef = 0.5     # This is the correct linear coeficient\n",
    "Intercept  = 2.2     # This is the correct intercept parameter\n",
    "\n",
    "X = np.random.random( numSamples )*10.0     # Randomly sampling X-points.\n",
    "e = np.random.random( numSamples ) - 0.5    # Noise\n",
    "\n",
    "print(\"Min of X: \", X.min())\n",
    "print(\"Max of X: \", X.max())\n",
    "print(\"Average of the error component: \", e.mean())\n",
    "\n",
    "# define the intersept\n",
    "Y = linearCoef*X + Intercept + e \n",
    "\n",
    "# plot it\n",
    "plt.plot(X, Y, 'o', color=(0.2,0.6,1.0)) # color: red-green-blue. \n",
    "\n",
    "plt.xlabel('Feature')\n",
    "plt.ylabel('Target')\n",
    "\n",
    "plt.show()"
   ]
  },
  {
   "cell_type": "markdown",
   "id": "f8c79df4",
   "metadata": {},
   "source": [
    "<a id='linear_regression'></a>\n",
    "## 2.1 Linear regression\n",
    "\n",
    "lt's use the linear model to fit the above data\n",
    "$$ Y = \\beta X + \\gamma $$\n",
    "If everything works out, we should expect $\\beta \\approx 0.5$ and $\\gamma \\approx 2.2$."
   ]
  },
  {
   "cell_type": "markdown",
   "id": "d931a94e",
   "metadata": {},
   "source": [
    "### split the data"
   ]
  },
  {
   "cell_type": "code",
   "execution_count": 3,
   "id": "12fbe1dd",
   "metadata": {},
   "outputs": [],
   "source": [
    "from sklearn.model_selection import train_test_split\n",
    "\n",
    "# features must have shape (100,1), while X has shape (100,)\n",
    "X = X.reshape((numSamples,1)) \n",
    "X_train, X_test, Y_train, Y_test = train_test_split( X, Y, test_size=0.33, random_state=2022)"
   ]
  },
  {
   "cell_type": "markdown",
   "id": "e3d9747a",
   "metadata": {},
   "source": [
    "### train"
   ]
  },
  {
   "cell_type": "code",
   "execution_count": 4,
   "id": "0f81eef8",
   "metadata": {},
   "outputs": [
    {
     "data": {
      "text/plain": [
       "LinearRegression()"
      ]
     },
     "execution_count": 4,
     "metadata": {},
     "output_type": "execute_result"
    }
   ],
   "source": [
    "from sklearn.linear_model import LinearRegression\n",
    "model = LinearRegression()\n",
    "model.fit( X_train , Y_train )"
   ]
  },
  {
   "cell_type": "markdown",
   "id": "43ee7a46",
   "metadata": {},
   "source": [
    "### visualize the fitting"
   ]
  },
  {
   "cell_type": "code",
   "execution_count": 5,
   "id": "82e52df6",
   "metadata": {},
   "outputs": [
    {
     "data": {
      "image/png": "[encoded data removed]",
      "text/plain": [
       "<Figure size 432x288 with 1 Axes>"
      ]
     },
     "metadata": {
      "needs_background": "light"
     },
     "output_type": "display_data"
    }
   ],
   "source": [
    "x_array = np.linspace(0,10,100)\n",
    "y_array = model.predict( x_array.reshape((100,1)) )\n",
    "\n",
    "plt.plot(X_train, Y_train, 'o', color=(0.2,0.6,1.0))\n",
    "plt.plot(x_array, y_array, 'r-', linewidth=3.)\n",
    "plt.xlabel('Feature')\n",
    "plt.ylabel('Target')\n",
    "\n",
    "plt.show()"
   ]
  },
  {
   "cell_type": "markdown",
   "id": "eb5b6cfd",
   "metadata": {},
   "source": [
    "Similarly to the classifiers covered yesterday, you can access information of the fitted `LinearRegression` model  through their attributes:"
   ]
  },
  {
   "cell_type": "markdown",
   "id": "73cacde3",
   "metadata": {},
   "source": [
    "### inspect the model parameters"
   ]
  },
  {
   "cell_type": "code",
   "execution_count": 6,
   "id": "904077df",
   "metadata": {},
   "outputs": [
    {
     "name": "stdout",
     "output_type": "stream",
     "text": [
      "Coefficient:  [0.47230272]\n",
      "Intercept:    2.3296492105616546\n"
     ]
    }
   ],
   "source": [
    "print(\"Coefficient: \", model.coef_ )\n",
    "print(\"Intercept:   \", model.intercept_ )"
   ]
  },
  {
   "cell_type": "markdown",
   "id": "7080a7c6",
   "metadata": {},
   "source": [
    "### Performance measure\n",
    "\n",
    "In analogy with a classifier's accuracy, the most commonly used 2 metrics to evaluate the performance of linear regression is the coefficient of determination ($R^2$) and the mean suqared error ($MSE$) or mean absolute error ($MAE$). \n",
    "\n",
    "$R^2$ is defined as \n",
    "$$R^2(y, \\hat{y})=1-\\frac{\\sum_{i=1}^{N}\\left(y_i-\\hat{y}_i\\right)^2}{\\sum_{i=1}^{N}\\left(y_i-\\bar{y}\\right)^2}$$\n",
    "\n",
    "- numerator represents total variation, or \"total sum of squares\"\n",
    "- denominator represents unexplained variation, or \"residual sum of squares\"\n",
    "\n",
    "$MSE$ is defined as \n",
    "$$\\operatorname{MSE}(y, \\hat{y})=\\frac{1}{N} \\sum_{i=1}^{N}\\left(y_i-\\hat{y}_i\\right)^2$$\n",
    "\n",
    "$MAE$ is defined as\n",
    "\n",
    "$$\\operatorname{MAE}(y, \\hat{y})=\\frac{1}{N} \\sum_{i=1}^{N}\\left|y_i-\\hat{y}_i\\right|$$"
   ]
  },
  {
   "cell_type": "code",
   "execution_count": 7,
   "id": "8d46335a",
   "metadata": {},
   "outputs": [
    {
     "name": "stdout",
     "output_type": "stream",
     "text": [
      "R2 on the training set:  0.9596185624629078\n",
      "R2 on test set:  0.9520583202620791\n",
      "MSE on the test:  0.09575247078554806\n",
      "MAE on the test:  0.2638192680548547\n"
     ]
    }
   ],
   "source": [
    "from sklearn.metrics import r2_score, mean_squared_error, mean_absolute_error\n",
    "\n",
    "Y_pred = model.predict(X_test)\n",
    "print(\"R2 on the training set: \", model.score(X_test, Y_test))\n",
    "print(\"R2 on test set: \", r2_score(Y_pred, Y_test))\n",
    "\n",
    "\n",
    "print(\"MSE on the test: \", mean_squared_error(Y_pred, Y_test))\n",
    "print(\"MAE on the test: \", mean_absolute_error(Y_pred, Y_test))"
   ]
  },
  {
   "cell_type": "markdown",
   "id": "3dea315d",
   "metadata": {},
   "source": [
    "<a id='poly_regression'></a>\n",
    "## 2.2 Polynomial regression\n",
    "\n",
    "A linear regression is any regression of a model that is linear on the fitting parameters, e.g., \n",
    "$$Y = \\beta_1 X + \\beta_2 Z + \\gamma$$\n",
    "\n",
    "What about this model?\n",
    "$$Y = \\beta_1 X + \\beta_2 X^2 + \\gamma$$\n",
    "\n",
    "Although the model is quadratic, __this is still considered a linear regression__, and can be solved using the same methods. "
   ]
  },
  {
   "cell_type": "markdown",
   "id": "4fd308e9",
   "metadata": {},
   "source": [
    "### create a 2d feature space $X$ and $X^2$"
   ]
  },
  {
   "cell_type": "code",
   "execution_count": 8,
   "id": "cf0cb542",
   "metadata": {},
   "outputs": [
    {
     "data": {
      "text/plain": [
       "(100,)"
      ]
     },
     "execution_count": 8,
     "metadata": {},
     "output_type": "execute_result"
    }
   ],
   "source": [
    "e.shape"
   ]
  },
  {
   "cell_type": "code",
   "execution_count": 9,
   "id": "6ea0dd67",
   "metadata": {},
   "outputs": [
    {
     "data": {
      "text/plain": [
       "(100, 100)"
      ]
     },
     "execution_count": 9,
     "metadata": {},
     "output_type": "execute_result"
    }
   ],
   "source": [
    "(linearCoef*X + 0.15*X**2 + Intercept + e).shape"
   ]
  },
  {
   "cell_type": "code",
   "execution_count": 10,
   "id": "553c3eb3",
   "metadata": {},
   "outputs": [],
   "source": [
    "e = e.reshape((len(e),1))\n",
    "Y = linearCoef*X + 0.15*X**2 + Intercept + e"
   ]
  },
  {
   "cell_type": "code",
   "execution_count": 11,
   "id": "fd18bd4f",
   "metadata": {},
   "outputs": [
    {
     "data": {
      "text/plain": [
       "(100, 1)"
      ]
     },
     "execution_count": 11,
     "metadata": {},
     "output_type": "execute_result"
    }
   ],
   "source": [
    "Y.shape"
   ]
  },
  {
   "cell_type": "markdown",
   "id": "73f2f3a7",
   "metadata": {},
   "source": [
    "### visualize"
   ]
  },
  {
   "cell_type": "code",
   "execution_count": 12,
   "id": "47b09e0d",
   "metadata": {},
   "outputs": [
    {
     "data": {
      "image/png": "[encoded data removed]",
      "text/plain": [
       "<Figure size 432x288 with 1 Axes>"
      ]
     },
     "metadata": {
      "needs_background": "light"
     },
     "output_type": "display_data"
    }
   ],
   "source": [
    "plt.plot(X, Y, 'o', color=(0.2,0.6,1.0))\n",
    "\n",
    "plt.xlabel('Feature')\n",
    "plt.ylabel('Target')\n",
    "\n",
    "plt.show()"
   ]
  },
  {
   "cell_type": "markdown",
   "id": "6045cea7",
   "metadata": {},
   "source": [
    "### train test split"
   ]
  },
  {
   "cell_type": "code",
   "execution_count": 13,
   "id": "6469d868",
   "metadata": {},
   "outputs": [
    {
     "name": "stdout",
     "output_type": "stream",
     "text": [
      "(67, 2)\n",
      "(67, 2)\n",
      "original feature: [3.34897403]\n",
      "transformed feature: [ 3.34897403 11.21562708]\n"
     ]
    }
   ],
   "source": [
    "X_train, X_test, Y_train, Y_test = train_test_split( X, Y, test_size=0.33, random_state=2022)\n",
    "\n",
    "## construct the feature manually\n",
    "features = np.zeros( (len(X_train),2) )\n",
    "features[:,0] = X_train[:,0]\n",
    "features[:,1] = X_train[:,0]**2\n",
    "print(features.shape)\n",
    "\n",
    "\n",
    "## import packages\n",
    "from sklearn.preprocessing import PolynomialFeatures\n",
    "poly_features = PolynomialFeatures(degree=2, include_bias=False)\n",
    "features = poly_features.fit_transform(X_train)\n",
    "print(features.shape)\n",
    "\n",
    "print(\"original feature:\", X_train[0])\n",
    "print(\"transformed feature:\", features[0])"
   ]
  },
  {
   "cell_type": "markdown",
   "id": "2bbe58ea",
   "metadata": {},
   "source": [
    "### fit model"
   ]
  },
  {
   "cell_type": "code",
   "execution_count": 14,
   "id": "5e849596",
   "metadata": {},
   "outputs": [
    {
     "data": {
      "text/plain": [
       "LinearRegression()"
      ]
     },
     "execution_count": 14,
     "metadata": {},
     "output_type": "execute_result"
    }
   ],
   "source": [
    "model = LinearRegression()\n",
    "model.fit( features , Y_train )"
   ]
  },
  {
   "cell_type": "markdown",
   "id": "4c39d753",
   "metadata": {},
   "source": [
    "### inspect fitting"
   ]
  },
  {
   "cell_type": "code",
   "execution_count": 15,
   "id": "7b4ebdc1",
   "metadata": {
    "scrolled": true
   },
   "outputs": [
    {
     "name": "stdout",
     "output_type": "stream",
     "text": [
      "Coefs:  [[0.47143939 0.15008516]]\n",
      "Intercept:  [2.33117345]\n"
     ]
    },
    {
     "data": {
      "image/png": "[encoded data removed]",
      "text/plain": [
       "<Figure size 432x288 with 1 Axes>"
      ]
     },
     "metadata": {
      "needs_background": "light"
     },
     "output_type": "display_data"
    }
   ],
   "source": [
    "print(\"Coefs: \",model.coef_)\n",
    "print(\"Intercept: \",model.intercept_)\n",
    "\n",
    "x_array = np.linspace(0,10,100)\n",
    "y_array =  (x_array * model.coef_[0,0] + x_array**2*model.coef_[0,1] \n",
    "                + model.intercept_)\n",
    "\n",
    "plt.plot(X, Y, 'o', color=(0.2,0.6,1.0))\n",
    "plt.plot(x_array, y_array, 'r-', linewidth=3.)\n",
    "plt.xlabel('Feature')\n",
    "plt.ylabel('Target')\n",
    "\n",
    "plt.show()"
   ]
  },
  {
   "cell_type": "code",
   "execution_count": 16,
   "id": "9993718a",
   "metadata": {},
   "outputs": [],
   "source": [
    "def plot_learning_curves(model, X, y):\n",
    "    X_train, X_val, y_train, y_val = train_test_split(X, y, test_size=0.3)\n",
    "    train_errors, val_errors = [], []\n",
    "    for m in range(1, len(X_train)):\n",
    "        model.fit(X_train[:m], y_train[:m])\n",
    "        y_train_predict = model.predict(X_train[:m])\n",
    "        y_val_predict = model.predict(X_val)\n",
    "        train_errors.append(mean_squared_error(y_train[:m],y_train_predict))\n",
    "        val_errors.append(mean_squared_error(y_val, y_val_predict))\n",
    "    plt.plot(np.sqrt(train_errors), \"r-+\", linewidth=2, label=\"train\")\n",
    "    plt.plot(np.sqrt(val_errors), \"b-\", linewidth=3, label=\"val\")\n",
    "    plt.ylabel(\"MSE\")\n",
    "    plt.xlabel(\"Training set size\")\n",
    "    plt.legend()\n",
    "    "
   ]
  },
  {
   "cell_type": "code",
   "execution_count": 17,
   "id": "87d6d383",
   "metadata": {},
   "outputs": [
    {
     "data": {
      "image/png": "[encoded data removed]",
      "text/plain": [
       "<Figure size 432x288 with 1 Axes>"
      ]
     },
     "metadata": {
      "needs_background": "light"
     },
     "output_type": "display_data"
    }
   ],
   "source": [
    "plot_learning_curves(LinearRegression(), X_train, Y_train)"
   ]
  },
  {
   "cell_type": "markdown",
   "id": "301bc6e4",
   "metadata": {},
   "source": [
    "**Exercise**: please try to calculate the performance measure on the test set"
   ]
  },
  {
   "cell_type": "markdown",
   "id": "61a34860",
   "metadata": {},
   "source": [
    "<a id='support_vec_regression'></a>\n",
    "## 2.3 Support vector regression\n",
    "Here we show the support vector regression as an example, there are also other algorithms can be used to fit the non-linear regression such as the tree based algorithm or neural network, we will not try here, but you are more than encouraged to try them after the workshop"
   ]
  },
  {
   "cell_type": "code",
   "execution_count": 18,
   "id": "2dc55707",
   "metadata": {},
   "outputs": [
    {
     "name": "stderr",
     "output_type": "stream",
     "text": [
      "/home/wbguo/.local/lib/python3.8/site-packages/sklearn/utils/validation.py:63: DataConversionWarning: A column-vector y was passed when a 1d array was expected. Please change the shape of y to (n_samples, ), for example using ravel().\n",
      "  return f(*args, **kwargs)\n",
      "/home/wbguo/.local/lib/python3.8/site-packages/sklearn/utils/validation.py:63: DataConversionWarning: A column-vector y was passed when a 1d array was expected. Please change the shape of y to (n_samples, ), for example using ravel().\n",
      "  return f(*args, **kwargs)\n"
     ]
    },
    {
     "data": {
      "text/plain": [
       "SVR(C=100, degree=2, kernel='poly')"
      ]
     },
     "execution_count": 18,
     "metadata": {},
     "output_type": "execute_result"
    }
   ],
   "source": [
    "from sklearn.svm import LinearSVR\n",
    "from sklearn.svm import SVR\n",
    "\n",
    "# fit a linear SVR\n",
    "svm_reg = LinearSVR(epsilon=1.5)\n",
    "svm_reg.fit(X_train, Y_train)\n",
    "\n",
    "# fit a polynomial SVR\n",
    "svm_poly_reg = SVR(kernel=\"poly\", degree=2, C=100, epsilon=0.1)\n",
    "svm_poly_reg.fit(X_train, Y_train)"
   ]
  },
  {
   "cell_type": "code",
   "execution_count": 19,
   "id": "871ef85b",
   "metadata": {},
   "outputs": [],
   "source": [
    "def plot_fitting(reg, X, y, label = None, title = None):\n",
    "    lw = 2\n",
    "    X_sort = np.sort(X, axis=0)\n",
    "    y_fit = reg.predict(X_sort)\n",
    "    plt.scatter(X, y, color='darkorange', label='data')\n",
    "    plt.plot(X_sort, y_fit, color='blue', lw=lw, label=label)\n",
    "    plt.xlabel('data')\n",
    "    plt.ylabel('target')\n",
    "    plt.title(title)\n",
    "    plt.legend()\n",
    "    plt.show()"
   ]
  },
  {
   "cell_type": "code",
   "execution_count": 20,
   "id": "bcaf7550",
   "metadata": {},
   "outputs": [
    {
     "data": {
      "image/png": "[encoded data removed]",
      "text/plain": [
       "<Figure size 432x288 with 1 Axes>"
      ]
     },
     "metadata": {
      "needs_background": "light"
     },
     "output_type": "display_data"
    }
   ],
   "source": [
    "plot_fitting(svm_poly_reg, X_train, Y_train, title = \"SVR-polynomial\", label = \"degree =2\")"
   ]
  },
  {
   "cell_type": "code",
   "execution_count": 21,
   "id": "34a26711",
   "metadata": {},
   "outputs": [
    {
     "data": {
      "image/png": "[encoded data removed]",
      "text/plain": [
       "<Figure size 432x288 with 1 Axes>"
      ]
     },
     "metadata": {
      "needs_background": "light"
     },
     "output_type": "display_data"
    }
   ],
   "source": [
    "X_sort = np.sort(X_train, axis=0)\n",
    "plt.scatter(X_train, Y_train, color='darkorange', label='data')\n",
    "plt.plot(X_sort, svm_reg.predict(X_sort), color='black', label=\"linear\")\n",
    "plt.plot(X_sort, svm_poly_reg.predict(X_sort), color='blue', label=\"polynomial\")\n",
    "plt.xlabel('data')\n",
    "plt.ylabel('target')\n",
    "plt.title(\"SVR\")\n",
    "plt.legend()\n",
    "plt.show()"
   ]
  },
  {
   "cell_type": "markdown",
   "id": "fb44357f",
   "metadata": {},
   "source": [
    "<a id='model_regularization'></a>\n",
    "# 3. Model regularization (penalized regression)"
   ]
  },
  {
   "cell_type": "markdown",
   "id": "27863402",
   "metadata": {},
   "source": [
    "### Load the data"
   ]
  },
  {
   "cell_type": "code",
   "execution_count": 66,
   "id": "a2093713",
   "metadata": {
    "scrolled": true
   },
   "outputs": [
    {
     "name": "stdout",
     "output_type": "stream",
     "text": [
      "(50, 2)\n"
     ]
    }
   ],
   "source": [
    "data = np.loadtxt('Regression_Exercise_dataset.dat')\n",
    "print(data.shape)"
   ]
  },
  {
   "cell_type": "code",
   "execution_count": 67,
   "id": "08c18d11",
   "metadata": {},
   "outputs": [],
   "source": [
    "Y_origin = data[:,0].reshape( (data.shape[0], 1 ))   # all rows, first column\n",
    "X_origin = data[:,1].reshape( (data.shape[0], 1 ))   # all rows, second column\n",
    "\n",
    "X, X_test, Y, Y_test = train_test_split(X_origin,Y_origin,test_size=0.2, random_state=2022)"
   ]
  },
  {
   "cell_type": "code",
   "execution_count": 68,
   "id": "f0a3847b",
   "metadata": {},
   "outputs": [
    {
     "data": {
      "image/png": "[encoded data removed]",
      "text/plain": [
       "<Figure size 432x288 with 1 Axes>"
      ]
     },
     "metadata": {
      "needs_background": "light"
     },
     "output_type": "display_data"
    }
   ],
   "source": [
    "plt.plot(X, Y, 'o')\n",
    "plt.savefig(\"regression_data.png\", dpi=500)\n",
    "plt.show()"
   ]
  },
  {
   "cell_type": "markdown",
   "id": "e58d8950",
   "metadata": {},
   "source": [
    "<a id='underfitting'></a>\n",
    "## 3.1 underfitting"
   ]
  },
  {
   "cell_type": "code",
   "execution_count": 69,
   "id": "e285cf2b",
   "metadata": {},
   "outputs": [
    {
     "data": {
      "text/plain": [
       "LinearRegression()"
      ]
     },
     "execution_count": 69,
     "metadata": {},
     "output_type": "execute_result"
    }
   ],
   "source": [
    "model = LinearRegression()\n",
    "model.fit( X , Y )"
   ]
  },
  {
   "cell_type": "code",
   "execution_count": 70,
   "id": "8cfbe31d",
   "metadata": {},
   "outputs": [
    {
     "data": {
      "image/png": "[encoded data removed]",
      "text/plain": [
       "<Figure size 432x288 with 1 Axes>"
      ]
     },
     "metadata": {
      "needs_background": "light"
     },
     "output_type": "display_data"
    }
   ],
   "source": [
    "model = LinearRegression()\n",
    "model.fit( X , Y )\n",
    "\n",
    "x_array = np.linspace(0,1,100)\n",
    "x_array = x_array.reshape((len(x_array),1))\n",
    "y_array = model.predict(x_array)\n",
    "\n",
    "plt.plot(X, Y, 'bo')\n",
    "plt.plot(x_array, y_array, 'r-')\n",
    "plt.savefig('regression_underfit.png', dpi=500)\n",
    "#plt.show()"
   ]
  },
  {
   "cell_type": "markdown",
   "id": "d9a4a592",
   "metadata": {},
   "source": [
    "<a id='overfitting'></a>\n",
    "## 3.2 overfitting\n",
    "We use polynomials with higher degrees to show the overfitting"
   ]
  },
  {
   "cell_type": "code",
   "execution_count": 71,
   "id": "015b199f",
   "metadata": {},
   "outputs": [],
   "source": [
    "d =20\n",
    "poly_features = PolynomialFeatures(degree=d, include_bias=False)\n",
    "X_poly = poly_features.fit_transform(X)"
   ]
  },
  {
   "cell_type": "code",
   "execution_count": 78,
   "id": "ea7b3f92",
   "metadata": {},
   "outputs": [
    {
     "data": {
      "text/plain": [
       "array([[9.78618342e-01, 9.57693860e-01, 9.37216777e-01, 9.17177529e-01,\n",
       "        8.97566753e-01, 8.78375288e-01, 8.59594168e-01, 8.41214620e-01,\n",
       "        8.23228057e-01, 8.05626076e-01, 7.88400455e-01, 7.71543146e-01,\n",
       "        7.55046275e-01, 7.38902134e-01, 7.23103181e-01, 7.07642036e-01,\n",
       "        6.92511477e-01, 6.77704433e-01, 6.63213989e-01, 6.49033374e-01],\n",
       "       [7.91725038e-01, 6.26828536e-01, 4.96275846e-01, 3.92914013e-01,\n",
       "        3.11079862e-01, 2.46289716e-01, 1.94993735e-01, 1.54381422e-01,\n",
       "        1.22227637e-01, 9.67706807e-02, 7.66157709e-02, 6.06586241e-02,\n",
       "        4.80249515e-02, 3.80225565e-02, 3.01034100e-02, 2.38336234e-02,\n",
       "        1.88696764e-02, 1.49395953e-02, 1.18280517e-02, 9.36456464e-03],\n",
       "       [4.23654799e-01, 1.79483389e-01, 7.60389992e-02, 3.22142869e-02,\n",
       "        1.36477373e-02, 5.78192939e-03, 2.44954214e-03, 1.03776028e-03,\n",
       "        4.39652124e-04, 1.86260732e-04, 7.89102532e-05, 3.34307075e-05,\n",
       "        1.41630797e-05, 6.00025668e-06, 2.54203754e-06, 1.07694640e-06,\n",
       "        4.56253512e-07, 1.93293990e-07, 8.18899267e-08, 3.46930604e-08],\n",
       "       [6.39921021e-01, 4.09498914e-01, 2.62046963e-01, 1.67689360e-01,\n",
       "        1.07307947e-01, 6.86686108e-02, 4.39424876e-02, 2.81197215e-02,\n",
       "        1.79944009e-02, 1.15149954e-02, 7.36868762e-03, 4.71537811e-03,\n",
       "        3.01746958e-03, 1.93094221e-03, 1.23565051e-03, 7.90718738e-04,\n",
       "        5.05997543e-04, 3.23798464e-04, 2.07205444e-04, 1.32595119e-04],\n",
       "       [5.48813504e-01, 3.01196262e-01, 1.65300576e-01, 9.07191883e-02,\n",
       "        4.97879156e-02, 2.73242804e-02, 1.49959341e-02, 8.22997113e-03,\n",
       "        4.51671929e-03, 2.47883654e-03, 1.36041897e-03, 7.46616300e-04,\n",
       "        4.09753108e-04, 2.24878039e-04, 1.23416104e-04, 6.77324247e-05,\n",
       "        3.71724693e-05, 2.04007532e-05, 1.11962088e-05, 6.14463059e-06],\n",
       "       [1.87898004e-02, 3.53056600e-04, 6.63386306e-06, 1.24648963e-07,\n",
       "        2.34212914e-09, 4.40081392e-11, 8.26904152e-13, 1.55373640e-14,\n",
       "        2.91943969e-16, 5.48556892e-18, 1.03072745e-19, 1.93671631e-21,\n",
       "        3.63905130e-23, 6.83770477e-25, 1.28479108e-26, 2.41409680e-28,\n",
       "        4.53603971e-30, 8.52312810e-32, 1.60147876e-33, 3.00914663e-35],\n",
       "       [6.12095723e-01, 3.74661174e-01, 2.29328502e-01, 1.40370995e-01,\n",
       "        8.59204857e-02, 5.25915618e-02, 3.21910700e-02, 1.97040163e-02,\n",
       "        1.20607441e-02, 7.38232987e-03, 4.51869253e-03, 2.76587237e-03,\n",
       "        1.69297865e-03, 1.03626499e-03, 6.34293368e-04, 3.88248257e-04,\n",
       "        2.37645098e-04, 1.45461548e-04, 8.90363912e-05, 5.44987942e-05],\n",
       "       [9.25596638e-01, 8.56729137e-01, 7.92985609e-01, 7.33984814e-01,\n",
       "        6.79373876e-01, 6.28826176e-01, 5.82039395e-01, 5.38733707e-01,\n",
       "        4.98650108e-01, 4.61548864e-01, 4.27208077e-01, 3.95422360e-01,\n",
       "        3.66001607e-01, 3.38769857e-01, 3.13564241e-01, 2.90234007e-01,\n",
       "        2.68639621e-01, 2.48651930e-01, 2.30151391e-01, 2.13027354e-01],\n",
       "       [5.68044561e-01, 3.22674623e-01, 1.83293565e-01, 1.04118913e-01,\n",
       "        5.91441820e-02, 3.35965309e-02, 1.90843267e-02, 1.08407480e-02,\n",
       "        6.15802791e-03, 3.49803426e-03, 1.98703934e-03, 1.12872689e-03,\n",
       "        6.41167170e-04, 3.64211524e-04, 2.06888375e-04, 1.17521816e-04,\n",
       "        6.67576285e-05, 3.79213078e-05, 2.15409926e-05, 1.22362437e-05],\n",
       "       [2.10382561e-01, 4.42608220e-02, 9.31170509e-03, 1.95902036e-03,\n",
       "        4.12143721e-04, 8.67078517e-05, 1.82418199e-05, 3.83776079e-06,\n",
       "        8.07397943e-07, 1.69862447e-07, 3.57360967e-08, 7.51825154e-09,\n",
       "        1.58170901e-09, 3.32763993e-10, 7.00077411e-11, 1.47284079e-11,\n",
       "        3.09860017e-12, 6.51891439e-13, 1.37146590e-13, 2.88532510e-14],\n",
       "       [4.61479362e-01, 2.12963202e-01, 9.82781225e-02, 4.53533253e-02,\n",
       "        2.09296236e-02, 9.65858937e-03, 4.45723966e-03, 2.05692412e-03,\n",
       "        9.49228030e-04, 4.38049146e-04, 2.02150640e-04, 9.32883486e-05,\n",
       "        4.30506476e-05, 1.98669854e-05, 9.16820376e-06, 4.23093682e-06,\n",
       "        1.95249003e-06, 9.01033852e-07, 4.15808528e-07, 1.91887054e-07],\n",
       "       [8.32619846e-01, 6.93255807e-01, 5.77218543e-01, 4.80603614e-01,\n",
       "        4.00160107e-01, 3.33181247e-01, 2.77413318e-01, 2.30979834e-01,\n",
       "        1.92318394e-01, 1.60128111e-01, 1.33325843e-01, 1.11009743e-01,\n",
       "        9.24289151e-02, 7.69581490e-02, 6.40768821e-02, 5.33516837e-02,\n",
       "        4.44216707e-02, 3.69863646e-02, 3.07955811e-02, 2.56410120e-02],\n",
       "       [6.45894113e-01, 4.17179205e-01, 2.69453593e-01, 1.74038489e-01,\n",
       "        1.12410436e-01, 7.26052387e-02, 4.68952962e-02, 3.02893958e-02,\n",
       "        1.95637424e-02, 1.26361061e-02, 8.16158651e-03, 5.27152068e-03,\n",
       "        3.40484418e-03, 2.19916881e-03, 1.42043019e-03, 9.17447496e-04,\n",
       "        5.92573937e-04, 3.82740017e-04, 2.47209524e-04, 1.59671176e-04],\n",
       "       [7.80529176e-01, 6.09225795e-01, 4.75518508e-01, 3.71156069e-01,\n",
       "        2.89698141e-01, 2.26117851e-01, 1.76491580e-01, 1.37756828e-01,\n",
       "        1.07523223e-01, 8.39250129e-02, 6.55059212e-02, 5.11292827e-02,\n",
       "        3.99078969e-02, 3.11492779e-02, 2.43129202e-02, 1.89769436e-02,\n",
       "        1.48120582e-02, 1.15612436e-02, 9.02388791e-03, 7.04340780e-03],\n",
       "       [8.71292997e-02, 7.59151487e-03, 6.61443374e-04, 5.76310980e-05,\n",
       "        5.02135721e-06, 4.37507337e-07, 3.81197079e-08, 3.32134345e-09,\n",
       "        2.89386329e-10, 2.52140282e-11, 2.19688062e-12, 1.91412670e-13,\n",
       "        1.66776519e-14, 1.45311213e-15, 1.26608642e-16, 1.10313223e-17,\n",
       "        9.61151390e-19, 8.37444475e-20, 7.29659506e-21, 6.35747218e-22],\n",
       "       [7.99158564e-01, 6.38654411e-01, 5.10386142e-01, 4.07879456e-01,\n",
       "        3.25960361e-01, 2.60494014e-01, 2.08176022e-01, 1.66365651e-01,\n",
       "        1.32952535e-01, 1.06250157e-01, 8.49107227e-02, 6.78571313e-02,\n",
       "        5.42286076e-02, 4.33372562e-02, 3.46333394e-02, 2.76775298e-02,\n",
       "        2.21187350e-02, 1.76763765e-02, 1.41262277e-02, 1.12890958e-02],\n",
       "       [4.56150332e-01, 2.08073126e-01, 9.49126254e-02, 4.32944256e-02,\n",
       "        1.97487666e-02, 9.00840645e-03, 4.10918760e-03, 1.87440729e-03,\n",
       "        8.55011507e-04, 3.90013783e-04, 1.77904917e-04, 8.11513868e-05,\n",
       "        3.70172321e-05, 1.68854227e-05, 7.70229117e-06, 3.51340268e-06,\n",
       "        1.60263980e-06, 7.31044677e-07, 3.33466272e-07, 1.52110751e-07],\n",
       "       [6.02763376e-01, 3.63323688e-01, 2.18998213e-01, 1.32004102e-01,\n",
       "        7.95672381e-02, 4.79602171e-02, 2.89086624e-02, 1.74250829e-02,\n",
       "        1.05032018e-02, 6.33094538e-03, 3.81606201e-03, 2.30018242e-03,\n",
       "        1.38646572e-03, 8.35710760e-04, 5.03735839e-04, 3.03633515e-04,\n",
       "        1.83019163e-04, 1.10317248e-04, 6.64951970e-05, 4.00808695e-05],\n",
       "       [7.15189366e-01, 5.11495830e-01, 3.65816378e-01, 2.61627984e-01,\n",
       "        1.87113552e-01, 1.33821623e-01, 9.57078015e-02, 6.84492019e-02,\n",
       "        4.89541414e-02, 3.50114813e-02, 2.50398392e-02, 1.79082267e-02,\n",
       "        1.28077733e-02, 9.15998328e-03, 6.55112264e-03, 4.68529325e-03,\n",
       "        3.35087191e-03, 2.39650796e-03, 1.71395701e-03, 1.22580383e-03],\n",
       "       [6.16933997e-01, 3.80607556e-01, 2.34809741e-01, 1.44862112e-01,\n",
       "        8.93703618e-02, 5.51356145e-02, 3.40150350e-02, 2.09850315e-02,\n",
       "        1.29463794e-02, 7.98706157e-03, 4.92748982e-03, 3.03993599e-03,\n",
       "        1.87543986e-03, 1.15702261e-03, 7.13806582e-04, 4.40371548e-04,\n",
       "        2.71680179e-04, 1.67608739e-04, 1.03403529e-04, 6.37931525e-05],\n",
       "       [7.74233689e-01, 5.99437806e-01, 4.64104944e-01, 3.59325683e-01,\n",
       "        2.78202049e-01, 2.15393399e-01, 1.66764826e-01, 1.29114947e-01,\n",
       "        9.99651414e-02, 7.73963802e-02, 5.99228850e-02, 4.63943164e-02,\n",
       "        3.59200427e-02, 2.78105072e-02, 2.15318316e-02, 1.66706694e-02,\n",
       "        1.29069939e-02, 9.99302950e-03, 7.73694010e-03, 5.99019968e-03],\n",
       "       [1.43353287e-01, 2.05501650e-02, 2.94593371e-03, 4.22309282e-04,\n",
       "        6.05394239e-05, 8.67852543e-06, 1.24409515e-06, 1.78345130e-07,\n",
       "        2.55663606e-08, 3.66502184e-09, 5.25392930e-10, 7.53168036e-11,\n",
       "        1.07969114e-11, 1.54777274e-12, 2.21878311e-13, 3.18069853e-14,\n",
       "        4.55963590e-15, 6.53638796e-16, 9.37012702e-17, 1.34323851e-17],\n",
       "       [6.66766715e-01, 4.44577853e-01, 2.96429715e-01, 1.97649467e-01,\n",
       "        1.31786086e-01, 8.78705758e-02, 5.85891752e-02, 3.90653119e-02,\n",
       "        2.60474497e-02, 1.73675725e-02, 1.15801193e-02, 7.72123808e-03,\n",
       "        5.14826456e-03, 3.43269145e-03, 2.28880440e-03, 1.52609859e-03,\n",
       "        1.01755175e-03, 6.78469636e-04, 4.52380971e-04, 3.01632574e-04],\n",
       "       [4.14661940e-01, 1.71944524e-01, 7.12988501e-02, 2.95649195e-02,\n",
       "        1.22594469e-02, 5.08352602e-03, 2.10794476e-03, 8.74084465e-04,\n",
       "        3.62449560e-04, 1.50294038e-04, 6.23212172e-05, 2.58422368e-05,\n",
       "        1.07157921e-05, 4.44343112e-06, 1.84252177e-06, 7.64023652e-07,\n",
       "        3.16811530e-07, 1.31369683e-07, 5.44740078e-08, 2.25882978e-08],\n",
       "       [7.10360582e-02, 5.04612156e-03, 3.58456585e-04, 2.54633428e-05,\n",
       "        1.80881550e-06, 1.28491123e-07, 9.12750292e-09, 6.48381829e-10,\n",
       "        4.60584893e-11, 3.27181353e-12, 2.32416736e-13, 1.65099688e-14,\n",
       "        1.17280310e-15, 8.33113096e-17, 5.91810703e-18, 4.20398996e-19,\n",
       "        2.98634875e-20, 2.12138444e-21, 1.50694788e-22, 1.07047638e-23],\n",
       "       [9.63662761e-01, 9.28645916e-01, 8.94901487e-01, 8.62383237e-01,\n",
       "        8.31046611e-01, 8.00848671e-01, 7.71748041e-01, 7.43704848e-01,\n",
       "        7.16680667e-01, 6.90638470e-01, 6.65542574e-01, 6.41358594e-01,\n",
       "        6.18053393e-01, 5.95595039e-01, 5.73952760e-01, 5.53096901e-01,\n",
       "        5.32998886e-01, 5.13631178e-01, 4.94967239e-01, 4.76981496e-01],\n",
       "       [6.81820299e-01, 4.64878920e-01, 3.16963884e-01, 2.16112411e-01,\n",
       "        1.47349828e-01, 1.00466104e-01, 6.84998291e-02, 4.67045740e-02,\n",
       "        3.18441266e-02, 2.17119719e-02, 1.48036632e-02, 1.00934381e-02,\n",
       "        6.88191096e-03, 4.69222659e-03, 3.19925534e-03, 2.18131723e-03,\n",
       "        1.48726637e-03, 1.01404840e-03, 6.91398783e-04, 4.71409725e-04],\n",
       "       [3.59507901e-01, 1.29245931e-01, 4.64649332e-02, 1.67045106e-02,\n",
       "        6.00540353e-03, 2.15899001e-03, 7.76173967e-04, 2.79040673e-04,\n",
       "        1.00317327e-04, 3.60648715e-05, 1.29656062e-05, 4.66123788e-06,\n",
       "        1.67575184e-06, 6.02446027e-07, 2.16584106e-07, 7.78636974e-08,\n",
       "        2.79926144e-08, 1.00635660e-08, 3.61793150e-09, 1.30067496e-09],\n",
       "       [2.64555612e-01, 6.99896719e-02, 1.85161605e-02, 4.89855417e-03,\n",
       "        1.29594000e-03, 3.42848199e-04, 9.07024152e-05, 2.39958330e-05,\n",
       "        6.34823228e-06, 1.67946048e-06, 4.44310694e-07, 1.17544888e-07,\n",
       "        3.10971597e-08, 8.22692813e-09, 2.17648001e-09, 5.75800000e-10,\n",
       "        1.52331122e-10, 4.03000531e-11, 1.06616052e-11, 2.82058749e-12],\n",
       "       [8.70012148e-01, 7.56921138e-01, 6.58530585e-01, 5.72929609e-01,\n",
       "        4.98455720e-01, 4.33662532e-01, 3.77291671e-01, 3.28248337e-01,\n",
       "        2.85580041e-01, 2.48458105e-01, 2.16161570e-01, 1.88063192e-01,\n",
       "        1.63617261e-01, 1.42349005e-01, 1.23845364e-01, 1.07746971e-01,\n",
       "        9.37411736e-02, 8.15559598e-02, 7.09546758e-02, 6.17314299e-02],\n",
       "       [5.28894920e-01, 2.79729836e-01, 1.47947689e-01, 7.82487812e-02,\n",
       "        4.13853829e-02, 2.18885188e-02, 1.15767264e-02, 6.12287176e-03,\n",
       "        3.23835577e-03, 1.71274992e-03, 9.05864729e-04, 4.79107253e-04,\n",
       "        2.53397392e-04, 1.34020593e-04, 7.08828110e-05, 3.74895586e-05,\n",
       "        1.98280371e-05, 1.04869481e-05, 5.54649357e-06, 2.93351227e-06],\n",
       "       [9.44668917e-01, 8.92399363e-01, 8.43021940e-01, 7.96376623e-01,\n",
       "        7.52312242e-01, 7.10685991e-01, 6.71362965e-01, 6.34215725e-01,\n",
       "        5.99123882e-01, 5.65973709e-01, 5.34657771e-01, 5.05074577e-01,\n",
       "        4.77128254e-01, 4.50728231e-01, 4.25788950e-01, 4.02229586e-01,\n",
       "        3.79973788e-01, 3.58949426e-01, 3.39088366e-01, 3.20326239e-01],\n",
       "       [5.68433949e-01, 3.23117154e-01, 1.83670760e-01, 1.04404695e-01,\n",
       "        5.93471733e-02, 3.37349481e-02, 1.91760897e-02, 1.09003404e-02,\n",
       "        6.19612354e-03, 3.52208697e-03, 2.00207381e-03, 1.13804672e-03,\n",
       "        6.46904391e-04, 3.67722418e-04, 2.09025906e-04, 1.18817421e-04,\n",
       "        6.75398559e-05, 3.83919470e-05, 2.18232860e-05, 1.24050967e-05],\n",
       "       [4.37031954e-01, 1.90996929e-01, 8.34717609e-02, 3.64798268e-02,\n",
       "        1.59428500e-02, 6.96753487e-03, 3.04503538e-03, 1.33077776e-03,\n",
       "        5.81592404e-04, 2.54174465e-04, 1.11082363e-04, 4.85465421e-05,\n",
       "        2.12163902e-05, 9.27224044e-06, 4.05226536e-06, 1.77096945e-06,\n",
       "        7.73970237e-07, 3.38249725e-07, 1.47825938e-07, 6.46046586e-08],\n",
       "       [2.02183974e-02, 4.08783595e-04, 8.26494919e-06, 1.67104028e-07,\n",
       "        3.37857564e-09, 6.83093851e-11, 1.38110630e-12, 2.79237560e-14,\n",
       "        5.64573598e-16, 1.14147734e-17, 2.30788425e-19, 4.66617210e-21,\n",
       "        9.43425220e-23, 1.90745461e-24, 3.85656753e-26, 7.79736151e-28,\n",
       "        1.57650154e-29, 3.18743347e-31, 6.44447967e-33, 1.30297051e-34],\n",
       "       [1.28926298e-01, 1.66219902e-02, 2.14301166e-03, 2.76290559e-04,\n",
       "        3.56211189e-05, 4.59249897e-06, 5.92093890e-07, 7.63364731e-08,\n",
       "        9.84177885e-09, 1.26886411e-09, 1.63589952e-10, 2.10910468e-11,\n",
       "        2.71919058e-12, 3.50575174e-13, 4.51983592e-14, 5.82725712e-15,\n",
       "        7.51286686e-16, 9.68606109e-17, 1.24878799e-17, 1.61001613e-18],\n",
       "       [7.78156751e-01, 6.05527929e-01, 4.71195646e-01, 3.66664073e-01,\n",
       "        2.85322124e-01, 2.22025337e-01, 1.72770515e-01, 1.34442542e-01,\n",
       "        1.04617372e-01, 8.14087142e-02, 6.33487406e-02, 4.92952501e-02,\n",
       "        3.83594317e-02, 2.98496507e-02, 2.32277072e-02, 1.80747972e-02,\n",
       "        1.40650255e-02, 1.09447945e-02, 8.51676573e-03, 6.62737875e-03],\n",
       "       [1.18274426e-01, 1.39888398e-02, 1.65452200e-03, 1.95687639e-04,\n",
       "        2.31448432e-05, 2.73744304e-06, 3.23769504e-07, 3.82936522e-08,\n",
       "        4.52915973e-09, 5.35683767e-10, 6.33576899e-11, 7.49359440e-12,\n",
       "        8.86300575e-13, 1.04826692e-13, 1.23983168e-14, 1.46640380e-15,\n",
       "        1.73438067e-16, 2.05132878e-17, 2.42619734e-18, 2.86957098e-19],\n",
       "       [6.70637870e-01, 4.49755152e-01, 3.01622837e-01, 2.02279697e-01,\n",
       "        1.35656425e-01, 9.09763359e-02, 6.10121761e-02, 4.09170758e-02,\n",
       "        2.74405405e-02, 1.84026656e-02, 1.23415245e-02, 8.27669369e-03,\n",
       "        5.55066422e-03, 3.72248563e-03, 2.49643983e-03, 1.67420709e-03,\n",
       "        1.12278668e-03, 7.52983265e-04, 5.04979092e-04, 3.38658103e-04],\n",
       "       [5.21848322e-01, 2.72325671e-01, 1.42112694e-01, 7.41612710e-02,\n",
       "        3.87009348e-02, 2.01960179e-02, 1.05392580e-02, 5.49989412e-03,\n",
       "        2.87011052e-03, 1.49776236e-03, 7.81604772e-04, 4.07879139e-04,\n",
       "        2.12851044e-04, 1.11075960e-04, 5.79648034e-05, 3.02488354e-05,\n",
       "        1.57853040e-05, 8.23753438e-06, 4.29874349e-06, 2.24329208e-06]])"
      ]
     },
     "execution_count": 78,
     "metadata": {},
     "output_type": "execute_result"
    }
   ],
   "source": [
    "X_poly"
   ]
  },
  {
   "cell_type": "code",
   "execution_count": 72,
   "id": "fe5dcb99",
   "metadata": {},
   "outputs": [
    {
     "data": {
      "text/plain": [
       "LinearRegression()"
      ]
     },
     "execution_count": 72,
     "metadata": {},
     "output_type": "execute_result"
    }
   ],
   "source": [
    "model = LinearRegression()\n",
    "model.fit( X_poly, Y)"
   ]
  },
  {
   "cell_type": "code",
   "execution_count": 73,
   "id": "ba030104",
   "metadata": {},
   "outputs": [
    {
     "data": {
      "image/png": "[encoded data removed]",
      "text/plain": [
       "<Figure size 432x288 with 1 Axes>"
      ]
     },
     "metadata": {
      "needs_background": "light"
     },
     "output_type": "display_data"
    }
   ],
   "source": [
    "x_array = np.linspace(0,1,100)\n",
    "x_array = x_array.reshape((x_array.shape[0], 1 ))\n",
    "x_array_poly = poly_features.fit_transform(x_array)\n",
    "\n",
    "y_array = model.predict(x_array_poly)\n",
    "\n",
    "plt.plot(X, Y, 'bo')\n",
    "plt.plot(x_array, y_array, 'r-')\n",
    "plt.ylim(-1.6, 2.2)\n",
    "plt.show()"
   ]
  },
  {
   "cell_type": "markdown",
   "id": "3c73bea0",
   "metadata": {},
   "source": [
    "<a id='good_fit'></a>\n",
    "## 3.3 Good fit"
   ]
  },
  {
   "cell_type": "code",
   "execution_count": 75,
   "id": "91934158",
   "metadata": {},
   "outputs": [
    {
     "data": {
      "image/png": "[encoded data removed]",
      "text/plain": [
       "<Figure size 432x288 with 1 Axes>"
      ]
     },
     "metadata": {
      "needs_background": "light"
     },
     "output_type": "display_data"
    }
   ],
   "source": [
    "d =5\n",
    "poly_features = PolynomialFeatures(degree=d, include_bias=False)\n",
    "X_poly = poly_features.fit_transform(X)\n",
    "\n",
    "\n",
    "model = LinearRegression()\n",
    "model.fit( X_poly, Y)\n",
    "\n",
    "x_array = np.linspace(0,1,100)\n",
    "x_array = x_array.reshape((x_array.shape[0], 1 ))\n",
    "x_array_poly = poly_features.fit_transform(x_array)\n",
    "\n",
    "y_array = model.predict(x_array_poly)\n",
    "\n",
    "plt.plot(X, Y, 'bo')\n",
    "plt.plot(x_array, y_array, 'r-')\n",
    "plt.ylim(-1.6, 2.2)\n",
    "plt.show()"
   ]
  },
  {
   "cell_type": "markdown",
   "id": "642cdc96",
   "metadata": {},
   "source": [
    "<a id='regularization'></a>\n",
    "## 3.4 regularization by adding penalties\n",
    "\n",
    "This form of overfitting is common with linear regressions. \n",
    "\n",
    "- Linear regression we have used thus far: minimizes the quadratic error \n",
    "$$\n",
    "\\min_\\beta \\|f_\\beta(x) - y\\|^2\n",
    "$$\n",
    "\n",
    "- To avoid uncontrolled increase in the model parameters, we can penalize large coefficients:\n",
    "$$\n",
    "\\min_\\beta \\|f_\\beta(x) - y\\|^2 + \\alpha \\|\\beta\\|^2\n",
    "$$\n",
    "\n",
    "This addition of the second term is called __regularization__. $\\alpha$ is a new hyperparameter introduced. "
   ]
  },
  {
   "cell_type": "markdown",
   "id": "8b3cef0b",
   "metadata": {},
   "source": [
    "### Ridge regression"
   ]
  },
  {
   "cell_type": "code",
   "execution_count": 76,
   "id": "37d8fa38",
   "metadata": {},
   "outputs": [],
   "source": [
    "from sklearn.linear_model import Ridge"
   ]
  },
  {
   "cell_type": "code",
   "execution_count": 80,
   "id": "8a80cf5b",
   "metadata": {},
   "outputs": [],
   "source": [
    "d = 20\n",
    "poly_features = PolynomialFeatures(degree=d, include_bias=False)\n",
    "X_poly = poly_features.fit_transform(X)\n",
    "x_array_poly = poly_features.fit_transform(x_array)"
   ]
  },
  {
   "cell_type": "code",
   "execution_count": 81,
   "id": "8489b5b1",
   "metadata": {},
   "outputs": [
    {
     "data": {
      "image/png": "[encoded data removed]",
      "text/plain": [
       "<Figure size 432x288 with 1 Axes>"
      ]
     },
     "metadata": {
      "needs_background": "light"
     },
     "output_type": "display_data"
    }
   ],
   "source": [
    "model = Ridge( alpha = 1.0 )\n",
    "model.fit( X_poly , Y )\n",
    "\n",
    "plt.plot(X, Y, 'o')\n",
    "plt.plot(x_array, model.predict(x_array_poly), 'r-')\n",
    "\n",
    "plt.xlabel('X')\n",
    "plt.ylabel('Y')\n",
    "plt.show()"
   ]
  },
  {
   "cell_type": "code",
   "execution_count": 88,
   "id": "c29a3f41",
   "metadata": {},
   "outputs": [
    {
     "data": {
      "image/png": "[encoded data removed]",
      "text/plain": [
       "<Figure size 432x288 with 1 Axes>"
      ]
     },
     "metadata": {
      "needs_background": "light"
     },
     "output_type": "display_data"
    }
   ],
   "source": [
    "model = Ridge( alpha = 0.001 )\n",
    "model.fit( X_poly , Y )\n",
    "\n",
    "plt.plot(X, Y, 'o')\n",
    "plt.plot(x_array, model.predict(x_array_poly), 'r-')\n",
    "\n",
    "plt.xlabel('X')\n",
    "plt.ylabel('Y')\n",
    "plt.show()"
   ]
  },
  {
   "cell_type": "code",
   "execution_count": 89,
   "id": "3805a94f",
   "metadata": {},
   "outputs": [
    {
     "data": {
      "text/plain": [
       "array([[-3.12714876, -5.17110969,  0.55041706,  3.21098709,  3.29873852,\n",
       "         2.27773626,  1.02681402, -0.05608264, -0.83448879, -1.29558894,\n",
       "        -1.47820766, -1.43774664, -1.23004499, -0.90462732, -0.50251376,\n",
       "        -0.05617022,  0.40961561,  0.87653842,  1.33155379,  1.76576431]])"
      ]
     },
     "execution_count": 89,
     "metadata": {},
     "output_type": "execute_result"
    }
   ],
   "source": [
    "model.coef_"
   ]
  },
  {
   "cell_type": "code",
   "execution_count": 91,
   "id": "c578428e",
   "metadata": {
    "scrolled": true
   },
   "outputs": [
    {
     "name": "stdout",
     "output_type": "stream",
     "text": [
      "MSE on the test:  0.010867384351884243\n"
     ]
    }
   ],
   "source": [
    "print(\"MSE on the test: \", mean_squared_error(model.predict(poly_features.fit_transform(X_test)), Y_test))"
   ]
  },
  {
   "cell_type": "markdown",
   "id": "00855077",
   "metadata": {},
   "source": [
    "### Lasso regression"
   ]
  },
  {
   "cell_type": "markdown",
   "id": "675275d2",
   "metadata": {},
   "source": [
    "- Another popular method of regularization is via [Lasso penalty](https://scikit-learn.org/stable/modules/generated/sklearn.linear_model.Lasso.html):\n",
    "$$\n",
    "\\min_\\beta \\|f_\\beta(x) - y\\|^2 + \\alpha \\sum_{j}|\\beta_j|.\n",
    "$$\n",
    "\n",
    "By using \"L1-norm\", we encourage sparsity of $\\beta$: some of the $\\beta_j$'s will be exactly zero. This works as "
   ]
  },
  {
   "cell_type": "code",
   "execution_count": 92,
   "id": "ff76fd0d",
   "metadata": {},
   "outputs": [
    {
     "name": "stderr",
     "output_type": "stream",
     "text": [
      "/home/wbguo/.local/lib/python3.8/site-packages/sklearn/linear_model/_coordinate_descent.py:530: ConvergenceWarning: Objective did not converge. You might want to increase the number of iterations. Duality gap: 0.1631882590667899, tolerance: 0.0037824724181819962\n",
      "  model = cd_fast.enet_coordinate_descent(\n"
     ]
    },
    {
     "data": {
      "text/plain": [
       "Lasso(alpha=1e-05)"
      ]
     },
     "execution_count": 92,
     "metadata": {},
     "output_type": "execute_result"
    }
   ],
   "source": [
    "from sklearn.linear_model import Lasso\n",
    "model = Lasso( alpha = 0.00001 )\n",
    "model.fit( X_poly , Y )"
   ]
  },
  {
   "cell_type": "code",
   "execution_count": 93,
   "id": "a3b7b917",
   "metadata": {},
   "outputs": [
    {
     "data": {
      "image/png": "[encoded data removed]",
      "text/plain": [
       "<Figure size 432x288 with 1 Axes>"
      ]
     },
     "metadata": {
      "needs_background": "light"
     },
     "output_type": "display_data"
    }
   ],
   "source": [
    "plt.plot(X, Y, 'o')\n",
    "plt.plot(x_array, model.predict(x_array_poly), 'r-')\n",
    "\n",
    "plt.xlabel('X')\n",
    "plt.ylabel('Y')\n",
    "plt.show()"
   ]
  },
  {
   "cell_type": "code",
   "execution_count": 94,
   "id": "b3eb7018",
   "metadata": {
    "scrolled": true
   },
   "outputs": [
    {
     "data": {
      "text/plain": [
       "array([-3.06188885, -6.777661  ,  3.47698372,  3.86557598,  2.23236383,\n",
       "        0.77932389, -0.        , -0.53072712, -0.88006375, -0.91179815,\n",
       "       -0.80042051, -0.61395934, -0.39222686, -0.15944532, -0.        ,\n",
       "       -0.        ,  0.        ,  0.61551149,  0.78656819,  0.92373287])"
      ]
     },
     "execution_count": 94,
     "metadata": {},
     "output_type": "execute_result"
    }
   ],
   "source": [
    "model.coef_"
   ]
  },
  {
   "cell_type": "code",
   "execution_count": 95,
   "id": "ab2930ee",
   "metadata": {},
   "outputs": [
    {
     "name": "stdout",
     "output_type": "stream",
     "text": [
      "MSE on the test:  0.011922828543735586\n"
     ]
    }
   ],
   "source": [
    "print(\"MSE on the test: \", mean_squared_error(model.predict(poly_features.fit_transform(X_test)), Y_test))"
   ]
  },
  {
   "cell_type": "markdown",
   "id": "ff673d69",
   "metadata": {},
   "source": [
    "**Exercise** : compare the coefficients of lasso and ridge, what did you find?"
   ]
  },
  {
   "cell_type": "markdown",
   "id": "4f83ec6e",
   "metadata": {},
   "source": [
    "We can also combine the two to get better performance: it's called [Elastic Net](https://scikit-learn.org/stable/modules/generated/sklearn.linear_model.ElasticNet.html). "
   ]
  },
  {
   "cell_type": "code",
   "execution_count": null,
   "id": "c2768871",
   "metadata": {},
   "outputs": [],
   "source": []
  },
  {
   "cell_type": "markdown",
   "id": "895eeece",
   "metadata": {},
   "source": [
    "<a id='pca'></a>\n",
    "# 4. Dimension reduction (PCA)"
   ]
  },
  {
   "cell_type": "markdown",
   "id": "6e51e220",
   "metadata": {},
   "source": [
    "we will use the MNIST dataset for the unsupervised learning practice. Here we will use digits 1, 5, 6. each image is 28x28 with values from 0-255. for more information, please refer to this [link](http://yann.lecun.com/exdb/mnist/)\n",
    "\n",
    "<p><img src=\"MnistExamples.png\" width=\"500\" height=\"100\" align=\"center\"></p>"
   ]
  },
  {
   "cell_type": "code",
   "execution_count": 135,
   "id": "fda924e0",
   "metadata": {},
   "outputs": [
    {
     "name": "stdout",
     "output_type": "stream",
     "text": [
      "The number of training images : 16583, shape : (16583, 784)\n",
      "The number of testing images : 2985, shape : (2985, 784)\n"
     ]
    }
   ],
   "source": [
    "train_x = np.load('./mnist_train_images.npy')\n",
    "train_y = np.load('./mnist_train_labels.npy')\n",
    "test_x = np.load('./mnist_test_images.npy')\n",
    "test_y = np.load('./mnist_test_labels.npy')\n",
    "\n",
    "n_train = train_x.shape[0]\n",
    "n_test = test_x.shape[0]\n",
    "\n",
    "print (\"The number of training images : {}, shape : {}\".format(n_train, train_x.shape))\n",
    "print (\"The number of testing images : {}, shape : {}\".format(n_test, test_x.shape))"
   ]
  },
  {
   "cell_type": "code",
   "execution_count": 142,
   "id": "383bfaf4",
   "metadata": {},
   "outputs": [
    {
     "name": "stdout",
     "output_type": "stream",
     "text": [
      "(784,)\n",
      "[0. 1. 0. 0. 0. 0. 0. 0. 0. 0.]\n"
     ]
    },
    {
     "data": {
      "image/png": "[encoded data removed]",
      "text/plain": [
       "<Figure size 432x432 with 1 Axes>"
      ]
     },
     "metadata": {},
     "output_type": "display_data"
    }
   ],
   "source": [
    "idx = np.random.randint(train_x.shape[0])\n",
    "print(train_x[idx].shape)\n",
    "print(train_y[idx])\n",
    "img = train_x[idx].reshape(28,28)\n",
    "\n",
    "\n",
    "plt.figure(figsize = (6,6))\n",
    "plt.imshow(img,'gray')\n",
    "plt.title(\"Label : {}\".format(np.argmax(train_y[idx,:])))\n",
    "plt.xticks([])\n",
    "plt.yticks([])\n",
    "plt.show()"
   ]
  },
  {
   "cell_type": "code",
   "execution_count": 147,
   "id": "215e764d",
   "metadata": {},
   "outputs": [],
   "source": [
    "# convert one-hot encoding to labels\n",
    "train_y_label = np.where(train_y)[1]\n",
    "test_y_label  = np.where(test_y)[1]"
   ]
  },
  {
   "cell_type": "markdown",
   "id": "f3f31ba4",
   "metadata": {},
   "source": [
    "### run PCA\n",
    "since the value is from 0-255, we will not perform the scaling here, in other examples, you might need to consider perform scaling or standadization first before running PCA"
   ]
  },
  {
   "cell_type": "code",
   "execution_count": 110,
   "id": "d6fd87d2",
   "metadata": {},
   "outputs": [],
   "source": [
    "from sklearn.decomposition import PCA"
   ]
  },
  {
   "cell_type": "code",
   "execution_count": 114,
   "id": "c9b50b36",
   "metadata": {},
   "outputs": [
    {
     "data": {
      "text/plain": [
       "PCA()"
      ]
     },
     "execution_count": 114,
     "metadata": {},
     "output_type": "execute_result"
    }
   ],
   "source": [
    "pca = PCA()\n",
    "pca.fit( train_x )"
   ]
  },
  {
   "cell_type": "markdown",
   "id": "02d0c8ed",
   "metadata": {},
   "source": [
    "### Explained variance ratio for each PC"
   ]
  },
  {
   "cell_type": "code",
   "execution_count": 119,
   "id": "27f6548e",
   "metadata": {},
   "outputs": [
    {
     "data": {
      "text/plain": [
       "array([1.67049810e-01, 8.68293419e-02, 7.38108978e-02, 7.04225898e-02,\n",
       "       4.43760417e-02, 3.56074162e-02, 2.87533719e-02, 2.69804467e-02,\n",
       "       2.32602712e-02, 2.01250706e-02, 1.80052835e-02, 1.71571262e-02,\n",
       "       1.51613960e-02, 1.50276441e-02, 1.34597979e-02, 1.26141170e-02,\n",
       "       1.17572909e-02, 1.11460052e-02, 1.06456215e-02, 9.58152860e-03,\n",
       "       8.81693698e-03, 8.24851822e-03, 7.91743025e-03, 7.12096132e-03,\n",
       "       6.94172969e-03, 6.64638216e-03, 6.49646018e-03, 5.97613398e-03,\n",
       "       5.60540892e-03, 5.46505628e-03, 5.22008957e-03, 5.16841467e-03,\n",
       "       4.91286954e-03, 4.61977394e-03, 4.41680383e-03, 4.35212301e-03,\n",
       "       4.32779128e-03, 3.91748454e-03, 3.91255086e-03, 3.69875273e-03,\n",
       "       3.57106444e-03, 3.51882353e-03, 3.42525961e-03, 3.20785400e-03,\n",
       "       3.14347469e-03, 3.05403443e-03, 2.87376740e-03, 2.86786910e-03,\n",
       "       2.77049816e-03, 2.58995104e-03, 2.56367819e-03, 2.49359990e-03,\n",
       "       2.47663027e-03, 2.37528142e-03, 2.30796775e-03, 2.27783038e-03,\n",
       "       2.23843730e-03, 2.09782040e-03, 2.02621636e-03, 2.00137566e-03,\n",
       "       1.96936657e-03, 1.90525432e-03, 1.81554328e-03, 1.72864506e-03,\n",
       "       1.72191451e-03, 1.69743900e-03, 1.63477380e-03, 1.61035056e-03,\n",
       "       1.57534319e-03, 1.55208912e-03, 1.51140825e-03, 1.47080002e-03,\n",
       "       1.42008392e-03, 1.41262368e-03, 1.40052650e-03, 1.35717646e-03,\n",
       "       1.31673715e-03, 1.26108981e-03, 1.25860295e-03, 1.21441449e-03,\n",
       "       1.20223931e-03, 1.15931360e-03, 1.13761099e-03, 1.12958800e-03,\n",
       "       1.08626112e-03, 1.06917811e-03, 1.05874811e-03, 1.03214488e-03,\n",
       "       1.01214927e-03, 1.00262696e-03, 9.80864512e-04, 9.64257750e-04,\n",
       "       9.42191924e-04, 9.19504382e-04, 9.06533503e-04, 8.75787344e-04,\n",
       "       8.63610476e-04, 8.59518419e-04, 8.40604713e-04, 8.27380107e-04,\n",
       "       8.02495575e-04, 7.97729474e-04, 7.92790903e-04, 7.72161293e-04,\n",
       "       7.59678078e-04, 7.50796229e-04, 7.46865931e-04, 7.34733418e-04,\n",
       "       7.18144292e-04, 6.90760557e-04, 6.80530618e-04, 6.70489913e-04,\n",
       "       6.65461703e-04, 6.49534981e-04, 6.42051280e-04, 6.35506527e-04,\n",
       "       6.27159374e-04, 6.15639728e-04, 6.05440408e-04, 5.98767831e-04,\n",
       "       5.88752737e-04, 5.82893088e-04, 5.77189843e-04, 5.67945302e-04,\n",
       "       5.62405447e-04, 5.54272032e-04, 5.48785320e-04, 5.38821507e-04,\n",
       "       5.33013314e-04, 5.28463279e-04, 5.19105990e-04, 5.11131482e-04,\n",
       "       5.03932359e-04, 5.00053458e-04, 4.95442306e-04, 4.92931169e-04,\n",
       "       4.86190169e-04, 4.69400286e-04, 4.64930141e-04, 4.63673496e-04,\n",
       "       4.56409442e-04, 4.46682039e-04, 4.44357516e-04, 4.39697935e-04,\n",
       "       4.36021859e-04, 4.26389131e-04, 4.23888850e-04, 4.17512609e-04,\n",
       "       4.13627451e-04, 4.06631239e-04, 3.99796525e-04, 3.97348194e-04,\n",
       "       3.97029769e-04, 3.88280692e-04, 3.82775033e-04, 3.78026132e-04,\n",
       "       3.76012438e-04, 3.72471870e-04, 3.68173001e-04, 3.62036721e-04,\n",
       "       3.59292346e-04, 3.52068630e-04, 3.48866102e-04, 3.44629283e-04,\n",
       "       3.42816144e-04, 3.38804733e-04, 3.37986508e-04, 3.32731084e-04,\n",
       "       3.29057657e-04, 3.25938745e-04, 3.23867425e-04, 3.20567953e-04,\n",
       "       3.19574086e-04, 3.16957303e-04, 3.13690194e-04, 3.10589006e-04,\n",
       "       3.08735820e-04, 3.05705471e-04, 3.01073916e-04, 3.00924876e-04,\n",
       "       2.98955158e-04, 2.95811798e-04, 2.93787685e-04, 2.90291937e-04,\n",
       "       2.89481599e-04, 2.83776928e-04, 2.82586814e-04, 2.81458459e-04,\n",
       "       2.79658445e-04, 2.78458348e-04, 2.76146689e-04, 2.69427605e-04,\n",
       "       2.66728603e-04, 2.63809139e-04, 2.60854111e-04, 2.59330089e-04,\n",
       "       2.56089290e-04, 2.54944083e-04, 2.52278376e-04, 2.50591052e-04,\n",
       "       2.48871540e-04, 2.46464158e-04, 2.41955568e-04, 2.39417845e-04,\n",
       "       2.38356559e-04, 2.36091335e-04, 2.33837505e-04, 2.30504302e-04,\n",
       "       2.28634162e-04, 2.27781624e-04, 2.25261479e-04, 2.23600393e-04,\n",
       "       2.23294846e-04, 2.21825961e-04, 2.19356807e-04, 2.17087669e-04,\n",
       "       2.16065062e-04, 2.13988023e-04, 2.10793078e-04, 2.07883058e-04,\n",
       "       2.06989949e-04, 2.04100739e-04, 2.02325493e-04, 2.00833194e-04,\n",
       "       2.00665992e-04, 1.97534289e-04, 1.96661262e-04, 1.94585111e-04,\n",
       "       1.92366235e-04, 1.92138308e-04, 1.89991581e-04, 1.88649195e-04,\n",
       "       1.87306330e-04, 1.85534896e-04, 1.85178025e-04, 1.81233991e-04,\n",
       "       1.80777890e-04, 1.76527654e-04, 1.75873211e-04, 1.74418528e-04,\n",
       "       1.73250781e-04, 1.72342639e-04, 1.71292748e-04, 1.69098508e-04,\n",
       "       1.68608778e-04, 1.67680540e-04, 1.65088131e-04, 1.62873082e-04,\n",
       "       1.61785589e-04, 1.60211173e-04, 1.58208320e-04, 1.57508650e-04,\n",
       "       1.56192298e-04, 1.55175949e-04, 1.53905479e-04, 1.52669483e-04,\n",
       "       1.51610730e-04, 1.50998632e-04, 1.50006206e-04, 1.48598032e-04,\n",
       "       1.47278115e-04, 1.46184306e-04, 1.45009297e-04, 1.43867903e-04,\n",
       "       1.42810444e-04, 1.41155440e-04, 1.39607320e-04, 1.37513474e-04,\n",
       "       1.36896357e-04, 1.35781665e-04, 1.34866277e-04, 1.34139496e-04,\n",
       "       1.33525027e-04, 1.31944427e-04, 1.30279877e-04, 1.28930857e-04,\n",
       "       1.27902153e-04, 1.27516701e-04, 1.26759624e-04, 1.25373524e-04,\n",
       "       1.24407190e-04, 1.23574442e-04, 1.22233527e-04, 1.20735225e-04,\n",
       "       1.20276687e-04, 1.19662778e-04, 1.18426629e-04, 1.18326156e-04,\n",
       "       1.16873052e-04, 1.15263363e-04, 1.14249538e-04, 1.13933245e-04,\n",
       "       1.13346978e-04, 1.11450507e-04, 1.10584042e-04, 1.09991939e-04,\n",
       "       1.09702225e-04, 1.09169829e-04, 1.07902306e-04, 1.06440697e-04,\n",
       "       1.05110186e-04, 1.04751940e-04, 1.04131534e-04, 1.03370163e-04,\n",
       "       1.02543789e-04, 9.99197218e-05, 9.96325398e-05, 9.88296451e-05,\n",
       "       9.82028723e-05, 9.69750836e-05, 9.52007103e-05, 9.47636800e-05,\n",
       "       9.39046586e-05, 9.32698895e-05, 9.24147316e-05, 9.21984029e-05,\n",
       "       9.08951915e-05, 8.93674223e-05, 8.92915341e-05, 8.89545918e-05,\n",
       "       8.83647372e-05, 8.70499061e-05, 8.60982036e-05, 8.53137608e-05,\n",
       "       8.46167677e-05, 8.42604059e-05, 8.34087332e-05, 8.28685370e-05,\n",
       "       8.25986499e-05, 8.12778599e-05, 7.97698158e-05, 7.91341809e-05,\n",
       "       7.83690048e-05, 7.75132430e-05, 7.61931078e-05, 7.60380572e-05,\n",
       "       7.49431929e-05, 7.44625358e-05, 7.36760921e-05, 7.28450759e-05,\n",
       "       7.27382649e-05, 7.19561649e-05, 7.08148436e-05, 7.05545390e-05,\n",
       "       7.01327153e-05, 6.87888823e-05, 6.80256271e-05, 6.72128299e-05,\n",
       "       6.61309241e-05, 6.59313737e-05, 6.56986522e-05, 6.41804218e-05,\n",
       "       6.27441623e-05, 6.22472508e-05, 6.19334896e-05, 6.10737334e-05,\n",
       "       6.04377055e-05, 5.97289254e-05, 5.92421129e-05, 5.84266818e-05,\n",
       "       5.79306252e-05, 5.65411246e-05, 5.56997147e-05, 5.53318932e-05,\n",
       "       5.49076321e-05, 5.42157795e-05, 5.36384396e-05, 5.34417486e-05,\n",
       "       5.27114134e-05, 5.20100621e-05, 5.18408560e-05, 5.06472497e-05,\n",
       "       5.00688875e-05, 4.95955355e-05, 4.92290346e-05, 4.91983446e-05,\n",
       "       4.85924247e-05, 4.75995002e-05, 4.65975536e-05, 4.60302399e-05,\n",
       "       4.58232425e-05, 4.50706539e-05, 4.49099934e-05, 4.44695033e-05,\n",
       "       4.40812619e-05, 4.34167232e-05, 4.25454455e-05, 4.18741292e-05,\n",
       "       4.17187439e-05, 4.10673565e-05, 4.05698120e-05, 3.96655414e-05,\n",
       "       3.91233043e-05, 3.90574278e-05, 3.83874903e-05, 3.79234589e-05,\n",
       "       3.77401702e-05, 3.66215936e-05, 3.63615618e-05, 3.57699791e-05,\n",
       "       3.53472606e-05, 3.50653681e-05, 3.47607674e-05, 3.40054758e-05,\n",
       "       3.36206140e-05, 3.32249874e-05, 3.27280104e-05, 3.18510720e-05,\n",
       "       3.16727892e-05, 3.12707634e-05, 3.08049566e-05, 3.06560141e-05,\n",
       "       3.00191114e-05, 2.93384819e-05, 2.88419924e-05, 2.85982787e-05,\n",
       "       2.79261167e-05, 2.74965187e-05, 2.70559231e-05, 2.65290400e-05,\n",
       "       2.63444581e-05, 2.60691377e-05, 2.57481406e-05, 2.47855260e-05,\n",
       "       2.46556629e-05, 2.44580606e-05, 2.39228393e-05, 2.35713032e-05,\n",
       "       2.32033290e-05, 2.28147692e-05, 2.25204531e-05, 2.21785976e-05,\n",
       "       2.19962094e-05, 2.16723129e-05, 2.13216645e-05, 2.08086440e-05,\n",
       "       2.07399862e-05, 2.04940043e-05, 2.01737039e-05, 1.96784767e-05,\n",
       "       1.94282457e-05, 1.90144510e-05, 1.84102701e-05, 1.81808773e-05,\n",
       "       1.77527727e-05, 1.76636295e-05, 1.73172339e-05, 1.69430859e-05,\n",
       "       1.68917704e-05, 1.66324189e-05, 1.63093282e-05, 1.61913922e-05,\n",
       "       1.60939908e-05, 1.59329647e-05, 1.52701468e-05, 1.49837824e-05,\n",
       "       1.47230303e-05, 1.41270320e-05, 1.35539894e-05, 1.35430191e-05,\n",
       "       1.32996875e-05, 1.30593817e-05, 1.27911426e-05, 1.23360333e-05,\n",
       "       1.21624962e-05, 1.17370992e-05, 1.16164629e-05, 1.14479735e-05,\n",
       "       1.11360896e-05, 1.10212732e-05, 1.07556871e-05, 1.04398650e-05,\n",
       "       1.03872098e-05, 9.90808439e-06, 9.86489340e-06, 9.70707788e-06,\n",
       "       9.34098080e-06, 9.09976643e-06, 9.02005195e-06, 8.69631458e-06,\n",
       "       8.56378392e-06, 8.35703304e-06, 8.28732846e-06, 8.23926166e-06,\n",
       "       8.16300235e-06, 7.90459399e-06, 7.76083471e-06, 7.69628332e-06,\n",
       "       7.46025580e-06, 7.29965996e-06, 7.19982563e-06, 7.06549281e-06,\n",
       "       6.95291556e-06, 6.77562093e-06, 6.56856810e-06, 6.50603943e-06,\n",
       "       6.42279019e-06, 6.34715752e-06, 6.20751780e-06, 5.97240887e-06,\n",
       "       5.91522303e-06, 5.64735410e-06, 5.35603795e-06, 5.22112623e-06,\n",
       "       5.18345587e-06, 4.91644278e-06, 4.84081511e-06, 4.58211844e-06,\n",
       "       4.50780863e-06, 4.44541229e-06, 4.37422750e-06, 4.30849741e-06,\n",
       "       4.22948915e-06, 4.15935710e-06, 4.02609976e-06, 3.86650072e-06,\n",
       "       3.70086150e-06, 3.57675526e-06, 3.50379514e-06, 3.38169866e-06,\n",
       "       3.35958225e-06, 3.08984954e-06, 3.05448930e-06, 2.96238500e-06,\n",
       "       2.86997283e-06, 2.84347175e-06, 2.79440792e-06, 2.70715759e-06,\n",
       "       2.68884014e-06, 2.67046562e-06, 2.57158149e-06, 2.52364839e-06,\n",
       "       2.43345130e-06, 2.42099622e-06, 2.34350887e-06, 2.30043452e-06,\n",
       "       2.22145422e-06, 2.21291634e-06, 2.12282816e-06, 2.07566745e-06,\n",
       "       2.00475984e-06, 1.99490455e-06, 1.98460020e-06, 1.88218451e-06,\n",
       "       1.84890825e-06, 1.79788344e-06, 1.76439062e-06, 1.74060096e-06,\n",
       "       1.53607959e-06, 1.52611847e-06, 1.49515199e-06, 1.48198626e-06,\n",
       "       1.44048124e-06, 1.23183327e-06, 1.21771620e-06, 1.17838204e-06,\n",
       "       1.16154308e-06, 1.09217081e-06, 1.08336496e-06, 1.06452080e-06,\n",
       "       9.52406481e-07, 9.35714525e-07, 9.12902522e-07, 8.50963943e-07,\n",
       "       8.29788121e-07, 8.15725798e-07, 8.04359843e-07, 7.37549954e-07,\n",
       "       7.15633291e-07, 7.02463240e-07, 7.00745545e-07, 6.58048293e-07,\n",
       "       6.55216866e-07, 6.35296260e-07, 5.64689117e-07, 5.11223050e-07,\n",
       "       5.06506410e-07, 4.84965085e-07, 4.71962238e-07, 4.27058126e-07,\n",
       "       4.21295510e-07, 4.11708385e-07, 4.08991014e-07, 3.80704222e-07,\n",
       "       3.60639149e-07, 3.44034362e-07, 3.24277238e-07, 3.20040300e-07,\n",
       "       3.08968623e-07, 3.05079539e-07, 3.00157581e-07, 2.84862608e-07,\n",
       "       2.82602599e-07, 2.80391333e-07, 2.32431574e-07, 2.29060717e-07,\n",
       "       2.26673492e-07, 2.18317808e-07, 2.16453486e-07, 2.04814839e-07,\n",
       "       1.93779101e-07, 1.82112927e-07, 1.80431769e-07, 1.73400920e-07,\n",
       "       1.62200692e-07, 1.44382952e-07, 1.40927597e-07, 1.31974858e-07,\n",
       "       1.12709706e-07, 1.06288454e-07, 9.96772940e-08, 9.23315255e-08,\n",
       "       8.82532021e-08, 8.20599979e-08, 8.17089898e-08, 6.89003059e-08,\n",
       "       6.53104948e-08, 6.39561222e-08, 6.06608168e-08, 5.18143288e-08,\n",
       "       4.87818070e-08, 4.44018973e-08, 4.33747793e-08, 3.98168680e-08,\n",
       "       3.72063518e-08, 2.93542737e-08, 2.56044039e-08, 2.25053647e-08,\n",
       "       2.17953922e-08, 2.15248104e-08, 2.08252064e-08, 1.99143741e-08,\n",
       "       9.24630061e-09, 8.73099815e-09, 7.26413907e-09, 2.67472799e-09,\n",
       "       1.94935823e-09, 1.35712352e-09, 8.24387225e-10, 5.95777538e-10,\n",
       "       5.11174936e-10, 7.80511697e-11, 5.68488520e-11, 3.43028714e-15,\n",
       "       1.55147192e-15, 1.06708755e-15, 9.09747267e-16, 2.99919146e-16,\n",
       "       2.29008751e-16, 2.26745717e-16, 2.26745717e-16, 2.26745717e-16,\n",
       "       2.26745717e-16, 2.26745717e-16, 2.26745717e-16, 2.26745717e-16,\n",
       "       2.26745717e-16, 2.26745717e-16, 2.26745717e-16, 2.26745717e-16,\n",
       "       2.26745717e-16, 2.26745717e-16, 2.26745717e-16, 2.26745717e-16,\n",
       "       2.26745717e-16, 2.26745717e-16, 2.26745717e-16, 2.26745717e-16,\n",
       "       2.26745717e-16, 2.26745717e-16, 2.26745717e-16, 2.26745717e-16,\n",
       "       2.26745717e-16, 2.26745717e-16, 2.26745717e-16, 2.26745717e-16,\n",
       "       2.26745717e-16, 2.26745717e-16, 2.26745717e-16, 2.26745717e-16,\n",
       "       2.26745717e-16, 2.26745717e-16, 2.26745717e-16, 2.26745717e-16,\n",
       "       2.26745717e-16, 2.26745717e-16, 2.26745717e-16, 2.26745717e-16,\n",
       "       2.26745717e-16, 2.26745717e-16, 2.26745717e-16, 2.26745717e-16,\n",
       "       2.26745717e-16, 2.26745717e-16, 2.26745717e-16, 2.26745717e-16,\n",
       "       2.26745717e-16, 2.26745717e-16, 2.26745717e-16, 2.26745717e-16,\n",
       "       2.26745717e-16, 2.26745717e-16, 2.26745717e-16, 2.26745717e-16,\n",
       "       2.26745717e-16, 2.26745717e-16, 2.26745717e-16, 2.26745717e-16,\n",
       "       2.26745717e-16, 2.26745717e-16, 2.26745717e-16, 2.26745717e-16,\n",
       "       2.26745717e-16, 2.26745717e-16, 2.26745717e-16, 2.26745717e-16,\n",
       "       2.26745717e-16, 2.26745717e-16, 2.26745717e-16, 2.26745717e-16,\n",
       "       2.26745717e-16, 2.26745717e-16, 2.26745717e-16, 2.26745717e-16,\n",
       "       2.26745717e-16, 2.26745717e-16, 2.26745717e-16, 2.26745717e-16,\n",
       "       2.26745717e-16, 2.26745717e-16, 2.26745717e-16, 2.26745717e-16,\n",
       "       2.26745717e-16, 2.26745717e-16, 2.26745717e-16, 2.26745717e-16,\n",
       "       2.26745717e-16, 2.26745717e-16, 2.26745717e-16, 2.26745717e-16,\n",
       "       2.26745717e-16, 2.26745717e-16, 2.26745717e-16, 2.26745717e-16,\n",
       "       2.26745717e-16, 2.26745717e-16, 2.26745717e-16, 2.26745717e-16,\n",
       "       2.26745717e-16, 2.26745717e-16, 2.26745717e-16, 2.26745717e-16,\n",
       "       2.26745717e-16, 2.26745717e-16, 2.26745717e-16, 2.26745717e-16,\n",
       "       2.26745717e-16, 2.26745717e-16, 2.26745717e-16, 2.26745717e-16,\n",
       "       2.26745717e-16, 2.26745717e-16, 2.26745717e-16, 2.26745717e-16,\n",
       "       2.26745717e-16, 2.26745717e-16, 2.26745717e-16, 2.26745717e-16,\n",
       "       2.26745717e-16, 2.26745717e-16, 2.26745717e-16, 2.26745717e-16,\n",
       "       2.26745717e-16, 2.26745717e-16, 2.26745717e-16, 2.26745717e-16,\n",
       "       2.26745717e-16, 2.26745717e-16, 2.26745717e-16, 2.26745717e-16,\n",
       "       2.26745717e-16, 2.23297949e-16, 1.09878815e-16, 2.88310428e-17],\n",
       "      dtype=float32)"
      ]
     },
     "execution_count": 119,
     "metadata": {},
     "output_type": "execute_result"
    }
   ],
   "source": [
    "pca.explained_variance_ratio_"
   ]
  },
  {
   "cell_type": "code",
   "execution_count": 115,
   "id": "2261d333",
   "metadata": {},
   "outputs": [
    {
     "data": {
      "image/png": "[encoded data removed]",
      "text/plain": [
       "<Figure size 432x288 with 1 Axes>"
      ]
     },
     "metadata": {
      "needs_background": "light"
     },
     "output_type": "display_data"
    }
   ],
   "source": [
    "plt.plot( pca.explained_variance_ratio_, 'o--' )\n",
    "plt.ylabel( 'Explained Variance' )\n",
    "plt.xlabel( 'Principal Component #' )\n",
    "plt.show()"
   ]
  },
  {
   "cell_type": "code",
   "execution_count": 118,
   "id": "b8eb6b1e",
   "metadata": {},
   "outputs": [
    {
     "data": {
      "image/png": "[encoded data removed]",
      "text/plain": [
       "<Figure size 432x288 with 1 Axes>"
      ]
     },
     "metadata": {
      "needs_background": "light"
     },
     "output_type": "display_data"
    }
   ],
   "source": [
    "plt.plot( pca.explained_variance_ratio_[0:30], 'o--' ) # showing top 30 percent\n",
    "plt.ylabel( 'Explained Variance' )\n",
    "plt.xlabel( 'Principal Component #' )\n",
    "plt.show()"
   ]
  },
  {
   "cell_type": "markdown",
   "id": "7a91498a",
   "metadata": {},
   "source": [
    "### choosing the right PCs"
   ]
  },
  {
   "cell_type": "code",
   "execution_count": 164,
   "id": "18881c70",
   "metadata": {},
   "outputs": [],
   "source": [
    "cumsum = np.cumsum(pca.explained_variance_ratio_)\n",
    "d = np.argmax(cumsum >= 0.80) + 1"
   ]
  },
  {
   "cell_type": "code",
   "execution_count": 165,
   "id": "e13da963",
   "metadata": {},
   "outputs": [
    {
     "data": {
      "text/plain": [
       "34"
      ]
     },
     "execution_count": 165,
     "metadata": {},
     "output_type": "execute_result"
    }
   ],
   "source": [
    "d"
   ]
  },
  {
   "cell_type": "markdown",
   "id": "8246d39b",
   "metadata": {},
   "source": [
    "There is also another option that to choose the PCs at elbow point (the explained variance stops growing fast): \n",
    "\n",
    "<p><img src=\"pca_elbow.jpg\" width=\"500\" height=\"100\" align=\"center\"></p>"
   ]
  },
  {
   "cell_type": "markdown",
   "id": "1470540e",
   "metadata": {},
   "source": [
    "### visualization \n",
    "As a __dimensionality reduction__, we can choose only the first two principal components. To perform the dimension reduction, use `transform()` method"
   ]
  },
  {
   "cell_type": "code",
   "execution_count": 127,
   "id": "b1756505",
   "metadata": {},
   "outputs": [],
   "source": [
    "# to project the matrix on the previous extracted principal components\n",
    "train_x_pca = pca.transform(train_x) "
   ]
  },
  {
   "cell_type": "code",
   "execution_count": 144,
   "id": "6af70ef2",
   "metadata": {},
   "outputs": [
    {
     "data": {
      "image/png": "[encoded data removed]",
      "text/plain": [
       "<Figure size 432x288 with 1 Axes>"
      ]
     },
     "metadata": {
      "needs_background": "light"
     },
     "output_type": "display_data"
    }
   ],
   "source": [
    "index1 = (train_y_label == 1)\n",
    "index5 = (train_y_label == 5)\n",
    "\n",
    "plt.plot( train_x_pca[index1,0], \n",
    "         train_x_pca[index1,1], 's', color='r' ) \n",
    "plt.plot( train_x_pca[index5,0], \n",
    "         train_x_pca[index5,1], 'o', color='b' ) \n",
    "\n",
    "plt.xlabel('PCA 1')\n",
    "plt.ylabel('PCA 2')\n",
    "\n",
    "plt.show()"
   ]
  },
  {
   "cell_type": "markdown",
   "id": "170f1010",
   "metadata": {},
   "source": [
    "**We can apply any other machine learning methods we learned in this workshop on the data with the reduced dimension.**"
   ]
  },
  {
   "cell_type": "code",
   "execution_count": 145,
   "id": "bb69fc2e",
   "metadata": {},
   "outputs": [
    {
     "data": {
      "text/plain": [
       "RandomForestClassifier(max_depth=5)"
      ]
     },
     "execution_count": 145,
     "metadata": {},
     "output_type": "execute_result"
    }
   ],
   "source": [
    "from sklearn.ensemble import RandomForestClassifier\n",
    "\n",
    "clf = RandomForestClassifier(n_estimators = 100, max_depth = 5)\n",
    "clf.fit(train_x_pca[:, :2], train_y_label)"
   ]
  },
  {
   "cell_type": "code",
   "execution_count": 148,
   "id": "fb13c066",
   "metadata": {},
   "outputs": [
    {
     "data": {
      "text/plain": [
       "0.9276381909547738"
      ]
     },
     "execution_count": 148,
     "metadata": {},
     "output_type": "execute_result"
    }
   ],
   "source": [
    "test_x_pca = pca.transform( test_x )\n",
    "clf.score(test_x_pca[:,:2], test_y_label)"
   ]
  },
  {
   "cell_type": "markdown",
   "id": "6623ff28",
   "metadata": {},
   "source": [
    "<a id='kmeans'></a>\n",
    "# 5. Clustering (K-means)"
   ]
  },
  {
   "cell_type": "markdown",
   "id": "5a9dc1b1",
   "metadata": {},
   "source": [
    " Because we know there are three digits in this dataset, let's make an educated guess and use $K=3$ (i.e., we will set the parameter ```n_clusters``` to 3)."
   ]
  },
  {
   "cell_type": "code",
   "execution_count": 149,
   "id": "ae497ba9",
   "metadata": {},
   "outputs": [
    {
     "data": {
      "text/plain": [
       "KMeans(n_clusters=3)"
      ]
     },
     "execution_count": 149,
     "metadata": {},
     "output_type": "execute_result"
    }
   ],
   "source": [
    "from sklearn.cluster import KMeans\n",
    "kmeans = KMeans( n_clusters=3 )\n",
    "kmeans.fit( train_x )"
   ]
  },
  {
   "cell_type": "markdown",
   "id": "3fbcfb84",
   "metadata": {},
   "source": [
    "After the K-means method is applied to the dataset, we can then get the ID of the clusters to which each of the samples is predicted to belong to by using the method ```predict```. "
   ]
  },
  {
   "cell_type": "code",
   "execution_count": 150,
   "id": "d9b227c4",
   "metadata": {},
   "outputs": [
    {
     "name": "stdout",
     "output_type": "stream",
     "text": [
      "Shape:  (16583,)\n",
      "Cluster IDs:  [0 1 1 ... 1 2 0]\n"
     ]
    }
   ],
   "source": [
    "clusters = kmeans.predict( train_x )\n",
    "print( \"Shape: \", clusters.shape )\n",
    "print( \"Cluster IDs: \", clusters )"
   ]
  },
  {
   "cell_type": "markdown",
   "id": "6a37bd4d",
   "metadata": {},
   "source": [
    "Let's visualize the resulting clustering by color-coding each cluster ID. This is very similar to how we color-coded different classes in classification datasets."
   ]
  },
  {
   "cell_type": "code",
   "execution_count": 151,
   "id": "b5d168e9",
   "metadata": {},
   "outputs": [],
   "source": [
    "km_index0 = clusters == 0\n",
    "km_index1 = clusters == 1\n",
    "km_index2 = clusters == 2"
   ]
  },
  {
   "cell_type": "code",
   "execution_count": 157,
   "id": "645b3baf",
   "metadata": {},
   "outputs": [
    {
     "data": {
      "image/png": "[encoded data removed]",
      "text/plain": [
       "<Figure size 432x288 with 1 Axes>"
      ]
     },
     "metadata": {
      "needs_background": "light"
     },
     "output_type": "display_data"
    }
   ],
   "source": [
    "plt.plot( train_x_pca[km_index0,0], train_x_pca[km_index0,1], \n",
    "            'o', color='b', markersize=4 )\n",
    "plt.plot( train_x_pca[km_index1,0], train_x_pca[km_index1,1], \n",
    "            'o', color='k', markersize=4 )\n",
    "plt.plot( train_x_pca[km_index2,0], train_x_pca[km_index2,1], \n",
    "            'o', color='r', markersize=4 )\n",
    "\n",
    "plt.xlabel('PC2')\n",
    "plt.ylabel('PC1')\n",
    "\n",
    "plt.show()"
   ]
  },
  {
   "cell_type": "markdown",
   "id": "cc456b76",
   "metadata": {},
   "source": [
    "If K is not known, one might need to use `silhouette_score` to find the most potential Ks, for more information, please refer to [link](https://scikit-learn.org/stable/modules/generated/sklearn.metrics.silhouette_score.html)"
   ]
  },
  {
   "cell_type": "code",
   "execution_count": 158,
   "id": "5b6947aa",
   "metadata": {},
   "outputs": [],
   "source": [
    "from sklearn.metrics import silhouette_score\n",
    "\n",
    "sil = []\n",
    "kmax = 5\n",
    "\n",
    "# dissimilarity would not be defined for a single cluster, thus, minimum number of clusters should be 2\n",
    "for k in range(2, kmax+1):\n",
    "    kmeans= KMeans(n_clusters = k).fit(train_x)\n",
    "    sil.append(silhouette_score(train_x, kmeans.labels_, metric = 'euclidean'))"
   ]
  },
  {
   "cell_type": "code",
   "execution_count": 161,
   "id": "2fa1d278",
   "metadata": {},
   "outputs": [
    {
     "data": {
      "image/png": "[encoded data removed]",
      "text/plain": [
       "<Figure size 432x288 with 1 Axes>"
      ]
     },
     "metadata": {
      "needs_background": "light"
     },
     "output_type": "display_data"
    }
   ],
   "source": [
    "plt.plot(range(2, kmax+1), sil, 'o--' )\n",
    "plt.ylabel( 'silhouette_score' )\n",
    "plt.xlabel( 'k' )\n",
    "plt.show()"
   ]
  },
  {
   "cell_type": "code",
   "execution_count": 160,
   "id": "25e1538f",
   "metadata": {},
   "outputs": [
    {
     "data": {
      "text/plain": [
       "[0.13673966, 0.16030036, 0.1046115, 0.119233206]"
      ]
     },
     "execution_count": 160,
     "metadata": {},
     "output_type": "execute_result"
    }
   ],
   "source": [
    "sil"
   ]
  },
  {
   "cell_type": "code",
   "execution_count": null,
   "id": "6e8a0b53",
   "metadata": {},
   "outputs": [],
   "source": []
  }
 ],
 "metadata": {
  "kernelspec": {
   "display_name": "Python 3 (ipykernel)",
   "language": "python",
   "name": "python3"
  },
  "language_info": {
   "codemirror_mode": {
    "name": "ipython",
    "version": 3
   },
   "file_extension": ".py",
   "mimetype": "text/x-python",
   "name": "python",
   "nbconvert_exporter": "python",
   "pygments_lexer": "ipython3",
   "version": "3.8.8"
  },
  "vp": {
   "vp_config_version": "1.0.0",
   "vp_menu_width": 273,
   "vp_note_display": false,
   "vp_note_width": 0,
   "vp_position": {
    "width": 278
   },
   "vp_section_display": false,
   "vp_signature": "VisualPython"
  }
 },
 "nbformat": 4,
 "nbformat_minor": 5
}
