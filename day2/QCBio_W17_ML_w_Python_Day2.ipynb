{
 "cells": [
  {
   "cell_type": "markdown",
   "id": "60f0af7f",
   "metadata": {},
   "source": [
    "<p><img src=\"../slides/qcb-logo.png\" width=\"215\" height=\"100\" align=\"right\"></p>\n",
    "\n",
    "# QCBio workshop: Machine Learning With Python -- Day2\n",
    "\n",
    "Wenbin Guo\n",
    "\n",
    "Hello, this is the notebook for UCLA QCBio Collaboratory workshop: Machine Learning with Python.\n",
    "\n",
    "- Workshop github repository [link](https://github.com/wbvguo/qcbio-ML_w_Python.git)\n",
    "- Workshop registration [website](https://qcb.ucla.edu/collaboratory/workshops/w17-machine-learning-with-python/)\n",
    "\n",
    "\n",
    "### Credits\n",
    "Thanks Dr. Seyoon Ko and previous Collaboratory fellow Dr. Thiago S Mosqueiro and Dr. Renaud Dessalles for some supporting materials\n",
    "\n",
    "### Goals of this notebook tutorial\n",
    "- try different supervised learning algorithms for 2 classification problems\n",
    "- tune hyperparameters with cross validation\n",
    "- understand underfitting and overfitting\n",
    "\n",
    "\n",
    "\n",
    "### Table of Contents\n",
    "[1. Preparation](#preparation)    \n",
    "&nbsp; &nbsp; [1.1 scikit-learn Design](#sklearn_design)    \n",
    "&nbsp; &nbsp; [1.2 import packages](#import_packages)    \n",
    "&nbsp; &nbsp; [1.3 data preparation](#data_preparation)    \n",
    "[2. Classification](#classification)    \n",
    "&nbsp; &nbsp; [2.1 Logistic regression](#log_reg)    \n",
    "&nbsp; &nbsp; [2.2 Support vector machines](#svm)  \n",
    "&nbsp; &nbsp; [2.3 Naive bayes](#nb)   \n",
    "&nbsp; &nbsp; [2.4 K-nearest neighbor](#knn)   \n",
    "&nbsp; &nbsp; [2.5 Decision trees](#decision_tree)   \n",
    "&nbsp; &nbsp; [2.6 Random forest](#randomforest)   \n",
    "&nbsp; &nbsp; [2.7 XGBoost](#xgboost)   \n",
    "&nbsp; &nbsp; [2.8 Neural network](#nn)   \n",
    "[3. An linearly nonseparable example](#linear_nonseparable)   \n",
    "&nbsp; &nbsp; [3.1 logistic regression: underfit](#log_reg_underfit)   \n",
    "&nbsp; &nbsp; [3.2 Decision tree: overfit](#decision_tree_overfit)  \n",
    "&nbsp; &nbsp; [3.3 SVM: tune parameters](#svm_tune_para)  \n",
    "&nbsp; &nbsp; [3.4 Tuning Hyperparameters with validation set](#hyperparameter_val)"
   ]
  },
  {
   "cell_type": "markdown",
   "id": "05b99284",
   "metadata": {},
   "source": [
    "<a id='preparation'></a>\n",
    "# 1. Preparation"
   ]
  },
  {
   "cell_type": "markdown",
   "id": "c6f7041c",
   "metadata": {},
   "source": [
    "<a id='import_packages'></a>\n",
    "## 1.1 import packages"
   ]
  },
  {
   "cell_type": "code",
   "execution_count": 1,
   "id": "a50bae82",
   "metadata": {
    "ExecuteTime": {
     "end_time": "2023-04-19T15:32:42.885647Z",
     "start_time": "2023-04-19T15:32:38.872098Z"
    }
   },
   "outputs": [
    {
     "data": {
      "text/html": [
       "\n",
       "    <script>\n",
       "    function code_toggle() {\n",
       "        if ($('div.cell.code_cell.rendered.selected div.input').css('display')!='none'){\n",
       "            $('div.cell.code_cell.rendered.selected div.input').hide();\n",
       "        } else {\n",
       "            $('div.cell.code_cell.rendered.selected div.input').show();\n",
       "        }\n",
       "    }\n",
       "    </script>\n",
       "\n",
       "\n",
       "<form action=\"javascript:code_toggle()\"><input type=\"submit\" id=\"toggleButton\" value=\"Show Sloution\"></form>\n"
      ],
      "text/plain": [
       "<IPython.core.display.HTML object>"
      ]
     },
     "metadata": {},
     "output_type": "display_data"
    }
   ],
   "source": [
    "import sklearn\n",
    "import numpy as np\n",
    "import matplotlib.pyplot as plt\n",
    "from toggle_cell import toggle_code as hide_solution # for teaching"
   ]
  },
  {
   "cell_type": "markdown",
   "id": "64c92a36",
   "metadata": {},
   "source": [
    "<a id='data_preparation'></a>\n",
    "## 1.2 data preparation"
   ]
  },
  {
   "cell_type": "markdown",
   "id": "2750243f",
   "metadata": {},
   "source": [
    "### load data"
   ]
  },
  {
   "cell_type": "code",
   "execution_count": 2,
   "id": "14873bd3",
   "metadata": {
    "ExecuteTime": {
     "end_time": "2023-04-19T15:32:43.239770Z",
     "start_time": "2023-04-19T15:32:42.889102Z"
    }
   },
   "outputs": [],
   "source": [
    "from sklearn.datasets import load_breast_cancer\n",
    "bcancer = load_breast_cancer()"
   ]
  },
  {
   "cell_type": "code",
   "execution_count": 3,
   "id": "95722bf0",
   "metadata": {
    "ExecuteTime": {
     "end_time": "2023-04-19T15:32:43.249909Z",
     "start_time": "2023-04-19T15:32:43.242625Z"
    }
   },
   "outputs": [
    {
     "data": {
      "text/plain": [
       "(569, 30)"
      ]
     },
     "execution_count": 3,
     "metadata": {},
     "output_type": "execute_result"
    }
   ],
   "source": [
    "bcancer.data.shape"
   ]
  },
  {
   "cell_type": "code",
   "execution_count": 4,
   "id": "cfa2cc96",
   "metadata": {
    "ExecuteTime": {
     "end_time": "2023-04-19T15:32:43.258620Z",
     "start_time": "2023-04-19T15:32:43.252632Z"
    }
   },
   "outputs": [
    {
     "data": {
      "text/plain": [
       "(569,)"
      ]
     },
     "execution_count": 4,
     "metadata": {},
     "output_type": "execute_result"
    }
   ],
   "source": [
    "bcancer.target.shape"
   ]
  },
  {
   "cell_type": "markdown",
   "id": "98958f04",
   "metadata": {},
   "source": [
    "### split data\n",
    "Before doing anyting, it is a good practice to split the dataset into training set and test set. \n",
    "\n",
    "- training set (learning set): used to fit the machine learning model.\n",
    "- test set: used to evaluate the trained model  (how well the model generalized to new data), it **shall not be used in training** by any means\n",
    "    \n",
    "<div>\n",
    "<img src=\"train_test.png\" width=\"500\"/>\n",
    "</div>\n",
    "\n",
    "\n",
    "sklearn provide an convinient way to split your data into training and test set by using `train_test_split`"
   ]
  },
  {
   "cell_type": "code",
   "execution_count": 5,
   "id": "2b3aa10c",
   "metadata": {
    "ExecuteTime": {
     "end_time": "2023-04-19T15:32:43.383917Z",
     "start_time": "2023-04-19T15:32:43.261336Z"
    }
   },
   "outputs": [],
   "source": [
    "from sklearn.model_selection import train_test_split\n",
    "X_train, X_test, y_train, y_test = train_test_split(bcancer.data, bcancer.target, \n",
    "                                                    test_size=0.2, random_state=2022)"
   ]
  },
  {
   "cell_type": "code",
   "execution_count": 6,
   "id": "a67ea9e4",
   "metadata": {
    "ExecuteTime": {
     "end_time": "2023-04-19T15:32:43.393246Z",
     "start_time": "2023-04-19T15:32:43.386433Z"
    }
   },
   "outputs": [
    {
     "data": {
      "text/plain": [
       "(455, 30)"
      ]
     },
     "execution_count": 6,
     "metadata": {},
     "output_type": "execute_result"
    }
   ],
   "source": [
    "X_train.shape"
   ]
  },
  {
   "cell_type": "code",
   "execution_count": 7,
   "id": "658f8d64",
   "metadata": {
    "ExecuteTime": {
     "end_time": "2023-04-19T15:32:43.402079Z",
     "start_time": "2023-04-19T15:32:43.395954Z"
    }
   },
   "outputs": [
    {
     "data": {
      "text/plain": [
       "(455,)"
      ]
     },
     "execution_count": 7,
     "metadata": {},
     "output_type": "execute_result"
    }
   ],
   "source": [
    "y_train.shape"
   ]
  },
  {
   "cell_type": "code",
   "execution_count": 8,
   "id": "487a9696",
   "metadata": {
    "ExecuteTime": {
     "end_time": "2023-04-19T15:32:43.414476Z",
     "start_time": "2023-04-19T15:32:43.409103Z"
    }
   },
   "outputs": [
    {
     "data": {
      "text/plain": [
       "(114,)"
      ]
     },
     "execution_count": 8,
     "metadata": {},
     "output_type": "execute_result"
    }
   ],
   "source": [
    "y_test.shape"
   ]
  },
  {
   "cell_type": "code",
   "execution_count": 9,
   "id": "8b6d10bc",
   "metadata": {
    "ExecuteTime": {
     "end_time": "2023-04-19T15:32:43.422887Z",
     "start_time": "2023-04-19T15:32:43.416580Z"
    }
   },
   "outputs": [
    {
     "data": {
      "text/plain": [
       "(array([0, 1]), array([166, 289]))"
      ]
     },
     "execution_count": 9,
     "metadata": {},
     "output_type": "execute_result"
    }
   ],
   "source": [
    "np.unique(y_train, return_counts=True) "
   ]
  },
  {
   "cell_type": "code",
   "execution_count": 10,
   "id": "25e0373a",
   "metadata": {
    "ExecuteTime": {
     "end_time": "2023-04-19T15:32:43.431874Z",
     "start_time": "2023-04-19T15:32:43.425356Z"
    }
   },
   "outputs": [
    {
     "data": {
      "text/plain": [
       "(array([0, 1]), array([46, 68]))"
      ]
     },
     "execution_count": 10,
     "metadata": {},
     "output_type": "execute_result"
    }
   ],
   "source": [
    "np.unique(y_test, return_counts=True) # imbalanced dataset, more 0 than 1"
   ]
  },
  {
   "cell_type": "code",
   "execution_count": 11,
   "id": "7cf9079f",
   "metadata": {
    "ExecuteTime": {
     "end_time": "2023-04-19T15:32:43.440949Z",
     "start_time": "2023-04-19T15:32:43.434309Z"
    }
   },
   "outputs": [
    {
     "data": {
      "text/plain": [
       "['malignant', 'benign']"
      ]
     },
     "execution_count": 11,
     "metadata": {},
     "output_type": "execute_result"
    }
   ],
   "source": [
    "list(bcancer.target_names)"
   ]
  },
  {
   "cell_type": "markdown",
   "id": "1ea893cc",
   "metadata": {},
   "source": [
    "<a id='sklearn_design'></a>\n",
    "## 1.3 scikit-learn Design"
   ]
  },
  {
   "cell_type": "markdown",
   "id": "738c4afa",
   "metadata": {},
   "source": [
    "Scikit-Learn’s API is remarkably **well designed**. These are the main [design principles](https://arxiv.org/abs/1309.0238):\n",
    "- Consistency: All objects share a consistent and simple interface\n",
    "    - Estimators: object that can estimate some parameters based on a dataset, estimation is performed by `fit()` method, the `fit()` method takes a dataset (or 2 for supervised learning) as a parameter\n",
    "    - Transformer: estimators that transform a dataset, the transformation is performed by `transform()` method\n",
    "    - Predictors: estimator that can make predictions with `predict()` method, it also has a `score()` method that measures the quality of prediction\n",
    "- Inspectation: \n",
    "    - All the estimator’s hyperparameters are accessible directly via public instance variables\n",
    "    - All the estimator’s learned parameters are accessible via public instance variables with an underscore suffix\n",
    "\n",
    "- Compatiblility with other packages: Datasets are represented as NumPy arrays or SciPy sparse matrices\n",
    "- Composition: Existing building blocks are reused as much as possible. For example the `Pipeline` estimator can combine data transformations and final estimator\n",
    "- Reasonable defaults: Scikit-Learn provides reasonable default values for most parameters, making it easy to quickly create a baseline working system\n",
    "- User-friendly websites and great documentation: [website](https://scikit-learn.org/stable/index.html)"
   ]
  },
  {
   "cell_type": "markdown",
   "id": "5c829e27",
   "metadata": {},
   "source": [
    "<a id='classification'></a>\n",
    "# 2. Classification "
   ]
  },
  {
   "cell_type": "markdown",
   "id": "6fce8e67",
   "metadata": {},
   "source": [
    "<a id='log_reg'></a>\n",
    "## 2.1 Logistic regression"
   ]
  },
  {
   "cell_type": "markdown",
   "id": "d17545e2",
   "metadata": {},
   "source": [
    "### model trainng and prediction"
   ]
  },
  {
   "cell_type": "code",
   "execution_count": 12,
   "id": "f417a83b",
   "metadata": {
    "ExecuteTime": {
     "end_time": "2023-04-19T15:32:43.663701Z",
     "start_time": "2023-04-19T15:32:43.443488Z"
    }
   },
   "outputs": [],
   "source": [
    "from sklearn.linear_model import LogisticRegression"
   ]
  },
  {
   "cell_type": "code",
   "execution_count": 13,
   "id": "2adb5e51",
   "metadata": {
    "ExecuteTime": {
     "end_time": "2023-04-19T15:32:43.831083Z",
     "start_time": "2023-04-19T15:32:43.666246Z"
    }
   },
   "outputs": [
    {
     "name": "stderr",
     "output_type": "stream",
     "text": [
      "/home/wbguo/.local/lib/python3.8/site-packages/sklearn/linear_model/_logistic.py:763: ConvergenceWarning: lbfgs failed to converge (status=1):\n",
      "STOP: TOTAL NO. of ITERATIONS REACHED LIMIT.\n",
      "\n",
      "Increase the number of iterations (max_iter) or scale the data as shown in:\n",
      "    https://scikit-learn.org/stable/modules/preprocessing.html\n",
      "Please also refer to the documentation for alternative solver options:\n",
      "    https://scikit-learn.org/stable/modules/linear_model.html#logistic-regression\n",
      "  n_iter_i = _check_optimize_result(\n"
     ]
    },
    {
     "data": {
      "text/plain": [
       "LogisticRegression()"
      ]
     },
     "execution_count": 13,
     "metadata": {},
     "output_type": "execute_result"
    }
   ],
   "source": [
    "log_reg = LogisticRegression()\n",
    "log_reg.fit(X_train, y_train)"
   ]
  },
  {
   "cell_type": "code",
   "execution_count": 14,
   "id": "b113fa64",
   "metadata": {
    "ExecuteTime": {
     "end_time": "2023-04-19T15:32:43.847667Z",
     "start_time": "2023-04-19T15:32:43.833909Z"
    }
   },
   "outputs": [],
   "source": [
    "y_fit  = log_reg.predict(X_train) # for later demonstration\n",
    "y_pred = log_reg.predict(X_test)"
   ]
  },
  {
   "cell_type": "code",
   "execution_count": 15,
   "id": "60a411c2",
   "metadata": {
    "ExecuteTime": {
     "end_time": "2023-04-19T15:32:43.858119Z",
     "start_time": "2023-04-19T15:32:43.850611Z"
    }
   },
   "outputs": [
    {
     "data": {
      "text/plain": [
       "array([1, 1, 1, 1, 1, 1, 0, 0, 0, 0, 0, 0, 0, 0, 1, 1, 1, 1, 0, 1, 1, 1,\n",
       "       1, 1, 0, 1, 1, 1, 0, 1, 1, 1, 0, 1, 1, 0, 0, 1, 0, 1, 1, 0, 0, 1,\n",
       "       0, 1, 0, 1, 0, 0, 1, 0, 1, 1, 0, 0, 1, 1, 1, 1, 0, 1, 1, 0, 1, 1,\n",
       "       1, 1, 1, 1, 1, 0, 1, 1, 0, 1, 0, 1, 0, 1, 1, 1, 0, 1, 1, 0, 0, 0,\n",
       "       1, 0, 1, 0, 1, 1, 0, 1, 1, 1, 1, 1, 0, 1, 0, 0, 1, 1, 1, 0, 0, 1,\n",
       "       1, 1, 0, 1])"
      ]
     },
     "execution_count": 15,
     "metadata": {},
     "output_type": "execute_result"
    }
   ],
   "source": [
    "y_pred"
   ]
  },
  {
   "cell_type": "markdown",
   "id": "5ba77910",
   "metadata": {},
   "source": [
    "### performance measure"
   ]
  },
  {
   "cell_type": "code",
   "execution_count": 16,
   "id": "6b8fb97e",
   "metadata": {
    "ExecuteTime": {
     "end_time": "2023-04-19T15:32:43.874426Z",
     "start_time": "2023-04-19T15:32:43.860927Z"
    }
   },
   "outputs": [
    {
     "data": {
      "text/plain": [
       "array([[153,  10],\n",
       "       [ 13, 279]])"
      ]
     },
     "execution_count": 16,
     "metadata": {},
     "output_type": "execute_result"
    }
   ],
   "source": [
    "from sklearn.metrics import confusion_matrix\n",
    "cm_train = confusion_matrix(y_fit, y_train)\n",
    "cm_train"
   ]
  },
  {
   "cell_type": "code",
   "execution_count": 17,
   "id": "78ec86d0",
   "metadata": {
    "ExecuteTime": {
     "end_time": "2023-04-19T15:32:43.891035Z",
     "start_time": "2023-04-19T15:32:43.877937Z"
    }
   },
   "outputs": [
    {
     "data": {
      "text/plain": [
       "array([[40,  3],\n",
       "       [ 6, 65]])"
      ]
     },
     "execution_count": 17,
     "metadata": {},
     "output_type": "execute_result"
    }
   ],
   "source": [
    "cm_test = confusion_matrix(y_pred, y_test)\n",
    "cm_test"
   ]
  },
  {
   "cell_type": "code",
   "execution_count": 18,
   "id": "ce099f9f",
   "metadata": {
    "ExecuteTime": {
     "end_time": "2023-04-19T15:32:44.317548Z",
     "start_time": "2023-04-19T15:32:43.894541Z"
    }
   },
   "outputs": [
    {
     "data": {
      "image/png": "[encoded data removed]",
      "text/plain": [
       "<Figure size 432x288 with 2 Axes>"
      ]
     },
     "metadata": {
      "needs_background": "light"
     },
     "output_type": "display_data"
    }
   ],
   "source": [
    "from sklearn.metrics import ConfusionMatrixDisplay\n",
    "cm_display = ConfusionMatrixDisplay(cm_test).plot()"
   ]
  },
  {
   "cell_type": "markdown",
   "id": "5c90ac39",
   "metadata": {},
   "source": [
    "Each row in a confusion matrix represents an actual class, while each column represents a predicted class\n",
    "\n",
    "Now let's calculate the `accuracy`, `precision`, `recall`, and `f1 score`"
   ]
  },
  {
   "cell_type": "code",
   "execution_count": 19,
   "id": "6a76d954",
   "metadata": {
    "ExecuteTime": {
     "end_time": "2023-04-19T15:32:44.323719Z",
     "start_time": "2023-04-19T15:32:44.319910Z"
    }
   },
   "outputs": [],
   "source": [
    "from sklearn.metrics import accuracy_score, precision_score, recall_score, f1_score"
   ]
  },
  {
   "cell_type": "code",
   "execution_count": 20,
   "id": "c5c8ce09",
   "metadata": {
    "ExecuteTime": {
     "end_time": "2023-04-19T15:32:44.333478Z",
     "start_time": "2023-04-19T15:32:44.326421Z"
    }
   },
   "outputs": [
    {
     "data": {
      "text/plain": [
       "0.9210526315789473"
      ]
     },
     "execution_count": 20,
     "metadata": {},
     "output_type": "execute_result"
    }
   ],
   "source": [
    "accuracy_score(y_pred, y_test)"
   ]
  },
  {
   "cell_type": "code",
   "execution_count": 21,
   "id": "681feb2e",
   "metadata": {
    "ExecuteTime": {
     "end_time": "2023-04-19T15:32:44.343817Z",
     "start_time": "2023-04-19T15:32:44.335516Z"
    }
   },
   "outputs": [
    {
     "data": {
      "text/plain": [
       "0.9558823529411765"
      ]
     },
     "execution_count": 21,
     "metadata": {},
     "output_type": "execute_result"
    }
   ],
   "source": [
    "precision_score(y_pred, y_test)"
   ]
  },
  {
   "cell_type": "code",
   "execution_count": 22,
   "id": "fdc856ec",
   "metadata": {
    "ExecuteTime": {
     "end_time": "2023-04-19T15:32:44.354328Z",
     "start_time": "2023-04-19T15:32:44.345779Z"
    }
   },
   "outputs": [
    {
     "data": {
      "text/plain": [
       "0.9154929577464789"
      ]
     },
     "execution_count": 22,
     "metadata": {},
     "output_type": "execute_result"
    }
   ],
   "source": [
    "recall_score(y_pred, y_test)"
   ]
  },
  {
   "cell_type": "code",
   "execution_count": 23,
   "id": "5ff62f7a",
   "metadata": {
    "ExecuteTime": {
     "end_time": "2023-04-19T15:32:44.365744Z",
     "start_time": "2023-04-19T15:32:44.356528Z"
    }
   },
   "outputs": [
    {
     "data": {
      "text/plain": [
       "0.9352517985611511"
      ]
     },
     "execution_count": 23,
     "metadata": {},
     "output_type": "execute_result"
    }
   ],
   "source": [
    "f1_score(y_pred, y_test)"
   ]
  },
  {
   "cell_type": "markdown",
   "id": "5d80cb54",
   "metadata": {},
   "source": [
    "### ROC and PR-ROC curve"
   ]
  },
  {
   "cell_type": "code",
   "execution_count": 24,
   "id": "bc1ab505",
   "metadata": {
    "ExecuteTime": {
     "end_time": "2023-04-19T15:32:44.372325Z",
     "start_time": "2023-04-19T15:32:44.367999Z"
    }
   },
   "outputs": [],
   "source": [
    "y_score = log_reg.predict_proba(X_test)\n",
    "# alternatively, you can also use log_reg.decision_function(X_test) to achieve similar results"
   ]
  },
  {
   "cell_type": "code",
   "execution_count": 25,
   "id": "9e38085e",
   "metadata": {
    "ExecuteTime": {
     "end_time": "2023-04-19T15:32:44.385126Z",
     "start_time": "2023-04-19T15:32:44.374883Z"
    }
   },
   "outputs": [
    {
     "data": {
      "text/plain": [
       "array([[3.68211412e-03, 9.96317886e-01],\n",
       "       [2.79658587e-04, 9.99720341e-01],\n",
       "       [2.05515895e-01, 7.94484105e-01],\n",
       "       [1.59371677e-03, 9.98406283e-01],\n",
       "       [2.32660937e-03, 9.97673391e-01],\n",
       "       [2.44208978e-03, 9.97557910e-01],\n",
       "       [9.53517629e-01, 4.64823712e-02],\n",
       "       [9.99999730e-01, 2.70461285e-07],\n",
       "       [7.37880029e-01, 2.62119971e-01],\n",
       "       [1.00000000e+00, 8.31939786e-24],\n",
       "       [1.00000000e+00, 2.07691449e-33],\n",
       "       [9.99499954e-01, 5.00045830e-04],\n",
       "       [9.99875614e-01, 1.24385530e-04],\n",
       "       [9.99994404e-01, 5.59622116e-06],\n",
       "       [5.36361419e-02, 9.46363858e-01],\n",
       "       [6.41317633e-04, 9.99358682e-01],\n",
       "       [7.92587920e-02, 9.20741208e-01],\n",
       "       [1.11886233e-02, 9.88811377e-01],\n",
       "       [5.96794197e-01, 4.03205803e-01],\n",
       "       [3.21894169e-03, 9.96781058e-01],\n",
       "       [2.08961529e-02, 9.79103847e-01],\n",
       "       [4.82916991e-02, 9.51708301e-01],\n",
       "       [8.19244700e-03, 9.91807553e-01],\n",
       "       [2.31390224e-01, 7.68609776e-01],\n",
       "       [6.83119099e-01, 3.16880901e-01],\n",
       "       [2.04842058e-03, 9.97951579e-01],\n",
       "       [3.04034143e-02, 9.69596586e-01],\n",
       "       [3.17824365e-04, 9.99682176e-01],\n",
       "       [9.44614326e-01, 5.53856739e-02],\n",
       "       [1.21809569e-03, 9.98781904e-01],\n",
       "       [9.84369052e-03, 9.90156309e-01],\n",
       "       [1.47928452e-02, 9.85207155e-01],\n",
       "       [9.99999999e-01, 5.90389806e-10],\n",
       "       [1.65741534e-02, 9.83425847e-01],\n",
       "       [4.57697484e-04, 9.99542303e-01],\n",
       "       [9.99820253e-01, 1.79746697e-04],\n",
       "       [9.99997828e-01, 2.17185439e-06],\n",
       "       [3.58138443e-04, 9.99641862e-01],\n",
       "       [9.99999992e-01, 7.62756183e-09],\n",
       "       [2.06174708e-01, 7.93825292e-01],\n",
       "       [1.79670452e-02, 9.82032955e-01],\n",
       "       [9.90809887e-01, 9.19011316e-03],\n",
       "       [9.99994538e-01, 5.46205575e-06],\n",
       "       [3.47892163e-04, 9.99652108e-01],\n",
       "       [9.94666540e-01, 5.33346026e-03],\n",
       "       [4.63935983e-04, 9.99536064e-01],\n",
       "       [1.00000000e+00, 2.09540931e-12],\n",
       "       [2.03386016e-04, 9.99796614e-01],\n",
       "       [1.00000000e+00, 2.54139188e-22],\n",
       "       [1.00000000e+00, 1.03069938e-22],\n",
       "       [4.36724957e-02, 9.56327504e-01],\n",
       "       [9.95389836e-01, 4.61016387e-03],\n",
       "       [1.22113011e-01, 8.77886989e-01],\n",
       "       [8.27349701e-04, 9.99172650e-01],\n",
       "       [1.00000000e+00, 3.91650492e-11],\n",
       "       [9.99992421e-01, 7.57892981e-06],\n",
       "       [3.28003555e-02, 9.67199644e-01],\n",
       "       [5.70372159e-04, 9.99429628e-01],\n",
       "       [2.19050434e-02, 9.78094957e-01],\n",
       "       [5.62779491e-04, 9.99437221e-01],\n",
       "       [1.00000000e+00, 7.50976547e-12],\n",
       "       [2.46414819e-04, 9.99753585e-01],\n",
       "       [7.70489045e-02, 9.22951096e-01],\n",
       "       [9.99987712e-01, 1.22875379e-05],\n",
       "       [3.25037829e-01, 6.74962171e-01],\n",
       "       [1.54700827e-04, 9.99845299e-01],\n",
       "       [7.87226869e-02, 9.21277313e-01],\n",
       "       [1.54921118e-03, 9.98450789e-01],\n",
       "       [7.41783059e-02, 9.25821694e-01],\n",
       "       [1.54534631e-01, 8.45465369e-01],\n",
       "       [7.67025609e-02, 9.23297439e-01],\n",
       "       [9.99999989e-01, 1.12647180e-08],\n",
       "       [9.19642309e-05, 9.99908036e-01],\n",
       "       [2.78304920e-02, 9.72169508e-01],\n",
       "       [9.99567033e-01, 4.32967148e-04],\n",
       "       [9.41163476e-03, 9.90588365e-01],\n",
       "       [9.99674790e-01, 3.25210366e-04],\n",
       "       [4.32941618e-01, 5.67058382e-01],\n",
       "       [9.99997065e-01, 2.93508393e-06],\n",
       "       [1.40607399e-02, 9.85939260e-01],\n",
       "       [1.91658710e-03, 9.98083413e-01],\n",
       "       [9.89353831e-04, 9.99010646e-01],\n",
       "       [9.99999015e-01, 9.85382353e-07],\n",
       "       [5.11397881e-03, 9.94886021e-01],\n",
       "       [2.67677117e-03, 9.97323229e-01],\n",
       "       [9.99999938e-01, 6.15020638e-08],\n",
       "       [9.99999997e-01, 2.94215280e-09],\n",
       "       [9.99999987e-01, 1.34468682e-08],\n",
       "       [6.21113873e-03, 9.93788861e-01],\n",
       "       [1.00000000e+00, 1.19662270e-14],\n",
       "       [2.11825500e-03, 9.97881745e-01],\n",
       "       [9.99374075e-01, 6.25924812e-04],\n",
       "       [1.33223414e-04, 9.99866777e-01],\n",
       "       [1.58834618e-02, 9.84116538e-01],\n",
       "       [9.99999653e-01, 3.46670500e-07],\n",
       "       [3.87507491e-04, 9.99612493e-01],\n",
       "       [1.79689276e-03, 9.98203107e-01],\n",
       "       [1.77200840e-02, 9.82279916e-01],\n",
       "       [2.95743449e-01, 7.04256551e-01],\n",
       "       [1.72772110e-02, 9.82722789e-01],\n",
       "       [1.00000000e+00, 2.81415326e-10],\n",
       "       [1.88451305e-02, 9.81154869e-01],\n",
       "       [9.88348519e-01, 1.16514812e-02],\n",
       "       [1.00000000e+00, 4.74576612e-22],\n",
       "       [2.88713375e-01, 7.11286625e-01],\n",
       "       [5.80338744e-02, 9.41966126e-01],\n",
       "       [6.81782179e-02, 9.31821782e-01],\n",
       "       [9.99999978e-01, 2.16919111e-08],\n",
       "       [9.77812446e-01, 2.21875543e-02],\n",
       "       [3.61821323e-04, 9.99638179e-01],\n",
       "       [1.07334406e-03, 9.98926656e-01],\n",
       "       [1.64562337e-03, 9.98354377e-01],\n",
       "       [9.99785649e-01, 2.14351115e-04],\n",
       "       [4.62603214e-02, 9.53739679e-01]])"
      ]
     },
     "execution_count": 25,
     "metadata": {},
     "output_type": "execute_result"
    }
   ],
   "source": [
    "y_score"
   ]
  },
  {
   "cell_type": "code",
   "execution_count": 26,
   "id": "41fdb6dd",
   "metadata": {
    "ExecuteTime": {
     "end_time": "2023-04-19T15:32:44.397003Z",
     "start_time": "2023-04-19T15:32:44.387095Z"
    }
   },
   "outputs": [],
   "source": [
    "from sklearn.metrics import roc_curve, precision_recall_curve\n",
    "from sklearn.metrics import roc_auc_score, average_precision_score\n",
    "\n",
    "def plot_roc_curve(y_label, y_score, label = None,color='blue', title=None):\n",
    "    fpr, tpr, thresholds = roc_curve(y_label, y_score)\n",
    "    auc = roc_auc_score(y_label, y_score)\n",
    "    plt.figure(figsize = (5, 5))\n",
    "    plt.plot(fpr, tpr, linewidth=2, color = color, label=label)\n",
    "    plt.plot([0, 1], [0, 1], 'k--') # Dashed diagonal\n",
    "    plt.xlabel(\"False Positive Rate\")\n",
    "    plt.ylabel(\"True Positive Rate\")\n",
    "    plt.text(0.6, 0.2, 'AUC=' + str(round(auc, 4)), fontsize=12)\n",
    "    plt.title(title)\n",
    "    \n",
    "def plot_prroc_curve(y_label, y_score, label = None,color='blue', title=None):\n",
    "    precision, recall, thresholds = precision_recall_curve(y_test, y_score)\n",
    "    ap = average_precision_score(y_label, y_score)\n",
    "    plt.figure(figsize = (5, 5))\n",
    "    plt.plot(recall, precision, linewidth=2, color = color, label=label)\n",
    "    plt.xlabel(\"Recall\")\n",
    "    plt.ylabel(\"Precision\") \n",
    "    plt.text(0.6, 0.2, 'AP=' + str(round(ap, 4)), fontsize=12)\n",
    "    plt.ylim((-0.05,1.05))\n",
    "    plt.xlim((-0.05,1.05))\n",
    "    plt.title(title)"
   ]
  },
  {
   "cell_type": "markdown",
   "id": "5cdc4fe8",
   "metadata": {},
   "source": [
    "For Precision-Recall curve, we calculate the AP (average precision), which summarizes such a plot as the weighted mean of precisions achieved at each threshold, with the increase in recall from the previous threshold used as the weight:\n",
    "\n",
    "$$AP = \\sum_n (R_n - R_{n-1}) P_n$$\n",
    "\n",
    "Where $P_n$ and $R_n$ are the precision and recall at the n-th threshold"
   ]
  },
  {
   "cell_type": "code",
   "execution_count": 27,
   "id": "40d49505",
   "metadata": {
    "ExecuteTime": {
     "end_time": "2023-04-19T15:32:44.928465Z",
     "start_time": "2023-04-19T15:32:44.399738Z"
    },
    "scrolled": false
   },
   "outputs": [
    {
     "data": {
      "image/png": "[encoded data removed]",
      "text/plain": [
       "<Figure size 360x360 with 1 Axes>"
      ]
     },
     "metadata": {
      "needs_background": "light"
     },
     "output_type": "display_data"
    },
    {
     "data": {
      "image/png": "[encoded data removed]",
      "text/plain": [
       "<Figure size 360x360 with 1 Axes>"
      ]
     },
     "metadata": {
      "needs_background": "light"
     },
     "output_type": "display_data"
    }
   ],
   "source": [
    "plot_roc_curve(y_test, y_score[:,1], title = \"ROC (Logistic regression)\")\n",
    "plt.show()\n",
    "\n",
    "plot_prroc_curve(y_test, y_score[:,1], title = \"PR-ROC (Logistic regression)\")\n",
    "plt.show()"
   ]
  },
  {
   "cell_type": "markdown",
   "id": "83d96a3e",
   "metadata": {},
   "source": [
    "alternatively, you can use the `RocCurveDisplay` or  function provided by the package (easy to use, but less customized options)"
   ]
  },
  {
   "cell_type": "code",
   "execution_count": 28,
   "id": "7cd36b75",
   "metadata": {
    "ExecuteTime": {
     "end_time": "2023-04-19T15:32:44.942831Z",
     "start_time": "2023-04-19T15:32:44.931079Z"
    }
   },
   "outputs": [],
   "source": [
    "from sklearn.metrics import roc_curve, precision_recall_curve\n",
    "from sklearn.metrics import RocCurveDisplay, PrecisionRecallDisplay\n",
    "\n",
    "fpr, tpr, _ = roc_curve(y_test, y_score[:,1], pos_label=log_reg.classes_[1])\n",
    "prec, recall, _ = precision_recall_curve(y_test, y_score[:,1], pos_label=log_reg.classes_[1])\n",
    "roc_auc  = roc_auc_score(y_test, y_score[:,1])\n",
    "ap = average_precision_score(y_test, y_score[:,1])\n",
    "prroc_auc= roc_auc_score(y_test, y_score[:,1])"
   ]
  },
  {
   "cell_type": "code",
   "execution_count": 29,
   "id": "6e0e73c1",
   "metadata": {
    "ExecuteTime": {
     "end_time": "2023-04-19T15:32:45.417619Z",
     "start_time": "2023-04-19T15:32:44.944617Z"
    }
   },
   "outputs": [
    {
     "data": {
      "image/png": "[encoded data removed]",
      "text/plain": [
       "<Figure size 432x288 with 1 Axes>"
      ]
     },
     "metadata": {
      "needs_background": "light"
     },
     "output_type": "display_data"
    },
    {
     "data": {
      "image/png": "[encoded data removed]",
      "text/plain": [
       "<Figure size 432x288 with 1 Axes>"
      ]
     },
     "metadata": {
      "needs_background": "light"
     },
     "output_type": "display_data"
    }
   ],
   "source": [
    "roc_display = RocCurveDisplay(fpr=fpr, tpr=tpr, roc_auc =  roc_auc).plot()\n",
    "pr_display = PrecisionRecallDisplay(precision=prec, recall=recall, average_precision = ap).plot()"
   ]
  },
  {
   "cell_type": "markdown",
   "id": "794ae76b",
   "metadata": {},
   "source": [
    "<a id='svm'></a>\n",
    "## 2.2 Support vector machines (linear)"
   ]
  },
  {
   "cell_type": "code",
   "execution_count": 30,
   "id": "8de4cbea",
   "metadata": {
    "ExecuteTime": {
     "end_time": "2023-04-19T15:32:45.468699Z",
     "start_time": "2023-04-19T15:32:45.419667Z"
    }
   },
   "outputs": [
    {
     "data": {
      "text/html": [
       "\n",
       "<form action=\"javascript:code_toggle()\"><input type=\"submit\" id=\"toggleButton\" value=\"Show Sloution\"></form>\n"
      ],
      "text/plain": [
       "<IPython.core.display.HTML object>"
      ]
     },
     "metadata": {},
     "output_type": "display_data"
    }
   ],
   "source": [
    "hide_solution()\n",
    "from sklearn.svm import SVC\n",
    "svm_clf = SVC()\n",
    "svm_clf.fit(X_train, y_train)\n",
    "y_score = svm_clf.decision_function(X_test)"
   ]
  },
  {
   "cell_type": "code",
   "execution_count": 31,
   "id": "956d326d",
   "metadata": {
    "ExecuteTime": {
     "end_time": "2023-04-19T15:32:45.931847Z",
     "start_time": "2023-04-19T15:32:45.471305Z"
    }
   },
   "outputs": [
    {
     "data": {
      "image/png": "[encoded data removed]",
      "text/plain": [
       "<Figure size 360x360 with 1 Axes>"
      ]
     },
     "metadata": {
      "needs_background": "light"
     },
     "output_type": "display_data"
    },
    {
     "data": {
      "image/png": "[encoded data removed]",
      "text/plain": [
       "<Figure size 360x360 with 1 Axes>"
      ]
     },
     "metadata": {
      "needs_background": "light"
     },
     "output_type": "display_data"
    }
   ],
   "source": [
    "plot_roc_curve(y_test, y_score, title = \"ROC (SVM)\")\n",
    "plt.show()\n",
    "\n",
    "plot_prroc_curve(y_test, y_score, title = \"PR-ROC (SVM)\")\n",
    "plt.show()"
   ]
  },
  {
   "cell_type": "markdown",
   "id": "bfb53877",
   "metadata": {},
   "source": [
    "<a id='nb'></a>\n",
    "## 2.3 Naive bayes"
   ]
  },
  {
   "cell_type": "code",
   "execution_count": 32,
   "id": "3159ebb4",
   "metadata": {
    "ExecuteTime": {
     "end_time": "2023-04-19T15:32:45.957740Z",
     "start_time": "2023-04-19T15:32:45.933996Z"
    }
   },
   "outputs": [
    {
     "data": {
      "text/plain": [
       "array([[8.57270975e-010, 9.99999999e-001],\n",
       "       [3.52707409e-018, 1.00000000e+000],\n",
       "       [2.83125067e-005, 9.99971687e-001],\n",
       "       [1.55021508e-016, 1.00000000e+000],\n",
       "       [1.05025807e-005, 9.99989497e-001],\n",
       "       [4.21769719e-015, 1.00000000e+000],\n",
       "       [9.98099410e-001, 1.90059029e-003],\n",
       "       [1.00000000e+000, 1.03331592e-030],\n",
       "       [1.00000000e+000, 7.31875390e-014],\n",
       "       [1.00000000e+000, 2.88131036e-244],\n",
       "       [1.00000000e+000, 4.88729537e-237],\n",
       "       [9.83230011e-001, 1.67699888e-002],\n",
       "       [1.00000000e+000, 3.65413095e-014],\n",
       "       [1.00000000e+000, 6.88040828e-032],\n",
       "       [1.52889711e-004, 9.99847110e-001],\n",
       "       [3.23655110e-006, 9.99996763e-001],\n",
       "       [9.88968660e-012, 1.00000000e+000],\n",
       "       [2.60436030e-017, 1.00000000e+000],\n",
       "       [1.77368525e-010, 1.00000000e+000],\n",
       "       [4.70707326e-015, 1.00000000e+000],\n",
       "       [8.50604209e-014, 1.00000000e+000],\n",
       "       [1.21482426e-015, 1.00000000e+000],\n",
       "       [4.00381112e-012, 1.00000000e+000],\n",
       "       [3.23500405e-014, 1.00000000e+000],\n",
       "       [4.47860047e-003, 9.95521400e-001],\n",
       "       [1.06720186e-017, 1.00000000e+000],\n",
       "       [5.44401777e-014, 1.00000000e+000],\n",
       "       [2.77467122e-011, 1.00000000e+000],\n",
       "       [1.00000000e+000, 8.77256516e-027],\n",
       "       [4.51796738e-013, 1.00000000e+000],\n",
       "       [9.01273373e-015, 1.00000000e+000],\n",
       "       [2.24077796e-014, 1.00000000e+000],\n",
       "       [1.00000000e+000, 1.33928227e-063],\n",
       "       [2.08034811e-002, 9.79196519e-001],\n",
       "       [2.71567552e-013, 1.00000000e+000],\n",
       "       [1.00000000e+000, 4.19592696e-020],\n",
       "       [1.00000000e+000, 3.18541112e-042],\n",
       "       [2.41068133e-016, 1.00000000e+000],\n",
       "       [1.00000000e+000, 1.86333593e-056],\n",
       "       [3.92405833e-014, 1.00000000e+000],\n",
       "       [1.30767085e-004, 9.99869233e-001],\n",
       "       [1.00000000e+000, 1.97702083e-014],\n",
       "       [1.00000000e+000, 2.76870704e-036],\n",
       "       [2.78224365e-016, 1.00000000e+000],\n",
       "       [1.00000000e+000, 3.84492247e-010],\n",
       "       [5.54422408e-017, 1.00000000e+000],\n",
       "       [1.00000000e+000, 9.65109974e-059],\n",
       "       [9.97165272e-018, 1.00000000e+000],\n",
       "       [1.00000000e+000, 1.04425228e-221],\n",
       "       [1.00000000e+000, 1.81968995e-191],\n",
       "       [1.00419730e-012, 1.00000000e+000],\n",
       "       [8.76559383e-001, 1.23440617e-001],\n",
       "       [4.31758739e-001, 5.68241261e-001],\n",
       "       [7.60532805e-016, 1.00000000e+000],\n",
       "       [1.00000000e+000, 1.78968595e-101],\n",
       "       [9.99999996e-001, 4.46234996e-009],\n",
       "       [7.98501492e-011, 1.00000000e+000],\n",
       "       [2.63951360e-016, 1.00000000e+000],\n",
       "       [2.70248948e-005, 9.99972975e-001],\n",
       "       [7.12238982e-019, 1.00000000e+000],\n",
       "       [1.00000000e+000, 1.79744850e-084],\n",
       "       [8.30781736e-017, 1.00000000e+000],\n",
       "       [1.00000000e+000, 1.42313727e-018],\n",
       "       [1.00000000e+000, 4.66770088e-020],\n",
       "       [9.99999944e-001, 5.57372202e-008],\n",
       "       [3.36791894e-015, 1.00000000e+000],\n",
       "       [2.07686009e-012, 1.00000000e+000],\n",
       "       [4.31508778e-016, 1.00000000e+000],\n",
       "       [9.99999987e-001, 1.25473055e-008],\n",
       "       [1.04621218e-013, 1.00000000e+000],\n",
       "       [7.16815621e-015, 1.00000000e+000],\n",
       "       [1.00000000e+000, 1.42730102e-080],\n",
       "       [4.48800486e-001, 5.51199514e-001],\n",
       "       [1.13562818e-017, 1.00000000e+000],\n",
       "       [1.00000000e+000, 4.67615506e-016],\n",
       "       [4.19937070e-012, 1.00000000e+000],\n",
       "       [1.00000000e+000, 1.68970099e-018],\n",
       "       [1.00000000e+000, 7.06041196e-026],\n",
       "       [1.00000000e+000, 3.88000648e-059],\n",
       "       [1.54759567e-013, 1.00000000e+000],\n",
       "       [3.03914803e-011, 1.00000000e+000],\n",
       "       [3.86986475e-013, 1.00000000e+000],\n",
       "       [1.00000000e+000, 3.16001131e-041],\n",
       "       [7.15474498e-013, 1.00000000e+000],\n",
       "       [2.34836289e-013, 1.00000000e+000],\n",
       "       [1.00000000e+000, 1.25922528e-064],\n",
       "       [1.00000000e+000, 1.52418712e-057],\n",
       "       [1.00000000e+000, 1.12484867e-042],\n",
       "       [2.20347228e-015, 1.00000000e+000],\n",
       "       [1.00000000e+000, 2.16351257e-137],\n",
       "       [8.98216382e-016, 1.00000000e+000],\n",
       "       [1.00000000e+000, 2.76656444e-042],\n",
       "       [1.31491034e-019, 1.00000000e+000],\n",
       "       [1.14230969e-013, 1.00000000e+000],\n",
       "       [1.00000000e+000, 1.15653876e-039],\n",
       "       [2.45623997e-016, 1.00000000e+000],\n",
       "       [4.33094277e-017, 1.00000000e+000],\n",
       "       [3.55102196e-010, 1.00000000e+000],\n",
       "       [5.57840530e-012, 1.00000000e+000],\n",
       "       [1.72786206e-016, 1.00000000e+000],\n",
       "       [1.00000000e+000, 1.72870188e-087],\n",
       "       [3.75700972e-014, 1.00000000e+000],\n",
       "       [9.99998977e-001, 1.02295128e-006],\n",
       "       [1.00000000e+000, 6.79073264e-216],\n",
       "       [6.42541034e-012, 1.00000000e+000],\n",
       "       [3.23417279e-009, 9.99999997e-001],\n",
       "       [1.71072854e-002, 9.82892715e-001],\n",
       "       [1.00000000e+000, 1.40977335e-069],\n",
       "       [7.65393294e-001, 2.34606706e-001],\n",
       "       [4.50964739e-017, 1.00000000e+000],\n",
       "       [1.31974623e-012, 1.00000000e+000],\n",
       "       [1.77957165e-013, 1.00000000e+000],\n",
       "       [1.62042379e-003, 9.98379576e-001],\n",
       "       [2.26181095e-014, 1.00000000e+000]])"
      ]
     },
     "execution_count": 32,
     "metadata": {},
     "output_type": "execute_result"
    }
   ],
   "source": [
    "from sklearn.naive_bayes import GaussianNB\n",
    "gnb_clf = GaussianNB()\n",
    "gnb_clf.fit(X_train, y_train)\n",
    "y_score = gnb_clf.predict_proba(X_test)\n",
    "y_score"
   ]
  },
  {
   "cell_type": "code",
   "execution_count": 33,
   "id": "f7ae5f42",
   "metadata": {
    "ExecuteTime": {
     "end_time": "2023-04-19T15:32:46.425249Z",
     "start_time": "2023-04-19T15:32:45.959669Z"
    }
   },
   "outputs": [
    {
     "data": {
      "image/png": "[encoded data removed]",
      "text/plain": [
       "<Figure size 360x360 with 1 Axes>"
      ]
     },
     "metadata": {
      "needs_background": "light"
     },
     "output_type": "display_data"
    },
    {
     "data": {
      "image/png": "[encoded data removed]",
      "text/plain": [
       "<Figure size 360x360 with 1 Axes>"
      ]
     },
     "metadata": {
      "needs_background": "light"
     },
     "output_type": "display_data"
    }
   ],
   "source": [
    "plot_roc_curve(y_test, y_score[:,1], title = \"ROC (Naive bayes)\")\n",
    "plt.show()\n",
    "\n",
    "plot_prroc_curve(y_test, y_score[:,1], title = \"PR-ROC (Naive bayes)\")\n",
    "plt.show()"
   ]
  },
  {
   "cell_type": "markdown",
   "id": "d7ed980a",
   "metadata": {},
   "source": [
    "<a id='knn'></a>\n",
    "## 2.4 K-nearest neighbor"
   ]
  },
  {
   "cell_type": "code",
   "execution_count": 34,
   "id": "77a33d8a",
   "metadata": {
    "ExecuteTime": {
     "end_time": "2023-04-19T15:32:46.578061Z",
     "start_time": "2023-04-19T15:32:46.427044Z"
    }
   },
   "outputs": [
    {
     "data": {
      "text/plain": [
       "array([[0.16666667, 0.83333333],\n",
       "       [0.        , 1.        ],\n",
       "       [0.16666667, 0.83333333],\n",
       "       [0.        , 1.        ],\n",
       "       [0.03333333, 0.96666667],\n",
       "       [0.        , 1.        ],\n",
       "       [0.83333333, 0.16666667],\n",
       "       [1.        , 0.        ],\n",
       "       [0.86666667, 0.13333333],\n",
       "       [1.        , 0.        ],\n",
       "       [1.        , 0.        ],\n",
       "       [0.96666667, 0.03333333],\n",
       "       [0.96666667, 0.03333333],\n",
       "       [1.        , 0.        ],\n",
       "       [0.7       , 0.3       ],\n",
       "       [0.        , 1.        ],\n",
       "       [0.2       , 0.8       ],\n",
       "       [0.        , 1.        ],\n",
       "       [0.06666667, 0.93333333],\n",
       "       [0.        , 1.        ],\n",
       "       [0.06666667, 0.93333333],\n",
       "       [0.03333333, 0.96666667],\n",
       "       [0.03333333, 0.96666667],\n",
       "       [0.03333333, 0.96666667],\n",
       "       [0.23333333, 0.76666667],\n",
       "       [0.        , 1.        ],\n",
       "       [0.03333333, 0.96666667],\n",
       "       [0.        , 1.        ],\n",
       "       [0.63333333, 0.36666667],\n",
       "       [0.        , 1.        ],\n",
       "       [0.        , 1.        ],\n",
       "       [0.        , 1.        ],\n",
       "       [1.        , 0.        ],\n",
       "       [0.2       , 0.8       ],\n",
       "       [0.        , 1.        ],\n",
       "       [1.        , 0.        ],\n",
       "       [1.        , 0.        ],\n",
       "       [0.        , 1.        ],\n",
       "       [1.        , 0.        ],\n",
       "       [0.06666667, 0.93333333],\n",
       "       [0.        , 1.        ],\n",
       "       [0.93333333, 0.06666667],\n",
       "       [0.96666667, 0.03333333],\n",
       "       [0.        , 1.        ],\n",
       "       [0.9       , 0.1       ],\n",
       "       [0.        , 1.        ],\n",
       "       [1.        , 0.        ],\n",
       "       [0.        , 1.        ],\n",
       "       [1.        , 0.        ],\n",
       "       [1.        , 0.        ],\n",
       "       [0.03333333, 0.96666667],\n",
       "       [0.36666667, 0.63333333],\n",
       "       [0.23333333, 0.76666667],\n",
       "       [0.03333333, 0.96666667],\n",
       "       [1.        , 0.        ],\n",
       "       [1.        , 0.        ],\n",
       "       [0.03333333, 0.96666667],\n",
       "       [0.        , 1.        ],\n",
       "       [0.13333333, 0.86666667],\n",
       "       [0.        , 1.        ],\n",
       "       [1.        , 0.        ],\n",
       "       [0.        , 1.        ],\n",
       "       [0.        , 1.        ],\n",
       "       [1.        , 0.        ],\n",
       "       [0.06666667, 0.93333333],\n",
       "       [0.        , 1.        ],\n",
       "       [0.06666667, 0.93333333],\n",
       "       [0.        , 1.        ],\n",
       "       [0.16666667, 0.83333333],\n",
       "       [0.03333333, 0.96666667],\n",
       "       [0.03333333, 0.96666667],\n",
       "       [1.        , 0.        ],\n",
       "       [0.        , 1.        ],\n",
       "       [0.        , 1.        ],\n",
       "       [0.96666667, 0.03333333],\n",
       "       [0.        , 1.        ],\n",
       "       [0.9       , 0.1       ],\n",
       "       [0.13333333, 0.86666667],\n",
       "       [1.        , 0.        ],\n",
       "       [0.03333333, 0.96666667],\n",
       "       [0.1       , 0.9       ],\n",
       "       [0.        , 1.        ],\n",
       "       [1.        , 0.        ],\n",
       "       [0.        , 1.        ],\n",
       "       [0.03333333, 0.96666667],\n",
       "       [1.        , 0.        ],\n",
       "       [1.        , 0.        ],\n",
       "       [1.        , 0.        ],\n",
       "       [0.        , 1.        ],\n",
       "       [1.        , 0.        ],\n",
       "       [0.03333333, 0.96666667],\n",
       "       [1.        , 0.        ],\n",
       "       [0.        , 1.        ],\n",
       "       [0.        , 1.        ],\n",
       "       [1.        , 0.        ],\n",
       "       [0.        , 1.        ],\n",
       "       [0.        , 1.        ],\n",
       "       [0.        , 1.        ],\n",
       "       [0.06666667, 0.93333333],\n",
       "       [0.        , 1.        ],\n",
       "       [1.        , 0.        ],\n",
       "       [0.03333333, 0.96666667],\n",
       "       [0.6       , 0.4       ],\n",
       "       [1.        , 0.        ],\n",
       "       [0.03333333, 0.96666667],\n",
       "       [0.03333333, 0.96666667],\n",
       "       [0.        , 1.        ],\n",
       "       [1.        , 0.        ],\n",
       "       [0.63333333, 0.36666667],\n",
       "       [0.        , 1.        ],\n",
       "       [0.        , 1.        ],\n",
       "       [0.        , 1.        ],\n",
       "       [0.76666667, 0.23333333],\n",
       "       [0.03333333, 0.96666667]])"
      ]
     },
     "execution_count": 34,
     "metadata": {},
     "output_type": "execute_result"
    }
   ],
   "source": [
    "from sklearn.neighbors import KNeighborsClassifier\n",
    "knn_clf = KNeighborsClassifier(n_neighbors=30)\n",
    "knn_clf.fit(X_train, y_train)\n",
    "y_score = knn_clf.predict_proba(X_test)\n",
    "y_score"
   ]
  },
  {
   "cell_type": "code",
   "execution_count": 35,
   "id": "0bb70381",
   "metadata": {
    "ExecuteTime": {
     "end_time": "2023-04-19T15:32:47.105022Z",
     "start_time": "2023-04-19T15:32:46.603900Z"
    }
   },
   "outputs": [
    {
     "data": {
      "image/png": "[encoded data removed]",
      "text/plain": [
       "<Figure size 360x360 with 1 Axes>"
      ]
     },
     "metadata": {
      "needs_background": "light"
     },
     "output_type": "display_data"
    },
    {
     "data": {
      "image/png": "[encoded data removed]",
      "text/plain": [
       "<Figure size 360x360 with 1 Axes>"
      ]
     },
     "metadata": {
      "needs_background": "light"
     },
     "output_type": "display_data"
    }
   ],
   "source": [
    "plot_roc_curve(y_test, y_score[:,1], title = \"ROC (KNN)\")\n",
    "plt.show()\n",
    "\n",
    "plot_prroc_curve(y_test, y_score[:,1], title = \"PR-ROC (KNN)\")\n",
    "plt.show()"
   ]
  },
  {
   "cell_type": "markdown",
   "id": "e3d33d18",
   "metadata": {},
   "source": [
    "<a id='decision_tree'></a>\n",
    "## 2.5 Decision trees"
   ]
  },
  {
   "cell_type": "code",
   "execution_count": 36,
   "id": "04f1d3ab",
   "metadata": {
    "ExecuteTime": {
     "end_time": "2023-04-19T15:32:47.187717Z",
     "start_time": "2023-04-19T15:32:47.107224Z"
    }
   },
   "outputs": [],
   "source": [
    "from sklearn.tree import DecisionTreeClassifier\n",
    "\n",
    "tree_clf = DecisionTreeClassifier(max_depth=2)\n",
    "tree_clf.fit(X_train, y_train)\n",
    "y_score = tree_clf.predict_proba(X_test)"
   ]
  },
  {
   "cell_type": "code",
   "execution_count": 37,
   "id": "8158f52a",
   "metadata": {
    "ExecuteTime": {
     "end_time": "2023-04-19T15:32:47.655439Z",
     "start_time": "2023-04-19T15:32:47.190305Z"
    },
    "scrolled": false
   },
   "outputs": [
    {
     "data": {
      "image/png": "[encoded data removed]",
      "text/plain": [
       "<Figure size 360x360 with 1 Axes>"
      ]
     },
     "metadata": {
      "needs_background": "light"
     },
     "output_type": "display_data"
    },
    {
     "data": {
      "image/png": "[encoded data removed]",
      "text/plain": [
       "<Figure size 360x360 with 1 Axes>"
      ]
     },
     "metadata": {
      "needs_background": "light"
     },
     "output_type": "display_data"
    }
   ],
   "source": [
    "plot_roc_curve(y_test, y_score[:,1], title = \"ROC (Decision Tree)\")\n",
    "plt.show()\n",
    "\n",
    "plot_prroc_curve(y_test, y_score[:,1], title = \"PR-ROC (Decision Tree)\")\n",
    "plt.show()"
   ]
  },
  {
   "cell_type": "markdown",
   "id": "25fda65b",
   "metadata": {},
   "source": [
    "<a id='randomforest'></a>\n",
    "## 2.6 Random forest"
   ]
  },
  {
   "cell_type": "code",
   "execution_count": 38,
   "id": "f20b053b",
   "metadata": {
    "ExecuteTime": {
     "end_time": "2023-04-19T15:32:48.780524Z",
     "start_time": "2023-04-19T15:32:47.657562Z"
    }
   },
   "outputs": [],
   "source": [
    "from sklearn.ensemble import RandomForestClassifier\n",
    "forest_clf = RandomForestClassifier(n_estimators=500, max_depth=2, random_state=2022)\n",
    "forest_clf.fit(X_train, y_train)\n",
    "\n",
    "y_score = forest_clf.predict_proba(X_test)"
   ]
  },
  {
   "cell_type": "code",
   "execution_count": 39,
   "id": "69a483a1",
   "metadata": {
    "ExecuteTime": {
     "end_time": "2023-04-19T15:32:49.253100Z",
     "start_time": "2023-04-19T15:32:48.782732Z"
    },
    "scrolled": false
   },
   "outputs": [
    {
     "data": {
      "image/png": "[encoded data removed]",
      "text/plain": [
       "<Figure size 360x360 with 1 Axes>"
      ]
     },
     "metadata": {
      "needs_background": "light"
     },
     "output_type": "display_data"
    },
    {
     "data": {
      "image/png": "[encoded data removed]",
      "text/plain": [
       "<Figure size 360x360 with 1 Axes>"
      ]
     },
     "metadata": {
      "needs_background": "light"
     },
     "output_type": "display_data"
    }
   ],
   "source": [
    "plot_roc_curve(y_test, y_score[:,1], title = \"ROC (Random Forest)\")\n",
    "plt.show()\n",
    "\n",
    "plot_prroc_curve(y_test, y_score[:,1], title = \"PR-ROC (Random Forest)\")\n",
    "plt.show()"
   ]
  },
  {
   "cell_type": "markdown",
   "id": "4c872499",
   "metadata": {},
   "source": [
    "**Question**: compare randomForest's result with that of DecisionTree, what did you find?"
   ]
  },
  {
   "cell_type": "markdown",
   "id": "7ef71caf",
   "metadata": {},
   "source": [
    "<a id='xgboost'></a>\n",
    "## 2.7 XGBoost"
   ]
  },
  {
   "cell_type": "code",
   "execution_count": 40,
   "id": "5651ee34",
   "metadata": {
    "ExecuteTime": {
     "end_time": "2023-04-19T15:32:54.936389Z",
     "start_time": "2023-04-19T15:32:49.255762Z"
    }
   },
   "outputs": [
    {
     "name": "stdout",
     "output_type": "stream",
     "text": [
      "Requirement already satisfied: xgboost in /home/wbguo/.local/lib/python3.8/site-packages (1.6.2)\r\n",
      "Requirement already satisfied: scipy in /home/wbguo/.local/lib/python3.8/site-packages (from xgboost) (1.10.1)\r\n",
      "Requirement already satisfied: numpy in /home/wbguo/.local/lib/python3.8/site-packages (from xgboost) (1.24.2)\r\n"
     ]
    }
   ],
   "source": [
    "import sys\n",
    "!{sys.executable} -m pip install xgboost --user"
   ]
  },
  {
   "cell_type": "code",
   "execution_count": 41,
   "id": "da2ad392",
   "metadata": {
    "ExecuteTime": {
     "end_time": "2023-04-19T15:33:02.336894Z",
     "start_time": "2023-04-19T15:32:54.941845Z"
    }
   },
   "outputs": [],
   "source": [
    "import xgboost as xgb\n",
    "\n",
    "xgb_clf = xgb.XGBClassifier(objective='binary:logistic')\n",
    "xgb_clf.fit(X_train, y_train)\n",
    "\n",
    "y_score = xgb_clf.predict_proba(X_test)"
   ]
  },
  {
   "cell_type": "code",
   "execution_count": 42,
   "id": "b825e717",
   "metadata": {
    "ExecuteTime": {
     "end_time": "2023-04-19T15:33:02.839721Z",
     "start_time": "2023-04-19T15:33:02.339865Z"
    }
   },
   "outputs": [
    {
     "data": {
      "image/png": "[encoded data removed]",
      "text/plain": [
       "<Figure size 360x360 with 1 Axes>"
      ]
     },
     "metadata": {
      "needs_background": "light"
     },
     "output_type": "display_data"
    },
    {
     "data": {
      "image/png": "[encoded data removed]",
      "text/plain": [
       "<Figure size 360x360 with 1 Axes>"
      ]
     },
     "metadata": {
      "needs_background": "light"
     },
     "output_type": "display_data"
    }
   ],
   "source": [
    "plot_roc_curve(y_test, y_score[:,1], title = \"ROC (XGBoost)\")\n",
    "plt.show()\n",
    "\n",
    "plot_prroc_curve(y_test, y_score[:,1], title = \"PR-ROC (XGBoost)\")\n",
    "plt.show()"
   ]
  },
  {
   "cell_type": "markdown",
   "id": "dce10122",
   "metadata": {},
   "source": [
    "<a id='nn'></a>\n",
    "## 2.8 Neural Network"
   ]
  },
  {
   "cell_type": "code",
   "execution_count": 43,
   "id": "829822af",
   "metadata": {
    "ExecuteTime": {
     "end_time": "2023-04-19T15:33:09.087324Z",
     "start_time": "2023-04-19T15:33:02.841438Z"
    },
    "scrolled": true
   },
   "outputs": [
    {
     "name": "stdout",
     "output_type": "stream",
     "text": [
      "Requirement already satisfied: tensorflow in /home/wbguo/.local/lib/python3.8/site-packages (2.7.0)\n",
      "Requirement already satisfied: tensorflow-estimator<2.8,~=2.7.0rc0 in /home/wbguo/.local/lib/python3.8/site-packages (from tensorflow) (2.7.0)\n",
      "Requirement already satisfied: astunparse>=1.6.0 in /home/wbguo/.local/lib/python3.8/site-packages (from tensorflow) (1.6.3)\n",
      "Requirement already satisfied: tensorflow-io-gcs-filesystem>=0.21.0 in /home/wbguo/.local/lib/python3.8/site-packages (from tensorflow) (0.22.0)\n",
      "Requirement already satisfied: google-pasta>=0.1.1 in /home/wbguo/.local/lib/python3.8/site-packages (from tensorflow) (0.2.0)\n",
      "Requirement already satisfied: wheel<1.0,>=0.32.0 in /home/wbguo/apps/anaconda3/envs/sc/lib/python3.8/site-packages (from tensorflow) (0.37.0)\n",
      "Requirement already satisfied: gast<0.5.0,>=0.2.1 in /home/wbguo/.local/lib/python3.8/site-packages (from tensorflow) (0.4.0)\n",
      "Requirement already satisfied: wrapt>=1.11.0 in /home/wbguo/.local/lib/python3.8/site-packages (from tensorflow) (1.13.3)\n",
      "Requirement already satisfied: termcolor>=1.1.0 in /home/wbguo/.local/lib/python3.8/site-packages (from tensorflow) (1.1.0)\n",
      "Requirement already satisfied: numpy>=1.14.5 in /home/wbguo/.local/lib/python3.8/site-packages (from tensorflow) (1.24.2)\n",
      "Requirement already satisfied: keras-preprocessing>=1.1.1 in /home/wbguo/.local/lib/python3.8/site-packages (from tensorflow) (1.1.2)\n",
      "Requirement already satisfied: flatbuffers<3.0,>=1.12 in /home/wbguo/.local/lib/python3.8/site-packages (from tensorflow) (2.0)\n",
      "Requirement already satisfied: protobuf>=3.9.2 in /home/wbguo/.local/lib/python3.8/site-packages (from tensorflow) (3.19.1)\n",
      "Requirement already satisfied: keras<2.8,>=2.7.0rc0 in /home/wbguo/.local/lib/python3.8/site-packages (from tensorflow) (2.7.0)\n",
      "Requirement already satisfied: libclang>=9.0.1 in /home/wbguo/.local/lib/python3.8/site-packages (from tensorflow) (12.0.0)\n",
      "Requirement already satisfied: grpcio<2.0,>=1.24.3 in /home/wbguo/.local/lib/python3.8/site-packages (from tensorflow) (1.42.0)\n",
      "Requirement already satisfied: typing-extensions>=3.6.6 in /home/wbguo/.local/lib/python3.8/site-packages (from tensorflow) (4.0.1)\n",
      "Requirement already satisfied: six>=1.12.0 in /home/wbguo/apps/anaconda3/envs/sc/lib/python3.8/site-packages (from tensorflow) (1.16.0)\n",
      "Requirement already satisfied: opt-einsum>=2.3.2 in /home/wbguo/.local/lib/python3.8/site-packages (from tensorflow) (3.3.0)\n",
      "Requirement already satisfied: absl-py>=0.4.0 in /home/wbguo/.local/lib/python3.8/site-packages (from tensorflow) (1.0.0)\n",
      "Requirement already satisfied: h5py>=2.9.0 in /home/wbguo/.local/lib/python3.8/site-packages (from tensorflow) (3.6.0)\n",
      "Requirement already satisfied: tensorboard~=2.6 in /home/wbguo/.local/lib/python3.8/site-packages (from tensorflow) (2.7.0)\n",
      "Requirement already satisfied: markdown>=2.6.8 in /home/wbguo/.local/lib/python3.8/site-packages (from tensorboard~=2.6->tensorflow) (3.3.6)\n",
      "Requirement already satisfied: werkzeug>=0.11.15 in /home/wbguo/.local/lib/python3.8/site-packages (from tensorboard~=2.6->tensorflow) (2.0.2)\n",
      "Requirement already satisfied: setuptools>=41.0.0 in /home/wbguo/.local/lib/python3.8/site-packages (from tensorboard~=2.6->tensorflow) (62.1.0)\n",
      "Requirement already satisfied: google-auth<3,>=1.6.3 in /home/wbguo/.local/lib/python3.8/site-packages (from tensorboard~=2.6->tensorflow) (2.3.3)\n",
      "Requirement already satisfied: tensorboard-data-server<0.7.0,>=0.6.0 in /home/wbguo/.local/lib/python3.8/site-packages (from tensorboard~=2.6->tensorflow) (0.6.1)\n",
      "Requirement already satisfied: tensorboard-plugin-wit>=1.6.0 in /home/wbguo/.local/lib/python3.8/site-packages (from tensorboard~=2.6->tensorflow) (1.8.0)\n",
      "Requirement already satisfied: google-auth-oauthlib<0.5,>=0.4.1 in /home/wbguo/.local/lib/python3.8/site-packages (from tensorboard~=2.6->tensorflow) (0.4.6)\n",
      "Requirement already satisfied: requests<3,>=2.21.0 in /home/wbguo/apps/anaconda3/envs/sc/lib/python3.8/site-packages (from tensorboard~=2.6->tensorflow) (2.28.2)\n",
      "Requirement already satisfied: pyasn1-modules>=0.2.1 in /home/wbguo/.local/lib/python3.8/site-packages (from google-auth<3,>=1.6.3->tensorboard~=2.6->tensorflow) (0.2.8)\n",
      "Requirement already satisfied: rsa<5,>=3.1.4 in /home/wbguo/.local/lib/python3.8/site-packages (from google-auth<3,>=1.6.3->tensorboard~=2.6->tensorflow) (4.8)\n",
      "Requirement already satisfied: cachetools<5.0,>=2.0.0 in /home/wbguo/.local/lib/python3.8/site-packages (from google-auth<3,>=1.6.3->tensorboard~=2.6->tensorflow) (4.2.4)\n",
      "Requirement already satisfied: requests-oauthlib>=0.7.0 in /home/wbguo/.local/lib/python3.8/site-packages (from google-auth-oauthlib<0.5,>=0.4.1->tensorboard~=2.6->tensorflow) (1.3.0)\n",
      "Requirement already satisfied: importlib-metadata>=4.4 in /home/wbguo/.local/lib/python3.8/site-packages (from markdown>=2.6.8->tensorboard~=2.6->tensorflow) (4.8.2)\n",
      "Requirement already satisfied: zipp>=0.5 in /home/wbguo/.local/lib/python3.8/site-packages (from importlib-metadata>=4.4->markdown>=2.6.8->tensorboard~=2.6->tensorflow) (3.15.0)\n",
      "Requirement already satisfied: pyasn1<0.5.0,>=0.4.6 in /home/wbguo/.local/lib/python3.8/site-packages (from pyasn1-modules>=0.2.1->google-auth<3,>=1.6.3->tensorboard~=2.6->tensorflow) (0.4.8)\n",
      "Requirement already satisfied: certifi>=2017.4.17 in /home/wbguo/apps/anaconda3/envs/sc/lib/python3.8/site-packages (from requests<3,>=2.21.0->tensorboard~=2.6->tensorflow) (2022.12.7)\n",
      "Requirement already satisfied: urllib3<1.27,>=1.21.1 in /home/wbguo/apps/anaconda3/envs/sc/lib/python3.8/site-packages (from requests<3,>=2.21.0->tensorboard~=2.6->tensorflow) (1.26.15)\n",
      "Requirement already satisfied: charset-normalizer<4,>=2 in /home/wbguo/apps/anaconda3/envs/sc/lib/python3.8/site-packages (from requests<3,>=2.21.0->tensorboard~=2.6->tensorflow) (3.1.0)\n",
      "Requirement already satisfied: idna<4,>=2.5 in /home/wbguo/apps/anaconda3/envs/sc/lib/python3.8/site-packages (from requests<3,>=2.21.0->tensorboard~=2.6->tensorflow) (3.4)\n",
      "Requirement already satisfied: oauthlib>=3.0.0 in /home/wbguo/.local/lib/python3.8/site-packages (from requests-oauthlib>=0.7.0->google-auth-oauthlib<0.5,>=0.4.1->tensorboard~=2.6->tensorflow) (3.2.1)\n",
      "Requirement already satisfied: keras in /home/wbguo/.local/lib/python3.8/site-packages (2.7.0)\n"
     ]
    }
   ],
   "source": [
    "import sys\n",
    "!{sys.executable} -m pip install tensorflow --user\n",
    "!{sys.executable} -m pip install keras --user"
   ]
  },
  {
   "cell_type": "code",
   "execution_count": 44,
   "id": "16b7e12a",
   "metadata": {
    "ExecuteTime": {
     "end_time": "2023-04-19T15:33:25.258818Z",
     "start_time": "2023-04-19T15:33:09.093007Z"
    },
    "scrolled": true
   },
   "outputs": [
    {
     "name": "stderr",
     "output_type": "stream",
     "text": [
      "2023-04-19 08:33:12.224153: W tensorflow/stream_executor/platform/default/dso_loader.cc:64] Could not load dynamic library 'libcudart.so.11.0'; dlerror: libcudart.so.11.0: cannot open shared object file: No such file or directory\n",
      "2023-04-19 08:33:12.224228: I tensorflow/stream_executor/cuda/cudart_stub.cc:29] Ignore above cudart dlerror if you do not have a GPU set up on your machine.\n",
      "2023-04-19 08:33:24.910352: W tensorflow/stream_executor/platform/default/dso_loader.cc:64] Could not load dynamic library 'libcuda.so.1'; dlerror: libcuda.so.1: cannot open shared object file: No such file or directory\n",
      "2023-04-19 08:33:24.910426: W tensorflow/stream_executor/cuda/cuda_driver.cc:269] failed call to cuInit: UNKNOWN ERROR (303)\n",
      "2023-04-19 08:33:24.910496: I tensorflow/stream_executor/cuda/cuda_diagnostics.cc:156] kernel driver does not appear to be running on this host (mathlab01.mcdb.ucla.edu): /proc/driver/nvidia/version does not exist\n"
     ]
    }
   ],
   "source": [
    "from tensorflow import keras\n",
    "model = keras.models.Sequential() \n",
    "model.add(keras.layers.Flatten(input_shape=[30, 1]))\n",
    "model.add(keras.layers.Dense(16,activation=\"relu\"))\n",
    "model.add(keras.layers.Dense(1, activation=\"sigmoid\"))"
   ]
  },
  {
   "cell_type": "markdown",
   "id": "d7e26a93",
   "metadata": {},
   "source": [
    "The first line creates a Sequential model. This is the simplest kind of Keras model for neural networks that are just composed of\n",
    "a single stack of layers connected sequentially\n",
    "\n",
    "<div>\n",
    "<img src=\"nn_structure.svg\" width=\"1000\"/>\n",
    "</div>"
   ]
  },
  {
   "cell_type": "code",
   "execution_count": 45,
   "id": "b676a8e9",
   "metadata": {
    "ExecuteTime": {
     "end_time": "2023-04-19T15:33:25.269915Z",
     "start_time": "2023-04-19T15:33:25.261884Z"
    }
   },
   "outputs": [
    {
     "data": {
      "text/plain": [
       "[<keras.layers.core.flatten.Flatten at 0x7fb9161c11c0>,\n",
       " <keras.layers.core.dense.Dense at 0x7fb9161c1af0>,\n",
       " <keras.layers.core.dense.Dense at 0x7fb8b5e13fd0>]"
      ]
     },
     "execution_count": 45,
     "metadata": {},
     "output_type": "execute_result"
    }
   ],
   "source": [
    "model.layers"
   ]
  },
  {
   "cell_type": "code",
   "execution_count": 46,
   "id": "7f6d1929",
   "metadata": {
    "ExecuteTime": {
     "end_time": "2023-04-19T15:33:25.277748Z",
     "start_time": "2023-04-19T15:33:25.272521Z"
    }
   },
   "outputs": [],
   "source": [
    "model.build() # to build the model"
   ]
  },
  {
   "cell_type": "code",
   "execution_count": 47,
   "id": "f917389c",
   "metadata": {
    "ExecuteTime": {
     "end_time": "2023-04-19T15:33:25.285970Z",
     "start_time": "2023-04-19T15:33:25.280167Z"
    },
    "scrolled": true
   },
   "outputs": [
    {
     "name": "stdout",
     "output_type": "stream",
     "text": [
      "Model: \"sequential\"\n",
      "_________________________________________________________________\n",
      " Layer (type)                Output Shape              Param #   \n",
      "=================================================================\n",
      " flatten (Flatten)           (None, 30)                0         \n",
      "                                                                 \n",
      " dense (Dense)               (None, 16)                496       \n",
      "                                                                 \n",
      " dense_1 (Dense)             (None, 1)                 17        \n",
      "                                                                 \n",
      "=================================================================\n",
      "Total params: 513\n",
      "Trainable params: 513\n",
      "Non-trainable params: 0\n",
      "_________________________________________________________________\n"
     ]
    }
   ],
   "source": [
    "model.summary() # get the summary of your Neural network"
   ]
  },
  {
   "cell_type": "code",
   "execution_count": 48,
   "id": "24bd3dc1",
   "metadata": {
    "ExecuteTime": {
     "end_time": "2023-04-19T15:33:25.294916Z",
     "start_time": "2023-04-19T15:33:25.288468Z"
    }
   },
   "outputs": [
    {
     "data": {
      "text/plain": [
       "<function keras.activations.relu(x, alpha=0.0, max_value=None, threshold=0.0)>"
      ]
     },
     "execution_count": 48,
     "metadata": {},
     "output_type": "execute_result"
    }
   ],
   "source": [
    "model.layers[1].activation # access each layer by the index"
   ]
  },
  {
   "cell_type": "code",
   "execution_count": 49,
   "id": "4686c98e",
   "metadata": {
    "ExecuteTime": {
     "end_time": "2023-04-19T15:33:25.302354Z",
     "start_time": "2023-04-19T15:33:25.297352Z"
    }
   },
   "outputs": [],
   "source": [
    "weights, biases = model.layers[1].get_weights()"
   ]
  },
  {
   "cell_type": "code",
   "execution_count": 50,
   "id": "59ed0836",
   "metadata": {
    "ExecuteTime": {
     "end_time": "2023-04-19T15:33:25.318752Z",
     "start_time": "2023-04-19T15:33:25.304759Z"
    }
   },
   "outputs": [
    {
     "data": {
      "text/plain": [
       "array([[-0.10126084, -0.25810105,  0.14742962, -0.20076993, -0.09700501,\n",
       "         0.16232899,  0.11193883,  0.06332535, -0.05630171,  0.04355207,\n",
       "        -0.06744048,  0.14444962,  0.14324972,  0.24741796, -0.31705227,\n",
       "        -0.23800728],\n",
       "       [-0.12924397,  0.09051645, -0.18987864,  0.32930145, -0.12175302,\n",
       "        -0.27142203, -0.1853596 ,  0.01215988,  0.00467405, -0.09423721,\n",
       "         0.3165317 ,  0.28751716,  0.1058071 ,  0.03554502, -0.28463414,\n",
       "         0.12150168],\n",
       "       [ 0.04182097,  0.26256248, -0.1765712 , -0.28735355, -0.24817286,\n",
       "        -0.292653  , -0.2889448 ,  0.25880048, -0.19773433,  0.24927953,\n",
       "         0.10795048,  0.18167439, -0.30389363,  0.17111728, -0.19594753,\n",
       "        -0.2717511 ],\n",
       "       [ 0.321079  ,  0.00766572,  0.32741067,  0.17689016,  0.2152442 ,\n",
       "         0.16377404, -0.25011915,  0.18077746, -0.1276566 , -0.22614677,\n",
       "         0.31679258,  0.04775837,  0.01936641,  0.32657704, -0.14866473,\n",
       "         0.03831497],\n",
       "       [-0.26460496, -0.11681756,  0.31088218, -0.18125127,  0.10496077,\n",
       "         0.05088568, -0.15872379,  0.14606217, -0.17143908,  0.20307562,\n",
       "         0.26735863,  0.10435173,  0.14554325, -0.35481685,  0.19896892,\n",
       "        -0.05484366],\n",
       "       [-0.19909887, -0.14068677, -0.16580443,  0.18017873,  0.3022519 ,\n",
       "        -0.14043896, -0.16540463,  0.2580777 ,  0.16711059,  0.22663906,\n",
       "         0.24954239,  0.24916247, -0.28098562, -0.17208453, -0.04105783,\n",
       "         0.16120169],\n",
       "       [ 0.2993829 , -0.2665711 ,  0.08229947, -0.07172763,  0.17558643,\n",
       "        -0.21369816,  0.04961294,  0.35078427, -0.34086353, -0.04665181,\n",
       "        -0.11905634,  0.0865725 , -0.16289489, -0.04071209,  0.34246072,\n",
       "         0.35599747],\n",
       "       [ 0.35331962, -0.32584152,  0.33618483,  0.2861602 , -0.0487473 ,\n",
       "        -0.33958396,  0.20172814,  0.13796166, -0.35526934,  0.05595523,\n",
       "        -0.06140637, -0.1947205 , -0.21392049, -0.34561685,  0.02632591,\n",
       "         0.3214443 ],\n",
       "       [ 0.23555675,  0.13526177,  0.29674193, -0.3413327 , -0.06471011,\n",
       "        -0.15996277,  0.11212552,  0.24269733, -0.0083397 , -0.3359153 ,\n",
       "        -0.19185704,  0.29980215,  0.2947249 , -0.345086  , -0.331559  ,\n",
       "        -0.23643455],\n",
       "       [ 0.10119772, -0.12178032, -0.23344535,  0.31110826,  0.02786335,\n",
       "         0.16191605,  0.09555405, -0.1644802 ,  0.2310833 , -0.32779098,\n",
       "         0.14397016, -0.19425657, -0.19042793,  0.26329717, -0.09289816,\n",
       "        -0.33435196],\n",
       "       [-0.08257973,  0.29008386, -0.03380513, -0.24565348,  0.18117264,\n",
       "        -0.19631952,  0.02280027, -0.09528831, -0.357329  , -0.02970034,\n",
       "        -0.30973855, -0.04729384, -0.28206274,  0.31705543, -0.24612258,\n",
       "         0.22143057],\n",
       "       [-0.11794142,  0.09095594, -0.2503103 , -0.15103523, -0.13277803,\n",
       "        -0.2788276 ,  0.33641765,  0.2449815 , -0.3144354 ,  0.20675632,\n",
       "         0.23255709, -0.01569319, -0.03646514,  0.20445833, -0.32469   ,\n",
       "        -0.07740533],\n",
       "       [-0.2438956 , -0.03184628, -0.2571648 , -0.17607825,  0.20889077,\n",
       "        -0.01351753,  0.2127938 , -0.24236006,  0.18677536,  0.12565574,\n",
       "         0.3252028 , -0.1486846 , -0.08877951,  0.07210478, -0.06664822,\n",
       "        -0.22694309],\n",
       "       [ 0.31200936,  0.25128183,  0.34013358, -0.18636842,  0.35772154,\n",
       "        -0.1126506 , -0.08299789,  0.01196522, -0.34734175,  0.29447553,\n",
       "        -0.3213725 , -0.14135702,  0.08684358, -0.11864062, -0.09775063,\n",
       "         0.18516567],\n",
       "       [-0.10620785,  0.05703336, -0.35481942, -0.32646236,  0.3281153 ,\n",
       "         0.18455079, -0.27649707,  0.01765591, -0.07261401, -0.20439425,\n",
       "        -0.2927714 ,  0.01512069,  0.1355834 , -0.04513109, -0.04412305,\n",
       "         0.13407826],\n",
       "       [ 0.2256721 , -0.34514552, -0.1720785 , -0.35870078,  0.01455805,\n",
       "        -0.23918325, -0.33310574, -0.32468304, -0.34897107,  0.07683963,\n",
       "        -0.23331068, -0.00416395,  0.27823934, -0.19929932,  0.18095556,\n",
       "         0.04695585],\n",
       "       [ 0.01184106,  0.30793652,  0.2006475 , -0.1398827 ,  0.17160138,\n",
       "        -0.05739415,  0.22455356,  0.01311207,  0.18586263,  0.02241659,\n",
       "        -0.02274543, -0.21768138,  0.12465388, -0.10486665,  0.13564816,\n",
       "         0.04939982],\n",
       "       [-0.06415585, -0.02087656, -0.19638693,  0.09238884,  0.35084268,\n",
       "        -0.27962375,  0.07131621,  0.00444397,  0.28684536, -0.30231133,\n",
       "        -0.1916403 ,  0.33711997,  0.08310905,  0.25126317,  0.29658017,\n",
       "         0.07627991],\n",
       "       [-0.12714589, -0.02240694, -0.11750676,  0.00210771,  0.33505413,\n",
       "         0.30326626, -0.24997386,  0.09874955, -0.2981817 ,  0.03061989,\n",
       "        -0.24255742,  0.22540858, -0.13514365, -0.21298021, -0.17845625,\n",
       "         0.05978394],\n",
       "       [-0.0836986 , -0.25736707,  0.2884986 ,  0.22071895, -0.15765607,\n",
       "        -0.18169059, -0.30642575, -0.29145283,  0.32981345, -0.28620368,\n",
       "         0.06598267,  0.29880163, -0.11646014,  0.07738122, -0.08445859,\n",
       "        -0.13006482],\n",
       "       [ 0.19589749,  0.21766081,  0.31770518, -0.1621485 , -0.08069006,\n",
       "         0.00455832, -0.26288316,  0.02848083,  0.00433746, -0.32321706,\n",
       "        -0.01475307, -0.28445676,  0.33285388, -0.16929398,  0.09201255,\n",
       "         0.25243798],\n",
       "       [ 0.3458145 ,  0.35424355, -0.0401895 , -0.21850464, -0.08313745,\n",
       "        -0.06863123, -0.17459601,  0.13086924,  0.32791033, -0.25634792,\n",
       "        -0.24592496,  0.35527244,  0.05349687, -0.21746783,  0.18333659,\n",
       "        -0.07627675],\n",
       "       [-0.07549402,  0.1742104 ,  0.05391034,  0.15236983, -0.16872224,\n",
       "         0.1035926 ,  0.00281629, -0.0043149 ,  0.33903626, -0.2327118 ,\n",
       "         0.3283951 , -0.08990449, -0.11392024, -0.3202234 ,  0.05179438,\n",
       "         0.10407394],\n",
       "       [ 0.33820435,  0.10124114, -0.08477959,  0.3120363 ,  0.26040825,\n",
       "        -0.33975834,  0.32811126, -0.33037332,  0.15075979, -0.0029743 ,\n",
       "        -0.34085172, -0.20113839, -0.2075139 , -0.29875606, -0.21451996,\n",
       "        -0.00143677],\n",
       "       [-0.27998626, -0.1971804 ,  0.3218707 , -0.34430176,  0.1616824 ,\n",
       "         0.2072201 ,  0.29803512,  0.23518816,  0.16595015, -0.05290791,\n",
       "        -0.1873503 , -0.05433744, -0.04735273,  0.12487438, -0.06678012,\n",
       "         0.1864076 ],\n",
       "       [-0.09032461, -0.29867417, -0.07947457,  0.04106626, -0.35063508,\n",
       "         0.07191387,  0.26477727,  0.32825217,  0.31213418, -0.06738761,\n",
       "         0.24439856, -0.29497814, -0.29022348,  0.24649033,  0.05352056,\n",
       "        -0.1401176 ],\n",
       "       [-0.10599241,  0.2665284 , -0.254552  , -0.03752056,  0.04810521,\n",
       "         0.08904007,  0.1205861 ,  0.0801301 , -0.24385875, -0.17100216,\n",
       "         0.32161048,  0.02047443, -0.16614197,  0.28039882, -0.21277648,\n",
       "        -0.23865645],\n",
       "       [ 0.03967872, -0.26013204, -0.05398089,  0.04383191, -0.08868393,\n",
       "         0.284686  ,  0.32701275, -0.23140807, -0.19141153, -0.28883934,\n",
       "         0.21774784,  0.27144024,  0.11701787,  0.315797  , -0.08086193,\n",
       "         0.2257531 ],\n",
       "       [ 0.11749452, -0.3487458 , -0.07549325,  0.19649437, -0.15927228,\n",
       "         0.20960924, -0.2691265 ,  0.27510628,  0.18521962,  0.16734615,\n",
       "        -0.2665581 ,  0.05463538, -0.06468877,  0.19430313, -0.09014887,\n",
       "         0.35797885],\n",
       "       [-0.12895387, -0.23304418,  0.1158171 , -0.19939171, -0.01525337,\n",
       "         0.06007266, -0.21036308,  0.07068402, -0.30475125, -0.22194408,\n",
       "         0.09871656,  0.16571298,  0.30377445, -0.12021801,  0.04881102,\n",
       "        -0.24126574]], dtype=float32)"
      ]
     },
     "execution_count": 50,
     "metadata": {},
     "output_type": "execute_result"
    }
   ],
   "source": [
    "weights"
   ]
  },
  {
   "cell_type": "code",
   "execution_count": 51,
   "id": "617bc2fc",
   "metadata": {
    "ExecuteTime": {
     "end_time": "2023-04-19T15:33:25.326149Z",
     "start_time": "2023-04-19T15:33:25.320895Z"
    }
   },
   "outputs": [
    {
     "data": {
      "text/plain": [
       "array([0., 0., 0., 0., 0., 0., 0., 0., 0., 0., 0., 0., 0., 0., 0., 0.],\n",
       "      dtype=float32)"
      ]
     },
     "execution_count": 51,
     "metadata": {},
     "output_type": "execute_result"
    }
   ],
   "source": [
    "biases"
   ]
  },
  {
   "cell_type": "markdown",
   "id": "e9279db0",
   "metadata": {},
   "source": [
    "**Question**: why the bias term is initialized as 0, while weights is not?"
   ]
  },
  {
   "cell_type": "code",
   "execution_count": 52,
   "id": "dcda8238",
   "metadata": {
    "ExecuteTime": {
     "end_time": "2023-04-19T15:33:25.341614Z",
     "start_time": "2023-04-19T15:33:25.328456Z"
    }
   },
   "outputs": [],
   "source": [
    "opt = keras.optimizers.SGD(learning_rate=0.0001)\n",
    "model.compile(loss=\"binary_crossentropy\", optimizer=opt, metrics=[\"accuracy\"])"
   ]
  },
  {
   "cell_type": "code",
   "execution_count": 53,
   "id": "6fa3aee3",
   "metadata": {
    "ExecuteTime": {
     "end_time": "2023-04-19T15:33:30.522358Z",
     "start_time": "2023-04-19T15:33:25.343829Z"
    },
    "scrolled": true
   },
   "outputs": [
    {
     "name": "stdout",
     "output_type": "stream",
     "text": [
      "Epoch 1/50\n",
      "13/13 [==============================] - 2s 23ms/step - loss: 22.7696 - accuracy: 0.2763 - val_loss: 20.6518 - val_accuracy: 0.0870\n",
      "Epoch 2/50\n",
      "13/13 [==============================] - 0s 5ms/step - loss: 17.7324 - accuracy: 0.3692 - val_loss: 13.2472 - val_accuracy: 0.6739\n",
      "Epoch 3/50\n",
      "13/13 [==============================] - 0s 5ms/step - loss: 13.8689 - accuracy: 0.4499 - val_loss: 25.9416 - val_accuracy: 0.2391\n",
      "Epoch 4/50\n",
      "13/13 [==============================] - 0s 5ms/step - loss: 14.2148 - accuracy: 0.4377 - val_loss: 22.0577 - val_accuracy: 0.2391\n",
      "Epoch 5/50\n",
      "13/13 [==============================] - 0s 5ms/step - loss: 11.0179 - accuracy: 0.4914 - val_loss: 2.3907 - val_accuracy: 0.6087\n",
      "Epoch 6/50\n",
      "13/13 [==============================] - 0s 4ms/step - loss: 12.9734 - accuracy: 0.4474 - val_loss: 17.3198 - val_accuracy: 0.2391\n",
      "Epoch 7/50\n",
      "13/13 [==============================] - 0s 4ms/step - loss: 11.9131 - accuracy: 0.4768 - val_loss: 1.6066 - val_accuracy: 0.4783\n",
      "Epoch 8/50\n",
      "13/13 [==============================] - 0s 4ms/step - loss: 14.1855 - accuracy: 0.3936 - val_loss: 4.1072 - val_accuracy: 0.2391\n",
      "Epoch 9/50\n",
      "13/13 [==============================] - 0s 5ms/step - loss: 5.9549 - accuracy: 0.5697 - val_loss: 0.4057 - val_accuracy: 0.8913\n",
      "Epoch 10/50\n",
      "13/13 [==============================] - 0s 5ms/step - loss: 3.7131 - accuracy: 0.6479 - val_loss: 12.2923 - val_accuracy: 0.2391\n",
      "Epoch 11/50\n",
      "13/13 [==============================] - 0s 5ms/step - loss: 3.1014 - accuracy: 0.7408 - val_loss: 3.1495 - val_accuracy: 0.3261\n",
      "Epoch 12/50\n",
      "13/13 [==============================] - 0s 5ms/step - loss: 3.3851 - accuracy: 0.6259 - val_loss: 0.7497 - val_accuracy: 0.9130\n",
      "Epoch 13/50\n",
      "13/13 [==============================] - 0s 5ms/step - loss: 4.0465 - accuracy: 0.5990 - val_loss: 12.7856 - val_accuracy: 0.2391\n",
      "Epoch 14/50\n",
      "13/13 [==============================] - 0s 5ms/step - loss: 1.7416 - accuracy: 0.7726 - val_loss: 0.2804 - val_accuracy: 0.9130\n",
      "Epoch 15/50\n",
      "13/13 [==============================] - 0s 5ms/step - loss: 0.6165 - accuracy: 0.8729 - val_loss: 0.0999 - val_accuracy: 0.9565\n",
      "Epoch 16/50\n",
      "13/13 [==============================] - 0s 5ms/step - loss: 0.6034 - accuracy: 0.8411 - val_loss: 0.2205 - val_accuracy: 0.9348\n",
      "Epoch 17/50\n",
      "13/13 [==============================] - 0s 5ms/step - loss: 1.9736 - accuracy: 0.7604 - val_loss: 0.1536 - val_accuracy: 0.9348\n",
      "Epoch 18/50\n",
      "13/13 [==============================] - 0s 4ms/step - loss: 2.5716 - accuracy: 0.7164 - val_loss: 1.3193 - val_accuracy: 0.8913\n",
      "Epoch 19/50\n",
      "13/13 [==============================] - 0s 5ms/step - loss: 1.6733 - accuracy: 0.7677 - val_loss: 0.7577 - val_accuracy: 0.9130\n",
      "Epoch 20/50\n",
      "13/13 [==============================] - 0s 5ms/step - loss: 1.5176 - accuracy: 0.7726 - val_loss: 1.4592 - val_accuracy: 0.6087\n",
      "Epoch 21/50\n",
      "13/13 [==============================] - 0s 4ms/step - loss: 1.0275 - accuracy: 0.8142 - val_loss: 6.3504 - val_accuracy: 0.2609\n",
      "Epoch 22/50\n",
      "13/13 [==============================] - 0s 4ms/step - loss: 3.2262 - accuracy: 0.6699 - val_loss: 0.0972 - val_accuracy: 0.9565\n",
      "Epoch 23/50\n",
      "13/13 [==============================] - 0s 5ms/step - loss: 1.0863 - accuracy: 0.8191 - val_loss: 0.4653 - val_accuracy: 0.8913\n",
      "Epoch 24/50\n",
      "13/13 [==============================] - 0s 5ms/step - loss: 0.9181 - accuracy: 0.8362 - val_loss: 1.6250 - val_accuracy: 0.6087\n",
      "Epoch 25/50\n",
      "13/13 [==============================] - 0s 4ms/step - loss: 1.5710 - accuracy: 0.7800 - val_loss: 0.4154 - val_accuracy: 0.9348\n",
      "Epoch 26/50\n",
      "13/13 [==============================] - 0s 5ms/step - loss: 0.8149 - accuracy: 0.8386 - val_loss: 0.0337 - val_accuracy: 1.0000\n",
      "Epoch 27/50\n",
      "13/13 [==============================] - 0s 4ms/step - loss: 0.7290 - accuracy: 0.8680 - val_loss: 0.2805 - val_accuracy: 0.9348\n",
      "Epoch 28/50\n",
      "13/13 [==============================] - 0s 4ms/step - loss: 0.7604 - accuracy: 0.8362 - val_loss: 0.0288 - val_accuracy: 1.0000\n",
      "Epoch 29/50\n",
      "13/13 [==============================] - 0s 4ms/step - loss: 0.6229 - accuracy: 0.8557 - val_loss: 0.2037 - val_accuracy: 0.9348\n",
      "Epoch 30/50\n",
      "13/13 [==============================] - 0s 5ms/step - loss: 1.2070 - accuracy: 0.8191 - val_loss: 0.0534 - val_accuracy: 0.9565\n",
      "Epoch 31/50\n",
      "13/13 [==============================] - 0s 5ms/step - loss: 0.5442 - accuracy: 0.8851 - val_loss: 0.0527 - val_accuracy: 0.9565\n",
      "Epoch 32/50\n",
      "13/13 [==============================] - 0s 4ms/step - loss: 0.7097 - accuracy: 0.8582 - val_loss: 0.3500 - val_accuracy: 0.8913\n",
      "Epoch 33/50\n",
      "13/13 [==============================] - 0s 4ms/step - loss: 1.0164 - accuracy: 0.8191 - val_loss: 0.0764 - val_accuracy: 0.9348\n",
      "Epoch 34/50\n",
      "13/13 [==============================] - 0s 5ms/step - loss: 0.6633 - accuracy: 0.8704 - val_loss: 0.0929 - val_accuracy: 0.9565\n",
      "Epoch 35/50\n",
      "13/13 [==============================] - 0s 4ms/step - loss: 0.7517 - accuracy: 0.8655 - val_loss: 0.3163 - val_accuracy: 0.9348\n",
      "Epoch 36/50\n",
      "13/13 [==============================] - 0s 5ms/step - loss: 1.2295 - accuracy: 0.8215 - val_loss: 0.5508 - val_accuracy: 0.9130\n",
      "Epoch 37/50\n",
      "13/13 [==============================] - 0s 5ms/step - loss: 0.7492 - accuracy: 0.8582 - val_loss: 0.0697 - val_accuracy: 0.9565\n",
      "Epoch 38/50\n",
      "13/13 [==============================] - 0s 5ms/step - loss: 0.5105 - accuracy: 0.8851 - val_loss: 0.0292 - val_accuracy: 1.0000\n",
      "Epoch 39/50\n",
      "13/13 [==============================] - 0s 5ms/step - loss: 0.5976 - accuracy: 0.8729 - val_loss: 0.4842 - val_accuracy: 0.8696\n",
      "Epoch 40/50\n",
      "13/13 [==============================] - 0s 4ms/step - loss: 1.2108 - accuracy: 0.8142 - val_loss: 0.1723 - val_accuracy: 0.9565\n",
      "Epoch 41/50\n",
      "13/13 [==============================] - 0s 4ms/step - loss: 0.9916 - accuracy: 0.8117 - val_loss: 0.2687 - val_accuracy: 0.9130\n",
      "Epoch 42/50\n",
      "13/13 [==============================] - 0s 5ms/step - loss: 0.6539 - accuracy: 0.8753 - val_loss: 1.4334 - val_accuracy: 0.6739\n",
      "Epoch 43/50\n",
      "13/13 [==============================] - 0s 5ms/step - loss: 1.2534 - accuracy: 0.7897 - val_loss: 0.6242 - val_accuracy: 0.9130\n",
      "Epoch 44/50\n",
      "13/13 [==============================] - 0s 5ms/step - loss: 0.7049 - accuracy: 0.8606 - val_loss: 0.1136 - val_accuracy: 0.9565\n",
      "Epoch 45/50\n",
      "13/13 [==============================] - 0s 5ms/step - loss: 0.9318 - accuracy: 0.8484 - val_loss: 0.0459 - val_accuracy: 0.9783\n",
      "Epoch 46/50\n",
      "13/13 [==============================] - 0s 5ms/step - loss: 1.1765 - accuracy: 0.8191 - val_loss: 0.8957 - val_accuracy: 0.9130\n",
      "Epoch 47/50\n",
      "13/13 [==============================] - 0s 5ms/step - loss: 0.7896 - accuracy: 0.8460 - val_loss: 0.1100 - val_accuracy: 0.9348\n",
      "Epoch 48/50\n",
      "13/13 [==============================] - 0s 5ms/step - loss: 1.6157 - accuracy: 0.7506 - val_loss: 1.1110 - val_accuracy: 0.8913\n",
      "Epoch 49/50\n",
      "13/13 [==============================] - 0s 5ms/step - loss: 0.7351 - accuracy: 0.8460 - val_loss: 0.2757 - val_accuracy: 0.9348\n",
      "Epoch 50/50\n",
      "13/13 [==============================] - 0s 4ms/step - loss: 0.6641 - accuracy: 0.8753 - val_loss: 0.1373 - val_accuracy: 0.9565\n"
     ]
    }
   ],
   "source": [
    "history = model.fit(X_train, y_train, epochs=50, validation_split=0.1)"
   ]
  },
  {
   "cell_type": "code",
   "execution_count": 54,
   "id": "e4e7d71f",
   "metadata": {
    "ExecuteTime": {
     "end_time": "2023-04-19T15:33:31.296973Z",
     "start_time": "2023-04-19T15:33:30.525522Z"
    },
    "scrolled": false
   },
   "outputs": [
    {
     "data": {
      "image/png": "[encoded data removed]",
      "text/plain": [
       "<Figure size 360x360 with 1 Axes>"
      ]
     },
     "metadata": {
      "needs_background": "light"
     },
     "output_type": "display_data"
    },
    {
     "data": {
      "image/png": "[encoded data removed]",
      "text/plain": [
       "<Figure size 360x360 with 1 Axes>"
      ]
     },
     "metadata": {
      "needs_background": "light"
     },
     "output_type": "display_data"
    }
   ],
   "source": [
    "y_score = model.predict(X_test)\n",
    "\n",
    "plot_roc_curve(y_test, y_score, title = \"ROC (XGBoost)\")\n",
    "plt.show()\n",
    "\n",
    "plot_prroc_curve(y_test, y_score, title = \"PR-ROC (XGBoost)\")\n",
    "plt.show()"
   ]
  },
  {
   "cell_type": "markdown",
   "id": "1e38ebd9",
   "metadata": {},
   "source": [
    "**Exercise**: reduce the hidden layer's number to 8, try and see if you can get the results better"
   ]
  },
  {
   "cell_type": "code",
   "execution_count": 55,
   "id": "16c20e5a",
   "metadata": {
    "ExecuteTime": {
     "end_time": "2023-04-19T15:33:31.305245Z",
     "start_time": "2023-04-19T15:33:31.299566Z"
    },
    "scrolled": false
   },
   "outputs": [
    {
     "data": {
      "text/html": [
       "\n",
       "<form action=\"javascript:code_toggle()\"><input type=\"submit\" id=\"toggleButton\" value=\"Show Sloution\"></form>\n"
      ],
      "text/plain": [
       "<IPython.core.display.HTML object>"
      ]
     },
     "metadata": {},
     "output_type": "display_data"
    }
   ],
   "source": [
    "hide_solution()\n",
    "# model.add(keras.layers.Dense(8, activation=\"relu\"))"
   ]
  },
  {
   "cell_type": "markdown",
   "id": "e45f075b",
   "metadata": {},
   "source": [
    "<a id='linear_nonseparable'></a>\n",
    "# 3. An linearly nonseparable example\n",
    "\n",
    "The following contents will consider a simple but useful example: \n",
    "\n",
    "<div>\n",
    "<img src=\"SyntheticDataset.png\" width=\"300\"/>\n",
    "</div>\n",
    "\n",
    "The day2 folder contains the corresponding files:\n",
    "* ```CollML_testdataset_features.dat```: contains feature values (2 features for 500 samples)\n",
    "* ```CollML_testdataset_labels.dat```: contains the class (500 labels)\n",
    "\n",
    "We will try to run the predict the label based on the features"
   ]
  },
  {
   "cell_type": "code",
   "execution_count": 56,
   "id": "7e76032e",
   "metadata": {
    "ExecuteTime": {
     "end_time": "2023-04-19T15:33:31.321694Z",
     "start_time": "2023-04-19T15:33:31.307344Z"
    }
   },
   "outputs": [],
   "source": [
    "features_origin = np.loadtxt('CollML_testdataset_features.dat')\n",
    "labels_origin = np.loadtxt('CollML_testdataset_labels.dat')"
   ]
  },
  {
   "cell_type": "markdown",
   "id": "1cd36ebe",
   "metadata": {},
   "source": [
    "### Explore"
   ]
  },
  {
   "cell_type": "code",
   "execution_count": 57,
   "id": "637307fd",
   "metadata": {
    "ExecuteTime": {
     "end_time": "2023-04-19T15:33:31.330766Z",
     "start_time": "2023-04-19T15:33:31.324606Z"
    }
   },
   "outputs": [
    {
     "name": "stdout",
     "output_type": "stream",
     "text": [
      "Shape of features (500, 2)\n",
      "Shape of labels (500,)\n"
     ]
    }
   ],
   "source": [
    "# check the #samples and #features\n",
    "print(\"Shape of features\", features_origin.shape)\n",
    "print(\"Shape of labels\", labels_origin.shape)"
   ]
  },
  {
   "cell_type": "code",
   "execution_count": 58,
   "id": "6cd156cd",
   "metadata": {
    "ExecuteTime": {
     "end_time": "2023-04-19T15:33:31.339986Z",
     "start_time": "2023-04-19T15:33:31.333313Z"
    }
   },
   "outputs": [
    {
     "data": {
      "text/plain": [
       "array([0., 1.])"
      ]
     },
     "execution_count": 58,
     "metadata": {},
     "output_type": "execute_result"
    }
   ],
   "source": [
    "np.unique(labels_origin)   ## shows unique values in an array"
   ]
  },
  {
   "cell_type": "code",
   "execution_count": 59,
   "id": "0f4dea3b",
   "metadata": {
    "ExecuteTime": {
     "end_time": "2023-04-19T15:33:31.348563Z",
     "start_time": "2023-04-19T15:33:31.342443Z"
    }
   },
   "outputs": [
    {
     "data": {
      "text/plain": [
       "250"
      ]
     },
     "execution_count": 59,
     "metadata": {},
     "output_type": "execute_result"
    }
   ],
   "source": [
    "# how many zeros are there?\n",
    "np.count_nonzero(labels_origin)"
   ]
  },
  {
   "cell_type": "code",
   "execution_count": 60,
   "id": "f0dccc6c",
   "metadata": {
    "ExecuteTime": {
     "end_time": "2023-04-19T15:33:31.356836Z",
     "start_time": "2023-04-19T15:33:31.350900Z"
    }
   },
   "outputs": [
    {
     "data": {
      "text/plain": [
       "250"
      ]
     },
     "execution_count": 60,
     "metadata": {},
     "output_type": "execute_result"
    }
   ],
   "source": [
    "(labels_origin == 1).sum()"
   ]
  },
  {
   "cell_type": "code",
   "execution_count": 61,
   "id": "9acc96d8",
   "metadata": {
    "ExecuteTime": {
     "end_time": "2023-04-19T15:33:31.365288Z",
     "start_time": "2023-04-19T15:33:31.359154Z"
    }
   },
   "outputs": [
    {
     "data": {
      "text/plain": [
       "array([0.07779135, 2.03231621])"
      ]
     },
     "execution_count": 61,
     "metadata": {},
     "output_type": "execute_result"
    }
   ],
   "source": [
    "features_origin[0, :]"
   ]
  },
  {
   "cell_type": "code",
   "execution_count": 62,
   "id": "88c3b5d7",
   "metadata": {
    "ExecuteTime": {
     "end_time": "2023-04-19T15:33:31.373401Z",
     "start_time": "2023-04-19T15:33:31.367396Z"
    }
   },
   "outputs": [
    {
     "data": {
      "text/plain": [
       "1.0"
      ]
     },
     "execution_count": 62,
     "metadata": {},
     "output_type": "execute_result"
    }
   ],
   "source": [
    "labels_origin[0]"
   ]
  },
  {
   "cell_type": "markdown",
   "id": "af672596",
   "metadata": {},
   "source": [
    "### Split data"
   ]
  },
  {
   "cell_type": "code",
   "execution_count": 63,
   "id": "61101385",
   "metadata": {
    "ExecuteTime": {
     "end_time": "2023-04-19T15:33:31.381694Z",
     "start_time": "2023-04-19T15:33:31.375993Z"
    }
   },
   "outputs": [],
   "source": [
    "features, features_test, labels, labels_test = train_test_split(features_origin, labels_origin, \n",
    "                                                                test_size=0.2, random_state=2022)"
   ]
  },
  {
   "cell_type": "code",
   "execution_count": 64,
   "id": "3d717f00",
   "metadata": {
    "ExecuteTime": {
     "end_time": "2023-04-19T15:33:31.388774Z",
     "start_time": "2023-04-19T15:33:31.383972Z"
    }
   },
   "outputs": [
    {
     "name": "stdout",
     "output_type": "stream",
     "text": [
      "Shape of the whole dataset (500, 2)\n",
      "Shape of the train dataset (400, 2)\n",
      "Shape of the test dataset (100, 2)\n"
     ]
    }
   ],
   "source": [
    "print(\"Shape of the whole dataset\",features_origin.shape)\n",
    "print(\"Shape of the train dataset\",features.shape)\n",
    "print(\"Shape of the test dataset\",features_test.shape)"
   ]
  },
  {
   "cell_type": "code",
   "execution_count": 65,
   "id": "b4b32130",
   "metadata": {
    "ExecuteTime": {
     "end_time": "2023-04-19T15:33:31.719526Z",
     "start_time": "2023-04-19T15:33:31.391339Z"
    }
   },
   "outputs": [
    {
     "data": {
      "image/png": "[encoded data removed]",
      "text/plain": [
       "<Figure size 432x288 with 1 Axes>"
      ]
     },
     "metadata": {
      "needs_background": "light"
     },
     "output_type": "display_data"
    }
   ],
   "source": [
    "# let's take a look at the visualization\n",
    "plt.plot( features[ labels == 0, 0 ], features[ labels == 0, 1 ], 'o',\n",
    "           markersize=5, color='b')\n",
    "plt.plot( features[ labels == 1, 0 ], features[ labels == 1, 1 ], 's',\n",
    "           markersize=4, color='r')\n",
    "\n",
    "plt.xlabel('X1')\n",
    "plt.ylabel('X2')\n",
    "plt.tight_layout()"
   ]
  },
  {
   "cell_type": "markdown",
   "id": "6087df49",
   "metadata": {},
   "source": [
    "<a id='log_reg_underfit'></a>\n",
    "## 3.1 Logistic regression"
   ]
  },
  {
   "cell_type": "code",
   "execution_count": 66,
   "id": "4a350a32",
   "metadata": {
    "ExecuteTime": {
     "end_time": "2023-04-19T15:33:32.357669Z",
     "start_time": "2023-04-19T15:33:31.722194Z"
    }
   },
   "outputs": [
    {
     "data": {
      "image/png": "[encoded data removed]",
      "text/plain": [
       "<Figure size 432x288 with 2 Axes>"
      ]
     },
     "metadata": {
      "needs_background": "light"
     },
     "output_type": "display_data"
    },
    {
     "data": {
      "image/png": "[encoded data removed]",
      "text/plain": [
       "<Figure size 360x360 with 1 Axes>"
      ]
     },
     "metadata": {
      "needs_background": "light"
     },
     "output_type": "display_data"
    }
   ],
   "source": [
    "log_reg = LogisticRegression()\n",
    "log_reg.fit(features, labels)\n",
    "\n",
    "labels_pred = log_reg.predict( features_test )\n",
    "labels_score= log_reg.predict_proba( features_test )\n",
    "cm_test = confusion_matrix(labels_pred, labels_test)\n",
    "cm_display = ConfusionMatrixDisplay(cm_test).plot()\n",
    "\n",
    "\n",
    "plot_roc_curve(labels_test, labels_score[:,1], title = \"ROC (Logistic regression)\")\n",
    "plt.show()"
   ]
  },
  {
   "cell_type": "markdown",
   "id": "fd26ee67",
   "metadata": {},
   "source": [
    "**seems pretty bad!** clearly the linear classifier clearly underfit the data, let's try some classifier that can adapt to the non-linear scenario."
   ]
  },
  {
   "cell_type": "markdown",
   "id": "555b9995",
   "metadata": {},
   "source": [
    "<a id='decision_tree_overfit'></a>\n",
    "## 3.2 Decision tree"
   ]
  },
  {
   "cell_type": "code",
   "execution_count": 67,
   "id": "6935c85a",
   "metadata": {
    "ExecuteTime": {
     "end_time": "2023-04-19T15:33:32.366845Z",
     "start_time": "2023-04-19T15:33:32.359810Z"
    }
   },
   "outputs": [
    {
     "data": {
      "text/plain": [
       "DecisionTreeClassifier()"
      ]
     },
     "execution_count": 67,
     "metadata": {},
     "output_type": "execute_result"
    }
   ],
   "source": [
    "from sklearn.tree import DecisionTreeClassifier\n",
    "tree_clf = DecisionTreeClassifier()\n",
    "tree_clf.fit( features, labels )"
   ]
  },
  {
   "cell_type": "markdown",
   "id": "3da57b88",
   "metadata": {},
   "source": [
    "To find the accuracy of this classifier, we can use the method `score`."
   ]
  },
  {
   "cell_type": "code",
   "execution_count": 68,
   "id": "f629747a",
   "metadata": {
    "ExecuteTime": {
     "end_time": "2023-04-19T15:33:32.374431Z",
     "start_time": "2023-04-19T15:33:32.368607Z"
    }
   },
   "outputs": [
    {
     "data": {
      "text/plain": [
       "1.0"
      ]
     },
     "execution_count": 68,
     "metadata": {},
     "output_type": "execute_result"
    }
   ],
   "source": [
    "tree_clf.score( features, labels )"
   ]
  },
  {
   "cell_type": "markdown",
   "id": "a730e60d",
   "metadata": {},
   "source": [
    "That means that our classifier was able to perfectly reproduce all points. Is it too good to be true?"
   ]
  },
  {
   "cell_type": "markdown",
   "id": "43ce627e",
   "metadata": {},
   "source": [
    "### Drawing the decision boundary\n",
    "check if we are overfitting by inspecting the model fitting"
   ]
  },
  {
   "cell_type": "code",
   "execution_count": 69,
   "id": "24c42523",
   "metadata": {
    "ExecuteTime": {
     "end_time": "2023-04-19T15:33:32.380238Z",
     "start_time": "2023-04-19T15:33:32.376402Z"
    }
   },
   "outputs": [],
   "source": [
    "delta = 0.01\n",
    "x     = np.arange(-2.0, 5.001, delta)\n",
    "y     = np.arange(-2.0, 5.001, delta)"
   ]
  },
  {
   "cell_type": "code",
   "execution_count": 70,
   "id": "dc0dffdf",
   "metadata": {
    "ExecuteTime": {
     "end_time": "2023-04-19T15:33:32.398159Z",
     "start_time": "2023-04-19T15:33:32.382282Z"
    }
   },
   "outputs": [
    {
     "data": {
      "text/plain": [
       "array([-2.00000000e+00, -1.99000000e+00, -1.98000000e+00, -1.97000000e+00,\n",
       "       -1.96000000e+00, -1.95000000e+00, -1.94000000e+00, -1.93000000e+00,\n",
       "       -1.92000000e+00, -1.91000000e+00, -1.90000000e+00, -1.89000000e+00,\n",
       "       -1.88000000e+00, -1.87000000e+00, -1.86000000e+00, -1.85000000e+00,\n",
       "       -1.84000000e+00, -1.83000000e+00, -1.82000000e+00, -1.81000000e+00,\n",
       "       -1.80000000e+00, -1.79000000e+00, -1.78000000e+00, -1.77000000e+00,\n",
       "       -1.76000000e+00, -1.75000000e+00, -1.74000000e+00, -1.73000000e+00,\n",
       "       -1.72000000e+00, -1.71000000e+00, -1.70000000e+00, -1.69000000e+00,\n",
       "       -1.68000000e+00, -1.67000000e+00, -1.66000000e+00, -1.65000000e+00,\n",
       "       -1.64000000e+00, -1.63000000e+00, -1.62000000e+00, -1.61000000e+00,\n",
       "       -1.60000000e+00, -1.59000000e+00, -1.58000000e+00, -1.57000000e+00,\n",
       "       -1.56000000e+00, -1.55000000e+00, -1.54000000e+00, -1.53000000e+00,\n",
       "       -1.52000000e+00, -1.51000000e+00, -1.50000000e+00, -1.49000000e+00,\n",
       "       -1.48000000e+00, -1.47000000e+00, -1.46000000e+00, -1.45000000e+00,\n",
       "       -1.44000000e+00, -1.43000000e+00, -1.42000000e+00, -1.41000000e+00,\n",
       "       -1.40000000e+00, -1.39000000e+00, -1.38000000e+00, -1.37000000e+00,\n",
       "       -1.36000000e+00, -1.35000000e+00, -1.34000000e+00, -1.33000000e+00,\n",
       "       -1.32000000e+00, -1.31000000e+00, -1.30000000e+00, -1.29000000e+00,\n",
       "       -1.28000000e+00, -1.27000000e+00, -1.26000000e+00, -1.25000000e+00,\n",
       "       -1.24000000e+00, -1.23000000e+00, -1.22000000e+00, -1.21000000e+00,\n",
       "       -1.20000000e+00, -1.19000000e+00, -1.18000000e+00, -1.17000000e+00,\n",
       "       -1.16000000e+00, -1.15000000e+00, -1.14000000e+00, -1.13000000e+00,\n",
       "       -1.12000000e+00, -1.11000000e+00, -1.10000000e+00, -1.09000000e+00,\n",
       "       -1.08000000e+00, -1.07000000e+00, -1.06000000e+00, -1.05000000e+00,\n",
       "       -1.04000000e+00, -1.03000000e+00, -1.02000000e+00, -1.01000000e+00,\n",
       "       -1.00000000e+00, -9.90000000e-01, -9.80000000e-01, -9.70000000e-01,\n",
       "       -9.60000000e-01, -9.50000000e-01, -9.40000000e-01, -9.30000000e-01,\n",
       "       -9.20000000e-01, -9.10000000e-01, -9.00000000e-01, -8.90000000e-01,\n",
       "       -8.80000000e-01, -8.70000000e-01, -8.60000000e-01, -8.50000000e-01,\n",
       "       -8.40000000e-01, -8.30000000e-01, -8.20000000e-01, -8.10000000e-01,\n",
       "       -8.00000000e-01, -7.90000000e-01, -7.80000000e-01, -7.70000000e-01,\n",
       "       -7.60000000e-01, -7.50000000e-01, -7.40000000e-01, -7.30000000e-01,\n",
       "       -7.20000000e-01, -7.10000000e-01, -7.00000000e-01, -6.90000000e-01,\n",
       "       -6.80000000e-01, -6.70000000e-01, -6.60000000e-01, -6.50000000e-01,\n",
       "       -6.40000000e-01, -6.30000000e-01, -6.20000000e-01, -6.10000000e-01,\n",
       "       -6.00000000e-01, -5.90000000e-01, -5.80000000e-01, -5.70000000e-01,\n",
       "       -5.60000000e-01, -5.50000000e-01, -5.40000000e-01, -5.30000000e-01,\n",
       "       -5.20000000e-01, -5.10000000e-01, -5.00000000e-01, -4.90000000e-01,\n",
       "       -4.80000000e-01, -4.70000000e-01, -4.60000000e-01, -4.50000000e-01,\n",
       "       -4.40000000e-01, -4.30000000e-01, -4.20000000e-01, -4.10000000e-01,\n",
       "       -4.00000000e-01, -3.90000000e-01, -3.80000000e-01, -3.70000000e-01,\n",
       "       -3.60000000e-01, -3.50000000e-01, -3.40000000e-01, -3.30000000e-01,\n",
       "       -3.20000000e-01, -3.10000000e-01, -3.00000000e-01, -2.90000000e-01,\n",
       "       -2.80000000e-01, -2.70000000e-01, -2.60000000e-01, -2.50000000e-01,\n",
       "       -2.40000000e-01, -2.30000000e-01, -2.20000000e-01, -2.10000000e-01,\n",
       "       -2.00000000e-01, -1.90000000e-01, -1.80000000e-01, -1.70000000e-01,\n",
       "       -1.60000000e-01, -1.50000000e-01, -1.40000000e-01, -1.30000000e-01,\n",
       "       -1.20000000e-01, -1.10000000e-01, -1.00000000e-01, -9.00000000e-02,\n",
       "       -8.00000000e-02, -7.00000000e-02, -6.00000000e-02, -5.00000000e-02,\n",
       "       -4.00000000e-02, -3.00000000e-02, -2.00000000e-02, -1.00000000e-02,\n",
       "        1.77635684e-15,  1.00000000e-02,  2.00000000e-02,  3.00000000e-02,\n",
       "        4.00000000e-02,  5.00000000e-02,  6.00000000e-02,  7.00000000e-02,\n",
       "        8.00000000e-02,  9.00000000e-02,  1.00000000e-01,  1.10000000e-01,\n",
       "        1.20000000e-01,  1.30000000e-01,  1.40000000e-01,  1.50000000e-01,\n",
       "        1.60000000e-01,  1.70000000e-01,  1.80000000e-01,  1.90000000e-01,\n",
       "        2.00000000e-01,  2.10000000e-01,  2.20000000e-01,  2.30000000e-01,\n",
       "        2.40000000e-01,  2.50000000e-01,  2.60000000e-01,  2.70000000e-01,\n",
       "        2.80000000e-01,  2.90000000e-01,  3.00000000e-01,  3.10000000e-01,\n",
       "        3.20000000e-01,  3.30000000e-01,  3.40000000e-01,  3.50000000e-01,\n",
       "        3.60000000e-01,  3.70000000e-01,  3.80000000e-01,  3.90000000e-01,\n",
       "        4.00000000e-01,  4.10000000e-01,  4.20000000e-01,  4.30000000e-01,\n",
       "        4.40000000e-01,  4.50000000e-01,  4.60000000e-01,  4.70000000e-01,\n",
       "        4.80000000e-01,  4.90000000e-01,  5.00000000e-01,  5.10000000e-01,\n",
       "        5.20000000e-01,  5.30000000e-01,  5.40000000e-01,  5.50000000e-01,\n",
       "        5.60000000e-01,  5.70000000e-01,  5.80000000e-01,  5.90000000e-01,\n",
       "        6.00000000e-01,  6.10000000e-01,  6.20000000e-01,  6.30000000e-01,\n",
       "        6.40000000e-01,  6.50000000e-01,  6.60000000e-01,  6.70000000e-01,\n",
       "        6.80000000e-01,  6.90000000e-01,  7.00000000e-01,  7.10000000e-01,\n",
       "        7.20000000e-01,  7.30000000e-01,  7.40000000e-01,  7.50000000e-01,\n",
       "        7.60000000e-01,  7.70000000e-01,  7.80000000e-01,  7.90000000e-01,\n",
       "        8.00000000e-01,  8.10000000e-01,  8.20000000e-01,  8.30000000e-01,\n",
       "        8.40000000e-01,  8.50000000e-01,  8.60000000e-01,  8.70000000e-01,\n",
       "        8.80000000e-01,  8.90000000e-01,  9.00000000e-01,  9.10000000e-01,\n",
       "        9.20000000e-01,  9.30000000e-01,  9.40000000e-01,  9.50000000e-01,\n",
       "        9.60000000e-01,  9.70000000e-01,  9.80000000e-01,  9.90000000e-01,\n",
       "        1.00000000e+00,  1.01000000e+00,  1.02000000e+00,  1.03000000e+00,\n",
       "        1.04000000e+00,  1.05000000e+00,  1.06000000e+00,  1.07000000e+00,\n",
       "        1.08000000e+00,  1.09000000e+00,  1.10000000e+00,  1.11000000e+00,\n",
       "        1.12000000e+00,  1.13000000e+00,  1.14000000e+00,  1.15000000e+00,\n",
       "        1.16000000e+00,  1.17000000e+00,  1.18000000e+00,  1.19000000e+00,\n",
       "        1.20000000e+00,  1.21000000e+00,  1.22000000e+00,  1.23000000e+00,\n",
       "        1.24000000e+00,  1.25000000e+00,  1.26000000e+00,  1.27000000e+00,\n",
       "        1.28000000e+00,  1.29000000e+00,  1.30000000e+00,  1.31000000e+00,\n",
       "        1.32000000e+00,  1.33000000e+00,  1.34000000e+00,  1.35000000e+00,\n",
       "        1.36000000e+00,  1.37000000e+00,  1.38000000e+00,  1.39000000e+00,\n",
       "        1.40000000e+00,  1.41000000e+00,  1.42000000e+00,  1.43000000e+00,\n",
       "        1.44000000e+00,  1.45000000e+00,  1.46000000e+00,  1.47000000e+00,\n",
       "        1.48000000e+00,  1.49000000e+00,  1.50000000e+00,  1.51000000e+00,\n",
       "        1.52000000e+00,  1.53000000e+00,  1.54000000e+00,  1.55000000e+00,\n",
       "        1.56000000e+00,  1.57000000e+00,  1.58000000e+00,  1.59000000e+00,\n",
       "        1.60000000e+00,  1.61000000e+00,  1.62000000e+00,  1.63000000e+00,\n",
       "        1.64000000e+00,  1.65000000e+00,  1.66000000e+00,  1.67000000e+00,\n",
       "        1.68000000e+00,  1.69000000e+00,  1.70000000e+00,  1.71000000e+00,\n",
       "        1.72000000e+00,  1.73000000e+00,  1.74000000e+00,  1.75000000e+00,\n",
       "        1.76000000e+00,  1.77000000e+00,  1.78000000e+00,  1.79000000e+00,\n",
       "        1.80000000e+00,  1.81000000e+00,  1.82000000e+00,  1.83000000e+00,\n",
       "        1.84000000e+00,  1.85000000e+00,  1.86000000e+00,  1.87000000e+00,\n",
       "        1.88000000e+00,  1.89000000e+00,  1.90000000e+00,  1.91000000e+00,\n",
       "        1.92000000e+00,  1.93000000e+00,  1.94000000e+00,  1.95000000e+00,\n",
       "        1.96000000e+00,  1.97000000e+00,  1.98000000e+00,  1.99000000e+00,\n",
       "        2.00000000e+00,  2.01000000e+00,  2.02000000e+00,  2.03000000e+00,\n",
       "        2.04000000e+00,  2.05000000e+00,  2.06000000e+00,  2.07000000e+00,\n",
       "        2.08000000e+00,  2.09000000e+00,  2.10000000e+00,  2.11000000e+00,\n",
       "        2.12000000e+00,  2.13000000e+00,  2.14000000e+00,  2.15000000e+00,\n",
       "        2.16000000e+00,  2.17000000e+00,  2.18000000e+00,  2.19000000e+00,\n",
       "        2.20000000e+00,  2.21000000e+00,  2.22000000e+00,  2.23000000e+00,\n",
       "        2.24000000e+00,  2.25000000e+00,  2.26000000e+00,  2.27000000e+00,\n",
       "        2.28000000e+00,  2.29000000e+00,  2.30000000e+00,  2.31000000e+00,\n",
       "        2.32000000e+00,  2.33000000e+00,  2.34000000e+00,  2.35000000e+00,\n",
       "        2.36000000e+00,  2.37000000e+00,  2.38000000e+00,  2.39000000e+00,\n",
       "        2.40000000e+00,  2.41000000e+00,  2.42000000e+00,  2.43000000e+00,\n",
       "        2.44000000e+00,  2.45000000e+00,  2.46000000e+00,  2.47000000e+00,\n",
       "        2.48000000e+00,  2.49000000e+00,  2.50000000e+00,  2.51000000e+00,\n",
       "        2.52000000e+00,  2.53000000e+00,  2.54000000e+00,  2.55000000e+00,\n",
       "        2.56000000e+00,  2.57000000e+00,  2.58000000e+00,  2.59000000e+00,\n",
       "        2.60000000e+00,  2.61000000e+00,  2.62000000e+00,  2.63000000e+00,\n",
       "        2.64000000e+00,  2.65000000e+00,  2.66000000e+00,  2.67000000e+00,\n",
       "        2.68000000e+00,  2.69000000e+00,  2.70000000e+00,  2.71000000e+00,\n",
       "        2.72000000e+00,  2.73000000e+00,  2.74000000e+00,  2.75000000e+00,\n",
       "        2.76000000e+00,  2.77000000e+00,  2.78000000e+00,  2.79000000e+00,\n",
       "        2.80000000e+00,  2.81000000e+00,  2.82000000e+00,  2.83000000e+00,\n",
       "        2.84000000e+00,  2.85000000e+00,  2.86000000e+00,  2.87000000e+00,\n",
       "        2.88000000e+00,  2.89000000e+00,  2.90000000e+00,  2.91000000e+00,\n",
       "        2.92000000e+00,  2.93000000e+00,  2.94000000e+00,  2.95000000e+00,\n",
       "        2.96000000e+00,  2.97000000e+00,  2.98000000e+00,  2.99000000e+00,\n",
       "        3.00000000e+00,  3.01000000e+00,  3.02000000e+00,  3.03000000e+00,\n",
       "        3.04000000e+00,  3.05000000e+00,  3.06000000e+00,  3.07000000e+00,\n",
       "        3.08000000e+00,  3.09000000e+00,  3.10000000e+00,  3.11000000e+00,\n",
       "        3.12000000e+00,  3.13000000e+00,  3.14000000e+00,  3.15000000e+00,\n",
       "        3.16000000e+00,  3.17000000e+00,  3.18000000e+00,  3.19000000e+00,\n",
       "        3.20000000e+00,  3.21000000e+00,  3.22000000e+00,  3.23000000e+00,\n",
       "        3.24000000e+00,  3.25000000e+00,  3.26000000e+00,  3.27000000e+00,\n",
       "        3.28000000e+00,  3.29000000e+00,  3.30000000e+00,  3.31000000e+00,\n",
       "        3.32000000e+00,  3.33000000e+00,  3.34000000e+00,  3.35000000e+00,\n",
       "        3.36000000e+00,  3.37000000e+00,  3.38000000e+00,  3.39000000e+00,\n",
       "        3.40000000e+00,  3.41000000e+00,  3.42000000e+00,  3.43000000e+00,\n",
       "        3.44000000e+00,  3.45000000e+00,  3.46000000e+00,  3.47000000e+00,\n",
       "        3.48000000e+00,  3.49000000e+00,  3.50000000e+00,  3.51000000e+00,\n",
       "        3.52000000e+00,  3.53000000e+00,  3.54000000e+00,  3.55000000e+00,\n",
       "        3.56000000e+00,  3.57000000e+00,  3.58000000e+00,  3.59000000e+00,\n",
       "        3.60000000e+00,  3.61000000e+00,  3.62000000e+00,  3.63000000e+00,\n",
       "        3.64000000e+00,  3.65000000e+00,  3.66000000e+00,  3.67000000e+00,\n",
       "        3.68000000e+00,  3.69000000e+00,  3.70000000e+00,  3.71000000e+00,\n",
       "        3.72000000e+00,  3.73000000e+00,  3.74000000e+00,  3.75000000e+00,\n",
       "        3.76000000e+00,  3.77000000e+00,  3.78000000e+00,  3.79000000e+00,\n",
       "        3.80000000e+00,  3.81000000e+00,  3.82000000e+00,  3.83000000e+00,\n",
       "        3.84000000e+00,  3.85000000e+00,  3.86000000e+00,  3.87000000e+00,\n",
       "        3.88000000e+00,  3.89000000e+00,  3.90000000e+00,  3.91000000e+00,\n",
       "        3.92000000e+00,  3.93000000e+00,  3.94000000e+00,  3.95000000e+00,\n",
       "        3.96000000e+00,  3.97000000e+00,  3.98000000e+00,  3.99000000e+00,\n",
       "        4.00000000e+00,  4.01000000e+00,  4.02000000e+00,  4.03000000e+00,\n",
       "        4.04000000e+00,  4.05000000e+00,  4.06000000e+00,  4.07000000e+00,\n",
       "        4.08000000e+00,  4.09000000e+00,  4.10000000e+00,  4.11000000e+00,\n",
       "        4.12000000e+00,  4.13000000e+00,  4.14000000e+00,  4.15000000e+00,\n",
       "        4.16000000e+00,  4.17000000e+00,  4.18000000e+00,  4.19000000e+00,\n",
       "        4.20000000e+00,  4.21000000e+00,  4.22000000e+00,  4.23000000e+00,\n",
       "        4.24000000e+00,  4.25000000e+00,  4.26000000e+00,  4.27000000e+00,\n",
       "        4.28000000e+00,  4.29000000e+00,  4.30000000e+00,  4.31000000e+00,\n",
       "        4.32000000e+00,  4.33000000e+00,  4.34000000e+00,  4.35000000e+00,\n",
       "        4.36000000e+00,  4.37000000e+00,  4.38000000e+00,  4.39000000e+00,\n",
       "        4.40000000e+00,  4.41000000e+00,  4.42000000e+00,  4.43000000e+00,\n",
       "        4.44000000e+00,  4.45000000e+00,  4.46000000e+00,  4.47000000e+00,\n",
       "        4.48000000e+00,  4.49000000e+00,  4.50000000e+00,  4.51000000e+00,\n",
       "        4.52000000e+00,  4.53000000e+00,  4.54000000e+00,  4.55000000e+00,\n",
       "        4.56000000e+00,  4.57000000e+00,  4.58000000e+00,  4.59000000e+00,\n",
       "        4.60000000e+00,  4.61000000e+00,  4.62000000e+00,  4.63000000e+00,\n",
       "        4.64000000e+00,  4.65000000e+00,  4.66000000e+00,  4.67000000e+00,\n",
       "        4.68000000e+00,  4.69000000e+00,  4.70000000e+00,  4.71000000e+00,\n",
       "        4.72000000e+00,  4.73000000e+00,  4.74000000e+00,  4.75000000e+00,\n",
       "        4.76000000e+00,  4.77000000e+00,  4.78000000e+00,  4.79000000e+00,\n",
       "        4.80000000e+00,  4.81000000e+00,  4.82000000e+00,  4.83000000e+00,\n",
       "        4.84000000e+00,  4.85000000e+00,  4.86000000e+00,  4.87000000e+00,\n",
       "        4.88000000e+00,  4.89000000e+00,  4.90000000e+00,  4.91000000e+00,\n",
       "        4.92000000e+00,  4.93000000e+00,  4.94000000e+00,  4.95000000e+00,\n",
       "        4.96000000e+00,  4.97000000e+00,  4.98000000e+00,  4.99000000e+00,\n",
       "        5.00000000e+00])"
      ]
     },
     "execution_count": 70,
     "metadata": {},
     "output_type": "execute_result"
    }
   ],
   "source": [
    "x"
   ]
  },
  {
   "cell_type": "code",
   "execution_count": 71,
   "id": "61a40e93",
   "metadata": {
    "ExecuteTime": {
     "end_time": "2023-04-19T15:33:32.766883Z",
     "start_time": "2023-04-19T15:33:32.400048Z"
    }
   },
   "outputs": [
    {
     "data": {
      "image/png": "[encoded data removed]",
      "text/plain": [
       "<Figure size 432x288 with 1 Axes>"
      ]
     },
     "metadata": {
      "needs_background": "light"
     },
     "output_type": "display_data"
    }
   ],
   "source": [
    "X, Y = np.meshgrid(x, y)\n",
    "Z    = tree_clf.predict( np.c_[X.ravel(), Y.ravel()] ) \n",
    "# c_[a, b] concatenates two arrays horizontally. thus, np.c_[X.ravel(), Y.ravel()] is (len(x) len(y)) x 2 matrix, containing all the grid points.\n",
    "# Z contains prediction result for each grid point.\n",
    "# reshape to fit to the shape of the original grid\n",
    "Z    = Z.reshape( X.shape ) \n",
    "\n",
    "plt.contourf( X, Y, Z, cmap=plt.get_cmap('jet')) # draws filled contours. blue for class 0, red for class 1.\n",
    "\n",
    "plt.show()"
   ]
  },
  {
   "cell_type": "markdown",
   "id": "b6403ea6",
   "metadata": {},
   "source": [
    "### useage of `meshgrid` and `ravel`"
   ]
  },
  {
   "cell_type": "markdown",
   "id": "f78ed083",
   "metadata": {},
   "source": [
    "The `meshgrid` function returns coordinate matrices from the two coordinate vectors. If two vectors (one with length `a` and the other with length `b`) are given as its argument, it returns two 2-dimensional `a x b` arrays, each corresponding to x-coordinates and y-coordinates of `a x b` grid."
   ]
  },
  {
   "cell_type": "code",
   "execution_count": 72,
   "id": "3890bde4",
   "metadata": {
    "ExecuteTime": {
     "end_time": "2023-04-19T15:33:32.776325Z",
     "start_time": "2023-04-19T15:33:32.769235Z"
    }
   },
   "outputs": [
    {
     "name": "stdout",
     "output_type": "stream",
     "text": [
      "xv =  [[0.  0.5 1. ]\n",
      " [0.  0.5 1. ]\n",
      " [0.  0.5 1. ]\n",
      " [0.  0.5 1. ]]\n",
      "yv =  [[0.         0.         0.        ]\n",
      " [0.33333333 0.33333333 0.33333333]\n",
      " [0.66666667 0.66666667 0.66666667]\n",
      " [1.         1.         1.        ]]\n"
     ]
    }
   ],
   "source": [
    "nx, ny = (3, 4)\n",
    "x = np.linspace(0, 1, nx) # [0, 1/2, 1]\n",
    "y = np.linspace(0, 1, ny) # [0, 1/3, 2/3, 1]\n",
    "xv, yv = np.meshgrid(x, y)\n",
    "print(\"xv = \", xv)\n",
    "print(\"yv = \", yv)"
   ]
  },
  {
   "cell_type": "markdown",
   "id": "063ec6f9",
   "metadata": {},
   "source": [
    "the `ravel` function Returns a \"flattened\" 1-dimensional array.\n"
   ]
  },
  {
   "cell_type": "code",
   "execution_count": 73,
   "id": "7261365e",
   "metadata": {
    "ExecuteTime": {
     "end_time": "2023-04-19T15:33:32.781338Z",
     "start_time": "2023-04-19T15:33:32.778257Z"
    }
   },
   "outputs": [],
   "source": [
    "x = np.array([[1, 2, 3], [4, 5, 6]])"
   ]
  },
  {
   "cell_type": "code",
   "execution_count": 74,
   "id": "b8798390",
   "metadata": {
    "ExecuteTime": {
     "end_time": "2023-04-19T15:33:32.789406Z",
     "start_time": "2023-04-19T15:33:32.783626Z"
    }
   },
   "outputs": [
    {
     "data": {
      "text/plain": [
       "array([1, 2, 3, 4, 5, 6])"
      ]
     },
     "execution_count": 74,
     "metadata": {},
     "output_type": "execute_result"
    }
   ],
   "source": [
    "np.ravel(x)"
   ]
  },
  {
   "cell_type": "markdown",
   "id": "e56d1a74",
   "metadata": {},
   "source": [
    "`np.c_` concatenates columns horizontally"
   ]
  },
  {
   "cell_type": "code",
   "execution_count": 75,
   "id": "5ea3067b",
   "metadata": {
    "ExecuteTime": {
     "end_time": "2023-04-19T15:33:32.798015Z",
     "start_time": "2023-04-19T15:33:32.791612Z"
    }
   },
   "outputs": [
    {
     "data": {
      "text/plain": [
       "array([[0.        , 0.        ],\n",
       "       [0.5       , 0.        ],\n",
       "       [1.        , 0.        ],\n",
       "       [0.        , 0.33333333],\n",
       "       [0.5       , 0.33333333],\n",
       "       [1.        , 0.33333333],\n",
       "       [0.        , 0.66666667],\n",
       "       [0.5       , 0.66666667],\n",
       "       [1.        , 0.66666667],\n",
       "       [0.        , 1.        ],\n",
       "       [0.5       , 1.        ],\n",
       "       [1.        , 1.        ]])"
      ]
     },
     "execution_count": 75,
     "metadata": {},
     "output_type": "execute_result"
    }
   ],
   "source": [
    "np.c_[xv.ravel(), yv.ravel()]"
   ]
  },
  {
   "cell_type": "markdown",
   "id": "7c507800",
   "metadata": {},
   "source": [
    "`delta` controls the grid resolution"
   ]
  },
  {
   "cell_type": "code",
   "execution_count": 76,
   "id": "97e181c8",
   "metadata": {
    "ExecuteTime": {
     "end_time": "2023-04-19T15:33:32.806220Z",
     "start_time": "2023-04-19T15:33:32.800296Z"
    }
   },
   "outputs": [],
   "source": [
    "def plot_decision_boundary(clf, delta = 0.01):\n",
    "    \n",
    "    x     = np.arange(-2.0, 5.001, delta)\n",
    "    y     = np.arange(-2.0, 5.001, delta)\n",
    "\n",
    "    X, Y = np.meshgrid(x, y)\n",
    "    Z    = clf.predict( np.c_[X.ravel(), Y.ravel()] )\n",
    "    Z    = Z.reshape( X.shape )\n",
    "\n",
    "    plt.contourf( X, Y, Z, cmap=plt.get_cmap('jet'))\n",
    "\n",
    "    plt.xlabel('X1')\n",
    "    plt.ylabel('X2')\n",
    "\n",
    "    plt.show()"
   ]
  },
  {
   "cell_type": "code",
   "execution_count": 77,
   "id": "66208168",
   "metadata": {
    "ExecuteTime": {
     "end_time": "2023-04-19T15:33:33.016493Z",
     "start_time": "2023-04-19T15:33:32.808544Z"
    }
   },
   "outputs": [
    {
     "data": {
      "image/png": "[encoded data removed]",
      "text/plain": [
       "<Figure size 432x288 with 1 Axes>"
      ]
     },
     "metadata": {
      "needs_background": "light"
     },
     "output_type": "display_data"
    }
   ],
   "source": [
    "plot_decision_boundary(tree_clf, delta= 0.5)"
   ]
  },
  {
   "cell_type": "code",
   "execution_count": 78,
   "id": "8485ce6a",
   "metadata": {
    "ExecuteTime": {
     "end_time": "2023-04-19T15:33:33.686384Z",
     "start_time": "2023-04-19T15:33:33.018349Z"
    }
   },
   "outputs": [
    {
     "data": {
      "image/png": "[encoded data removed]",
      "text/plain": [
       "<Figure size 432x288 with 1 Axes>"
      ]
     },
     "metadata": {
      "needs_background": "light"
     },
     "output_type": "display_data"
    }
   ],
   "source": [
    "plot_decision_boundary(tree_clf, 0.005)"
   ]
  },
  {
   "cell_type": "markdown",
   "id": "0699b5f4",
   "metadata": {},
   "source": [
    " It generally shows a successful training, but the boundary shows too complicated, it might not generalize well to new dataset."
   ]
  },
  {
   "cell_type": "markdown",
   "id": "dc7b3aae",
   "metadata": {},
   "source": [
    "### Restrict the descision tree\n",
    "\n",
    "Our model is too complex, we overfit the model. \n",
    "- Need to reduce complexity of the model, e.g., depth of the tree.\n",
    "\n",
    "Let's use some of the hyper-parameters available in Scikit-learn to modify the learning process."
   ]
  },
  {
   "cell_type": "code",
   "execution_count": 79,
   "id": "d80d8dc5",
   "metadata": {
    "ExecuteTime": {
     "end_time": "2023-04-19T15:33:33.991208Z",
     "start_time": "2023-04-19T15:33:33.688670Z"
    },
    "scrolled": true
   },
   "outputs": [
    {
     "name": "stdout",
     "output_type": "stream",
     "text": [
      "0.9225\n"
     ]
    },
    {
     "data": {
      "image/png": "[encoded data removed]",
      "text/plain": [
       "<Figure size 432x288 with 1 Axes>"
      ]
     },
     "metadata": {
      "needs_background": "light"
     },
     "output_type": "display_data"
    }
   ],
   "source": [
    "tree_clf = DecisionTreeClassifier( max_depth = 5 )\n",
    "tree_clf.fit( features, labels )\n",
    "print( tree_clf.score( features, labels ) )\n",
    "\n",
    "plot_decision_boundary(tree_clf)"
   ]
  },
  {
   "cell_type": "markdown",
   "id": "83d28a0d",
   "metadata": {},
   "source": [
    " looks better!"
   ]
  },
  {
   "cell_type": "markdown",
   "id": "1fa0c8e5",
   "metadata": {},
   "source": [
    "<a id='svm_tune_para'></a>\n",
    "## 3.3 SVM (with nonlinear support)"
   ]
  },
  {
   "cell_type": "markdown",
   "id": "2e870100",
   "metadata": {},
   "source": [
    "We mentioned that SVM can be adaptive to the linearly non-separable problem using kernel tricks or adding high order features.\n",
    "\n",
    "Other algorithms like `neural network`, `random Forest`, `XGBoost` can also well adapted to nonlinear task, we are not going to try that today, but you are encouraged to try it out after the workshop\n",
    "\n",
    "\n",
    "We will deal with two hyperparameters: `C` and `gamma`.\n",
    "\n",
    "- `C` controls how much you want to avoid margin violation (misclassification)\n",
    "    - Low `C`, it is less sensitive to misclassification, resulting in simpler boundary\n",
    "    - High `C`, it is more sensitive to misclassification, more complex boundary.\n",
    "\n",
    "- `gamma` controls how far the influence of a single training example can reach, low meaning \"far\", and high meaning \"close\".  \n",
    "    - Low `gamma`, each training example influences points further away, resulting in simpler boundary\n",
    "    - High `gamma`, each training example influences only short distance, resulting in more complex boundary. \n",
    "    \n",
    "For more information, please refer to its official [link](https://scikit-learn.org/stable/modules/generated/sklearn.svm.SVC.html)"
   ]
  },
  {
   "cell_type": "code",
   "execution_count": 80,
   "id": "0f25a0ea",
   "metadata": {
    "ExecuteTime": {
     "end_time": "2023-04-19T15:33:34.002574Z",
     "start_time": "2023-04-19T15:33:33.993328Z"
    }
   },
   "outputs": [
    {
     "name": "stdout",
     "output_type": "stream",
     "text": [
      "0.9625\n"
     ]
    }
   ],
   "source": [
    "clf = SVC()\n",
    "clf.fit( features, labels )\n",
    "print( clf.score( features, labels ) )"
   ]
  },
  {
   "cell_type": "markdown",
   "id": "70d2c55f",
   "metadata": {},
   "source": [
    "With a high value of `gamma`: "
   ]
  },
  {
   "cell_type": "code",
   "execution_count": 81,
   "id": "87ef3d57",
   "metadata": {
    "ExecuteTime": {
     "end_time": "2023-04-19T15:33:34.026168Z",
     "start_time": "2023-04-19T15:33:34.004559Z"
    }
   },
   "outputs": [
    {
     "name": "stdout",
     "output_type": "stream",
     "text": [
      "1.0\n"
     ]
    }
   ],
   "source": [
    "clf = SVC(gamma=10000.)\n",
    "clf.fit( features, labels )\n",
    "print( clf.score( features, labels ) )"
   ]
  },
  {
   "cell_type": "code",
   "execution_count": 82,
   "id": "0bf2788e",
   "metadata": {
    "ExecuteTime": {
     "end_time": "2023-04-19T15:33:36.395761Z",
     "start_time": "2023-04-19T15:33:34.028232Z"
    },
    "scrolled": true
   },
   "outputs": [
    {
     "data": {
      "image/png": "[encoded data removed]",
      "text/plain": [
       "<Figure size 432x288 with 1 Axes>"
      ]
     },
     "metadata": {
      "needs_background": "light"
     },
     "output_type": "display_data"
    }
   ],
   "source": [
    "clf = SVC()\n",
    "clf.fit( features, labels )\n",
    "plot_decision_boundary(clf)"
   ]
  },
  {
   "cell_type": "code",
   "execution_count": 83,
   "id": "9101bc91",
   "metadata": {
    "ExecuteTime": {
     "end_time": "2023-04-19T15:33:48.654249Z",
     "start_time": "2023-04-19T15:33:36.397711Z"
    }
   },
   "outputs": [
    {
     "data": {
      "image/png": "[encoded data removed]",
      "text/plain": [
       "<Figure size 432x288 with 1 Axes>"
      ]
     },
     "metadata": {
      "needs_background": "light"
     },
     "output_type": "display_data"
    }
   ],
   "source": [
    "clf = SVC( C = 1000, gamma = 100 )\n",
    "clf.fit( features, labels )\n",
    "plot_decision_boundary(clf)"
   ]
  },
  {
   "cell_type": "code",
   "execution_count": 84,
   "id": "4c23bec1",
   "metadata": {
    "ExecuteTime": {
     "end_time": "2023-04-19T15:33:58.567641Z",
     "start_time": "2023-04-19T15:33:48.656457Z"
    }
   },
   "outputs": [
    {
     "data": {
      "image/png": "[encoded data removed]",
      "text/plain": [
       "<Figure size 432x288 with 1 Axes>"
      ]
     },
     "metadata": {
      "needs_background": "light"
     },
     "output_type": "display_data"
    }
   ],
   "source": [
    "clf = SVC( C = 0.02 ,gamma = 1 )\n",
    "clf.fit( features, labels )\n",
    "plot_decision_boundary(clf)"
   ]
  },
  {
   "cell_type": "code",
   "execution_count": 85,
   "id": "2cffd150",
   "metadata": {
    "ExecuteTime": {
     "end_time": "2023-04-19T15:34:03.946142Z",
     "start_time": "2023-04-19T15:33:58.570227Z"
    }
   },
   "outputs": [
    {
     "data": {
      "image/png": "[encoded data removed]",
      "text/plain": [
       "<Figure size 432x288 with 1 Axes>"
      ]
     },
     "metadata": {
      "needs_background": "light"
     },
     "output_type": "display_data"
    }
   ],
   "source": [
    "clf = SVC( C = 0.1, gamma = 1. )\n",
    "clf.fit( features, labels )\n",
    "plot_decision_boundary(clf)"
   ]
  },
  {
   "cell_type": "markdown",
   "id": "3943faa0",
   "metadata": {},
   "source": [
    "<a id='hyperparameter_val'></a>\n",
    "## 3.4 Tuning Hyperparameters with validation set"
   ]
  },
  {
   "cell_type": "markdown",
   "id": "0ca88d81",
   "metadata": {},
   "source": [
    "### Hyperparameters\n",
    "\n",
    "__Hyperparameters__ are the parameters that are used to create a model. `max_depth` of decision tree, `C` and `gamma` in support vector machine, etc. \n",
    "\n",
    "How do we choose them while avoiding underfitting and overfitting?\n",
    "\n",
    "You may be tempted to peek the performance on the test set and calibrate hyperparameter, but that introduces bias, and you might overfit to the test data. Remember, we want our classifiers generalize well to external data points we did not see in the training process. In this section, we cover systematic methods to tune hyperparameters without introducing bias."
   ]
  },
  {
   "cell_type": "markdown",
   "id": "d959b9a9",
   "metadata": {},
   "source": [
    "### Train-Validation split\n",
    "we further split learning set into training set and validation set. \n",
    "\n",
    "<div>\n",
    "<img src=\"train_validation.png\" width=\"500\"/>\n",
    "</div>\n",
    "\n",
    "Now, we have split the data into three sets \n",
    "- Training set: to fit the model\n",
    "- Validation set: to select hyperparameters\n",
    "- Test set: to evaluate the final performance\n",
    "\n",
    "Caution: do not mix validation set and test set. "
   ]
  },
  {
   "cell_type": "markdown",
   "id": "6edc0440",
   "metadata": {},
   "source": [
    "Next, we split training set and validation set using the function `train_test_split()`."
   ]
  },
  {
   "cell_type": "code",
   "execution_count": 86,
   "id": "68648f04",
   "metadata": {
    "ExecuteTime": {
     "end_time": "2023-04-19T15:34:03.953840Z",
     "start_time": "2023-04-19T15:34:03.948242Z"
    }
   },
   "outputs": [],
   "source": [
    "from sklearn.model_selection import train_test_split\n",
    "\n",
    "X_train, X_valid, Y_train, Y_valid = train_test_split(features, labels, test_size=0.33, random_state=2022)"
   ]
  },
  {
   "cell_type": "markdown",
   "id": "4c0b44db",
   "metadata": {},
   "source": [
    "Since the splitting is performed at random, to properly estimate accuracy it is ideal perform the train-validation splitting several times."
   ]
  },
  {
   "cell_type": "code",
   "execution_count": 87,
   "id": "db311e48",
   "metadata": {
    "ExecuteTime": {
     "end_time": "2023-04-19T15:34:10.450658Z",
     "start_time": "2023-04-19T15:34:03.956176Z"
    }
   },
   "outputs": [
    {
     "data": {
      "image/png": "[encoded data removed]",
      "text/plain": [
       "<Figure size 432x288 with 1 Axes>"
      ]
     },
     "metadata": {
      "needs_background": "light"
     },
     "output_type": "display_data"
    }
   ],
   "source": [
    "numRepetitions = 100\n",
    "setGammas = np.array( [0.003,0.01,0.03,0.1,0.3,1.0,3.,10.,30.,100.,300] )\n",
    "\n",
    "accuracies = np.zeros( setGammas.shape )\n",
    "\n",
    "for j in range(numRepetitions):\n",
    "    k = 0\n",
    "    X_train, X_valid, Y_train, Y_valid = train_test_split( features, labels, \n",
    "                                                            test_size=0.33)\n",
    "    for gamma in setGammas:\n",
    "        clf = SVC( C = 1., gamma = gamma )\n",
    "        accuracies[k] += clf.fit( X_train, Y_train ).score(X_valid, Y_valid)\n",
    "        \n",
    "        k += 1\n",
    "\n",
    "accuracies = accuracies / numRepetitions\n",
    "plt.plot(setGammas, accuracies)\n",
    "\n",
    "plt.ylabel(r'Accuracy')\n",
    "plt.xlabel(r'$\\gamma$') \n",
    "plt.xscale('log')\n",
    "\n",
    "plt.show()"
   ]
  },
  {
   "cell_type": "markdown",
   "id": "e349c396",
   "metadata": {},
   "source": [
    "If we just look at the training set"
   ]
  },
  {
   "cell_type": "code",
   "execution_count": 88,
   "id": "19483812",
   "metadata": {
    "ExecuteTime": {
     "end_time": "2023-04-19T15:34:18.213878Z",
     "start_time": "2023-04-19T15:34:10.452783Z"
    }
   },
   "outputs": [
    {
     "data": {
      "image/png": "[encoded data removed]",
      "text/plain": [
       "<Figure size 432x288 with 1 Axes>"
      ]
     },
     "metadata": {
      "needs_background": "light"
     },
     "output_type": "display_data"
    }
   ],
   "source": [
    "numRepetitions = 100\n",
    "setGammas = np.array( [0.003,0.01,0.03,0.1,0.3,1.0,3.,10.,30.,100.,300] )\n",
    "\n",
    "accuracies = np.zeros( setGammas.shape )\n",
    "\n",
    "for j in range(numRepetitions):\n",
    "    k = 0\n",
    "    X_train, X_valid, Y_train, Y_valid = train_test_split( features, labels, \n",
    "                                                            test_size=0.33)\n",
    "    for gamma in setGammas:\n",
    "        clf = SVC( C = 1., gamma = gamma )\n",
    "        accuracies[k] += clf.fit( X_train, Y_train ).score(X_train, Y_train) # this line was changed\n",
    "        \n",
    "        k += 1\n",
    "\n",
    "accuracies = accuracies / numRepetitions\n",
    "plt.plot(setGammas, accuracies)\n",
    "\n",
    "plt.ylabel(r'Training Accuracy') # this line is changed\n",
    "plt.xlabel(r'$\\gamma$') \n",
    "plt.xscale('log')\n",
    "\n",
    "plt.show()"
   ]
  },
  {
   "cell_type": "markdown",
   "id": "abdfdc7e",
   "metadata": {},
   "source": [
    "As you see, the training accuracy monotonically increases, likely to overfit on higher `gamma` when hyperparameters are tuned with training dataset!\n",
    "\n",
    "We can clearly see the accuracy difference in these 2 scheme"
   ]
  },
  {
   "cell_type": "code",
   "execution_count": 89,
   "id": "98228c45",
   "metadata": {
    "ExecuteTime": {
     "end_time": "2023-04-19T15:34:19.330951Z",
     "start_time": "2023-04-19T15:34:18.216300Z"
    }
   },
   "outputs": [
    {
     "name": "stdout",
     "output_type": "stream",
     "text": [
      "Average accuracy (gamma = 0.5):  0.9501515151515154\n",
      "Average accuracy (gamma = 100.):  0.7762121212121211\n"
     ]
    }
   ],
   "source": [
    "numRepetitions = 100\n",
    "accuracies = np.zeros( numRepetitions )\n",
    "\n",
    "for j in range(numRepetitions):\n",
    "    X_train, X_valid, Y_train, Y_valid = train_test_split( features, labels, \n",
    "                                                            test_size=0.33)\n",
    "    clf = SVC( C = 1., gamma = 0.1 )\n",
    "    clf.fit( X_train, Y_train )\n",
    "    accuracies[j] = clf.score(X_valid, Y_valid)\n",
    "\n",
    "print(r\"Average accuracy (gamma = 0.5): \", accuracies.mean() )\n",
    "\n",
    "\n",
    "for j in range(numRepetitions):\n",
    "    X_train, X_valid, Y_train, Y_valid = train_test_split( features, labels,\n",
    "                                                            test_size=0.33)\n",
    "    clf = SVC( C = 1., gamma = 100. )\n",
    "    clf.fit( X_train, Y_train )\n",
    "    accuracies[j] = clf.score(X_valid, Y_valid)\n",
    "\n",
    "print(\"Average accuracy (gamma = 100.): \", accuracies.mean() )"
   ]
  },
  {
   "cell_type": "markdown",
   "id": "f89204f3",
   "metadata": {},
   "source": [
    "### k-fold cross validation"
   ]
  },
  {
   "cell_type": "markdown",
   "id": "0e3138f3",
   "metadata": {},
   "source": [
    "We split learning set into $K$ pieces, and choose one of them as a validation set in a round-robin fashion. \n",
    "\n",
    "<div>\n",
    "<img src=\"cross_validation.png\" width=\"500\"/>\n",
    "</div>\n",
    "Choose the best performing hyperparameter on average. "
   ]
  },
  {
   "cell_type": "code",
   "execution_count": 90,
   "id": "dfe22514",
   "metadata": {
    "ExecuteTime": {
     "end_time": "2023-04-19T15:34:19.337037Z",
     "start_time": "2023-04-19T15:34:19.333081Z"
    }
   },
   "outputs": [],
   "source": [
    "from sklearn.model_selection import KFold\n",
    "kf = KFold(n_splits=10)"
   ]
  },
  {
   "cell_type": "code",
   "execution_count": 91,
   "id": "ef1aceec",
   "metadata": {
    "ExecuteTime": {
     "end_time": "2023-04-19T15:34:19.372857Z",
     "start_time": "2023-04-19T15:34:19.339152Z"
    }
   },
   "outputs": [
    {
     "name": "stdout",
     "output_type": "stream",
     "text": [
      "0.95\n",
      "1.0\n",
      "0.975\n",
      "1.0\n",
      "0.95\n",
      "0.9\n",
      "0.975\n",
      "0.95\n",
      "0.975\n",
      "0.925\n"
     ]
    }
   ],
   "source": [
    "for train_index, valid_index in kf.split( features ):\n",
    "    X_train = features[train_index]\n",
    "    X_valid  = features[valid_index]\n",
    "    Y_train = labels[train_index]\n",
    "    Y_valid  = labels[valid_index]\n",
    "    \n",
    "    clf = SVC( C = 1., gamma = 0.5 )\n",
    "    clf.fit( X_train, Y_train )\n",
    "    print( clf.score(X_valid, Y_valid) )"
   ]
  },
  {
   "cell_type": "markdown",
   "id": "711d168d",
   "metadata": {},
   "source": [
    "The function `cross_val_score` computes the average cross validation score for you (no need to reinvent the wheel):"
   ]
  },
  {
   "cell_type": "code",
   "execution_count": 92,
   "id": "6a84027c",
   "metadata": {
    "ExecuteTime": {
     "end_time": "2023-04-19T15:34:19.415126Z",
     "start_time": "2023-04-19T15:34:19.374824Z"
    }
   },
   "outputs": [
    {
     "data": {
      "text/plain": [
       "array([0.95 , 1.   , 0.975, 1.   , 0.95 , 0.9  , 0.975, 0.95 , 0.975,\n",
       "       0.925])"
      ]
     },
     "execution_count": 92,
     "metadata": {},
     "output_type": "execute_result"
    }
   ],
   "source": [
    "from sklearn.model_selection import cross_val_score\n",
    "clf = SVC( C = 1., gamma = 0.5 )\n",
    "cross_val_score(clf, features, labels, cv=kf)"
   ]
  },
  {
   "cell_type": "code",
   "execution_count": 93,
   "id": "c879d136",
   "metadata": {
    "ExecuteTime": {
     "end_time": "2023-04-19T15:34:19.467223Z",
     "start_time": "2023-04-19T15:34:19.417331Z"
    }
   },
   "outputs": [
    {
     "data": {
      "text/plain": [
       "array([0.91304348, 1.        , 0.95238095, 1.        , 1.        ,\n",
       "       0.95      , 0.95238095, 1.        , 1.        , 0.875     ])"
      ]
     },
     "execution_count": 93,
     "metadata": {},
     "output_type": "execute_result"
    }
   ],
   "source": [
    "cross_val_score(clf, features, labels, scoring=\"precision\", cv=kf)"
   ]
  },
  {
   "cell_type": "code",
   "execution_count": null,
   "id": "d859458c",
   "metadata": {},
   "outputs": [],
   "source": []
  }
 ],
 "metadata": {
  "kernelspec": {
   "display_name": "Python 3 (ipykernel)",
   "language": "python",
   "name": "python3"
  },
  "language_info": {
   "codemirror_mode": {
    "name": "ipython",
    "version": 3
   },
   "file_extension": ".py",
   "mimetype": "text/x-python",
   "name": "python",
   "nbconvert_exporter": "python",
   "pygments_lexer": "ipython3",
   "version": "3.8.12"
  },
  "toc": {
   "base_numbering": 1,
   "nav_menu": {},
   "number_sections": true,
   "sideBar": true,
   "skip_h1_title": false,
   "title_cell": "Table of Contents",
   "title_sidebar": "Contents",
   "toc_cell": false,
   "toc_position": {},
   "toc_section_display": true,
   "toc_window_display": false
  },
  "vp": {
   "vp_config_version": "1.0.0",
   "vp_menu_width": 273,
   "vp_note_display": false,
   "vp_note_width": 0,
   "vp_position": {
    "width": 278
   },
   "vp_section_display": false,
   "vp_signature": "VisualPython"
  }
 },
 "nbformat": 4,
 "nbformat_minor": 5
}
