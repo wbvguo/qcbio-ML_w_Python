{
 "cells": [
  {
   "cell_type": "markdown",
   "id": "60f0af7f",
   "metadata": {},
   "source": [
    "<p><img src=\"../slides/qcb-logo.png\" width=\"215\" height=\"100\" align=\"right\"></p>\n",
    "\n",
    "# QCBio workshop: Machine Learning With Python -- Day2\n",
    "\n",
    "Wenbin Guo\n",
    "\n",
    "### Collaboratory workshop, 10/12/2022\n",
    "Hello, this is the notebook for the frist day of UCLA QCBio Collaboratory workshop: Machine Learning with Python.   \n",
    "\n",
    "\n",
    "\n",
    "The github repository can be accessed from this [link](https://github.com/wbvguo/qcbio-ML_w_Python.git)   \n",
    "\n",
    "for more information about the registration information, please go to this [website](https://qcb.ucla.edu/collaboratory/workshops/w17-machine-learning-with-python/)\n",
    "\n",
    "### Credits\n",
    "Thanks Dr. Seyoon Ko and previous Collaboratory fellow Dr. Thiago S Mosqueiro and Dr. Renaud Dessalles for some supporting materials\n",
    "\n",
    "### Goals of this notebook tutorial\n",
    "- try different supervised learning algorithms for 2 classification problems\n",
    "- tune hyperparameters with cross validation\n",
    "- understand underfitting and overfitting\n",
    "\n",
    "\n",
    "\n",
    "### Table of Contents\n",
    "[1. Preparation](#preparation)    \n",
    "&nbsp; &nbsp; [1.1 scikit-learn Design](#sklearn_design)    \n",
    "&nbsp; &nbsp; [1.2 import packages](#import_packages)    \n",
    "&nbsp; &nbsp; [1.3 data preparation](#data_preparation)    \n",
    "[2. Classification](#classification)    \n",
    "&nbsp; &nbsp; [2.1 Logistic regression](#log_reg)    \n",
    "&nbsp; &nbsp; [2.2 Support vector machines](#svm)  \n",
    "&nbsp; &nbsp; [2.3 Naive bayes](#nb)   \n",
    "&nbsp; &nbsp; [2.4 K-nearest neighbor](#knn)   \n",
    "&nbsp; &nbsp; [2.5 Decision trees](#decision_tree)   \n",
    "&nbsp; &nbsp; [2.6 Random forest](#randomforest)   \n",
    "&nbsp; &nbsp; [2.7 XGBoost](#xgboost)   \n",
    "&nbsp; &nbsp; [2.8 Neural network](#nn)   \n",
    "[3. An linearly nonseparable example](#linear_nonseparable)   \n",
    "&nbsp; &nbsp; [3.1 logistic regression: underfit](#log_reg_underfit)   \n",
    "&nbsp; &nbsp; [3.2 Decision tree: overfit](#decision_tree_overfit)  \n",
    "&nbsp; &nbsp; [3.3 SVM: tune parameters](#svm_tune_para)  \n",
    "&nbsp; &nbsp; [3.4 Tuning Hyperparameters with validation set](#hyperparameter_val)"
   ]
  },
  {
   "cell_type": "markdown",
   "id": "05b99284",
   "metadata": {},
   "source": [
    "<a id='preparation'></a>\n",
    "# 1. Preparation"
   ]
  },
  {
   "cell_type": "markdown",
   "id": "c6f7041c",
   "metadata": {},
   "source": [
    "<a id='import_packages'></a>\n",
    "## 1.1 import packages"
   ]
  },
  {
   "cell_type": "code",
   "execution_count": 1,
   "id": "a50bae82",
   "metadata": {},
   "outputs": [
    {
     "data": {
      "text/html": [
       "\n",
       "    <script>\n",
       "    function code_toggle() {\n",
       "        if ($('div.cell.code_cell.rendered.selected div.input').css('display')!='none'){\n",
       "            $('div.cell.code_cell.rendered.selected div.input').hide();\n",
       "        } else {\n",
       "            $('div.cell.code_cell.rendered.selected div.input').show();\n",
       "        }\n",
       "    }\n",
       "    </script>\n",
       "\n",
       "\n",
       "<form action=\"javascript:code_toggle()\"><input type=\"submit\" id=\"toggleButton\" value=\"Show Sloution\"></form>\n"
      ],
      "text/plain": [
       "<IPython.core.display.HTML object>"
      ]
     },
     "metadata": {},
     "output_type": "display_data"
    }
   ],
   "source": [
    "import sklearn\n",
    "import numpy as np\n",
    "import matplotlib.pyplot as plt\n",
    "from toggle_cell import toggle_code as hide_solution # for teaching"
   ]
  },
  {
   "cell_type": "markdown",
   "id": "64c92a36",
   "metadata": {},
   "source": [
    "<a id='data_preparation'></a>\n",
    "## 1.2 data preparation"
   ]
  },
  {
   "cell_type": "markdown",
   "id": "2750243f",
   "metadata": {},
   "source": [
    "### load data"
   ]
  },
  {
   "cell_type": "code",
   "execution_count": 2,
   "id": "14873bd3",
   "metadata": {},
   "outputs": [],
   "source": [
    "from sklearn.datasets import load_breast_cancer\n",
    "bcancer = load_breast_cancer()"
   ]
  },
  {
   "cell_type": "code",
   "execution_count": 3,
   "id": "95722bf0",
   "metadata": {},
   "outputs": [
    {
     "data": {
      "text/plain": [
       "(569, 30)"
      ]
     },
     "execution_count": 3,
     "metadata": {},
     "output_type": "execute_result"
    }
   ],
   "source": [
    "bcancer.data.shape"
   ]
  },
  {
   "cell_type": "code",
   "execution_count": 4,
   "id": "cfa2cc96",
   "metadata": {},
   "outputs": [
    {
     "data": {
      "text/plain": [
       "(569,)"
      ]
     },
     "execution_count": 4,
     "metadata": {},
     "output_type": "execute_result"
    }
   ],
   "source": [
    "bcancer.target.shape"
   ]
  },
  {
   "cell_type": "markdown",
   "id": "98958f04",
   "metadata": {},
   "source": [
    "### split data\n",
    "Before doing anyting, it is a good practice to split the dataset into training set and test set. \n",
    "\n",
    "- training set (learning set): used to fit the machine learning model.\n",
    "- test set: used to evaluate the fit machine learning model. \n",
    "    - Shall not be used in training, to see how well the model _generalizes_ to the data yet to be seen by the classifier. \n",
    "    - It will be our _final proof_. We will use other methods _not_ involving this test set to estimate accuracy during the the model training (validation set / cross validation)\n",
    "    \n",
    "<div>\n",
    "<img src=\"train_test.png\" width=\"500\"/>\n",
    "</div>\n",
    "\n",
    "\n",
    "sklearn provide an convinient way to split your data into training and test set by using `train_test_split`"
   ]
  },
  {
   "cell_type": "code",
   "execution_count": 5,
   "id": "2b3aa10c",
   "metadata": {},
   "outputs": [],
   "source": [
    "from sklearn.model_selection import train_test_split\n",
    "X_train, X_test, y_train, y_test = train_test_split(bcancer.data, bcancer.target, \n",
    "                                                    test_size=0.2, random_state=2022)"
   ]
  },
  {
   "cell_type": "code",
   "execution_count": 6,
   "id": "a67ea9e4",
   "metadata": {},
   "outputs": [
    {
     "data": {
      "text/plain": [
       "(455, 30)"
      ]
     },
     "execution_count": 6,
     "metadata": {},
     "output_type": "execute_result"
    }
   ],
   "source": [
    "X_train.shape"
   ]
  },
  {
   "cell_type": "code",
   "execution_count": 7,
   "id": "658f8d64",
   "metadata": {},
   "outputs": [
    {
     "data": {
      "text/plain": [
       "(455,)"
      ]
     },
     "execution_count": 7,
     "metadata": {},
     "output_type": "execute_result"
    }
   ],
   "source": [
    "y_train.shape"
   ]
  },
  {
   "cell_type": "code",
   "execution_count": 8,
   "id": "487a9696",
   "metadata": {},
   "outputs": [
    {
     "data": {
      "text/plain": [
       "(114,)"
      ]
     },
     "execution_count": 8,
     "metadata": {},
     "output_type": "execute_result"
    }
   ],
   "source": [
    "y_test.shape"
   ]
  },
  {
   "cell_type": "code",
   "execution_count": 9,
   "id": "8b6d10bc",
   "metadata": {},
   "outputs": [
    {
     "data": {
      "text/plain": [
       "(array([0, 1]), array([166, 289]))"
      ]
     },
     "execution_count": 9,
     "metadata": {},
     "output_type": "execute_result"
    }
   ],
   "source": [
    "np.unique(y_train, return_counts=True) "
   ]
  },
  {
   "cell_type": "code",
   "execution_count": 10,
   "id": "25e0373a",
   "metadata": {},
   "outputs": [
    {
     "data": {
      "text/plain": [
       "(array([0, 1]), array([46, 68]))"
      ]
     },
     "execution_count": 10,
     "metadata": {},
     "output_type": "execute_result"
    }
   ],
   "source": [
    "np.unique(y_test, return_counts=True) # imbalanced dataset, more 0 than 1"
   ]
  },
  {
   "cell_type": "code",
   "execution_count": 11,
   "id": "7cf9079f",
   "metadata": {},
   "outputs": [
    {
     "data": {
      "text/plain": [
       "['malignant', 'benign']"
      ]
     },
     "execution_count": 11,
     "metadata": {},
     "output_type": "execute_result"
    }
   ],
   "source": [
    "list(bcancer.target_names)"
   ]
  },
  {
   "cell_type": "markdown",
   "id": "1ea893cc",
   "metadata": {},
   "source": [
    "<a id='sklearn_design'></a>\n",
    "## 1.3 scikit-learn Design"
   ]
  },
  {
   "cell_type": "markdown",
   "id": "738c4afa",
   "metadata": {},
   "source": [
    "Scikit-Learn’s API is remarkably **well designed**. These are the main [design principles](https://arxiv.org/abs/1309.0238):\n",
    "- Consistency: All objects share a consistent and simple interface\n",
    "    - Estimators: object that can estimate some parameters based on a dataset, estimation is performed by `fit()` method, the `fit()` method takes a dataset (or 2 for supervised learning) as a parameter\n",
    "    - Transformer: estimators that transform a dataset, the transformation is performed by `transform()` method\n",
    "    - Predictors: estimator that can make predictions with `predict()` method, it also has a `score()` method that measures the quality of prediction\n",
    "- Inspectation: \n",
    "    - All the estimator’s hyperparameters are accessible directly via public instance variables\n",
    "    - All the estimator’s learned parameters are accessible via public instance variables with an underscore suffix\n",
    "\n",
    "- Compatiblility with other packages: Datasets are represented as NumPy arrays or SciPy sparse matrices\n",
    "- Composition: Existing building blocks are reused as much as possible. For example the `Pipeline` estimator can combine data transformations and final estimator\n",
    "- Sensible defaults: Scikit-Learn provides reasonable default values for most parameters, making it easy to quickly create a baseline working system\n",
    "- User-friendly websites and great documentation: [website](https://scikit-learn.org/stable/index.html)"
   ]
  },
  {
   "cell_type": "markdown",
   "id": "5c829e27",
   "metadata": {},
   "source": [
    "<a id='classification'></a>\n",
    "# 2. Classification "
   ]
  },
  {
   "cell_type": "markdown",
   "id": "6fce8e67",
   "metadata": {},
   "source": [
    "<a id='log_reg'></a>\n",
    "## 2.1 Logistic regression"
   ]
  },
  {
   "cell_type": "markdown",
   "id": "d17545e2",
   "metadata": {},
   "source": [
    "### model trainng and prediction"
   ]
  },
  {
   "cell_type": "code",
   "execution_count": 12,
   "id": "f417a83b",
   "metadata": {},
   "outputs": [],
   "source": [
    "from sklearn.linear_model import LogisticRegression"
   ]
  },
  {
   "cell_type": "code",
   "execution_count": 13,
   "id": "2adb5e51",
   "metadata": {},
   "outputs": [
    {
     "name": "stderr",
     "output_type": "stream",
     "text": [
      "/home/wbguo/.local/lib/python3.8/site-packages/sklearn/linear_model/_logistic.py:763: ConvergenceWarning: lbfgs failed to converge (status=1):\n",
      "STOP: TOTAL NO. of ITERATIONS REACHED LIMIT.\n",
      "\n",
      "Increase the number of iterations (max_iter) or scale the data as shown in:\n",
      "    https://scikit-learn.org/stable/modules/preprocessing.html\n",
      "Please also refer to the documentation for alternative solver options:\n",
      "    https://scikit-learn.org/stable/modules/linear_model.html#logistic-regression\n",
      "  n_iter_i = _check_optimize_result(\n"
     ]
    },
    {
     "data": {
      "text/plain": [
       "LogisticRegression()"
      ]
     },
     "execution_count": 13,
     "metadata": {},
     "output_type": "execute_result"
    }
   ],
   "source": [
    "log_reg = LogisticRegression()\n",
    "log_reg.fit(X_train, y_train)"
   ]
  },
  {
   "cell_type": "code",
   "execution_count": 14,
   "id": "b113fa64",
   "metadata": {},
   "outputs": [],
   "source": [
    "y_fit  = log_reg.predict(X_train) # for later demonstration\n",
    "y_pred = log_reg.predict(X_test)"
   ]
  },
  {
   "cell_type": "code",
   "execution_count": 15,
   "id": "60a411c2",
   "metadata": {},
   "outputs": [
    {
     "data": {
      "text/plain": [
       "array([1, 1, 1, 1, 1, 1, 0, 0, 0, 0, 0, 0, 0, 0, 1, 1, 1, 1, 0, 1, 1, 1,\n",
       "       1, 1, 0, 1, 1, 1, 0, 1, 1, 1, 0, 1, 1, 0, 0, 1, 0, 1, 1, 0, 0, 1,\n",
       "       0, 1, 0, 1, 0, 0, 1, 0, 1, 1, 0, 0, 1, 1, 1, 1, 0, 1, 1, 0, 1, 1,\n",
       "       1, 1, 1, 1, 1, 0, 1, 1, 0, 1, 0, 1, 0, 1, 1, 1, 0, 1, 1, 0, 0, 0,\n",
       "       1, 0, 1, 0, 1, 1, 0, 1, 1, 1, 1, 1, 0, 1, 0, 0, 1, 1, 1, 0, 0, 1,\n",
       "       1, 1, 0, 1])"
      ]
     },
     "execution_count": 15,
     "metadata": {},
     "output_type": "execute_result"
    }
   ],
   "source": [
    "y_pred"
   ]
  },
  {
   "cell_type": "markdown",
   "id": "5ba77910",
   "metadata": {},
   "source": [
    "### performance measure"
   ]
  },
  {
   "cell_type": "code",
   "execution_count": 16,
   "id": "6b8fb97e",
   "metadata": {},
   "outputs": [
    {
     "data": {
      "text/plain": [
       "array([[153,  10],\n",
       "       [ 13, 279]])"
      ]
     },
     "execution_count": 16,
     "metadata": {},
     "output_type": "execute_result"
    }
   ],
   "source": [
    "from sklearn.metrics import confusion_matrix\n",
    "cm_train = confusion_matrix(y_fit, y_train)\n",
    "cm_train"
   ]
  },
  {
   "cell_type": "code",
   "execution_count": 17,
   "id": "78ec86d0",
   "metadata": {},
   "outputs": [
    {
     "data": {
      "text/plain": [
       "array([[40,  3],\n",
       "       [ 6, 65]])"
      ]
     },
     "execution_count": 17,
     "metadata": {},
     "output_type": "execute_result"
    }
   ],
   "source": [
    "cm_test = confusion_matrix(y_pred, y_test)\n",
    "cm_test"
   ]
  },
  {
   "cell_type": "code",
   "execution_count": 18,
   "id": "ce099f9f",
   "metadata": {},
   "outputs": [
    {
     "data": {
      "image/png": "[encoded data removed]",
      "text/plain": [
       "<Figure size 432x288 with 2 Axes>"
      ]
     },
     "metadata": {
      "needs_background": "light"
     },
     "output_type": "display_data"
    }
   ],
   "source": [
    "from sklearn.metrics import ConfusionMatrixDisplay\n",
    "cm_display = ConfusionMatrixDisplay(cm_test).plot()"
   ]
  },
  {
   "cell_type": "markdown",
   "id": "5c90ac39",
   "metadata": {},
   "source": [
    "Each row in a confusion matrix represents an actual class, while each column represents a predicted class\n",
    "\n",
    "Now let's calculate the `accuracy`, `precision`, `recall`, and `f1 score`"
   ]
  },
  {
   "cell_type": "code",
   "execution_count": 19,
   "id": "6a76d954",
   "metadata": {},
   "outputs": [],
   "source": [
    "from sklearn.metrics import accuracy_score, precision_score, recall_score, f1_score"
   ]
  },
  {
   "cell_type": "code",
   "execution_count": 20,
   "id": "c5c8ce09",
   "metadata": {},
   "outputs": [
    {
     "data": {
      "text/plain": [
       "0.9210526315789473"
      ]
     },
     "execution_count": 20,
     "metadata": {},
     "output_type": "execute_result"
    }
   ],
   "source": [
    "accuracy_score(y_pred, y_test)"
   ]
  },
  {
   "cell_type": "code",
   "execution_count": 21,
   "id": "681feb2e",
   "metadata": {},
   "outputs": [
    {
     "data": {
      "text/plain": [
       "0.9558823529411765"
      ]
     },
     "execution_count": 21,
     "metadata": {},
     "output_type": "execute_result"
    }
   ],
   "source": [
    "precision_score(y_pred, y_test)"
   ]
  },
  {
   "cell_type": "code",
   "execution_count": 22,
   "id": "fdc856ec",
   "metadata": {},
   "outputs": [
    {
     "data": {
      "text/plain": [
       "0.9154929577464789"
      ]
     },
     "execution_count": 22,
     "metadata": {},
     "output_type": "execute_result"
    }
   ],
   "source": [
    "recall_score(y_pred, y_test)"
   ]
  },
  {
   "cell_type": "code",
   "execution_count": 23,
   "id": "5ff62f7a",
   "metadata": {},
   "outputs": [
    {
     "data": {
      "text/plain": [
       "0.9352517985611511"
      ]
     },
     "execution_count": 23,
     "metadata": {},
     "output_type": "execute_result"
    }
   ],
   "source": [
    "f1_score(y_pred, y_test)"
   ]
  },
  {
   "cell_type": "markdown",
   "id": "5d80cb54",
   "metadata": {},
   "source": [
    "### ROC and PR-ROC curve"
   ]
  },
  {
   "cell_type": "code",
   "execution_count": 24,
   "id": "bc1ab505",
   "metadata": {},
   "outputs": [],
   "source": [
    "y_score = log_reg.predict_proba(X_test)\n",
    "# alternatively, you can also use log_reg.decision_function(X_test) to achieve similar results"
   ]
  },
  {
   "cell_type": "code",
   "execution_count": 25,
   "id": "9e38085e",
   "metadata": {},
   "outputs": [
    {
     "data": {
      "text/plain": [
       "array([[3.68211412e-03, 9.96317886e-01],\n",
       "       [2.79658587e-04, 9.99720341e-01],\n",
       "       [2.05515895e-01, 7.94484105e-01],\n",
       "       [1.59371677e-03, 9.98406283e-01],\n",
       "       [2.32660937e-03, 9.97673391e-01],\n",
       "       [2.44208978e-03, 9.97557910e-01],\n",
       "       [9.53517629e-01, 4.64823712e-02],\n",
       "       [9.99999730e-01, 2.70461285e-07],\n",
       "       [7.37880029e-01, 2.62119971e-01],\n",
       "       [1.00000000e+00, 8.31939786e-24],\n",
       "       [1.00000000e+00, 2.07691449e-33],\n",
       "       [9.99499954e-01, 5.00045830e-04],\n",
       "       [9.99875614e-01, 1.24385530e-04],\n",
       "       [9.99994404e-01, 5.59622116e-06],\n",
       "       [5.36361419e-02, 9.46363858e-01],\n",
       "       [6.41317633e-04, 9.99358682e-01],\n",
       "       [7.92587920e-02, 9.20741208e-01],\n",
       "       [1.11886233e-02, 9.88811377e-01],\n",
       "       [5.96794197e-01, 4.03205803e-01],\n",
       "       [3.21894169e-03, 9.96781058e-01],\n",
       "       [2.08961529e-02, 9.79103847e-01],\n",
       "       [4.82916991e-02, 9.51708301e-01],\n",
       "       [8.19244700e-03, 9.91807553e-01],\n",
       "       [2.31390224e-01, 7.68609776e-01],\n",
       "       [6.83119099e-01, 3.16880901e-01],\n",
       "       [2.04842058e-03, 9.97951579e-01],\n",
       "       [3.04034143e-02, 9.69596586e-01],\n",
       "       [3.17824365e-04, 9.99682176e-01],\n",
       "       [9.44614326e-01, 5.53856739e-02],\n",
       "       [1.21809569e-03, 9.98781904e-01],\n",
       "       [9.84369052e-03, 9.90156309e-01],\n",
       "       [1.47928452e-02, 9.85207155e-01],\n",
       "       [9.99999999e-01, 5.90389806e-10],\n",
       "       [1.65741534e-02, 9.83425847e-01],\n",
       "       [4.57697484e-04, 9.99542303e-01],\n",
       "       [9.99820253e-01, 1.79746697e-04],\n",
       "       [9.99997828e-01, 2.17185439e-06],\n",
       "       [3.58138443e-04, 9.99641862e-01],\n",
       "       [9.99999992e-01, 7.62756183e-09],\n",
       "       [2.06174708e-01, 7.93825292e-01],\n",
       "       [1.79670452e-02, 9.82032955e-01],\n",
       "       [9.90809887e-01, 9.19011316e-03],\n",
       "       [9.99994538e-01, 5.46205575e-06],\n",
       "       [3.47892163e-04, 9.99652108e-01],\n",
       "       [9.94666540e-01, 5.33346026e-03],\n",
       "       [4.63935983e-04, 9.99536064e-01],\n",
       "       [1.00000000e+00, 2.09540931e-12],\n",
       "       [2.03386016e-04, 9.99796614e-01],\n",
       "       [1.00000000e+00, 2.54139188e-22],\n",
       "       [1.00000000e+00, 1.03069938e-22],\n",
       "       [4.36724957e-02, 9.56327504e-01],\n",
       "       [9.95389836e-01, 4.61016387e-03],\n",
       "       [1.22113011e-01, 8.77886989e-01],\n",
       "       [8.27349701e-04, 9.99172650e-01],\n",
       "       [1.00000000e+00, 3.91650492e-11],\n",
       "       [9.99992421e-01, 7.57892981e-06],\n",
       "       [3.28003555e-02, 9.67199644e-01],\n",
       "       [5.70372159e-04, 9.99429628e-01],\n",
       "       [2.19050434e-02, 9.78094957e-01],\n",
       "       [5.62779491e-04, 9.99437221e-01],\n",
       "       [1.00000000e+00, 7.50976547e-12],\n",
       "       [2.46414819e-04, 9.99753585e-01],\n",
       "       [7.70489045e-02, 9.22951096e-01],\n",
       "       [9.99987712e-01, 1.22875379e-05],\n",
       "       [3.25037829e-01, 6.74962171e-01],\n",
       "       [1.54700827e-04, 9.99845299e-01],\n",
       "       [7.87226869e-02, 9.21277313e-01],\n",
       "       [1.54921118e-03, 9.98450789e-01],\n",
       "       [7.41783059e-02, 9.25821694e-01],\n",
       "       [1.54534631e-01, 8.45465369e-01],\n",
       "       [7.67025609e-02, 9.23297439e-01],\n",
       "       [9.99999989e-01, 1.12647180e-08],\n",
       "       [9.19642309e-05, 9.99908036e-01],\n",
       "       [2.78304920e-02, 9.72169508e-01],\n",
       "       [9.99567033e-01, 4.32967148e-04],\n",
       "       [9.41163476e-03, 9.90588365e-01],\n",
       "       [9.99674790e-01, 3.25210366e-04],\n",
       "       [4.32941618e-01, 5.67058382e-01],\n",
       "       [9.99997065e-01, 2.93508393e-06],\n",
       "       [1.40607399e-02, 9.85939260e-01],\n",
       "       [1.91658710e-03, 9.98083413e-01],\n",
       "       [9.89353831e-04, 9.99010646e-01],\n",
       "       [9.99999015e-01, 9.85382353e-07],\n",
       "       [5.11397881e-03, 9.94886021e-01],\n",
       "       [2.67677117e-03, 9.97323229e-01],\n",
       "       [9.99999938e-01, 6.15020638e-08],\n",
       "       [9.99999997e-01, 2.94215280e-09],\n",
       "       [9.99999987e-01, 1.34468682e-08],\n",
       "       [6.21113873e-03, 9.93788861e-01],\n",
       "       [1.00000000e+00, 1.19662270e-14],\n",
       "       [2.11825500e-03, 9.97881745e-01],\n",
       "       [9.99374075e-01, 6.25924812e-04],\n",
       "       [1.33223414e-04, 9.99866777e-01],\n",
       "       [1.58834618e-02, 9.84116538e-01],\n",
       "       [9.99999653e-01, 3.46670500e-07],\n",
       "       [3.87507491e-04, 9.99612493e-01],\n",
       "       [1.79689276e-03, 9.98203107e-01],\n",
       "       [1.77200840e-02, 9.82279916e-01],\n",
       "       [2.95743449e-01, 7.04256551e-01],\n",
       "       [1.72772110e-02, 9.82722789e-01],\n",
       "       [1.00000000e+00, 2.81415326e-10],\n",
       "       [1.88451305e-02, 9.81154869e-01],\n",
       "       [9.88348519e-01, 1.16514812e-02],\n",
       "       [1.00000000e+00, 4.74576612e-22],\n",
       "       [2.88713375e-01, 7.11286625e-01],\n",
       "       [5.80338744e-02, 9.41966126e-01],\n",
       "       [6.81782179e-02, 9.31821782e-01],\n",
       "       [9.99999978e-01, 2.16919111e-08],\n",
       "       [9.77812446e-01, 2.21875543e-02],\n",
       "       [3.61821323e-04, 9.99638179e-01],\n",
       "       [1.07334406e-03, 9.98926656e-01],\n",
       "       [1.64562337e-03, 9.98354377e-01],\n",
       "       [9.99785649e-01, 2.14351115e-04],\n",
       "       [4.62603214e-02, 9.53739679e-01]])"
      ]
     },
     "execution_count": 25,
     "metadata": {},
     "output_type": "execute_result"
    }
   ],
   "source": [
    "y_score"
   ]
  },
  {
   "cell_type": "code",
   "execution_count": 26,
   "id": "41fdb6dd",
   "metadata": {},
   "outputs": [],
   "source": [
    "from sklearn.metrics import roc_curve, precision_recall_curve\n",
    "from sklearn.metrics import roc_auc_score, average_precision_score\n",
    "\n",
    "def plot_roc_curve(y_label, y_score, label = None,color='blue', title=None):\n",
    "    fpr, tpr, thresholds = roc_curve(y_label, y_score)\n",
    "    auc = roc_auc_score(y_label, y_score)\n",
    "    plt.figure(figsize = (5, 5))\n",
    "    plt.plot(fpr, tpr, linewidth=2, color = color, label=label)\n",
    "    plt.plot([0, 1], [0, 1], 'k--') # Dashed diagonal\n",
    "    plt.xlabel(\"False Positive Rate\")\n",
    "    plt.ylabel(\"True Positive Rate\")\n",
    "    plt.text(0.6, 0.2, 'AUC=' + str(round(auc, 4)), fontsize=12)\n",
    "    plt.title(title)\n",
    "    \n",
    "def plot_prroc_curve(y_label, y_score, label = None,color='blue', title=None):\n",
    "    precision, recall, thresholds = precision_recall_curve(y_test, y_score)\n",
    "    ap = average_precision_score(y_label, y_score)\n",
    "    plt.figure(figsize = (5, 5))\n",
    "    plt.plot(recall, precision, linewidth=2, color = color, label=label)\n",
    "    plt.xlabel(\"Recall\")\n",
    "    plt.ylabel(\"Precision\") \n",
    "    plt.text(0.6, 0.2, 'AP=' + str(round(ap, 4)), fontsize=12)\n",
    "    plt.ylim((-0.05,1.05))\n",
    "    plt.xlim((-0.05,1.05))\n",
    "    plt.title(title)"
   ]
  },
  {
   "cell_type": "markdown",
   "id": "5cdc4fe8",
   "metadata": {},
   "source": [
    "For Precision-Recall curve, we calculate the AP (average precision), which summarizes such a plot as the weighted mean of precisions achieved at each threshold, with the increase in recall from the previous threshold used as the weight:\n",
    "\n",
    "$$AP = \\sum_n (R_n - R_{n-1}) P_n$$\n",
    "\n",
    "Where $P_n$ and $R_n$ are the precision and recall at the n-th threshold"
   ]
  },
  {
   "cell_type": "code",
   "execution_count": 27,
   "id": "40d49505",
   "metadata": {
    "scrolled": false
   },
   "outputs": [
    {
     "data": {
      "image/png": "[encoded data removed]",
      "text/plain": [
       "<Figure size 360x360 with 1 Axes>"
      ]
     },
     "metadata": {
      "needs_background": "light"
     },
     "output_type": "display_data"
    },
    {
     "data": {
      "image/png": "[encoded data removed]",
      "text/plain": [
       "<Figure size 360x360 with 1 Axes>"
      ]
     },
     "metadata": {
      "needs_background": "light"
     },
     "output_type": "display_data"
    }
   ],
   "source": [
    "plot_roc_curve(y_test, y_score[:,1], title = \"ROC (Logistic regression)\")\n",
    "plt.show()\n",
    "\n",
    "plot_prroc_curve(y_test, y_score[:,1], title = \"PR-ROC (Logistic regression)\")\n",
    "plt.show()"
   ]
  },
  {
   "cell_type": "markdown",
   "id": "83d96a3e",
   "metadata": {},
   "source": [
    "alternatively, you can use the `RocCurveDisplay` or  function provided by the package (quick to use, but less customized options)"
   ]
  },
  {
   "cell_type": "code",
   "execution_count": 28,
   "id": "7cd36b75",
   "metadata": {},
   "outputs": [],
   "source": [
    "from sklearn.metrics import roc_curve, precision_recall_curve\n",
    "from sklearn.metrics import RocCurveDisplay, PrecisionRecallDisplay\n",
    "\n",
    "fpr, tpr, _ = roc_curve(y_test, y_score[:,1], pos_label=log_reg.classes_[1])\n",
    "prec, recall, _ = precision_recall_curve(y_test, y_score[:,1], pos_label=log_reg.classes_[1])\n",
    "roc_auc  = roc_auc_score(y_test, y_score[:,1])\n",
    "ap = average_precision_score(y_test, y_score[:,1])\n",
    "prroc_auc= roc_auc_score(y_test, y_score[:,1])"
   ]
  },
  {
   "cell_type": "code",
   "execution_count": 29,
   "id": "6e0e73c1",
   "metadata": {},
   "outputs": [
    {
     "data": {
      "image/png": "[encoded data removed]",
      "text/plain": [
       "<Figure size 432x288 with 1 Axes>"
      ]
     },
     "metadata": {
      "needs_background": "light"
     },
     "output_type": "display_data"
    },
    {
     "data": {
      "image/png": "[encoded data removed]",
      "text/plain": [
       "<Figure size 432x288 with 1 Axes>"
      ]
     },
     "metadata": {
      "needs_background": "light"
     },
     "output_type": "display_data"
    }
   ],
   "source": [
    "roc_display = RocCurveDisplay(fpr=fpr, tpr=tpr, roc_auc =  roc_auc).plot()\n",
    "pr_display = PrecisionRecallDisplay(precision=prec, recall=recall, average_precision = ap).plot()"
   ]
  },
  {
   "cell_type": "markdown",
   "id": "794ae76b",
   "metadata": {},
   "source": [
    "<a id='svm'></a>\n",
    "## 2.2 Support vector machines (linear)"
   ]
  },
  {
   "cell_type": "code",
   "execution_count": 30,
   "id": "8de4cbea",
   "metadata": {},
   "outputs": [
    {
     "data": {
      "text/html": [
       "\n",
       "<form action=\"javascript:code_toggle()\"><input type=\"submit\" id=\"toggleButton\" value=\"Show Sloution\"></form>\n"
      ],
      "text/plain": [
       "<IPython.core.display.HTML object>"
      ]
     },
     "metadata": {},
     "output_type": "display_data"
    }
   ],
   "source": [
    "hide_solution()\n",
    "from sklearn.svm import SVC\n",
    "svm_clf = SVC()\n",
    "svm_clf.fit(X_train, y_train)\n",
    "y_score = svm_clf.decision_function(X_test)"
   ]
  },
  {
   "cell_type": "code",
   "execution_count": 31,
   "id": "956d326d",
   "metadata": {},
   "outputs": [
    {
     "data": {
      "image/png": "[encoded data removed]",
      "text/plain": [
       "<Figure size 360x360 with 1 Axes>"
      ]
     },
     "metadata": {
      "needs_background": "light"
     },
     "output_type": "display_data"
    },
    {
     "data": {
      "image/png": "[encoded data removed]",
      "text/plain": [
       "<Figure size 360x360 with 1 Axes>"
      ]
     },
     "metadata": {
      "needs_background": "light"
     },
     "output_type": "display_data"
    }
   ],
   "source": [
    "plot_roc_curve(y_test, y_score, title = \"ROC (SVM)\")\n",
    "plt.show()\n",
    "\n",
    "plot_prroc_curve(y_test, y_score, title = \"PR-ROC (SVM)\")\n",
    "plt.show()"
   ]
  },
  {
   "cell_type": "markdown",
   "id": "bfb53877",
   "metadata": {},
   "source": [
    "<a id='nb'></a>\n",
    "## 2.3 Naive bayes"
   ]
  },
  {
   "cell_type": "code",
   "execution_count": 32,
   "id": "3159ebb4",
   "metadata": {},
   "outputs": [
    {
     "data": {
      "text/plain": [
       "array([[8.57270975e-010, 9.99999999e-001],\n",
       "       [3.52707409e-018, 1.00000000e+000],\n",
       "       [2.83125067e-005, 9.99971687e-001],\n",
       "       [1.55021508e-016, 1.00000000e+000],\n",
       "       [1.05025807e-005, 9.99989497e-001],\n",
       "       [4.21769719e-015, 1.00000000e+000],\n",
       "       [9.98099410e-001, 1.90059029e-003],\n",
       "       [1.00000000e+000, 1.03331592e-030],\n",
       "       [1.00000000e+000, 7.31875390e-014],\n",
       "       [1.00000000e+000, 2.88131036e-244],\n",
       "       [1.00000000e+000, 4.88729537e-237],\n",
       "       [9.83230011e-001, 1.67699888e-002],\n",
       "       [1.00000000e+000, 3.65413095e-014],\n",
       "       [1.00000000e+000, 6.88040828e-032],\n",
       "       [1.52889711e-004, 9.99847110e-001],\n",
       "       [3.23655110e-006, 9.99996763e-001],\n",
       "       [9.88968660e-012, 1.00000000e+000],\n",
       "       [2.60436030e-017, 1.00000000e+000],\n",
       "       [1.77368525e-010, 1.00000000e+000],\n",
       "       [4.70707326e-015, 1.00000000e+000],\n",
       "       [8.50604209e-014, 1.00000000e+000],\n",
       "       [1.21482426e-015, 1.00000000e+000],\n",
       "       [4.00381112e-012, 1.00000000e+000],\n",
       "       [3.23500405e-014, 1.00000000e+000],\n",
       "       [4.47860047e-003, 9.95521400e-001],\n",
       "       [1.06720186e-017, 1.00000000e+000],\n",
       "       [5.44401777e-014, 1.00000000e+000],\n",
       "       [2.77467122e-011, 1.00000000e+000],\n",
       "       [1.00000000e+000, 8.77256516e-027],\n",
       "       [4.51796738e-013, 1.00000000e+000],\n",
       "       [9.01273373e-015, 1.00000000e+000],\n",
       "       [2.24077796e-014, 1.00000000e+000],\n",
       "       [1.00000000e+000, 1.33928227e-063],\n",
       "       [2.08034811e-002, 9.79196519e-001],\n",
       "       [2.71567552e-013, 1.00000000e+000],\n",
       "       [1.00000000e+000, 4.19592696e-020],\n",
       "       [1.00000000e+000, 3.18541112e-042],\n",
       "       [2.41068133e-016, 1.00000000e+000],\n",
       "       [1.00000000e+000, 1.86333593e-056],\n",
       "       [3.92405833e-014, 1.00000000e+000],\n",
       "       [1.30767085e-004, 9.99869233e-001],\n",
       "       [1.00000000e+000, 1.97702083e-014],\n",
       "       [1.00000000e+000, 2.76870704e-036],\n",
       "       [2.78224365e-016, 1.00000000e+000],\n",
       "       [1.00000000e+000, 3.84492247e-010],\n",
       "       [5.54422408e-017, 1.00000000e+000],\n",
       "       [1.00000000e+000, 9.65109974e-059],\n",
       "       [9.97165272e-018, 1.00000000e+000],\n",
       "       [1.00000000e+000, 1.04425228e-221],\n",
       "       [1.00000000e+000, 1.81968995e-191],\n",
       "       [1.00419730e-012, 1.00000000e+000],\n",
       "       [8.76559383e-001, 1.23440617e-001],\n",
       "       [4.31758739e-001, 5.68241261e-001],\n",
       "       [7.60532805e-016, 1.00000000e+000],\n",
       "       [1.00000000e+000, 1.78968595e-101],\n",
       "       [9.99999996e-001, 4.46234996e-009],\n",
       "       [7.98501492e-011, 1.00000000e+000],\n",
       "       [2.63951360e-016, 1.00000000e+000],\n",
       "       [2.70248948e-005, 9.99972975e-001],\n",
       "       [7.12238982e-019, 1.00000000e+000],\n",
       "       [1.00000000e+000, 1.79744850e-084],\n",
       "       [8.30781736e-017, 1.00000000e+000],\n",
       "       [1.00000000e+000, 1.42313727e-018],\n",
       "       [1.00000000e+000, 4.66770088e-020],\n",
       "       [9.99999944e-001, 5.57372202e-008],\n",
       "       [3.36791894e-015, 1.00000000e+000],\n",
       "       [2.07686009e-012, 1.00000000e+000],\n",
       "       [4.31508778e-016, 1.00000000e+000],\n",
       "       [9.99999987e-001, 1.25473055e-008],\n",
       "       [1.04621218e-013, 1.00000000e+000],\n",
       "       [7.16815621e-015, 1.00000000e+000],\n",
       "       [1.00000000e+000, 1.42730102e-080],\n",
       "       [4.48800486e-001, 5.51199514e-001],\n",
       "       [1.13562818e-017, 1.00000000e+000],\n",
       "       [1.00000000e+000, 4.67615506e-016],\n",
       "       [4.19937070e-012, 1.00000000e+000],\n",
       "       [1.00000000e+000, 1.68970099e-018],\n",
       "       [1.00000000e+000, 7.06041196e-026],\n",
       "       [1.00000000e+000, 3.88000648e-059],\n",
       "       [1.54759567e-013, 1.00000000e+000],\n",
       "       [3.03914803e-011, 1.00000000e+000],\n",
       "       [3.86986475e-013, 1.00000000e+000],\n",
       "       [1.00000000e+000, 3.16001131e-041],\n",
       "       [7.15474498e-013, 1.00000000e+000],\n",
       "       [2.34836289e-013, 1.00000000e+000],\n",
       "       [1.00000000e+000, 1.25922528e-064],\n",
       "       [1.00000000e+000, 1.52418712e-057],\n",
       "       [1.00000000e+000, 1.12484867e-042],\n",
       "       [2.20347228e-015, 1.00000000e+000],\n",
       "       [1.00000000e+000, 2.16351257e-137],\n",
       "       [8.98216382e-016, 1.00000000e+000],\n",
       "       [1.00000000e+000, 2.76656444e-042],\n",
       "       [1.31491034e-019, 1.00000000e+000],\n",
       "       [1.14230969e-013, 1.00000000e+000],\n",
       "       [1.00000000e+000, 1.15653876e-039],\n",
       "       [2.45623997e-016, 1.00000000e+000],\n",
       "       [4.33094277e-017, 1.00000000e+000],\n",
       "       [3.55102196e-010, 1.00000000e+000],\n",
       "       [5.57840530e-012, 1.00000000e+000],\n",
       "       [1.72786206e-016, 1.00000000e+000],\n",
       "       [1.00000000e+000, 1.72870188e-087],\n",
       "       [3.75700972e-014, 1.00000000e+000],\n",
       "       [9.99998977e-001, 1.02295128e-006],\n",
       "       [1.00000000e+000, 6.79073264e-216],\n",
       "       [6.42541034e-012, 1.00000000e+000],\n",
       "       [3.23417279e-009, 9.99999997e-001],\n",
       "       [1.71072854e-002, 9.82892715e-001],\n",
       "       [1.00000000e+000, 1.40977335e-069],\n",
       "       [7.65393294e-001, 2.34606706e-001],\n",
       "       [4.50964739e-017, 1.00000000e+000],\n",
       "       [1.31974623e-012, 1.00000000e+000],\n",
       "       [1.77957165e-013, 1.00000000e+000],\n",
       "       [1.62042379e-003, 9.98379576e-001],\n",
       "       [2.26181095e-014, 1.00000000e+000]])"
      ]
     },
     "execution_count": 32,
     "metadata": {},
     "output_type": "execute_result"
    }
   ],
   "source": [
    "from sklearn.naive_bayes import GaussianNB\n",
    "gnb_clf = GaussianNB()\n",
    "gnb_clf.fit(X_train, y_train)\n",
    "y_score = gnb_clf.predict_proba(X_test)\n",
    "y_score"
   ]
  },
  {
   "cell_type": "code",
   "execution_count": 33,
   "id": "f7ae5f42",
   "metadata": {},
   "outputs": [
    {
     "data": {
      "image/png": "[encoded data removed]",
      "text/plain": [
       "<Figure size 360x360 with 1 Axes>"
      ]
     },
     "metadata": {
      "needs_background": "light"
     },
     "output_type": "display_data"
    },
    {
     "data": {
      "image/png": "[encoded data removed]",
      "text/plain": [
       "<Figure size 360x360 with 1 Axes>"
      ]
     },
     "metadata": {
      "needs_background": "light"
     },
     "output_type": "display_data"
    }
   ],
   "source": [
    "plot_roc_curve(y_test, y_score[:,1], title = \"ROC (Naive bayes)\")\n",
    "plt.show()\n",
    "\n",
    "plot_prroc_curve(y_test, y_score[:,1], title = \"PR-ROC (Naive bayes)\")\n",
    "plt.show()"
   ]
  },
  {
   "cell_type": "markdown",
   "id": "d7ed980a",
   "metadata": {},
   "source": [
    "<a id='knn'></a>\n",
    "## 2.4 K-nearest neighbor"
   ]
  },
  {
   "cell_type": "code",
   "execution_count": 34,
   "id": "77a33d8a",
   "metadata": {},
   "outputs": [
    {
     "data": {
      "text/plain": [
       "array([[0.16666667, 0.83333333],\n",
       "       [0.        , 1.        ],\n",
       "       [0.16666667, 0.83333333],\n",
       "       [0.        , 1.        ],\n",
       "       [0.03333333, 0.96666667],\n",
       "       [0.        , 1.        ],\n",
       "       [0.83333333, 0.16666667],\n",
       "       [1.        , 0.        ],\n",
       "       [0.86666667, 0.13333333],\n",
       "       [1.        , 0.        ],\n",
       "       [1.        , 0.        ],\n",
       "       [0.96666667, 0.03333333],\n",
       "       [0.96666667, 0.03333333],\n",
       "       [1.        , 0.        ],\n",
       "       [0.7       , 0.3       ],\n",
       "       [0.        , 1.        ],\n",
       "       [0.2       , 0.8       ],\n",
       "       [0.        , 1.        ],\n",
       "       [0.06666667, 0.93333333],\n",
       "       [0.        , 1.        ],\n",
       "       [0.06666667, 0.93333333],\n",
       "       [0.03333333, 0.96666667],\n",
       "       [0.03333333, 0.96666667],\n",
       "       [0.03333333, 0.96666667],\n",
       "       [0.23333333, 0.76666667],\n",
       "       [0.        , 1.        ],\n",
       "       [0.03333333, 0.96666667],\n",
       "       [0.        , 1.        ],\n",
       "       [0.63333333, 0.36666667],\n",
       "       [0.        , 1.        ],\n",
       "       [0.        , 1.        ],\n",
       "       [0.        , 1.        ],\n",
       "       [1.        , 0.        ],\n",
       "       [0.2       , 0.8       ],\n",
       "       [0.        , 1.        ],\n",
       "       [1.        , 0.        ],\n",
       "       [1.        , 0.        ],\n",
       "       [0.        , 1.        ],\n",
       "       [1.        , 0.        ],\n",
       "       [0.06666667, 0.93333333],\n",
       "       [0.        , 1.        ],\n",
       "       [0.93333333, 0.06666667],\n",
       "       [0.96666667, 0.03333333],\n",
       "       [0.        , 1.        ],\n",
       "       [0.9       , 0.1       ],\n",
       "       [0.        , 1.        ],\n",
       "       [1.        , 0.        ],\n",
       "       [0.        , 1.        ],\n",
       "       [1.        , 0.        ],\n",
       "       [1.        , 0.        ],\n",
       "       [0.03333333, 0.96666667],\n",
       "       [0.36666667, 0.63333333],\n",
       "       [0.23333333, 0.76666667],\n",
       "       [0.03333333, 0.96666667],\n",
       "       [1.        , 0.        ],\n",
       "       [1.        , 0.        ],\n",
       "       [0.03333333, 0.96666667],\n",
       "       [0.        , 1.        ],\n",
       "       [0.13333333, 0.86666667],\n",
       "       [0.        , 1.        ],\n",
       "       [1.        , 0.        ],\n",
       "       [0.        , 1.        ],\n",
       "       [0.        , 1.        ],\n",
       "       [1.        , 0.        ],\n",
       "       [0.06666667, 0.93333333],\n",
       "       [0.        , 1.        ],\n",
       "       [0.06666667, 0.93333333],\n",
       "       [0.        , 1.        ],\n",
       "       [0.16666667, 0.83333333],\n",
       "       [0.03333333, 0.96666667],\n",
       "       [0.03333333, 0.96666667],\n",
       "       [1.        , 0.        ],\n",
       "       [0.        , 1.        ],\n",
       "       [0.        , 1.        ],\n",
       "       [0.96666667, 0.03333333],\n",
       "       [0.        , 1.        ],\n",
       "       [0.9       , 0.1       ],\n",
       "       [0.13333333, 0.86666667],\n",
       "       [1.        , 0.        ],\n",
       "       [0.03333333, 0.96666667],\n",
       "       [0.1       , 0.9       ],\n",
       "       [0.        , 1.        ],\n",
       "       [1.        , 0.        ],\n",
       "       [0.        , 1.        ],\n",
       "       [0.03333333, 0.96666667],\n",
       "       [1.        , 0.        ],\n",
       "       [1.        , 0.        ],\n",
       "       [1.        , 0.        ],\n",
       "       [0.        , 1.        ],\n",
       "       [1.        , 0.        ],\n",
       "       [0.03333333, 0.96666667],\n",
       "       [1.        , 0.        ],\n",
       "       [0.        , 1.        ],\n",
       "       [0.        , 1.        ],\n",
       "       [1.        , 0.        ],\n",
       "       [0.        , 1.        ],\n",
       "       [0.        , 1.        ],\n",
       "       [0.        , 1.        ],\n",
       "       [0.06666667, 0.93333333],\n",
       "       [0.        , 1.        ],\n",
       "       [1.        , 0.        ],\n",
       "       [0.03333333, 0.96666667],\n",
       "       [0.6       , 0.4       ],\n",
       "       [1.        , 0.        ],\n",
       "       [0.03333333, 0.96666667],\n",
       "       [0.03333333, 0.96666667],\n",
       "       [0.        , 1.        ],\n",
       "       [1.        , 0.        ],\n",
       "       [0.63333333, 0.36666667],\n",
       "       [0.        , 1.        ],\n",
       "       [0.        , 1.        ],\n",
       "       [0.        , 1.        ],\n",
       "       [0.76666667, 0.23333333],\n",
       "       [0.03333333, 0.96666667]])"
      ]
     },
     "execution_count": 34,
     "metadata": {},
     "output_type": "execute_result"
    }
   ],
   "source": [
    "from sklearn.neighbors import KNeighborsClassifier\n",
    "knn_clf = KNeighborsClassifier(n_neighbors=30)\n",
    "knn_clf.fit(X_train, y_train)\n",
    "y_score = knn_clf.predict_proba(X_test)\n",
    "y_score"
   ]
  },
  {
   "cell_type": "code",
   "execution_count": 35,
   "id": "0bb70381",
   "metadata": {},
   "outputs": [
    {
     "data": {
      "image/png": "[encoded data removed]",
      "text/plain": [
       "<Figure size 360x360 with 1 Axes>"
      ]
     },
     "metadata": {
      "needs_background": "light"
     },
     "output_type": "display_data"
    },
    {
     "data": {
      "image/png": "[encoded data removed]",
      "text/plain": [
       "<Figure size 360x360 with 1 Axes>"
      ]
     },
     "metadata": {
      "needs_background": "light"
     },
     "output_type": "display_data"
    }
   ],
   "source": [
    "plot_roc_curve(y_test, y_score[:,1], title = \"ROC (KNN)\")\n",
    "plt.show()\n",
    "\n",
    "plot_prroc_curve(y_test, y_score[:,1], title = \"PR-ROC (KNN)\")\n",
    "plt.show()"
   ]
  },
  {
   "cell_type": "markdown",
   "id": "e3d33d18",
   "metadata": {},
   "source": [
    "<a id='decision_tree'></a>\n",
    "## 2.5 Decision trees"
   ]
  },
  {
   "cell_type": "code",
   "execution_count": 36,
   "id": "04f1d3ab",
   "metadata": {},
   "outputs": [],
   "source": [
    "from sklearn.tree import DecisionTreeClassifier\n",
    "\n",
    "tree_clf = DecisionTreeClassifier(max_depth=2)\n",
    "tree_clf.fit(X_train, y_train)\n",
    "y_score = tree_clf.predict_proba(X_test)"
   ]
  },
  {
   "cell_type": "code",
   "execution_count": 37,
   "id": "8158f52a",
   "metadata": {},
   "outputs": [
    {
     "data": {
      "image/png": "[encoded data removed]",
      "text/plain": [
       "<Figure size 360x360 with 1 Axes>"
      ]
     },
     "metadata": {
      "needs_background": "light"
     },
     "output_type": "display_data"
    },
    {
     "data": {
      "image/png": "[encoded data removed]",
      "text/plain": [
       "<Figure size 360x360 with 1 Axes>"
      ]
     },
     "metadata": {
      "needs_background": "light"
     },
     "output_type": "display_data"
    }
   ],
   "source": [
    "plot_roc_curve(y_test, y_score[:,1], title = \"ROC (Decision Tree)\")\n",
    "plt.show()\n",
    "\n",
    "plot_prroc_curve(y_test, y_score[:,1], title = \"PR-ROC (Decision Tree)\")\n",
    "plt.show()"
   ]
  },
  {
   "cell_type": "markdown",
   "id": "25fda65b",
   "metadata": {},
   "source": [
    "<a id='randomforest'></a>\n",
    "## 2.6 Random forest"
   ]
  },
  {
   "cell_type": "code",
   "execution_count": 38,
   "id": "f20b053b",
   "metadata": {},
   "outputs": [],
   "source": [
    "from sklearn.ensemble import RandomForestClassifier\n",
    "forest_clf = RandomForestClassifier(n_estimators=500, max_depth=2, random_state=2022)\n",
    "forest_clf.fit(X_train, y_train)\n",
    "\n",
    "y_score = forest_clf.predict_proba(X_test)"
   ]
  },
  {
   "cell_type": "code",
   "execution_count": 39,
   "id": "69a483a1",
   "metadata": {
    "scrolled": false
   },
   "outputs": [
    {
     "data": {
      "image/png": "[encoded data removed]",
      "text/plain": [
       "<Figure size 360x360 with 1 Axes>"
      ]
     },
     "metadata": {
      "needs_background": "light"
     },
     "output_type": "display_data"
    },
    {
     "data": {
      "image/png": "[encoded data removed]",
      "text/plain": [
       "<Figure size 360x360 with 1 Axes>"
      ]
     },
     "metadata": {
      "needs_background": "light"
     },
     "output_type": "display_data"
    }
   ],
   "source": [
    "plot_roc_curve(y_test, y_score[:,1], title = \"ROC (Random Forest)\")\n",
    "plt.show()\n",
    "\n",
    "plot_prroc_curve(y_test, y_score[:,1], title = \"PR-ROC (Random Forest)\")\n",
    "plt.show()"
   ]
  },
  {
   "cell_type": "markdown",
   "id": "4c872499",
   "metadata": {},
   "source": [
    "**Question**: compare randomForest's result with that of DecisionTree, what did you find?"
   ]
  },
  {
   "cell_type": "markdown",
   "id": "7ef71caf",
   "metadata": {},
   "source": [
    "<a id='xgboost'></a>\n",
    "## 2.7 XGBoost"
   ]
  },
  {
   "cell_type": "code",
   "execution_count": 40,
   "id": "5651ee34",
   "metadata": {},
   "outputs": [
    {
     "name": "stdout",
     "output_type": "stream",
     "text": [
      "Requirement already satisfied: xgboost in /home/wbguo/.local/lib/python3.8/site-packages (1.6.2)\r\n",
      "Requirement already satisfied: numpy in /home/wbguo/.local/lib/python3.8/site-packages (from xgboost) (1.21.4)\r\n",
      "Requirement already satisfied: scipy in /home/wbguo/.local/lib/python3.8/site-packages (from xgboost) (1.7.1)\r\n"
     ]
    }
   ],
   "source": [
    "import sys\n",
    "!{sys.executable} -m pip install xgboost --user"
   ]
  },
  {
   "cell_type": "code",
   "execution_count": 41,
   "id": "da2ad392",
   "metadata": {},
   "outputs": [],
   "source": [
    "import xgboost as xgb\n",
    "\n",
    "xgb_clf = xgb.XGBClassifier(objective='binary:logistic')\n",
    "xgb_clf.fit(X_train, y_train)\n",
    "\n",
    "y_score = xgb_clf.predict_proba(X_test)"
   ]
  },
  {
   "cell_type": "code",
   "execution_count": 42,
   "id": "b825e717",
   "metadata": {},
   "outputs": [
    {
     "data": {
      "image/png": "[encoded data removed]",
      "text/plain": [
       "<Figure size 360x360 with 1 Axes>"
      ]
     },
     "metadata": {
      "needs_background": "light"
     },
     "output_type": "display_data"
    },
    {
     "data": {
      "image/png": "[encoded data removed]",
      "text/plain": [
       "<Figure size 360x360 with 1 Axes>"
      ]
     },
     "metadata": {
      "needs_background": "light"
     },
     "output_type": "display_data"
    }
   ],
   "source": [
    "plot_roc_curve(y_test, y_score[:,1], title = \"ROC (XGBoost)\")\n",
    "plt.show()\n",
    "\n",
    "plot_prroc_curve(y_test, y_score[:,1], title = \"PR-ROC (XGBoost)\")\n",
    "plt.show()"
   ]
  },
  {
   "cell_type": "markdown",
   "id": "dce10122",
   "metadata": {},
   "source": [
    "<a id='nn'></a>\n",
    "## 2.8 Neural Network"
   ]
  },
  {
   "cell_type": "code",
   "execution_count": 43,
   "id": "829822af",
   "metadata": {
    "scrolled": true
   },
   "outputs": [
    {
     "name": "stdout",
     "output_type": "stream",
     "text": [
      "Requirement already satisfied: tensorflow in /home/wbguo/.local/lib/python3.8/site-packages (2.7.0)\n",
      "Requirement already satisfied: keras<2.8,>=2.7.0rc0 in /home/wbguo/.local/lib/python3.8/site-packages (from tensorflow) (2.7.0)\n",
      "Requirement already satisfied: six>=1.12.0 in /home/wbguo/apps/anaconda3/lib/python3.8/site-packages (from tensorflow) (1.15.0)\n",
      "Requirement already satisfied: keras-preprocessing>=1.1.1 in /home/wbguo/.local/lib/python3.8/site-packages (from tensorflow) (1.1.2)\n",
      "Requirement already satisfied: wrapt>=1.11.0 in /home/wbguo/.local/lib/python3.8/site-packages (from tensorflow) (1.13.3)\n",
      "Requirement already satisfied: termcolor>=1.1.0 in /home/wbguo/.local/lib/python3.8/site-packages (from tensorflow) (1.1.0)\n",
      "Requirement already satisfied: wheel<1.0,>=0.32.0 in /home/wbguo/apps/anaconda3/lib/python3.8/site-packages (from tensorflow) (0.36.2)\n",
      "Requirement already satisfied: h5py>=2.9.0 in /home/wbguo/.local/lib/python3.8/site-packages (from tensorflow) (3.6.0)\n",
      "Requirement already satisfied: opt-einsum>=2.3.2 in /home/wbguo/.local/lib/python3.8/site-packages (from tensorflow) (3.3.0)\n",
      "Requirement already satisfied: libclang>=9.0.1 in /home/wbguo/.local/lib/python3.8/site-packages (from tensorflow) (12.0.0)\n",
      "Requirement already satisfied: astunparse>=1.6.0 in /home/wbguo/.local/lib/python3.8/site-packages (from tensorflow) (1.6.3)\n",
      "Requirement already satisfied: numpy>=1.14.5 in /home/wbguo/.local/lib/python3.8/site-packages (from tensorflow) (1.21.4)\n",
      "Requirement already satisfied: tensorflow-io-gcs-filesystem>=0.21.0 in /home/wbguo/.local/lib/python3.8/site-packages (from tensorflow) (0.22.0)\n",
      "Requirement already satisfied: grpcio<2.0,>=1.24.3 in /home/wbguo/.local/lib/python3.8/site-packages (from tensorflow) (1.42.0)\n",
      "Requirement already satisfied: gast<0.5.0,>=0.2.1 in /home/wbguo/.local/lib/python3.8/site-packages (from tensorflow) (0.4.0)\n",
      "Requirement already satisfied: tensorflow-estimator<2.8,~=2.7.0rc0 in /home/wbguo/.local/lib/python3.8/site-packages (from tensorflow) (2.7.0)\n",
      "Requirement already satisfied: typing-extensions>=3.6.6 in /home/wbguo/.local/lib/python3.8/site-packages (from tensorflow) (4.0.1)\n",
      "Requirement already satisfied: tensorboard~=2.6 in /home/wbguo/.local/lib/python3.8/site-packages (from tensorflow) (2.7.0)\n",
      "Requirement already satisfied: protobuf>=3.9.2 in /home/wbguo/.local/lib/python3.8/site-packages (from tensorflow) (3.19.1)\n",
      "Requirement already satisfied: absl-py>=0.4.0 in /home/wbguo/.local/lib/python3.8/site-packages (from tensorflow) (1.0.0)\n",
      "Requirement already satisfied: flatbuffers<3.0,>=1.12 in /home/wbguo/.local/lib/python3.8/site-packages (from tensorflow) (2.0)\n",
      "Requirement already satisfied: google-pasta>=0.1.1 in /home/wbguo/.local/lib/python3.8/site-packages (from tensorflow) (0.2.0)\n",
      "Requirement already satisfied: google-auth<3,>=1.6.3 in /home/wbguo/.local/lib/python3.8/site-packages (from tensorboard~=2.6->tensorflow) (2.3.3)\n",
      "Requirement already satisfied: markdown>=2.6.8 in /home/wbguo/.local/lib/python3.8/site-packages (from tensorboard~=2.6->tensorflow) (3.3.6)\n",
      "Requirement already satisfied: requests<3,>=2.21.0 in /home/wbguo/apps/anaconda3/lib/python3.8/site-packages (from tensorboard~=2.6->tensorflow) (2.25.1)\n",
      "Requirement already satisfied: tensorboard-plugin-wit>=1.6.0 in /home/wbguo/.local/lib/python3.8/site-packages (from tensorboard~=2.6->tensorflow) (1.8.0)\n",
      "Requirement already satisfied: werkzeug>=0.11.15 in /home/wbguo/.local/lib/python3.8/site-packages (from tensorboard~=2.6->tensorflow) (2.0.2)\n",
      "Requirement already satisfied: tensorboard-data-server<0.7.0,>=0.6.0 in /home/wbguo/.local/lib/python3.8/site-packages (from tensorboard~=2.6->tensorflow) (0.6.1)\n",
      "Requirement already satisfied: google-auth-oauthlib<0.5,>=0.4.1 in /home/wbguo/.local/lib/python3.8/site-packages (from tensorboard~=2.6->tensorflow) (0.4.6)\n",
      "Requirement already satisfied: setuptools>=41.0.0 in /home/wbguo/.local/lib/python3.8/site-packages (from tensorboard~=2.6->tensorflow) (62.1.0)\n",
      "Requirement already satisfied: cachetools<5.0,>=2.0.0 in /home/wbguo/.local/lib/python3.8/site-packages (from google-auth<3,>=1.6.3->tensorboard~=2.6->tensorflow) (4.2.4)\n",
      "Requirement already satisfied: rsa<5,>=3.1.4 in /home/wbguo/.local/lib/python3.8/site-packages (from google-auth<3,>=1.6.3->tensorboard~=2.6->tensorflow) (4.8)\n",
      "Requirement already satisfied: pyasn1-modules>=0.2.1 in /home/wbguo/.local/lib/python3.8/site-packages (from google-auth<3,>=1.6.3->tensorboard~=2.6->tensorflow) (0.2.8)\n",
      "Requirement already satisfied: requests-oauthlib>=0.7.0 in /home/wbguo/.local/lib/python3.8/site-packages (from google-auth-oauthlib<0.5,>=0.4.1->tensorboard~=2.6->tensorflow) (1.3.0)\n",
      "Requirement already satisfied: importlib-metadata>=4.4 in /home/wbguo/.local/lib/python3.8/site-packages (from markdown>=2.6.8->tensorboard~=2.6->tensorflow) (4.8.2)\n",
      "Requirement already satisfied: zipp>=0.5 in /home/wbguo/apps/anaconda3/lib/python3.8/site-packages (from importlib-metadata>=4.4->markdown>=2.6.8->tensorboard~=2.6->tensorflow) (3.4.1)\n",
      "Requirement already satisfied: pyasn1<0.5.0,>=0.4.6 in /home/wbguo/.local/lib/python3.8/site-packages (from pyasn1-modules>=0.2.1->google-auth<3,>=1.6.3->tensorboard~=2.6->tensorflow) (0.4.8)\n",
      "Requirement already satisfied: certifi>=2017.4.17 in /home/wbguo/apps/anaconda3/lib/python3.8/site-packages (from requests<3,>=2.21.0->tensorboard~=2.6->tensorflow) (2020.12.5)\n",
      "Requirement already satisfied: urllib3<1.27,>=1.21.1 in /home/wbguo/apps/anaconda3/lib/python3.8/site-packages (from requests<3,>=2.21.0->tensorboard~=2.6->tensorflow) (1.26.4)\n",
      "Requirement already satisfied: idna<3,>=2.5 in /home/wbguo/apps/anaconda3/lib/python3.8/site-packages (from requests<3,>=2.21.0->tensorboard~=2.6->tensorflow) (2.10)\n",
      "Requirement already satisfied: chardet<5,>=3.0.2 in /home/wbguo/apps/anaconda3/lib/python3.8/site-packages (from requests<3,>=2.21.0->tensorboard~=2.6->tensorflow) (4.0.0)\n",
      "Requirement already satisfied: oauthlib>=3.0.0 in /home/wbguo/.local/lib/python3.8/site-packages (from requests-oauthlib>=0.7.0->google-auth-oauthlib<0.5,>=0.4.1->tensorboard~=2.6->tensorflow) (3.2.1)\n",
      "Requirement already satisfied: keras in /home/wbguo/.local/lib/python3.8/site-packages (2.7.0)\n"
     ]
    }
   ],
   "source": [
    "import sys\n",
    "!{sys.executable} -m pip install tensorflow --user\n",
    "!{sys.executable} -m pip install keras --user"
   ]
  },
  {
   "cell_type": "code",
   "execution_count": 44,
   "id": "16b7e12a",
   "metadata": {
    "scrolled": true
   },
   "outputs": [
    {
     "name": "stderr",
     "output_type": "stream",
     "text": [
      "2022-10-12 13:02:45.736693: W tensorflow/stream_executor/platform/default/dso_loader.cc:64] Could not load dynamic library 'libcudart.so.11.0'; dlerror: libcudart.so.11.0: cannot open shared object file: No such file or directory; LD_LIBRARY_PATH: :/home/wbguo/iproject/BSReadSim/External/HTSLIB/\n",
      "2022-10-12 13:02:45.736739: I tensorflow/stream_executor/cuda/cudart_stub.cc:29] Ignore above cudart dlerror if you do not have a GPU set up on your machine.\n",
      "2022-10-12 13:02:47.634444: W tensorflow/stream_executor/platform/default/dso_loader.cc:64] Could not load dynamic library 'libcuda.so.1'; dlerror: libcuda.so.1: cannot open shared object file: No such file or directory; LD_LIBRARY_PATH: :/home/wbguo/iproject/BSReadSim/External/HTSLIB/\n",
      "2022-10-12 13:02:47.634484: W tensorflow/stream_executor/cuda/cuda_driver.cc:269] failed call to cuInit: UNKNOWN ERROR (303)\n",
      "2022-10-12 13:02:47.634512: I tensorflow/stream_executor/cuda/cuda_diagnostics.cc:156] kernel driver does not appear to be running on this host (mathlab01.mcdb.ucla.edu): /proc/driver/nvidia/version does not exist\n"
     ]
    }
   ],
   "source": [
    "from tensorflow import keras\n",
    "model = keras.models.Sequential() \n",
    "model.add(keras.layers.Flatten(input_shape=[30, 1]))\n",
    "model.add(keras.layers.Dense(16,activation=\"relu\"))\n",
    "model.add(keras.layers.Dense(1, activation=\"sigmoid\"))"
   ]
  },
  {
   "cell_type": "markdown",
   "id": "d7e26a93",
   "metadata": {},
   "source": [
    "The first line creates a Sequential model. This is the simplest kind of Keras model for neural networks that are just composed of\n",
    "a single stack of layers connected sequentially\n",
    "\n",
    "<div>\n",
    "<img src=\"nn_structure.svg\" width=\"1000\"/>\n",
    "</div>"
   ]
  },
  {
   "cell_type": "code",
   "execution_count": 45,
   "id": "b676a8e9",
   "metadata": {},
   "outputs": [
    {
     "data": {
      "text/plain": [
       "[<keras.layers.core.flatten.Flatten at 0x7ff9a08b69a0>,\n",
       " <keras.layers.core.dense.Dense at 0x7ff9a08b60d0>,\n",
       " <keras.layers.core.dense.Dense at 0x7ff8a7bab1c0>]"
      ]
     },
     "execution_count": 45,
     "metadata": {},
     "output_type": "execute_result"
    }
   ],
   "source": [
    "model.layers"
   ]
  },
  {
   "cell_type": "code",
   "execution_count": 46,
   "id": "7f6d1929",
   "metadata": {},
   "outputs": [],
   "source": [
    "model.build() # to build the model"
   ]
  },
  {
   "cell_type": "code",
   "execution_count": 47,
   "id": "f917389c",
   "metadata": {
    "scrolled": true
   },
   "outputs": [
    {
     "name": "stdout",
     "output_type": "stream",
     "text": [
      "Model: \"sequential\"\n",
      "_________________________________________________________________\n",
      " Layer (type)                Output Shape              Param #   \n",
      "=================================================================\n",
      " flatten (Flatten)           (None, 30)                0         \n",
      "                                                                 \n",
      " dense (Dense)               (None, 16)                496       \n",
      "                                                                 \n",
      " dense_1 (Dense)             (None, 1)                 17        \n",
      "                                                                 \n",
      "=================================================================\n",
      "Total params: 513\n",
      "Trainable params: 513\n",
      "Non-trainable params: 0\n",
      "_________________________________________________________________\n"
     ]
    }
   ],
   "source": [
    "model.summary() # get the summary of your Neural network"
   ]
  },
  {
   "cell_type": "code",
   "execution_count": 48,
   "id": "24bd3dc1",
   "metadata": {},
   "outputs": [
    {
     "data": {
      "text/plain": [
       "<function keras.activations.relu(x, alpha=0.0, max_value=None, threshold=0.0)>"
      ]
     },
     "execution_count": 48,
     "metadata": {},
     "output_type": "execute_result"
    }
   ],
   "source": [
    "model.layers[1].activation # access each layer by the index"
   ]
  },
  {
   "cell_type": "code",
   "execution_count": 49,
   "id": "4686c98e",
   "metadata": {},
   "outputs": [],
   "source": [
    "weights, biases = model.layers[1].get_weights()"
   ]
  },
  {
   "cell_type": "code",
   "execution_count": 50,
   "id": "59ed0836",
   "metadata": {},
   "outputs": [
    {
     "data": {
      "text/plain": [
       "array([[-0.11055925,  0.1376707 , -0.23571788,  0.16263387,  0.09035251,\n",
       "        -0.22663793,  0.14012423, -0.31776688, -0.15359089,  0.23927453,\n",
       "         0.28588   , -0.01646817, -0.05597949, -0.32638097, -0.03151608,\n",
       "        -0.2657307 ],\n",
       "       [-0.24846047, -0.23276365,  0.17883006, -0.18807334, -0.34689286,\n",
       "        -0.33955005,  0.2660524 , -0.00341147, -0.02621037,  0.3522552 ,\n",
       "         0.07809427, -0.32170865, -0.3498467 ,  0.00132123, -0.13405707,\n",
       "         0.22908029],\n",
       "       [-0.35313165,  0.00542   , -0.0372383 , -0.06190053,  0.13388667,\n",
       "        -0.3002793 , -0.13267712, -0.15691538,  0.14317575, -0.06193963,\n",
       "         0.27733502,  0.20138851,  0.29192248, -0.16171841,  0.04866275,\n",
       "        -0.04578999],\n",
       "       [ 0.18817219, -0.06404072, -0.28708008, -0.16439547,  0.21745482,\n",
       "         0.25696787,  0.32584235, -0.05712128,  0.0432272 ,  0.32445875,\n",
       "         0.15303263, -0.16506408,  0.16243479,  0.35760602,  0.2788531 ,\n",
       "        -0.3563207 ],\n",
       "       [-0.07276446,  0.23481008,  0.1350745 ,  0.16127393, -0.23274083,\n",
       "        -0.1694049 , -0.28518867, -0.0113858 ,  0.30103752,  0.16485915,\n",
       "        -0.13380659, -0.34064344, -0.33811912, -0.10161078,  0.01884377,\n",
       "         0.1369816 ],\n",
       "       [-0.13162145, -0.21880592, -0.17294216,  0.3508272 ,  0.20372328,\n",
       "        -0.28296977, -0.22943735, -0.20838995, -0.03276297,  0.25558338,\n",
       "        -0.17011528,  0.15475038,  0.09710413, -0.12773745, -0.2643841 ,\n",
       "         0.07948655],\n",
       "       [ 0.23503187, -0.24529725,  0.09545329, -0.02565429, -0.15774235,\n",
       "         0.24556187,  0.2961969 , -0.3147607 , -0.0422596 , -0.23095988,\n",
       "         0.21422848,  0.32168326,  0.17951253, -0.34119502, -0.16714107,\n",
       "         0.13778126],\n",
       "       [ 0.04394007,  0.2795684 ,  0.05861118, -0.15311773,  0.05362111,\n",
       "         0.14140931,  0.19473234,  0.2071065 , -0.26436257, -0.09904763,\n",
       "        -0.01932406,  0.3440704 , -0.17732516, -0.10846332, -0.13654676,\n",
       "        -0.09361458],\n",
       "       [ 0.06959805, -0.25579986, -0.25536466, -0.2471742 ,  0.12257603,\n",
       "         0.09733042, -0.0780502 ,  0.32200786,  0.36031684,  0.01046282,\n",
       "        -0.20584248, -0.17159829, -0.23864558, -0.12234595, -0.03007498,\n",
       "         0.07474145],\n",
       "       [-0.18370661,  0.10190922,  0.17943463,  0.06266534,  0.21966246,\n",
       "         0.00070712,  0.04825711,  0.27668694, -0.21060875, -0.1853688 ,\n",
       "        -0.19580968, -0.35521328,  0.15411887,  0.16842946,  0.20517102,\n",
       "         0.33056447],\n",
       "       [ 0.26280203, -0.33633214,  0.01156765, -0.0669525 , -0.011985  ,\n",
       "        -0.09070048,  0.22440878,  0.18500724,  0.05548954,  0.1411191 ,\n",
       "         0.13679361, -0.13548541, -0.23323578, -0.00924236, -0.22354455,\n",
       "        -0.24403691],\n",
       "       [-0.06823307, -0.28415003, -0.17666213, -0.09259698,  0.23546508,\n",
       "        -0.26649937,  0.31005445, -0.05515823, -0.15728581, -0.11135806,\n",
       "        -0.05844337,  0.12244904, -0.29927742,  0.08556178, -0.03998673,\n",
       "         0.14839134],\n",
       "       [-0.18818553,  0.3570628 ,  0.0683502 , -0.26637977,  0.32690933,\n",
       "        -0.06712997,  0.07100037,  0.22384241,  0.10572013, -0.3264367 ,\n",
       "         0.2064232 ,  0.17284426, -0.2880289 ,  0.23298582,  0.06793654,\n",
       "         0.22050741],\n",
       "       [ 0.07319841, -0.25277036, -0.11448227, -0.15053867, -0.01542738,\n",
       "         0.2583976 ,  0.2382609 ,  0.24055168,  0.09292814, -0.34966785,\n",
       "        -0.18528813, -0.01943308, -0.31474832,  0.33194056, -0.2609027 ,\n",
       "         0.19541821],\n",
       "       [ 0.23241636,  0.01010755,  0.31382492, -0.03310543,  0.0880563 ,\n",
       "         0.14312407,  0.21667323,  0.1583626 , -0.24025837, -0.08440244,\n",
       "        -0.00134566, -0.05367374, -0.20765442, -0.24390551, -0.18039736,\n",
       "         0.09333569],\n",
       "       [-0.32338506, -0.13044214,  0.28128794,  0.15050784,  0.1385439 ,\n",
       "         0.07584956, -0.3519779 ,  0.10745078, -0.20879292,  0.17844865,\n",
       "         0.14304969,  0.00803101, -0.34538808,  0.00624764,  0.10059094,\n",
       "         0.00069067],\n",
       "       [ 0.10848856,  0.32125822, -0.03207412,  0.16266844,  0.34660336,\n",
       "        -0.02777827,  0.29800484, -0.3259462 ,  0.1543406 , -0.288369  ,\n",
       "        -0.35720965, -0.15365185,  0.28506383,  0.05339405,  0.29894397,\n",
       "        -0.15108053],\n",
       "       [ 0.06326938,  0.02464435,  0.2955316 ,  0.08680388,  0.2504064 ,\n",
       "         0.10600868, -0.02832109, -0.01359832,  0.13180321, -0.04169947,\n",
       "         0.12434027,  0.18399015, -0.35022134,  0.34229633, -0.34902772,\n",
       "         0.01934731],\n",
       "       [ 0.09981874,  0.06393826, -0.10883006, -0.3107112 , -0.04386714,\n",
       "        -0.13938156,  0.33841798,  0.26303825, -0.2004783 ,  0.3524733 ,\n",
       "         0.13202244,  0.1457518 , -0.05076239,  0.16698983,  0.33024958,\n",
       "         0.17657396],\n",
       "       [-0.3487749 ,  0.01201025, -0.35361946, -0.26020885, -0.08677202,\n",
       "         0.17686269, -0.08488086,  0.03789082, -0.33820188,  0.27217242,\n",
       "         0.01386541, -0.10245395,  0.31842902, -0.00780246,  0.02088302,\n",
       "        -0.31908488],\n",
       "       [ 0.20075944,  0.27820548, -0.02167425, -0.1997438 , -0.30259934,\n",
       "         0.2667249 , -0.10608998,  0.2322025 ,  0.14854941,  0.12218916,\n",
       "        -0.26534855,  0.12997517,  0.18194339, -0.13166536, -0.30391574,\n",
       "        -0.17376198],\n",
       "       [ 0.11737064, -0.34615314, -0.20941065,  0.34010515, -0.20957322,\n",
       "        -0.17531018, -0.05219728, -0.20862003, -0.1511092 ,  0.2060835 ,\n",
       "        -0.159897  ,  0.00623876, -0.2545651 ,  0.24039587,  0.17220631,\n",
       "         0.06976163],\n",
       "       [-0.13778299, -0.23528804,  0.3603609 , -0.00672862,  0.09882912,\n",
       "         0.26560906,  0.1199379 ,  0.1423972 ,  0.1314353 , -0.0340043 ,\n",
       "        -0.29506028,  0.26747963, -0.22470096,  0.04301855,  0.24716946,\n",
       "        -0.2869367 ],\n",
       "       [-0.1863438 ,  0.002727  ,  0.03971326,  0.3477629 ,  0.23744765,\n",
       "         0.35748383,  0.28599522,  0.21358362,  0.20638403,  0.11636293,\n",
       "         0.11163688, -0.24438795, -0.3261808 ,  0.35121045,  0.33874467,\n",
       "         0.01093823],\n",
       "       [ 0.29087022,  0.15178981, -0.25240362, -0.27106544,  0.11804855,\n",
       "         0.31677923, -0.31033465,  0.34471706,  0.14232996, -0.05190778,\n",
       "         0.35153583,  0.21584323,  0.07944149, -0.07325578,  0.20169345,\n",
       "         0.14232108],\n",
       "       [ 0.08755973,  0.1561692 , -0.3211636 , -0.22426932, -0.0083136 ,\n",
       "        -0.2909901 , -0.24952155,  0.29977658, -0.3064788 ,  0.28167096,\n",
       "        -0.11217453, -0.28052264,  0.10250595, -0.33872944,  0.17539343,\n",
       "        -0.05335411],\n",
       "       [-0.12420613,  0.11374304, -0.15258998,  0.0384883 , -0.2035653 ,\n",
       "         0.2652661 ,  0.2918453 , -0.3222626 ,  0.30348822,  0.21690962,\n",
       "        -0.1399974 ,  0.2098349 ,  0.30854627,  0.20924613, -0.30997446,\n",
       "         0.19147202],\n",
       "       [ 0.26440492,  0.28678086,  0.02666259,  0.21525565, -0.10230497,\n",
       "        -0.17970653,  0.35250774,  0.15152767, -0.01202884, -0.00827837,\n",
       "        -0.15545173, -0.22945043,  0.01061559,  0.05226907,  0.04233125,\n",
       "        -0.31639346],\n",
       "       [-0.15987366, -0.32618698, -0.19922777, -0.15833467,  0.03142875,\n",
       "        -0.2303599 ,  0.0901871 ,  0.02027813,  0.09231651, -0.0975908 ,\n",
       "         0.23524722, -0.04348749,  0.30020228, -0.28374335, -0.11927988,\n",
       "         0.20509449],\n",
       "       [ 0.21912488, -0.08138889,  0.35070196,  0.2586688 , -0.09082878,\n",
       "        -0.25551683, -0.24918547, -0.0104202 ,  0.18046752, -0.08281144,\n",
       "        -0.01432073,  0.14483282,  0.2618998 , -0.28102067, -0.34391728,\n",
       "         0.23775318]], dtype=float32)"
      ]
     },
     "execution_count": 50,
     "metadata": {},
     "output_type": "execute_result"
    }
   ],
   "source": [
    "weights"
   ]
  },
  {
   "cell_type": "code",
   "execution_count": 51,
   "id": "617bc2fc",
   "metadata": {},
   "outputs": [
    {
     "data": {
      "text/plain": [
       "array([0., 0., 0., 0., 0., 0., 0., 0., 0., 0., 0., 0., 0., 0., 0., 0.],\n",
       "      dtype=float32)"
      ]
     },
     "execution_count": 51,
     "metadata": {},
     "output_type": "execute_result"
    }
   ],
   "source": [
    "biases"
   ]
  },
  {
   "cell_type": "markdown",
   "id": "e9279db0",
   "metadata": {},
   "source": [
    "**Question**: why the bias term is initialized as 0, while weights is not?"
   ]
  },
  {
   "cell_type": "code",
   "execution_count": 52,
   "id": "dcda8238",
   "metadata": {},
   "outputs": [],
   "source": [
    "opt = keras.optimizers.SGD(learning_rate=0.0001)\n",
    "model.compile(loss=\"binary_crossentropy\", optimizer=opt, metrics=[\"accuracy\"])"
   ]
  },
  {
   "cell_type": "code",
   "execution_count": 53,
   "id": "6fa3aee3",
   "metadata": {
    "scrolled": true
   },
   "outputs": [
    {
     "name": "stdout",
     "output_type": "stream",
     "text": [
      "Epoch 1/50\n",
      "13/13 [==============================] - 1s 19ms/step - loss: 48.3114 - accuracy: 0.4914 - val_loss: 7.2794 - val_accuracy: 0.8261\n",
      "Epoch 2/50\n",
      "13/13 [==============================] - 0s 5ms/step - loss: 11.5441 - accuracy: 0.6699 - val_loss: 2.6617 - val_accuracy: 0.8913\n",
      "Epoch 3/50\n",
      "13/13 [==============================] - 0s 5ms/step - loss: 15.4625 - accuracy: 0.5623 - val_loss: 26.2510 - val_accuracy: 0.2391\n",
      "Epoch 4/50\n",
      "13/13 [==============================] - 0s 4ms/step - loss: 15.8684 - accuracy: 0.6112 - val_loss: 3.4337 - val_accuracy: 0.8913\n",
      "Epoch 5/50\n",
      "13/13 [==============================] - 0s 5ms/step - loss: 9.8403 - accuracy: 0.6528 - val_loss: 20.7438 - val_accuracy: 0.2391\n",
      "Epoch 6/50\n",
      "13/13 [==============================] - 0s 4ms/step - loss: 13.3562 - accuracy: 0.5868 - val_loss: 16.1726 - val_accuracy: 0.2391\n",
      "Epoch 7/50\n",
      "13/13 [==============================] - 0s 5ms/step - loss: 10.0244 - accuracy: 0.6430 - val_loss: 0.2500 - val_accuracy: 0.9783\n",
      "Epoch 8/50\n",
      "13/13 [==============================] - 0s 5ms/step - loss: 3.4526 - accuracy: 0.7873 - val_loss: 0.6669 - val_accuracy: 0.8696\n",
      "Epoch 9/50\n",
      "13/13 [==============================] - 0s 5ms/step - loss: 2.9949 - accuracy: 0.7848 - val_loss: 10.4078 - val_accuracy: 0.8261\n",
      "Epoch 10/50\n",
      "13/13 [==============================] - 0s 5ms/step - loss: 8.8381 - accuracy: 0.6455 - val_loss: 5.4348 - val_accuracy: 0.8696\n",
      "Epoch 11/50\n",
      "13/13 [==============================] - 0s 5ms/step - loss: 7.9372 - accuracy: 0.7090 - val_loss: 22.8308 - val_accuracy: 0.2391\n",
      "Epoch 12/50\n",
      "13/13 [==============================] - 0s 5ms/step - loss: 9.3957 - accuracy: 0.6601 - val_loss: 33.9491 - val_accuracy: 0.2391\n",
      "Epoch 13/50\n",
      "13/13 [==============================] - 0s 5ms/step - loss: 6.0992 - accuracy: 0.7408 - val_loss: 2.1011 - val_accuracy: 0.8913\n",
      "Epoch 14/50\n",
      "13/13 [==============================] - 0s 5ms/step - loss: 7.1605 - accuracy: 0.6944 - val_loss: 0.7119 - val_accuracy: 0.9348\n",
      "Epoch 15/50\n",
      "13/13 [==============================] - 0s 5ms/step - loss: 2.3671 - accuracy: 0.8215 - val_loss: 0.4200 - val_accuracy: 0.8913\n",
      "Epoch 16/50\n",
      "13/13 [==============================] - 0s 5ms/step - loss: 7.7092 - accuracy: 0.6919 - val_loss: 11.9107 - val_accuracy: 0.2609\n",
      "Epoch 17/50\n",
      "13/13 [==============================] - 0s 5ms/step - loss: 3.5299 - accuracy: 0.7775 - val_loss: 0.7026 - val_accuracy: 0.9565\n",
      "Epoch 18/50\n",
      "13/13 [==============================] - 0s 5ms/step - loss: 9.8517 - accuracy: 0.5746 - val_loss: 10.2757 - val_accuracy: 0.2609\n",
      "Epoch 19/50\n",
      "13/13 [==============================] - 0s 5ms/step - loss: 6.5809 - accuracy: 0.7164 - val_loss: 1.6848 - val_accuracy: 0.7609\n",
      "Epoch 20/50\n",
      "13/13 [==============================] - 0s 5ms/step - loss: 1.7990 - accuracy: 0.8509 - val_loss: 1.4891 - val_accuracy: 0.7826\n",
      "Epoch 21/50\n",
      "13/13 [==============================] - 0s 4ms/step - loss: 2.0337 - accuracy: 0.8142 - val_loss: 0.9305 - val_accuracy: 0.8696\n",
      "Epoch 22/50\n",
      "13/13 [==============================] - 0s 5ms/step - loss: 1.1941 - accuracy: 0.8729 - val_loss: 0.7963 - val_accuracy: 0.9565\n",
      "Epoch 23/50\n",
      "13/13 [==============================] - 0s 5ms/step - loss: 3.4095 - accuracy: 0.7677 - val_loss: 0.3917 - val_accuracy: 0.9565\n",
      "Epoch 24/50\n",
      "13/13 [==============================] - 0s 5ms/step - loss: 7.4522 - accuracy: 0.6773 - val_loss: 0.5762 - val_accuracy: 0.9565\n",
      "Epoch 25/50\n",
      "13/13 [==============================] - 0s 5ms/step - loss: 1.6861 - accuracy: 0.8411 - val_loss: 3.7881 - val_accuracy: 0.8913\n",
      "Epoch 26/50\n",
      "13/13 [==============================] - 0s 5ms/step - loss: 2.9089 - accuracy: 0.8289 - val_loss: 0.3690 - val_accuracy: 0.9565\n",
      "Epoch 27/50\n",
      "13/13 [==============================] - 0s 5ms/step - loss: 3.1740 - accuracy: 0.7897 - val_loss: 6.9589 - val_accuracy: 0.3478\n",
      "Epoch 28/50\n",
      "13/13 [==============================] - 0s 5ms/step - loss: 2.9054 - accuracy: 0.7726 - val_loss: 1.6921 - val_accuracy: 0.7391\n",
      "Epoch 29/50\n",
      "13/13 [==============================] - 0s 5ms/step - loss: 1.5066 - accuracy: 0.8680 - val_loss: 0.0236 - val_accuracy: 0.9783\n",
      "Epoch 30/50\n",
      "13/13 [==============================] - 0s 5ms/step - loss: 1.2338 - accuracy: 0.8631 - val_loss: 3.1135 - val_accuracy: 0.8913\n",
      "Epoch 31/50\n",
      "13/13 [==============================] - 0s 5ms/step - loss: 3.7020 - accuracy: 0.7726 - val_loss: 3.8319 - val_accuracy: 0.5217\n",
      "Epoch 32/50\n",
      "13/13 [==============================] - 0s 5ms/step - loss: 2.7234 - accuracy: 0.8020 - val_loss: 0.1203 - val_accuracy: 0.9565\n",
      "Epoch 33/50\n",
      "13/13 [==============================] - 0s 5ms/step - loss: 1.6735 - accuracy: 0.8362 - val_loss: 2.1608 - val_accuracy: 0.6739\n",
      "Epoch 34/50\n",
      "13/13 [==============================] - 0s 5ms/step - loss: 1.9356 - accuracy: 0.8240 - val_loss: 0.0598 - val_accuracy: 0.9783\n",
      "Epoch 35/50\n",
      "13/13 [==============================] - 0s 6ms/step - loss: 1.7324 - accuracy: 0.8460 - val_loss: 0.2747 - val_accuracy: 0.9565\n",
      "Epoch 36/50\n",
      "13/13 [==============================] - 0s 5ms/step - loss: 0.8403 - accuracy: 0.8826 - val_loss: 1.1503 - val_accuracy: 0.8261\n",
      "Epoch 37/50\n",
      "13/13 [==============================] - ETA: 0s - loss: 1.0351 - accuracy: 0.78 - 0s 5ms/step - loss: 1.9579 - accuracy: 0.8289 - val_loss: 6.1498 - val_accuracy: 0.8696\n",
      "Epoch 38/50\n",
      "13/13 [==============================] - 0s 5ms/step - loss: 2.2958 - accuracy: 0.8655 - val_loss: 0.0341 - val_accuracy: 0.9783\n",
      "Epoch 39/50\n",
      "13/13 [==============================] - 0s 5ms/step - loss: 2.3296 - accuracy: 0.7873 - val_loss: 1.2392 - val_accuracy: 0.8043\n",
      "Epoch 40/50\n",
      "13/13 [==============================] - 0s 5ms/step - loss: 1.8124 - accuracy: 0.8606 - val_loss: 0.0181 - val_accuracy: 0.9783\n",
      "Epoch 41/50\n",
      "13/13 [==============================] - 0s 5ms/step - loss: 1.0642 - accuracy: 0.8851 - val_loss: 0.2808 - val_accuracy: 0.9348\n",
      "Epoch 42/50\n",
      "13/13 [==============================] - 0s 5ms/step - loss: 3.6123 - accuracy: 0.7800 - val_loss: 5.1863 - val_accuracy: 0.4348\n",
      "Epoch 43/50\n",
      "13/13 [==============================] - 0s 5ms/step - loss: 3.2488 - accuracy: 0.7726 - val_loss: 0.0161 - val_accuracy: 1.0000\n",
      "Epoch 44/50\n",
      "13/13 [==============================] - 0s 5ms/step - loss: 1.3966 - accuracy: 0.8655 - val_loss: 0.2041 - val_accuracy: 0.9565\n",
      "Epoch 45/50\n",
      "13/13 [==============================] - 0s 5ms/step - loss: 0.8317 - accuracy: 0.9022 - val_loss: 0.1236 - val_accuracy: 0.9565\n",
      "Epoch 46/50\n",
      "13/13 [==============================] - 0s 5ms/step - loss: 1.1064 - accuracy: 0.8631 - val_loss: 2.8326 - val_accuracy: 0.5652\n",
      "Epoch 47/50\n",
      "13/13 [==============================] - 0s 5ms/step - loss: 3.2685 - accuracy: 0.7482 - val_loss: 1.2530 - val_accuracy: 0.8913\n",
      "Epoch 48/50\n",
      "13/13 [==============================] - 0s 5ms/step - loss: 1.8611 - accuracy: 0.8362 - val_loss: 0.2527 - val_accuracy: 0.9565\n",
      "Epoch 49/50\n",
      "13/13 [==============================] - 0s 5ms/step - loss: 0.9505 - accuracy: 0.8851 - val_loss: 0.5321 - val_accuracy: 0.9130\n",
      "Epoch 50/50\n",
      "13/13 [==============================] - 0s 5ms/step - loss: 0.6326 - accuracy: 0.8949 - val_loss: 0.2050 - val_accuracy: 0.9565\n"
     ]
    }
   ],
   "source": [
    "history = model.fit(X_train, y_train, epochs=50, validation_split=0.1)"
   ]
  },
  {
   "cell_type": "code",
   "execution_count": 54,
   "id": "e4e7d71f",
   "metadata": {
    "scrolled": false
   },
   "outputs": [
    {
     "data": {
      "image/png": "[encoded data removed]",
      "text/plain": [
       "<Figure size 360x360 with 1 Axes>"
      ]
     },
     "metadata": {
      "needs_background": "light"
     },
     "output_type": "display_data"
    },
    {
     "data": {
      "image/png": "[encoded data removed]",
      "text/plain": [
       "<Figure size 360x360 with 1 Axes>"
      ]
     },
     "metadata": {
      "needs_background": "light"
     },
     "output_type": "display_data"
    }
   ],
   "source": [
    "y_score = model.predict(X_test)\n",
    "\n",
    "plot_roc_curve(y_test, y_score, title = \"ROC (XGBoost)\")\n",
    "plt.show()\n",
    "\n",
    "plot_prroc_curve(y_test, y_score, title = \"PR-ROC (XGBoost)\")\n",
    "plt.show()"
   ]
  },
  {
   "cell_type": "markdown",
   "id": "1e38ebd9",
   "metadata": {},
   "source": [
    "**Exercise**: reduce the hidden layer's number to 8, try and see if you can get the results better"
   ]
  },
  {
   "cell_type": "code",
   "execution_count": 55,
   "id": "16c20e5a",
   "metadata": {
    "scrolled": false
   },
   "outputs": [
    {
     "data": {
      "text/html": [
       "\n",
       "<form action=\"javascript:code_toggle()\"><input type=\"submit\" id=\"toggleButton\" value=\"Show Sloution\"></form>\n"
      ],
      "text/plain": [
       "<IPython.core.display.HTML object>"
      ]
     },
     "metadata": {},
     "output_type": "display_data"
    }
   ],
   "source": [
    "hide_solution()\n",
    "# model.add(keras.layers.Dense(8, activation=\"relu\"))"
   ]
  },
  {
   "cell_type": "code",
   "execution_count": 56,
   "id": "bbbf92e9",
   "metadata": {},
   "outputs": [],
   "source": [
    "from toggle_cell import toggle_code as hide_solution\n",
    "#model.add(keras.layers.Dense(16, activation=\"relu\"))"
   ]
  },
  {
   "cell_type": "markdown",
   "id": "e45f075b",
   "metadata": {},
   "source": [
    "<a id='linear_nonseparable'></a>\n",
    "# 3. An linearly nonseparable example\n",
    "\n",
    "The following contents will consider a simple but useful example: \n",
    "\n",
    "<div>\n",
    "<img src=\"SyntheticDataset.png\" width=\"300\"/>\n",
    "</div>\n",
    "\n",
    "The day2 folder contains the corresponding files:\n",
    "* ```CollML_testdataset_features.dat```: contains feature values (2 features for 500 samples)\n",
    "* ```CollML_testdataset_labels.dat```: contains the class (500 labels)\n",
    "\n",
    "We will try to run the predict the label based on the features"
   ]
  },
  {
   "cell_type": "code",
   "execution_count": 57,
   "id": "7e76032e",
   "metadata": {},
   "outputs": [],
   "source": [
    "features_origin = np.loadtxt('CollML_testdataset_features.dat')\n",
    "labels_origin = np.loadtxt('CollML_testdataset_labels.dat')"
   ]
  },
  {
   "cell_type": "markdown",
   "id": "1cd36ebe",
   "metadata": {},
   "source": [
    "### Explore"
   ]
  },
  {
   "cell_type": "code",
   "execution_count": 58,
   "id": "637307fd",
   "metadata": {},
   "outputs": [
    {
     "name": "stdout",
     "output_type": "stream",
     "text": [
      "Shape of features (500, 2)\n",
      "Shape of labels (500,)\n"
     ]
    }
   ],
   "source": [
    "# check the #samples and #features\n",
    "print(\"Shape of features\", features_origin.shape)\n",
    "print(\"Shape of labels\", labels_origin.shape)"
   ]
  },
  {
   "cell_type": "code",
   "execution_count": 59,
   "id": "6cd156cd",
   "metadata": {},
   "outputs": [
    {
     "data": {
      "text/plain": [
       "array([0., 1.])"
      ]
     },
     "execution_count": 59,
     "metadata": {},
     "output_type": "execute_result"
    }
   ],
   "source": [
    "np.unique(labels_origin)   ## shows unique values in an array"
   ]
  },
  {
   "cell_type": "code",
   "execution_count": 60,
   "id": "0f4dea3b",
   "metadata": {},
   "outputs": [
    {
     "data": {
      "text/plain": [
       "250"
      ]
     },
     "execution_count": 60,
     "metadata": {},
     "output_type": "execute_result"
    }
   ],
   "source": [
    "# how many zeros are there?\n",
    "np.count_nonzero(labels_origin)"
   ]
  },
  {
   "cell_type": "code",
   "execution_count": 61,
   "id": "f0dccc6c",
   "metadata": {},
   "outputs": [
    {
     "data": {
      "text/plain": [
       "250"
      ]
     },
     "execution_count": 61,
     "metadata": {},
     "output_type": "execute_result"
    }
   ],
   "source": [
    "(labels_origin == 1).sum()"
   ]
  },
  {
   "cell_type": "code",
   "execution_count": 62,
   "id": "9acc96d8",
   "metadata": {},
   "outputs": [
    {
     "data": {
      "text/plain": [
       "array([0.07779135, 2.03231621])"
      ]
     },
     "execution_count": 62,
     "metadata": {},
     "output_type": "execute_result"
    }
   ],
   "source": [
    "features_origin[0, :]"
   ]
  },
  {
   "cell_type": "code",
   "execution_count": 63,
   "id": "88c3b5d7",
   "metadata": {},
   "outputs": [
    {
     "data": {
      "text/plain": [
       "1.0"
      ]
     },
     "execution_count": 63,
     "metadata": {},
     "output_type": "execute_result"
    }
   ],
   "source": [
    "labels_origin[0]"
   ]
  },
  {
   "cell_type": "markdown",
   "id": "af672596",
   "metadata": {},
   "source": [
    "### Split data"
   ]
  },
  {
   "cell_type": "code",
   "execution_count": 64,
   "id": "61101385",
   "metadata": {},
   "outputs": [],
   "source": [
    "features, features_test, labels, labels_test = train_test_split(features_origin, labels_origin, \n",
    "                                                                test_size=0.2, random_state=2022)"
   ]
  },
  {
   "cell_type": "code",
   "execution_count": 65,
   "id": "3d717f00",
   "metadata": {},
   "outputs": [
    {
     "name": "stdout",
     "output_type": "stream",
     "text": [
      "Shape of the whole dataset (500, 2)\n",
      "Shape of the train dataset (400, 2)\n",
      "Shape of the test dataset (100, 2)\n"
     ]
    }
   ],
   "source": [
    "print(\"Shape of the whole dataset\",features_origin.shape)\n",
    "print(\"Shape of the train dataset\",features.shape)\n",
    "print(\"Shape of the test dataset\",features_test.shape)"
   ]
  },
  {
   "cell_type": "code",
   "execution_count": 66,
   "id": "b4b32130",
   "metadata": {},
   "outputs": [
    {
     "data": {
      "image/png": "[encoded data removed]",
      "text/plain": [
       "<Figure size 432x288 with 1 Axes>"
      ]
     },
     "metadata": {
      "needs_background": "light"
     },
     "output_type": "display_data"
    }
   ],
   "source": [
    "# let's take a look at the visualization\n",
    "plt.plot( features[ labels == 0, 0 ], features[ labels == 0, 1 ], 'o',\n",
    "           markersize=5, color='b')\n",
    "plt.plot( features[ labels == 1, 0 ], features[ labels == 1, 1 ], 's',\n",
    "           markersize=4, color='r')\n",
    "\n",
    "plt.xlabel('X1')\n",
    "plt.ylabel('X2')\n",
    "plt.tight_layout()"
   ]
  },
  {
   "cell_type": "markdown",
   "id": "6087df49",
   "metadata": {},
   "source": [
    "<a id='log_reg_underfit'></a>\n",
    "## 3.1 Logistic regression"
   ]
  },
  {
   "cell_type": "code",
   "execution_count": 67,
   "id": "4a350a32",
   "metadata": {},
   "outputs": [
    {
     "data": {
      "image/png": "[encoded data removed]",
      "text/plain": [
       "<Figure size 432x288 with 2 Axes>"
      ]
     },
     "metadata": {
      "needs_background": "light"
     },
     "output_type": "display_data"
    },
    {
     "data": {
      "image/png": "[encoded data removed]",
      "text/plain": [
       "<Figure size 360x360 with 1 Axes>"
      ]
     },
     "metadata": {
      "needs_background": "light"
     },
     "output_type": "display_data"
    }
   ],
   "source": [
    "log_reg = LogisticRegression()\n",
    "log_reg.fit(features, labels)\n",
    "\n",
    "labels_pred = log_reg.predict( features_test )\n",
    "labels_score= log_reg.predict_proba( features_test )\n",
    "cm_test = confusion_matrix(labels_pred, labels_test)\n",
    "cm_display = ConfusionMatrixDisplay(cm_test).plot()\n",
    "\n",
    "\n",
    "plot_roc_curve(labels_test, labels_score[:,1], title = \"ROC (Logistic regression)\")\n",
    "plt.show()"
   ]
  },
  {
   "cell_type": "markdown",
   "id": "fd26ee67",
   "metadata": {},
   "source": [
    "**seems pretty bad!** clearly the linear classifier clearly underfit the data, let's try some classifier that can adapt to the non-linear scenario."
   ]
  },
  {
   "cell_type": "markdown",
   "id": "555b9995",
   "metadata": {},
   "source": [
    "<a id='decision_tree_overfit'></a>\n",
    "## 3.2 Decision tree"
   ]
  },
  {
   "cell_type": "code",
   "execution_count": 68,
   "id": "6935c85a",
   "metadata": {},
   "outputs": [
    {
     "data": {
      "text/plain": [
       "DecisionTreeClassifier()"
      ]
     },
     "execution_count": 68,
     "metadata": {},
     "output_type": "execute_result"
    }
   ],
   "source": [
    "from sklearn.tree import DecisionTreeClassifier\n",
    "tree_clf = DecisionTreeClassifier()\n",
    "tree_clf.fit( features, labels )"
   ]
  },
  {
   "cell_type": "markdown",
   "id": "3da57b88",
   "metadata": {},
   "source": [
    "To find the accuracy of this classifier, we can use the method `score`."
   ]
  },
  {
   "cell_type": "code",
   "execution_count": 69,
   "id": "f629747a",
   "metadata": {},
   "outputs": [
    {
     "data": {
      "text/plain": [
       "1.0"
      ]
     },
     "execution_count": 69,
     "metadata": {},
     "output_type": "execute_result"
    }
   ],
   "source": [
    "tree_clf.score( features, labels )"
   ]
  },
  {
   "cell_type": "markdown",
   "id": "a730e60d",
   "metadata": {},
   "source": [
    "That means that our classifier was able to perfectly reproduce all points. Is it too good to be true?"
   ]
  },
  {
   "cell_type": "markdown",
   "id": "43ce627e",
   "metadata": {},
   "source": [
    "### Drawing the decision boundary\n",
    "check if we are overfitting by inspecting the model fitting"
   ]
  },
  {
   "cell_type": "code",
   "execution_count": 70,
   "id": "24c42523",
   "metadata": {},
   "outputs": [],
   "source": [
    "delta = 0.01\n",
    "x     = np.arange(-2.0, 5.001, delta)\n",
    "y     = np.arange(-2.0, 5.001, delta)"
   ]
  },
  {
   "cell_type": "code",
   "execution_count": 71,
   "id": "dc0dffdf",
   "metadata": {},
   "outputs": [
    {
     "data": {
      "text/plain": [
       "array([-2.00000000e+00, -1.99000000e+00, -1.98000000e+00, -1.97000000e+00,\n",
       "       -1.96000000e+00, -1.95000000e+00, -1.94000000e+00, -1.93000000e+00,\n",
       "       -1.92000000e+00, -1.91000000e+00, -1.90000000e+00, -1.89000000e+00,\n",
       "       -1.88000000e+00, -1.87000000e+00, -1.86000000e+00, -1.85000000e+00,\n",
       "       -1.84000000e+00, -1.83000000e+00, -1.82000000e+00, -1.81000000e+00,\n",
       "       -1.80000000e+00, -1.79000000e+00, -1.78000000e+00, -1.77000000e+00,\n",
       "       -1.76000000e+00, -1.75000000e+00, -1.74000000e+00, -1.73000000e+00,\n",
       "       -1.72000000e+00, -1.71000000e+00, -1.70000000e+00, -1.69000000e+00,\n",
       "       -1.68000000e+00, -1.67000000e+00, -1.66000000e+00, -1.65000000e+00,\n",
       "       -1.64000000e+00, -1.63000000e+00, -1.62000000e+00, -1.61000000e+00,\n",
       "       -1.60000000e+00, -1.59000000e+00, -1.58000000e+00, -1.57000000e+00,\n",
       "       -1.56000000e+00, -1.55000000e+00, -1.54000000e+00, -1.53000000e+00,\n",
       "       -1.52000000e+00, -1.51000000e+00, -1.50000000e+00, -1.49000000e+00,\n",
       "       -1.48000000e+00, -1.47000000e+00, -1.46000000e+00, -1.45000000e+00,\n",
       "       -1.44000000e+00, -1.43000000e+00, -1.42000000e+00, -1.41000000e+00,\n",
       "       -1.40000000e+00, -1.39000000e+00, -1.38000000e+00, -1.37000000e+00,\n",
       "       -1.36000000e+00, -1.35000000e+00, -1.34000000e+00, -1.33000000e+00,\n",
       "       -1.32000000e+00, -1.31000000e+00, -1.30000000e+00, -1.29000000e+00,\n",
       "       -1.28000000e+00, -1.27000000e+00, -1.26000000e+00, -1.25000000e+00,\n",
       "       -1.24000000e+00, -1.23000000e+00, -1.22000000e+00, -1.21000000e+00,\n",
       "       -1.20000000e+00, -1.19000000e+00, -1.18000000e+00, -1.17000000e+00,\n",
       "       -1.16000000e+00, -1.15000000e+00, -1.14000000e+00, -1.13000000e+00,\n",
       "       -1.12000000e+00, -1.11000000e+00, -1.10000000e+00, -1.09000000e+00,\n",
       "       -1.08000000e+00, -1.07000000e+00, -1.06000000e+00, -1.05000000e+00,\n",
       "       -1.04000000e+00, -1.03000000e+00, -1.02000000e+00, -1.01000000e+00,\n",
       "       -1.00000000e+00, -9.90000000e-01, -9.80000000e-01, -9.70000000e-01,\n",
       "       -9.60000000e-01, -9.50000000e-01, -9.40000000e-01, -9.30000000e-01,\n",
       "       -9.20000000e-01, -9.10000000e-01, -9.00000000e-01, -8.90000000e-01,\n",
       "       -8.80000000e-01, -8.70000000e-01, -8.60000000e-01, -8.50000000e-01,\n",
       "       -8.40000000e-01, -8.30000000e-01, -8.20000000e-01, -8.10000000e-01,\n",
       "       -8.00000000e-01, -7.90000000e-01, -7.80000000e-01, -7.70000000e-01,\n",
       "       -7.60000000e-01, -7.50000000e-01, -7.40000000e-01, -7.30000000e-01,\n",
       "       -7.20000000e-01, -7.10000000e-01, -7.00000000e-01, -6.90000000e-01,\n",
       "       -6.80000000e-01, -6.70000000e-01, -6.60000000e-01, -6.50000000e-01,\n",
       "       -6.40000000e-01, -6.30000000e-01, -6.20000000e-01, -6.10000000e-01,\n",
       "       -6.00000000e-01, -5.90000000e-01, -5.80000000e-01, -5.70000000e-01,\n",
       "       -5.60000000e-01, -5.50000000e-01, -5.40000000e-01, -5.30000000e-01,\n",
       "       -5.20000000e-01, -5.10000000e-01, -5.00000000e-01, -4.90000000e-01,\n",
       "       -4.80000000e-01, -4.70000000e-01, -4.60000000e-01, -4.50000000e-01,\n",
       "       -4.40000000e-01, -4.30000000e-01, -4.20000000e-01, -4.10000000e-01,\n",
       "       -4.00000000e-01, -3.90000000e-01, -3.80000000e-01, -3.70000000e-01,\n",
       "       -3.60000000e-01, -3.50000000e-01, -3.40000000e-01, -3.30000000e-01,\n",
       "       -3.20000000e-01, -3.10000000e-01, -3.00000000e-01, -2.90000000e-01,\n",
       "       -2.80000000e-01, -2.70000000e-01, -2.60000000e-01, -2.50000000e-01,\n",
       "       -2.40000000e-01, -2.30000000e-01, -2.20000000e-01, -2.10000000e-01,\n",
       "       -2.00000000e-01, -1.90000000e-01, -1.80000000e-01, -1.70000000e-01,\n",
       "       -1.60000000e-01, -1.50000000e-01, -1.40000000e-01, -1.30000000e-01,\n",
       "       -1.20000000e-01, -1.10000000e-01, -1.00000000e-01, -9.00000000e-02,\n",
       "       -8.00000000e-02, -7.00000000e-02, -6.00000000e-02, -5.00000000e-02,\n",
       "       -4.00000000e-02, -3.00000000e-02, -2.00000000e-02, -1.00000000e-02,\n",
       "        1.77635684e-15,  1.00000000e-02,  2.00000000e-02,  3.00000000e-02,\n",
       "        4.00000000e-02,  5.00000000e-02,  6.00000000e-02,  7.00000000e-02,\n",
       "        8.00000000e-02,  9.00000000e-02,  1.00000000e-01,  1.10000000e-01,\n",
       "        1.20000000e-01,  1.30000000e-01,  1.40000000e-01,  1.50000000e-01,\n",
       "        1.60000000e-01,  1.70000000e-01,  1.80000000e-01,  1.90000000e-01,\n",
       "        2.00000000e-01,  2.10000000e-01,  2.20000000e-01,  2.30000000e-01,\n",
       "        2.40000000e-01,  2.50000000e-01,  2.60000000e-01,  2.70000000e-01,\n",
       "        2.80000000e-01,  2.90000000e-01,  3.00000000e-01,  3.10000000e-01,\n",
       "        3.20000000e-01,  3.30000000e-01,  3.40000000e-01,  3.50000000e-01,\n",
       "        3.60000000e-01,  3.70000000e-01,  3.80000000e-01,  3.90000000e-01,\n",
       "        4.00000000e-01,  4.10000000e-01,  4.20000000e-01,  4.30000000e-01,\n",
       "        4.40000000e-01,  4.50000000e-01,  4.60000000e-01,  4.70000000e-01,\n",
       "        4.80000000e-01,  4.90000000e-01,  5.00000000e-01,  5.10000000e-01,\n",
       "        5.20000000e-01,  5.30000000e-01,  5.40000000e-01,  5.50000000e-01,\n",
       "        5.60000000e-01,  5.70000000e-01,  5.80000000e-01,  5.90000000e-01,\n",
       "        6.00000000e-01,  6.10000000e-01,  6.20000000e-01,  6.30000000e-01,\n",
       "        6.40000000e-01,  6.50000000e-01,  6.60000000e-01,  6.70000000e-01,\n",
       "        6.80000000e-01,  6.90000000e-01,  7.00000000e-01,  7.10000000e-01,\n",
       "        7.20000000e-01,  7.30000000e-01,  7.40000000e-01,  7.50000000e-01,\n",
       "        7.60000000e-01,  7.70000000e-01,  7.80000000e-01,  7.90000000e-01,\n",
       "        8.00000000e-01,  8.10000000e-01,  8.20000000e-01,  8.30000000e-01,\n",
       "        8.40000000e-01,  8.50000000e-01,  8.60000000e-01,  8.70000000e-01,\n",
       "        8.80000000e-01,  8.90000000e-01,  9.00000000e-01,  9.10000000e-01,\n",
       "        9.20000000e-01,  9.30000000e-01,  9.40000000e-01,  9.50000000e-01,\n",
       "        9.60000000e-01,  9.70000000e-01,  9.80000000e-01,  9.90000000e-01,\n",
       "        1.00000000e+00,  1.01000000e+00,  1.02000000e+00,  1.03000000e+00,\n",
       "        1.04000000e+00,  1.05000000e+00,  1.06000000e+00,  1.07000000e+00,\n",
       "        1.08000000e+00,  1.09000000e+00,  1.10000000e+00,  1.11000000e+00,\n",
       "        1.12000000e+00,  1.13000000e+00,  1.14000000e+00,  1.15000000e+00,\n",
       "        1.16000000e+00,  1.17000000e+00,  1.18000000e+00,  1.19000000e+00,\n",
       "        1.20000000e+00,  1.21000000e+00,  1.22000000e+00,  1.23000000e+00,\n",
       "        1.24000000e+00,  1.25000000e+00,  1.26000000e+00,  1.27000000e+00,\n",
       "        1.28000000e+00,  1.29000000e+00,  1.30000000e+00,  1.31000000e+00,\n",
       "        1.32000000e+00,  1.33000000e+00,  1.34000000e+00,  1.35000000e+00,\n",
       "        1.36000000e+00,  1.37000000e+00,  1.38000000e+00,  1.39000000e+00,\n",
       "        1.40000000e+00,  1.41000000e+00,  1.42000000e+00,  1.43000000e+00,\n",
       "        1.44000000e+00,  1.45000000e+00,  1.46000000e+00,  1.47000000e+00,\n",
       "        1.48000000e+00,  1.49000000e+00,  1.50000000e+00,  1.51000000e+00,\n",
       "        1.52000000e+00,  1.53000000e+00,  1.54000000e+00,  1.55000000e+00,\n",
       "        1.56000000e+00,  1.57000000e+00,  1.58000000e+00,  1.59000000e+00,\n",
       "        1.60000000e+00,  1.61000000e+00,  1.62000000e+00,  1.63000000e+00,\n",
       "        1.64000000e+00,  1.65000000e+00,  1.66000000e+00,  1.67000000e+00,\n",
       "        1.68000000e+00,  1.69000000e+00,  1.70000000e+00,  1.71000000e+00,\n",
       "        1.72000000e+00,  1.73000000e+00,  1.74000000e+00,  1.75000000e+00,\n",
       "        1.76000000e+00,  1.77000000e+00,  1.78000000e+00,  1.79000000e+00,\n",
       "        1.80000000e+00,  1.81000000e+00,  1.82000000e+00,  1.83000000e+00,\n",
       "        1.84000000e+00,  1.85000000e+00,  1.86000000e+00,  1.87000000e+00,\n",
       "        1.88000000e+00,  1.89000000e+00,  1.90000000e+00,  1.91000000e+00,\n",
       "        1.92000000e+00,  1.93000000e+00,  1.94000000e+00,  1.95000000e+00,\n",
       "        1.96000000e+00,  1.97000000e+00,  1.98000000e+00,  1.99000000e+00,\n",
       "        2.00000000e+00,  2.01000000e+00,  2.02000000e+00,  2.03000000e+00,\n",
       "        2.04000000e+00,  2.05000000e+00,  2.06000000e+00,  2.07000000e+00,\n",
       "        2.08000000e+00,  2.09000000e+00,  2.10000000e+00,  2.11000000e+00,\n",
       "        2.12000000e+00,  2.13000000e+00,  2.14000000e+00,  2.15000000e+00,\n",
       "        2.16000000e+00,  2.17000000e+00,  2.18000000e+00,  2.19000000e+00,\n",
       "        2.20000000e+00,  2.21000000e+00,  2.22000000e+00,  2.23000000e+00,\n",
       "        2.24000000e+00,  2.25000000e+00,  2.26000000e+00,  2.27000000e+00,\n",
       "        2.28000000e+00,  2.29000000e+00,  2.30000000e+00,  2.31000000e+00,\n",
       "        2.32000000e+00,  2.33000000e+00,  2.34000000e+00,  2.35000000e+00,\n",
       "        2.36000000e+00,  2.37000000e+00,  2.38000000e+00,  2.39000000e+00,\n",
       "        2.40000000e+00,  2.41000000e+00,  2.42000000e+00,  2.43000000e+00,\n",
       "        2.44000000e+00,  2.45000000e+00,  2.46000000e+00,  2.47000000e+00,\n",
       "        2.48000000e+00,  2.49000000e+00,  2.50000000e+00,  2.51000000e+00,\n",
       "        2.52000000e+00,  2.53000000e+00,  2.54000000e+00,  2.55000000e+00,\n",
       "        2.56000000e+00,  2.57000000e+00,  2.58000000e+00,  2.59000000e+00,\n",
       "        2.60000000e+00,  2.61000000e+00,  2.62000000e+00,  2.63000000e+00,\n",
       "        2.64000000e+00,  2.65000000e+00,  2.66000000e+00,  2.67000000e+00,\n",
       "        2.68000000e+00,  2.69000000e+00,  2.70000000e+00,  2.71000000e+00,\n",
       "        2.72000000e+00,  2.73000000e+00,  2.74000000e+00,  2.75000000e+00,\n",
       "        2.76000000e+00,  2.77000000e+00,  2.78000000e+00,  2.79000000e+00,\n",
       "        2.80000000e+00,  2.81000000e+00,  2.82000000e+00,  2.83000000e+00,\n",
       "        2.84000000e+00,  2.85000000e+00,  2.86000000e+00,  2.87000000e+00,\n",
       "        2.88000000e+00,  2.89000000e+00,  2.90000000e+00,  2.91000000e+00,\n",
       "        2.92000000e+00,  2.93000000e+00,  2.94000000e+00,  2.95000000e+00,\n",
       "        2.96000000e+00,  2.97000000e+00,  2.98000000e+00,  2.99000000e+00,\n",
       "        3.00000000e+00,  3.01000000e+00,  3.02000000e+00,  3.03000000e+00,\n",
       "        3.04000000e+00,  3.05000000e+00,  3.06000000e+00,  3.07000000e+00,\n",
       "        3.08000000e+00,  3.09000000e+00,  3.10000000e+00,  3.11000000e+00,\n",
       "        3.12000000e+00,  3.13000000e+00,  3.14000000e+00,  3.15000000e+00,\n",
       "        3.16000000e+00,  3.17000000e+00,  3.18000000e+00,  3.19000000e+00,\n",
       "        3.20000000e+00,  3.21000000e+00,  3.22000000e+00,  3.23000000e+00,\n",
       "        3.24000000e+00,  3.25000000e+00,  3.26000000e+00,  3.27000000e+00,\n",
       "        3.28000000e+00,  3.29000000e+00,  3.30000000e+00,  3.31000000e+00,\n",
       "        3.32000000e+00,  3.33000000e+00,  3.34000000e+00,  3.35000000e+00,\n",
       "        3.36000000e+00,  3.37000000e+00,  3.38000000e+00,  3.39000000e+00,\n",
       "        3.40000000e+00,  3.41000000e+00,  3.42000000e+00,  3.43000000e+00,\n",
       "        3.44000000e+00,  3.45000000e+00,  3.46000000e+00,  3.47000000e+00,\n",
       "        3.48000000e+00,  3.49000000e+00,  3.50000000e+00,  3.51000000e+00,\n",
       "        3.52000000e+00,  3.53000000e+00,  3.54000000e+00,  3.55000000e+00,\n",
       "        3.56000000e+00,  3.57000000e+00,  3.58000000e+00,  3.59000000e+00,\n",
       "        3.60000000e+00,  3.61000000e+00,  3.62000000e+00,  3.63000000e+00,\n",
       "        3.64000000e+00,  3.65000000e+00,  3.66000000e+00,  3.67000000e+00,\n",
       "        3.68000000e+00,  3.69000000e+00,  3.70000000e+00,  3.71000000e+00,\n",
       "        3.72000000e+00,  3.73000000e+00,  3.74000000e+00,  3.75000000e+00,\n",
       "        3.76000000e+00,  3.77000000e+00,  3.78000000e+00,  3.79000000e+00,\n",
       "        3.80000000e+00,  3.81000000e+00,  3.82000000e+00,  3.83000000e+00,\n",
       "        3.84000000e+00,  3.85000000e+00,  3.86000000e+00,  3.87000000e+00,\n",
       "        3.88000000e+00,  3.89000000e+00,  3.90000000e+00,  3.91000000e+00,\n",
       "        3.92000000e+00,  3.93000000e+00,  3.94000000e+00,  3.95000000e+00,\n",
       "        3.96000000e+00,  3.97000000e+00,  3.98000000e+00,  3.99000000e+00,\n",
       "        4.00000000e+00,  4.01000000e+00,  4.02000000e+00,  4.03000000e+00,\n",
       "        4.04000000e+00,  4.05000000e+00,  4.06000000e+00,  4.07000000e+00,\n",
       "        4.08000000e+00,  4.09000000e+00,  4.10000000e+00,  4.11000000e+00,\n",
       "        4.12000000e+00,  4.13000000e+00,  4.14000000e+00,  4.15000000e+00,\n",
       "        4.16000000e+00,  4.17000000e+00,  4.18000000e+00,  4.19000000e+00,\n",
       "        4.20000000e+00,  4.21000000e+00,  4.22000000e+00,  4.23000000e+00,\n",
       "        4.24000000e+00,  4.25000000e+00,  4.26000000e+00,  4.27000000e+00,\n",
       "        4.28000000e+00,  4.29000000e+00,  4.30000000e+00,  4.31000000e+00,\n",
       "        4.32000000e+00,  4.33000000e+00,  4.34000000e+00,  4.35000000e+00,\n",
       "        4.36000000e+00,  4.37000000e+00,  4.38000000e+00,  4.39000000e+00,\n",
       "        4.40000000e+00,  4.41000000e+00,  4.42000000e+00,  4.43000000e+00,\n",
       "        4.44000000e+00,  4.45000000e+00,  4.46000000e+00,  4.47000000e+00,\n",
       "        4.48000000e+00,  4.49000000e+00,  4.50000000e+00,  4.51000000e+00,\n",
       "        4.52000000e+00,  4.53000000e+00,  4.54000000e+00,  4.55000000e+00,\n",
       "        4.56000000e+00,  4.57000000e+00,  4.58000000e+00,  4.59000000e+00,\n",
       "        4.60000000e+00,  4.61000000e+00,  4.62000000e+00,  4.63000000e+00,\n",
       "        4.64000000e+00,  4.65000000e+00,  4.66000000e+00,  4.67000000e+00,\n",
       "        4.68000000e+00,  4.69000000e+00,  4.70000000e+00,  4.71000000e+00,\n",
       "        4.72000000e+00,  4.73000000e+00,  4.74000000e+00,  4.75000000e+00,\n",
       "        4.76000000e+00,  4.77000000e+00,  4.78000000e+00,  4.79000000e+00,\n",
       "        4.80000000e+00,  4.81000000e+00,  4.82000000e+00,  4.83000000e+00,\n",
       "        4.84000000e+00,  4.85000000e+00,  4.86000000e+00,  4.87000000e+00,\n",
       "        4.88000000e+00,  4.89000000e+00,  4.90000000e+00,  4.91000000e+00,\n",
       "        4.92000000e+00,  4.93000000e+00,  4.94000000e+00,  4.95000000e+00,\n",
       "        4.96000000e+00,  4.97000000e+00,  4.98000000e+00,  4.99000000e+00,\n",
       "        5.00000000e+00])"
      ]
     },
     "execution_count": 71,
     "metadata": {},
     "output_type": "execute_result"
    }
   ],
   "source": [
    "x"
   ]
  },
  {
   "cell_type": "code",
   "execution_count": 72,
   "id": "61a40e93",
   "metadata": {},
   "outputs": [
    {
     "data": {
      "image/png": "[encoded data removed]",
      "text/plain": [
       "<Figure size 432x288 with 1 Axes>"
      ]
     },
     "metadata": {
      "needs_background": "light"
     },
     "output_type": "display_data"
    }
   ],
   "source": [
    "X, Y = np.meshgrid(x, y)\n",
    "Z    = tree_clf.predict( np.c_[X.ravel(), Y.ravel()] ) \n",
    "# c_[a, b] concatenates two arrays horizontally. thus, np.c_[X.ravel(), Y.ravel()] is (len(x) len(y)) x 2 matrix, containing all the grid points.\n",
    "# Z contains prediction result for each grid point.\n",
    "# reshape to fit to the shape of the original grid\n",
    "Z    = Z.reshape( X.shape ) \n",
    "\n",
    "plt.contourf( X, Y, Z, cmap=plt.get_cmap('jet')) # draws filled contours. blue for class 0, red for class 1.\n",
    "\n",
    "plt.show()"
   ]
  },
  {
   "cell_type": "markdown",
   "id": "b6403ea6",
   "metadata": {},
   "source": [
    "### useage of `meshgrid` and `ravel`"
   ]
  },
  {
   "cell_type": "markdown",
   "id": "f78ed083",
   "metadata": {},
   "source": [
    "The `meshgrid` function returns coordinate matrices from the two coordinate vectors. If two vectors (one with length `a` and the other with length `b`) are given as its argument, it returns two 2-dimensional `a x b` arrays, each corresponding to x-coordinates and y-coordinates of `a x b` grid."
   ]
  },
  {
   "cell_type": "code",
   "execution_count": 73,
   "id": "3890bde4",
   "metadata": {},
   "outputs": [
    {
     "name": "stdout",
     "output_type": "stream",
     "text": [
      "xv =  [[0.  0.5 1. ]\n",
      " [0.  0.5 1. ]\n",
      " [0.  0.5 1. ]\n",
      " [0.  0.5 1. ]]\n",
      "yv =  [[0.         0.         0.        ]\n",
      " [0.33333333 0.33333333 0.33333333]\n",
      " [0.66666667 0.66666667 0.66666667]\n",
      " [1.         1.         1.        ]]\n"
     ]
    }
   ],
   "source": [
    "nx, ny = (3, 4)\n",
    "x = np.linspace(0, 1, nx) # [0, 1/2, 1]\n",
    "y = np.linspace(0, 1, ny) # [0, 1/3, 2/3, 1]\n",
    "xv, yv = np.meshgrid(x, y)\n",
    "print(\"xv = \", xv)\n",
    "print(\"yv = \", yv)"
   ]
  },
  {
   "cell_type": "markdown",
   "id": "063ec6f9",
   "metadata": {},
   "source": [
    "the `ravel` function Returns a \"flattened\" 1-dimensional array.\n"
   ]
  },
  {
   "cell_type": "code",
   "execution_count": 74,
   "id": "7261365e",
   "metadata": {},
   "outputs": [],
   "source": [
    "x = np.array([[1, 2, 3], [4, 5, 6]])"
   ]
  },
  {
   "cell_type": "code",
   "execution_count": 75,
   "id": "b8798390",
   "metadata": {},
   "outputs": [
    {
     "data": {
      "text/plain": [
       "array([1, 2, 3, 4, 5, 6])"
      ]
     },
     "execution_count": 75,
     "metadata": {},
     "output_type": "execute_result"
    }
   ],
   "source": [
    "np.ravel(x)"
   ]
  },
  {
   "cell_type": "markdown",
   "id": "e56d1a74",
   "metadata": {},
   "source": [
    "`np.c_` concatenates columns horizontally"
   ]
  },
  {
   "cell_type": "code",
   "execution_count": 76,
   "id": "5ea3067b",
   "metadata": {},
   "outputs": [
    {
     "data": {
      "text/plain": [
       "array([[0.        , 0.        ],\n",
       "       [0.5       , 0.        ],\n",
       "       [1.        , 0.        ],\n",
       "       [0.        , 0.33333333],\n",
       "       [0.5       , 0.33333333],\n",
       "       [1.        , 0.33333333],\n",
       "       [0.        , 0.66666667],\n",
       "       [0.5       , 0.66666667],\n",
       "       [1.        , 0.66666667],\n",
       "       [0.        , 1.        ],\n",
       "       [0.5       , 1.        ],\n",
       "       [1.        , 1.        ]])"
      ]
     },
     "execution_count": 76,
     "metadata": {},
     "output_type": "execute_result"
    }
   ],
   "source": [
    "np.c_[xv.ravel(), yv.ravel()]"
   ]
  },
  {
   "cell_type": "markdown",
   "id": "7c507800",
   "metadata": {},
   "source": [
    "`delta` controls the grid resolution"
   ]
  },
  {
   "cell_type": "code",
   "execution_count": 77,
   "id": "97e181c8",
   "metadata": {},
   "outputs": [],
   "source": [
    "def plot_decision_boundary(clf, delta = 0.01):\n",
    "    \n",
    "    x     = np.arange(-2.0, 5.001, delta)\n",
    "    y     = np.arange(-2.0, 5.001, delta)\n",
    "\n",
    "    X, Y = np.meshgrid(x, y)\n",
    "    Z    = clf.predict( np.c_[X.ravel(), Y.ravel()] )\n",
    "    Z    = Z.reshape( X.shape )\n",
    "\n",
    "    plt.contourf( X, Y, Z, cmap=plt.get_cmap('jet'))\n",
    "\n",
    "    plt.xlabel('X1')\n",
    "    plt.ylabel('X2')\n",
    "\n",
    "    plt.show()"
   ]
  },
  {
   "cell_type": "code",
   "execution_count": 78,
   "id": "66208168",
   "metadata": {},
   "outputs": [
    {
     "data": {
      "image/png": "[encoded data removed]",
      "text/plain": [
       "<Figure size 432x288 with 1 Axes>"
      ]
     },
     "metadata": {
      "needs_background": "light"
     },
     "output_type": "display_data"
    }
   ],
   "source": [
    "plot_decision_boundary(tree_clf, delta= 0.5)"
   ]
  },
  {
   "cell_type": "code",
   "execution_count": 79,
   "id": "8485ce6a",
   "metadata": {},
   "outputs": [
    {
     "data": {
      "image/png": "[encoded data removed]",
      "text/plain": [
       "<Figure size 432x288 with 1 Axes>"
      ]
     },
     "metadata": {
      "needs_background": "light"
     },
     "output_type": "display_data"
    }
   ],
   "source": [
    "plot_decision_boundary(tree_clf, 0.005)"
   ]
  },
  {
   "cell_type": "markdown",
   "id": "0699b5f4",
   "metadata": {},
   "source": [
    " It generally shows a successful training, but the boundary shows too complicated, it might not generalize well to new dataset."
   ]
  },
  {
   "cell_type": "markdown",
   "id": "dc7b3aae",
   "metadata": {},
   "source": [
    "### Restrict the descision tree\n",
    "\n",
    "Our model is too complex, we overfit the model. \n",
    "- Need to reduce complexity of the model, e.g., depth of the tree.\n",
    "\n",
    "Let's use some of the hyper-parameters available in Scikit-learn to modify the learning process."
   ]
  },
  {
   "cell_type": "code",
   "execution_count": 80,
   "id": "d80d8dc5",
   "metadata": {
    "scrolled": true
   },
   "outputs": [
    {
     "name": "stdout",
     "output_type": "stream",
     "text": [
      "0.9225\n"
     ]
    },
    {
     "data": {
      "image/png": "[encoded data removed]",
      "text/plain": [
       "<Figure size 432x288 with 1 Axes>"
      ]
     },
     "metadata": {
      "needs_background": "light"
     },
     "output_type": "display_data"
    }
   ],
   "source": [
    "tree_clf = DecisionTreeClassifier( max_depth = 5 )\n",
    "tree_clf.fit( features, labels )\n",
    "print( tree_clf.score( features, labels ) )\n",
    "\n",
    "plot_decision_boundary(tree_clf)"
   ]
  },
  {
   "cell_type": "markdown",
   "id": "83d28a0d",
   "metadata": {},
   "source": [
    " looks better!"
   ]
  },
  {
   "cell_type": "markdown",
   "id": "1fa0c8e5",
   "metadata": {},
   "source": [
    "<a id='svm_tune_para'></a>\n",
    "## 3.3 SVM (with nonlinear support)"
   ]
  },
  {
   "cell_type": "markdown",
   "id": "2e870100",
   "metadata": {},
   "source": [
    "We mentioned that SVM can be adaptive to the linearly non-separable problem using kernel tricks or adding high order features.\n",
    "\n",
    "Other algorithms like `neural network`, `random Forest`, `XGBoost` can also well adapted to nonlinear task, we are not going to try that today, but you are encouraged to try it out after the workshop\n",
    "\n",
    "\n",
    "We will deal with two hyperparameters: `C` and `gamma`.\n",
    "\n",
    "- `C` controls how much you want to avoid margin violation (misclassification)\n",
    "    - Low `C`, it is less sensitive to misclassification, resulting in simpler boundary\n",
    "    - High `C`, it is more sensitive to misclassification, more complex boundary.\n",
    "\n",
    "- `gamma` controls how far the influence of a single training example reaches, low meaning \"far\", and high meaning \"close\".  \n",
    "    - Low `gamma`, each training example influences points further away, resulting in simpler boundary\n",
    "    - High `gamma`, each training example influences only short distance, resulting in more complex boundary. \n",
    "    \n",
    "For more information, please refer to its official [link](https://scikit-learn.org/stable/modules/generated/sklearn.svm.SVC.html)"
   ]
  },
  {
   "cell_type": "code",
   "execution_count": 81,
   "id": "0f25a0ea",
   "metadata": {},
   "outputs": [
    {
     "name": "stdout",
     "output_type": "stream",
     "text": [
      "0.9625\n"
     ]
    }
   ],
   "source": [
    "clf = SVC()\n",
    "clf.fit( features, labels )\n",
    "print( clf.score( features, labels ) )"
   ]
  },
  {
   "cell_type": "markdown",
   "id": "70d2c55f",
   "metadata": {},
   "source": [
    "With a high value of `gamma`: "
   ]
  },
  {
   "cell_type": "code",
   "execution_count": 82,
   "id": "87ef3d57",
   "metadata": {},
   "outputs": [
    {
     "name": "stdout",
     "output_type": "stream",
     "text": [
      "1.0\n"
     ]
    }
   ],
   "source": [
    "clf = SVC(gamma=10000.)\n",
    "clf.fit( features, labels )\n",
    "print( clf.score( features, labels ) )"
   ]
  },
  {
   "cell_type": "code",
   "execution_count": 83,
   "id": "0bf2788e",
   "metadata": {
    "scrolled": true
   },
   "outputs": [
    {
     "data": {
      "image/png": "[encoded data removed]",
      "text/plain": [
       "<Figure size 432x288 with 1 Axes>"
      ]
     },
     "metadata": {
      "needs_background": "light"
     },
     "output_type": "display_data"
    }
   ],
   "source": [
    "clf = SVC()\n",
    "clf.fit( features, labels )\n",
    "plot_decision_boundary(clf)"
   ]
  },
  {
   "cell_type": "code",
   "execution_count": 84,
   "id": "9101bc91",
   "metadata": {},
   "outputs": [
    {
     "data": {
      "image/png": "[encoded data removed]",
      "text/plain": [
       "<Figure size 432x288 with 1 Axes>"
      ]
     },
     "metadata": {
      "needs_background": "light"
     },
     "output_type": "display_data"
    }
   ],
   "source": [
    "clf = SVC( C = 1000, gamma = 100 )\n",
    "clf.fit( features, labels )\n",
    "plot_decision_boundary(clf)"
   ]
  },
  {
   "cell_type": "code",
   "execution_count": 85,
   "id": "4c23bec1",
   "metadata": {},
   "outputs": [
    {
     "data": {
      "image/png": "[encoded data removed]",
      "text/plain": [
       "<Figure size 432x288 with 1 Axes>"
      ]
     },
     "metadata": {
      "needs_background": "light"
     },
     "output_type": "display_data"
    }
   ],
   "source": [
    "clf = SVC( C = 0.02 ,gamma = 1 )\n",
    "clf.fit( features, labels )\n",
    "plot_decision_boundary(clf)"
   ]
  },
  {
   "cell_type": "code",
   "execution_count": 86,
   "id": "2cffd150",
   "metadata": {},
   "outputs": [
    {
     "data": {
      "image/png": "[encoded data removed]",
      "text/plain": [
       "<Figure size 432x288 with 1 Axes>"
      ]
     },
     "metadata": {
      "needs_background": "light"
     },
     "output_type": "display_data"
    }
   ],
   "source": [
    "clf = SVC( C = 0.1, gamma = 1. )\n",
    "clf.fit( features, labels )\n",
    "plot_decision_boundary(clf)"
   ]
  },
  {
   "cell_type": "markdown",
   "id": "3943faa0",
   "metadata": {},
   "source": [
    "<a id='hyperparameter_val'></a>\n",
    "## 3.4 Tuning Hyperparameters with validation set"
   ]
  },
  {
   "cell_type": "markdown",
   "id": "0ca88d81",
   "metadata": {},
   "source": [
    "### Hyperparameters\n",
    "\n",
    "__Hyperparameters__ are the parameters that are used to create a model. `max_depth` of decision tree, `C` and `gamma` in support vector machine, etc. \n",
    "\n",
    "How do we choose them while avoiding underfitting and overfitting?\n",
    "\n",
    "You may be tempted to peek the performance on the test set and calibrate hyperparameter, but that introduces bias, and you might overfit to the test data. Remember, we want our classifiers generalize well to external data points we did not see in the training process. In this section, we cover systematic methods to tune hyperparameters without introducing bias."
   ]
  },
  {
   "cell_type": "markdown",
   "id": "d959b9a9",
   "metadata": {},
   "source": [
    "### Train-Validation split\n",
    "\n",
    "- You should not optimize hyperparameter on the same data you used during training -- you need to split the data into two sets again.\n",
    "- So, we further split learning set into training set and validation set. \n",
    "\n",
    "<div>\n",
    "<img src=\"train_validation.png\" width=\"500\"/>\n",
    "</div>\n",
    "\n",
    "We have split the data into three sets \n",
    "- Training set: to fit the model\n",
    "- Validation set: to select hyperparameters\n",
    "- Test set: to evaluate the final performance\n",
    "\n",
    "Caution: do not mix validation set and test set. "
   ]
  },
  {
   "cell_type": "markdown",
   "id": "6edc0440",
   "metadata": {},
   "source": [
    "Next, we split training set and validation set using the function `train_test_split()`."
   ]
  },
  {
   "cell_type": "code",
   "execution_count": 87,
   "id": "68648f04",
   "metadata": {},
   "outputs": [],
   "source": [
    "from sklearn.model_selection import train_test_split\n",
    "\n",
    "X_train, X_valid, Y_train, Y_valid = train_test_split(features, labels, test_size=0.33, random_state=2022)"
   ]
  },
  {
   "cell_type": "markdown",
   "id": "4c0b44db",
   "metadata": {},
   "source": [
    "Since the splitting is performed at random, to properly estimate accuracy it is ideal perform the train-validation splitting several times."
   ]
  },
  {
   "cell_type": "code",
   "execution_count": 88,
   "id": "db311e48",
   "metadata": {},
   "outputs": [
    {
     "data": {
      "image/png": "[encoded data removed]",
      "text/plain": [
       "<Figure size 432x288 with 1 Axes>"
      ]
     },
     "metadata": {
      "needs_background": "light"
     },
     "output_type": "display_data"
    }
   ],
   "source": [
    "numRepetitions = 100\n",
    "setGammas = np.array( [0.003,0.01,0.03,0.1,0.3,1.0,3.,10.,30.,100.,300] )\n",
    "\n",
    "accuracies = np.zeros( setGammas.shape )\n",
    "\n",
    "for j in range(numRepetitions):\n",
    "    k = 0\n",
    "    X_train, X_valid, Y_train, Y_valid = train_test_split( features, labels, \n",
    "                                                            test_size=0.33)\n",
    "    for gamma in setGammas:\n",
    "        clf = SVC( C = 1., gamma = gamma )\n",
    "        accuracies[k] += clf.fit( X_train, Y_train ).score(X_valid, Y_valid)\n",
    "        \n",
    "        k += 1\n",
    "\n",
    "accuracies = accuracies / numRepetitions\n",
    "plt.plot(setGammas, accuracies)\n",
    "\n",
    "plt.ylabel(r'Accuracy')\n",
    "plt.xlabel(r'$\\gamma$') \n",
    "plt.xscale('log')\n",
    "\n",
    "plt.show()"
   ]
  },
  {
   "cell_type": "markdown",
   "id": "e349c396",
   "metadata": {},
   "source": [
    "If we just look at the training set"
   ]
  },
  {
   "cell_type": "code",
   "execution_count": 89,
   "id": "19483812",
   "metadata": {},
   "outputs": [
    {
     "data": {
      "image/png": "[encoded data removed]",
      "text/plain": [
       "<Figure size 432x288 with 1 Axes>"
      ]
     },
     "metadata": {
      "needs_background": "light"
     },
     "output_type": "display_data"
    }
   ],
   "source": [
    "numRepetitions = 100\n",
    "setGammas = np.array( [0.003,0.01,0.03,0.1,0.3,1.0,3.,10.,30.,100.,300] )\n",
    "\n",
    "accuracies = np.zeros( setGammas.shape )\n",
    "\n",
    "for j in range(numRepetitions):\n",
    "    k = 0\n",
    "    X_train, X_valid, Y_train, Y_valid = train_test_split( features, labels, \n",
    "                                                            test_size=0.33)\n",
    "    for gamma in setGammas:\n",
    "        clf = SVC( C = 1., gamma = gamma )\n",
    "        accuracies[k] += clf.fit( X_train, Y_train ).score(X_train, Y_train) # this line was changed\n",
    "        \n",
    "        k += 1\n",
    "\n",
    "accuracies = accuracies / numRepetitions\n",
    "plt.plot(setGammas, accuracies)\n",
    "\n",
    "plt.ylabel(r'Training Accuracy') # this line is changed\n",
    "plt.xlabel(r'$\\gamma$') \n",
    "plt.xscale('log')\n",
    "\n",
    "plt.show()"
   ]
  },
  {
   "cell_type": "markdown",
   "id": "abdfdc7e",
   "metadata": {},
   "source": [
    "As you see, the training accuracy monotonically increases, likely to overfit on higher `gamma` when hyperparameters are tuned with training dataset!\n",
    "\n",
    "We can clearly see the accuracy difference in these 2 scheme"
   ]
  },
  {
   "cell_type": "code",
   "execution_count": 90,
   "id": "98228c45",
   "metadata": {},
   "outputs": [
    {
     "name": "stdout",
     "output_type": "stream",
     "text": [
      "Average accuracy (gamma = 0.5):  0.9515151515151516\n",
      "Average accuracy (gamma = 100.):  0.7747727272727272\n"
     ]
    }
   ],
   "source": [
    "numRepetitions = 100\n",
    "accuracies = np.zeros( numRepetitions )\n",
    "\n",
    "for j in range(numRepetitions):\n",
    "    X_train, X_valid, Y_train, Y_valid = train_test_split( features, labels, \n",
    "                                                            test_size=0.33)\n",
    "    clf = SVC( C = 1., gamma = 0.1 )\n",
    "    clf.fit( X_train, Y_train )\n",
    "    accuracies[j] = clf.score(X_valid, Y_valid)\n",
    "\n",
    "print(r\"Average accuracy (gamma = 0.5): \", accuracies.mean() )\n",
    "\n",
    "\n",
    "for j in range(numRepetitions):\n",
    "    X_train, X_valid, Y_train, Y_valid = train_test_split( features, labels,\n",
    "                                                            test_size=0.33)\n",
    "    clf = SVC( C = 1., gamma = 100. )\n",
    "    clf.fit( X_train, Y_train )\n",
    "    accuracies[j] = clf.score(X_valid, Y_valid)\n",
    "\n",
    "print(\"Average accuracy (gamma = 100.): \", accuracies.mean() )"
   ]
  },
  {
   "cell_type": "markdown",
   "id": "f89204f3",
   "metadata": {},
   "source": [
    "### k-fold cross validation"
   ]
  },
  {
   "cell_type": "markdown",
   "id": "0e3138f3",
   "metadata": {},
   "source": [
    "We split learning set into $K$ pieces, and choose one of them as a validation set in a round-robin fashion. \n",
    "\n",
    "<div>\n",
    "<img src=\"cross_validation.png\" width=\"500\"/>\n",
    "</div>\n",
    "Choose the best performing hyperparameter on average. "
   ]
  },
  {
   "cell_type": "code",
   "execution_count": 91,
   "id": "dfe22514",
   "metadata": {},
   "outputs": [],
   "source": [
    "from sklearn.model_selection import KFold\n",
    "kf = KFold(n_splits=10)"
   ]
  },
  {
   "cell_type": "code",
   "execution_count": 92,
   "id": "ef1aceec",
   "metadata": {},
   "outputs": [
    {
     "name": "stdout",
     "output_type": "stream",
     "text": [
      "0.95\n",
      "1.0\n",
      "0.975\n",
      "1.0\n",
      "0.95\n",
      "0.9\n",
      "0.975\n",
      "0.95\n",
      "0.975\n",
      "0.925\n"
     ]
    }
   ],
   "source": [
    "for train_index, valid_index in kf.split( features ):\n",
    "    X_train = features[train_index]\n",
    "    X_valid  = features[valid_index]\n",
    "    Y_train = labels[train_index]\n",
    "    Y_valid  = labels[valid_index]\n",
    "    \n",
    "    clf = SVC( C = 1., gamma = 0.5 )\n",
    "    clf.fit( X_train, Y_train )\n",
    "    print( clf.score(X_valid, Y_valid) )"
   ]
  },
  {
   "cell_type": "markdown",
   "id": "711d168d",
   "metadata": {},
   "source": [
    "The function `cross_val_score` computes the average cross validation score for you (no need to reinvent the wheel):"
   ]
  },
  {
   "cell_type": "code",
   "execution_count": 93,
   "id": "6a84027c",
   "metadata": {},
   "outputs": [
    {
     "data": {
      "text/plain": [
       "array([0.95 , 1.   , 0.975, 1.   , 0.95 , 0.9  , 0.975, 0.95 , 0.975,\n",
       "       0.925])"
      ]
     },
     "execution_count": 93,
     "metadata": {},
     "output_type": "execute_result"
    }
   ],
   "source": [
    "from sklearn.model_selection import cross_val_score\n",
    "clf = SVC( C = 1., gamma = 0.5 )\n",
    "cross_val_score(clf, features, labels, cv=kf)"
   ]
  },
  {
   "cell_type": "code",
   "execution_count": 94,
   "id": "c879d136",
   "metadata": {},
   "outputs": [
    {
     "data": {
      "text/plain": [
       "array([0.91304348, 1.        , 0.95238095, 1.        , 1.        ,\n",
       "       0.95      , 0.95238095, 1.        , 1.        , 0.875     ])"
      ]
     },
     "execution_count": 94,
     "metadata": {},
     "output_type": "execute_result"
    }
   ],
   "source": [
    "cross_val_score(clf, features, labels, scoring=\"precision\", cv=kf)"
   ]
  },
  {
   "cell_type": "code",
   "execution_count": null,
   "id": "d859458c",
   "metadata": {},
   "outputs": [],
   "source": []
  }
 ],
 "metadata": {
  "kernelspec": {
   "display_name": "Python 3 (ipykernel)",
   "language": "python",
   "name": "python3"
  },
  "language_info": {
   "codemirror_mode": {
    "name": "ipython",
    "version": 3
   },
   "file_extension": ".py",
   "mimetype": "text/x-python",
   "name": "python",
   "nbconvert_exporter": "python",
   "pygments_lexer": "ipython3",
   "version": "3.8.8"
  },
  "vp": {
   "vp_config_version": "1.0.0",
   "vp_menu_width": 273,
   "vp_note_display": false,
   "vp_note_width": 0,
   "vp_position": {
    "width": 278
   },
   "vp_section_display": false,
   "vp_signature": "VisualPython"
  }
 },
 "nbformat": 4,
 "nbformat_minor": 5
}
